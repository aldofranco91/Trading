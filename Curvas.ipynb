{
 "cells": [
  {
   "cell_type": "code",
   "execution_count": 22,
   "metadata": {
    "colab": {
     "base_uri": "https://localhost:8080/"
    },
    "id": "8jnmi1iLxpH3",
    "outputId": "3478a98b-cf31-4ae2-cb81-6496bbe56add"
   },
   "outputs": [
    {
     "name": "stdout",
     "output_type": "stream",
     "text": [
      "Mounted at /content/drive\n"
     ]
    }
   ],
   "source": [
    "from google.colab import drive\n",
    "drive.mount('/content/drive', force_remount=True)"
   ]
  },
  {
   "cell_type": "code",
   "execution_count": 23,
   "metadata": {
    "id": "olbs0Pbh20fm"
   },
   "outputs": [],
   "source": [
    "%reset -f"
   ]
  },
  {
   "cell_type": "code",
   "execution_count": 24,
   "metadata": {
    "colab": {
     "base_uri": "https://localhost:8080/",
     "height": 35
    },
    "id": "8EsF_-Lu28zg",
    "outputId": "e68e1103-e622-4faf-90be-786f83476399"
   },
   "outputs": [
    {
     "data": {
      "application/vnd.google.colaboratory.intrinsic+json": {
       "type": "string"
      },
      "text/plain": [
       "'/device:GPU:0'"
      ]
     },
     "execution_count": 24,
     "metadata": {
      "tags": []
     },
     "output_type": "execute_result"
    }
   ],
   "source": [
    "# importing the requests library \n",
    "import requests \n",
    "import pandas as pd\n",
    "import numpy as np\n",
    "import time\n",
    "# Viz\n",
    "import matplotlib.pyplot as plt # basic plotting\n",
    "import seaborn as sns # for prettier plots\n",
    "\n",
    "from sklearn.model_selection import train_test_split, GridSearchCV\n",
    "\n",
    "from IPython import display\n",
    "\n",
    "import tensorflow as tf\n",
    "from tensorflow import keras\n",
    "\n",
    "from keras.models import Sequential\n",
    "from keras import regularizers\n",
    "from keras.layers import LSTM, Dense, Dropout, Conv2D, MaxPooling1D, BatchNormalization, AveragePooling2D, MaxPooling2D, GlobalMaxPooling2D\n",
    "from keras.layers import Bidirectional, AveragePooling1D, Flatten, TimeDistributed, Dropout, Reshape, GRU, GlobalAveragePooling2D, Average, Maximum\n",
    "from keras.layers import Lambda\n",
    "from keras.optimizers import Adam, Adadelta\n",
    "\n",
    "from sklearn import metrics\n",
    "from scipy import stats\n",
    "from keras.utils import plot_model\n",
    "\n",
    "tf.test.gpu_device_name()"
   ]
  },
  {
   "cell_type": "code",
   "execution_count": 25,
   "metadata": {
    "colab": {
     "base_uri": "https://localhost:8080/"
    },
    "id": "QHLUifEoyZBN",
    "outputId": "b5826cdb-40f0-48b7-d2b8-63ab79d5b96f"
   },
   "outputs": [
    {
     "data": {
      "text/plain": [
       "[name: \"/device:CPU:0\"\n",
       " device_type: \"CPU\"\n",
       " memory_limit: 268435456\n",
       " locality {\n",
       " }\n",
       " incarnation: 12837956845693682856, name: \"/device:XLA_CPU:0\"\n",
       " device_type: \"XLA_CPU\"\n",
       " memory_limit: 17179869184\n",
       " locality {\n",
       " }\n",
       " incarnation: 9754255845718236757\n",
       " physical_device_desc: \"device: XLA_CPU device\", name: \"/device:XLA_GPU:0\"\n",
       " device_type: \"XLA_GPU\"\n",
       " memory_limit: 17179869184\n",
       " locality {\n",
       " }\n",
       " incarnation: 8982013590933804423\n",
       " physical_device_desc: \"device: XLA_GPU device\", name: \"/device:GPU:0\"\n",
       " device_type: \"GPU\"\n",
       " memory_limit: 14640891840\n",
       " locality {\n",
       "   bus_id: 1\n",
       "   links {\n",
       "   }\n",
       " }\n",
       " incarnation: 759480219662302070\n",
       " physical_device_desc: \"device: 0, name: Tesla T4, pci bus id: 0000:00:04.0, compute capability: 7.5\"]"
      ]
     },
     "execution_count": 25,
     "metadata": {
      "tags": []
     },
     "output_type": "execute_result"
    }
   ],
   "source": [
    "from tensorflow.python.client import device_lib\n",
    "device_lib.list_local_devices()"
   ]
  },
  {
   "cell_type": "code",
   "execution_count": 26,
   "metadata": {
    "id": "_tVjhi6c2vyJ"
   },
   "outputs": [],
   "source": [
    "datos = pd.read_csv(\"/content/drive/My Drive/Curvas de Demandas/CurvasOferta.csv\", header=None, index_col=0, verbose=False)\n",
    "#datos = pd.read_csv(\"E:\\AMAlonso\\Alumnos\\TFM Zehang Li\\SomeCode\\CurvasOferta.csv\", header=None,index_col=0,verbose=False)"
   ]
  },
  {
   "cell_type": "code",
   "execution_count": 27,
   "metadata": {
    "colab": {
     "base_uri": "https://localhost:8080/",
     "height": 391
    },
    "id": "t1kVhqIA2vyj",
    "outputId": "c7ed5081-6881-4854-eb79-75ea32b751d9"
   },
   "outputs": [
    {
     "data": {
      "image/png": "[encoded data removed]",
      "text/plain": [
       "<Figure size 1152x432 with 1 Axes>"
      ]
     },
     "metadata": {
      "needs_background": "light",
      "tags": []
     },
     "output_type": "display_data"
    },
    {
     "data": {
      "text/plain": [
       "(43824, 500)"
      ]
     },
     "execution_count": 27,
     "metadata": {
      "tags": []
     },
     "output_type": "execute_result"
    }
   ],
   "source": [
    "q = np.linspace(start = 0, stop = 20000, num=500)\n",
    "plt.figure(figsize=(16,6))\n",
    "plt.step(q, datos.iloc[10])\n",
    "plt.grid()\n",
    "plt.show()\n",
    "datos.shape"
   ]
  },
  {
   "cell_type": "code",
   "execution_count": 28,
   "metadata": {
    "colab": {
     "base_uri": "https://localhost:8080/"
    },
    "id": "bdJPYLvV2vyv",
    "outputId": "bc85fb8c-a77a-4b30-c5ba-7ab5ac3872a6"
   },
   "outputs": [
    {
     "data": {
      "text/plain": [
       "(21912000,)"
      ]
     },
     "execution_count": 28,
     "metadata": {
      "tags": []
     },
     "output_type": "execute_result"
    }
   ],
   "source": [
    "data_rs = np.reshape(np.array(datos), datos.shape[0]*500)\n",
    "data_rs.shape"
   ]
  },
  {
   "cell_type": "code",
   "execution_count": 29,
   "metadata": {
    "id": "4xkRUL7_pR0R"
   },
   "outputs": [],
   "source": [
    "# Normalizar\n",
    "#minimo = min(data_rs)\n",
    "#maximo = max(data_rs)\n",
    "#data_rs = (data_rs - minimo) / (maximo - minimo)"
   ]
  },
  {
   "cell_type": "code",
   "execution_count": 30,
   "metadata": {
    "colab": {
     "base_uri": "https://localhost:8080/",
     "height": 374
    },
    "id": "t8QXiVdf2vy9",
    "outputId": "b27f3de1-07e6-4698-85b2-872f227697d6"
   },
   "outputs": [
    {
     "data": {
      "image/png": "[encoded data removed]",
      "text/plain": [
       "<Figure size 1152x432 with 1 Axes>"
      ]
     },
     "metadata": {
      "needs_background": "light",
      "tags": []
     },
     "output_type": "display_data"
    }
   ],
   "source": [
    "k = 5\n",
    "plt.figure(figsize=(16,6))\n",
    "plt.step(np.linspace(start = 0, stop = 2*k*2000, num=2*k*500), data_rs[0:2*k*500])\n",
    "plt.grid()\n",
    "plt.show()"
   ]
  },
  {
   "cell_type": "code",
   "execution_count": 31,
   "metadata": {
    "id": "PZ1KUEzr2vzF"
   },
   "outputs": [],
   "source": [
    "# split a univariate sequence into samples\n",
    "def split_sequence(sequence, n_steps_in, n_steps_out):\n",
    "    X, y = list(), list()\n",
    "    range = np.arange(start = 0, stop = len(sequence), step = n_steps_out)\n",
    "    for i in range:\n",
    "        # find the end of this pattern\n",
    "        end_ix = i + n_steps_in\n",
    "        out_end_ix = end_ix + n_steps_out\n",
    "        # check if we are beyond the sequence\n",
    "        if out_end_ix > len(sequence):\n",
    "            break\n",
    "        # gather input and output parts of the pattern\n",
    "        seq_x = sequence[i:end_ix]\n",
    "        seq_y = sequence[end_ix:out_end_ix]\n",
    "        X.append(seq_x)\n",
    "        y.append(seq_y)\n",
    "    return np.array(X), np.array(y)"
   ]
  },
  {
   "cell_type": "code",
   "execution_count": 32,
   "metadata": {
    "colab": {
     "base_uri": "https://localhost:8080/"
    },
    "id": "e-jFEP5Ed1_k",
    "outputId": "f05872c6-052f-4dc0-a456-b529052faddc"
   },
   "outputs": [
    {
     "name": "stdout",
     "output_type": "stream",
     "text": [
      "Shape X --> (43819, 2500)\n",
      "Shape y --> (43819, 500)\n"
     ]
    }
   ],
   "source": [
    "past_hours = 5\n",
    "forecast_hours = 1\n",
    "n_steps_in = past_hours*500\n",
    "n_steps_out = forecast_hours*500\n",
    "# split into samples\n",
    "X, y = split_sequence(data_rs, n_steps_in, n_steps_out)\n",
    "print(\"Shape X --> \" + str(X.shape))\n",
    "print(\"Shape y --> \" + str(y.shape))"
   ]
  },
  {
   "cell_type": "code",
   "execution_count": 33,
   "metadata": {
    "colab": {
     "base_uri": "https://localhost:8080/"
    },
    "id": "-wp3wIHKhbCw",
    "outputId": "0bdea6d6-fd1b-4291-aa25-0ebcbb8a8dfa"
   },
   "outputs": [
    {
     "name": "stdout",
     "output_type": "stream",
     "text": [
      "Shape X_train --> (35059, 2500)\n",
      "Shape y_train --> (35059, 500)\n",
      "Shape X_test  --> (8760, 2500)\n",
      "Shape y_test  --> (8760, 500)\n"
     ]
    }
   ],
   "source": [
    "test_size = 365*24\n",
    "train_size = len(X) - test_size\n",
    "X_train = X[0:train_size]\n",
    "y_train = y[0:train_size]\n",
    "X_test = X[train_size:len(X)]\n",
    "y_test = y[train_size:len(X)]\n",
    "print(\"Shape X_train --> \" + str(X_train.shape))\n",
    "print(\"Shape y_train --> \" + str(y_train.shape))\n",
    "print(\"Shape X_test  --> \" + str(X_test.shape))\n",
    "print(\"Shape y_test  --> \" + str(y_test.shape))"
   ]
  },
  {
   "cell_type": "code",
   "execution_count": 34,
   "metadata": {
    "colab": {
     "base_uri": "https://localhost:8080/"
    },
    "id": "P-zPzVHagDwJ",
    "outputId": "4876921d-4a13-4f7f-8c15-aa138a340d22"
   },
   "outputs": [
    {
     "name": "stdout",
     "output_type": "stream",
     "text": [
      "Shape X_test  ----------> (8760, 2500)\n",
      "Shape y_pred_baseline --> (8760, 500)\n"
     ]
    },
    {
     "data": {
      "text/plain": [
       "0"
      ]
     },
     "execution_count": 34,
     "metadata": {
      "tags": []
     },
     "output_type": "execute_result"
    }
   ],
   "source": [
    "# Baseline Model \n",
    "y_pred_baseline = X_test[:,-500*forecast_hours:]\n",
    "print(\"Shape X_test  ----------> \" + str(X_test.shape))\n",
    "print(\"Shape y_pred_baseline --> \" + str(y_pred_baseline.shape))\n",
    "sum(sum(X_test[:,-500*forecast_hours:] != y_pred_baseline)) # Revisar que esta bien la asignacion"
   ]
  },
  {
   "cell_type": "code",
   "execution_count": 35,
   "metadata": {
    "id": "IS_oP4Ba8G9j"
   },
   "outputs": [],
   "source": [
    "X_train = X_train.reshape((X_train.shape[0], past_hours, X_train.shape[1]//past_hours,1))\n",
    "X_test = X_test.reshape((X_test.shape[0],  past_hours, X_test.shape[1]//past_hours,1))"
   ]
  },
  {
   "cell_type": "code",
   "execution_count": 36,
   "metadata": {
    "colab": {
     "base_uri": "https://localhost:8080/"
    },
    "id": "vmpkyR2L2vzp",
    "outputId": "0d0ccce3-2784-467a-974e-d84f6d2e90fc"
   },
   "outputs": [
    {
     "name": "stdout",
     "output_type": "stream",
     "text": [
      "Shape X_train --> (35059, 5, 500, 1)\n",
      "Shape X_test  --> (8760, 5, 500, 1)\n",
      "Shape y_train --> (35059, 500)\n",
      "Shape y_test  --> (8760, 500)\n"
     ]
    }
   ],
   "source": [
    "print(\"Shape X_train --> \" + str(X_train.shape))\n",
    "print(\"Shape X_test  --> \" + str(X_test.shape))\n",
    "print(\"Shape y_train --> \" + str(y_train.shape))\n",
    "print(\"Shape y_test  --> \" + str(y_test.shape))"
   ]
  },
  {
   "cell_type": "code",
   "execution_count": 37,
   "metadata": {
    "id": "PAOWNkKf2vzv"
   },
   "outputs": [],
   "source": [
    "from keras import backend as K \n",
    "\n",
    "def euc_dist_keras(y_true, y_pred):\n",
    "    return K.sqrt(K.sum(K.square(y_true - y_pred), axis=-1, keepdims=True))\n",
    "\n",
    "def max_distance(y_true, y_pred):\n",
    "    return K.max(K.abs(y_true - y_pred), axis=-1, keepdims=True)"
   ]
  },
  {
   "cell_type": "code",
   "execution_count": 38,
   "metadata": {
    "colab": {
     "base_uri": "https://localhost:8080/"
    },
    "id": "wWXNtQG22vz0",
    "outputId": "db0d16e4-7280-41be-8b90-8858f1c1609b"
   },
   "outputs": [
    {
     "name": "stdout",
     "output_type": "stream",
     "text": [
      "Model: \"sequential_1\"\n",
      "_________________________________________________________________\n",
      "Layer (type)                 Output Shape              Param #   \n",
      "=================================================================\n",
      "conv2d_1 (Conv2D)            (None, 5, 500, 8)         88        \n",
      "_________________________________________________________________\n",
      "average_pooling2d_1 (Average (None, 1, 250, 8)         0         \n",
      "_________________________________________________________________\n",
      "time_distributed_1 (TimeDist (None, 1, 2000)           0         \n",
      "_________________________________________________________________\n",
      "lstm_1 (LSTM)                (None, 10)                80440     \n",
      "_________________________________________________________________\n",
      "dropout_1 (Dropout)          (None, 10)                0         \n",
      "_________________________________________________________________\n",
      "dense_1 (Dense)              (None, 500)               5500      \n",
      "_________________________________________________________________\n",
      "lambda_1 (Lambda)            (None, None)              0         \n",
      "=================================================================\n",
      "Total params: 86,028\n",
      "Trainable params: 86,028\n",
      "Non-trainable params: 0\n",
      "_________________________________________________________________\n"
     ]
    }
   ],
   "source": [
    "model = Sequential()\n",
    "model.add(Conv2D(filters = 8, kernel_size = [past_hours, 2], activation = 'relu', padding=\"same\",\n",
    "                 input_shape=(X_train.shape[1], X_train.shape[2],X_train.shape[3])))\n",
    "model.add(AveragePooling2D(pool_size= (past_hours, 2)))\n",
    "model.add(TimeDistributed(Flatten()))\n",
    "model.add(LSTM(10))\n",
    "model.add(Dropout(0.3))\n",
    "model.add(Dense(n_steps_out, activation='relu'))\n",
    "model.add(Lambda(lambda x: tf.sort(x)))\n",
    "\n",
    "model.compile(loss = 'mae', metrics = [max_distance], optimizer = Adam(0.0001))\n",
    "\n",
    "model.summary()"
   ]
  },
  {
   "cell_type": "code",
   "execution_count": 39,
   "metadata": {
    "id": "5STB_F_WVI3W"
   },
   "outputs": [],
   "source": [
    "from keras.callbacks import ReduceLROnPlateau, EarlyStopping\n",
    "early_stopping = EarlyStopping(monitor='loss', patience=10, verbose=1, mode='auto')\n",
    "learning_rate_reduction = ReduceLROnPlateau(monitor='loss', patience=5, verbose=1, factor=0.5, min_lr=2.5e-5)\n",
    "checkpoint = keras.callbacks.ModelCheckpoint('modelo_prueba{epoch:08d}.h5', save_freq = 5) "
   ]
  },
  {
   "cell_type": "code",
   "execution_count": null,
   "metadata": {
    "colab": {
     "base_uri": "https://localhost:8080/"
    },
    "id": "nXLFsLLS2vz8",
    "outputId": "b99354d0-5953-48e9-e684-2707b2df9123"
   },
   "outputs": [
    {
     "name": "stdout",
     "output_type": "stream",
     "text": [
      "Epoch 1/100\n",
      "17530/17530 [==============================] - 168s 10ms/step - loss: 8.1988 - max_distance: 17.0542 - val_loss: 5.0853 - val_max_distance: 21.9491\n",
      "Epoch 2/100\n",
      "17530/17530 [==============================] - 164s 9ms/step - loss: 8.1551 - max_distance: 17.0106 - val_loss: 4.8427 - val_max_distance: 21.7776\n",
      "Epoch 3/100\n",
      "17530/17530 [==============================] - 161s 9ms/step - loss: 8.2527 - max_distance: 17.0767 - val_loss: 7.0841 - val_max_distance: 22.7263\n",
      "Epoch 4/100\n",
      "17530/17530 [==============================] - 159s 9ms/step - loss: 8.1678 - max_distance: 17.0204 - val_loss: 4.5217 - val_max_distance: 21.5603\n",
      "Epoch 5/100\n",
      "17530/17530 [==============================] - 160s 9ms/step - loss: 8.1894 - max_distance: 17.0501 - val_loss: 5.3012 - val_max_distance: 22.0248\n",
      "Epoch 6/100\n",
      "17530/17530 [==============================] - 159s 9ms/step - loss: 8.0979 - max_distance: 16.9423 - val_loss: 7.0887 - val_max_distance: 22.6913\n",
      "Epoch 7/100\n",
      "17530/17530 [==============================] - 160s 9ms/step - loss: 8.1413 - max_distance: 16.9675 - val_loss: 4.8016 - val_max_distance: 21.8006\n",
      "Epoch 8/100\n",
      "17530/17530 [==============================] - 159s 9ms/step - loss: 8.1080 - max_distance: 16.9654 - val_loss: 4.3928 - val_max_distance: 21.4433\n",
      "Epoch 9/100\n",
      "17530/17530 [==============================] - 159s 9ms/step - loss: 8.0543 - max_distance: 16.9055 - val_loss: 4.7008 - val_max_distance: 21.7163\n",
      "Epoch 10/100\n",
      "17530/17530 [==============================] - 158s 9ms/step - loss: 8.1116 - max_distance: 16.9170 - val_loss: 5.0473 - val_max_distance: 21.9611\n",
      "Epoch 11/100\n",
      "17530/17530 [==============================] - 160s 9ms/step - loss: 8.0770 - max_distance: 16.9396 - val_loss: 5.0401 - val_max_distance: 21.8791\n",
      "Epoch 12/100\n",
      "17530/17530 [==============================] - 159s 9ms/step - loss: 8.0210 - max_distance: 16.9095 - val_loss: 6.3599 - val_max_distance: 22.4674\n",
      "Epoch 13/100\n",
      "17530/17530 [==============================] - 161s 9ms/step - loss: 8.0232 - max_distance: 16.8742 - val_loss: 6.0446 - val_max_distance: 22.2910\n",
      "Epoch 14/100\n",
      "17530/17530 [==============================] - 160s 9ms/step - loss: 8.0485 - max_distance: 16.9131 - val_loss: 4.4917 - val_max_distance: 21.5323\n",
      "Epoch 15/100\n",
      "17530/17530 [==============================] - 159s 9ms/step - loss: 8.0143 - max_distance: 16.9056 - val_loss: 5.3003 - val_max_distance: 22.0332\n",
      "Epoch 16/100\n",
      "17530/17530 [==============================] - 159s 9ms/step - loss: 8.0008 - max_distance: 16.8518 - val_loss: 5.1665 - val_max_distance: 21.9547\n",
      "Epoch 17/100\n",
      "17530/17530 [==============================] - 159s 9ms/step - loss: 7.9913 - max_distance: 16.8547 - val_loss: 4.7221 - val_max_distance: 21.7314\n",
      "Epoch 18/100\n",
      "17530/17530 [==============================] - 158s 9ms/step - loss: 7.9715 - max_distance: 16.8220 - val_loss: 5.0409 - val_max_distance: 21.8450\n",
      "Epoch 19/100\n",
      "17530/17530 [==============================] - 158s 9ms/step - loss: 7.9710 - max_distance: 16.8445 - val_loss: 4.4302 - val_max_distance: 21.5062\n",
      "Epoch 20/100\n",
      "17530/17530 [==============================] - 159s 9ms/step - loss: 7.9317 - max_distance: 16.8188 - val_loss: 5.8309 - val_max_distance: 22.2199\n",
      "Epoch 21/100\n",
      "17530/17530 [==============================] - 158s 9ms/step - loss: 7.8647 - max_distance: 16.7441 - val_loss: 4.9549 - val_max_distance: 21.7942\n",
      "Epoch 22/100\n",
      "17530/17530 [==============================] - 158s 9ms/step - loss: 7.8688 - max_distance: 16.7907 - val_loss: 6.0210 - val_max_distance: 22.2784\n",
      "Epoch 23/100\n",
      "17530/17530 [==============================] - 157s 9ms/step - loss: 7.9045 - max_distance: 16.8083 - val_loss: 5.4665 - val_max_distance: 22.0941\n",
      "Epoch 24/100\n",
      "17530/17530 [==============================] - 158s 9ms/step - loss: 7.8939 - max_distance: 16.8136 - val_loss: 5.1111 - val_max_distance: 21.9095\n",
      "Epoch 25/100\n",
      "17530/17530 [==============================] - 158s 9ms/step - loss: 7.8358 - max_distance: 16.7057 - val_loss: 6.2090 - val_max_distance: 22.3274\n",
      "Epoch 26/100\n",
      "17530/17530 [==============================] - 159s 9ms/step - loss: 7.8880 - max_distance: 16.7687 - val_loss: 4.3665 - val_max_distance: 21.3265\n",
      "Epoch 27/100\n",
      "17530/17530 [==============================] - 161s 9ms/step - loss: 7.8534 - max_distance: 16.7284 - val_loss: 5.3288 - val_max_distance: 21.9822\n",
      "Epoch 28/100\n",
      "17530/17530 [==============================] - 169s 10ms/step - loss: 7.8550 - max_distance: 16.7153 - val_loss: 5.1357 - val_max_distance: 21.8638\n",
      "Epoch 29/100\n",
      "17530/17530 [==============================] - 174s 10ms/step - loss: 7.8718 - max_distance: 16.7868 - val_loss: 6.5866 - val_max_distance: 22.5243\n",
      "Epoch 30/100\n",
      "17530/17530 [==============================] - 177s 10ms/step - loss: 7.8341 - max_distance: 16.7196 - val_loss: 5.2243 - val_max_distance: 21.9425\n",
      "Epoch 31/100\n",
      "17530/17530 [==============================] - 178s 10ms/step - loss: 7.8169 - max_distance: 16.7178 - val_loss: 5.1020 - val_max_distance: 21.8630\n",
      "Epoch 32/100\n",
      "17530/17530 [==============================] - 181s 10ms/step - loss: 7.7600 - max_distance: 16.6757 - val_loss: 4.4224 - val_max_distance: 21.4733\n",
      "Epoch 33/100\n",
      "17530/17530 [==============================] - 182s 10ms/step - loss: 7.7722 - max_distance: 16.7076 - val_loss: 6.1829 - val_max_distance: 22.2969\n",
      "Epoch 34/100\n",
      "17530/17530 [==============================] - 183s 10ms/step - loss: 7.7752 - max_distance: 16.6431 - val_loss: 5.1795 - val_max_distance: 21.8987\n",
      "Epoch 35/100\n",
      "17530/17530 [==============================] - 185s 11ms/step - loss: 7.7825 - max_distance: 16.6518 - val_loss: 6.5683 - val_max_distance: 22.4152\n",
      "Epoch 36/100\n",
      "17530/17530 [==============================] - 176s 10ms/step - loss: 7.7350 - max_distance: 16.6268 - val_loss: 4.3601 - val_max_distance: 21.4067\n",
      "Epoch 37/100\n",
      "17530/17530 [==============================] - 164s 9ms/step - loss: 7.6622 - max_distance: 16.5677 - val_loss: 5.1896 - val_max_distance: 21.8790\n",
      "Epoch 38/100\n",
      "17530/17530 [==============================] - 160s 9ms/step - loss: 7.6556 - max_distance: 16.6001 - val_loss: 5.3203 - val_max_distance: 21.9319\n",
      "Epoch 39/100\n",
      "17530/17530 [==============================] - 161s 9ms/step - loss: 7.6655 - max_distance: 16.5898 - val_loss: 4.4668 - val_max_distance: 21.5028\n",
      "Epoch 40/100\n",
      "17530/17530 [==============================] - 159s 9ms/step - loss: 7.6324 - max_distance: 16.5520 - val_loss: 4.1207 - val_max_distance: 21.0981\n",
      "Epoch 41/100\n",
      "17530/17530 [==============================] - 160s 9ms/step - loss: 7.6350 - max_distance: 16.5730 - val_loss: 4.1356 - val_max_distance: 21.2026\n",
      "Epoch 42/100\n",
      "17530/17530 [==============================] - 159s 9ms/step - loss: 7.6029 - max_distance: 16.5514 - val_loss: 6.2029 - val_max_distance: 22.2641\n",
      "Epoch 43/100\n",
      "17530/17530 [==============================] - 160s 9ms/step - loss: 7.6319 - max_distance: 16.5682 - val_loss: 4.1109 - val_max_distance: 21.0449\n",
      "Epoch 44/100\n",
      "17530/17530 [==============================] - 159s 9ms/step - loss: 7.5824 - max_distance: 16.5208 - val_loss: 4.4686 - val_max_distance: 21.4466\n",
      "Epoch 45/100\n",
      "17530/17530 [==============================] - 159s 9ms/step - loss: 7.6023 - max_distance: 16.5437 - val_loss: 4.3496 - val_max_distance: 21.3885\n",
      "Epoch 46/100\n",
      "17530/17530 [==============================] - 157s 9ms/step - loss: 7.5506 - max_distance: 16.5152 - val_loss: 6.3525 - val_max_distance: 22.3124\n",
      "Epoch 47/100\n",
      "17530/17530 [==============================] - 159s 9ms/step - loss: 7.5376 - max_distance: 16.4840 - val_loss: 4.5903 - val_max_distance: 21.5472\n",
      "Epoch 48/100\n",
      "17530/17530 [==============================] - 159s 9ms/step - loss: 7.5854 - max_distance: 16.4976 - val_loss: 4.9410 - val_max_distance: 21.7516\n",
      "Epoch 49/100\n",
      "17530/17530 [==============================] - 160s 9ms/step - loss: 7.5735 - max_distance: 16.5046 - val_loss: 4.9339 - val_max_distance: 21.6924\n",
      "Epoch 50/100\n",
      "17530/17530 [==============================] - 158s 9ms/step - loss: 7.5672 - max_distance: 16.4974 - val_loss: 4.0768 - val_max_distance: 21.0749\n",
      "Epoch 51/100\n",
      "17530/17530 [==============================] - 159s 9ms/step - loss: 7.5315 - max_distance: 16.4498 - val_loss: 6.0881 - val_max_distance: 22.2319\n",
      "Epoch 52/100\n",
      "17530/17530 [==============================] - 158s 9ms/step - loss: 7.5161 - max_distance: 16.4671 - val_loss: 4.3112 - val_max_distance: 21.3208\n",
      "Epoch 53/100\n",
      "17530/17530 [==============================] - 159s 9ms/step - loss: 7.4802 - max_distance: 16.4403 - val_loss: 5.4003 - val_max_distance: 21.9785\n",
      "Epoch 54/100\n",
      "17530/17530 [==============================] - 158s 9ms/step - loss: 7.4719 - max_distance: 16.4311 - val_loss: 4.3983 - val_max_distance: 21.3920\n",
      "Epoch 55/100\n",
      "17530/17530 [==============================] - 158s 9ms/step - loss: 7.4634 - max_distance: 16.4234 - val_loss: 4.5678 - val_max_distance: 21.4245\n",
      "Epoch 56/100\n",
      "17530/17530 [==============================] - 160s 9ms/step - loss: 7.4197 - max_distance: 16.3696 - val_loss: 4.5806 - val_max_distance: 21.4920\n",
      "Epoch 57/100\n",
      "17530/17530 [==============================] - 159s 9ms/step - loss: 7.4269 - max_distance: 16.3584 - val_loss: 4.7945 - val_max_distance: 21.6272\n",
      "Epoch 58/100\n",
      "17530/17530 [==============================] - 158s 9ms/step - loss: 7.4320 - max_distance: 16.3707 - val_loss: 5.1579 - val_max_distance: 21.7544\n",
      "Epoch 59/100\n",
      "17530/17530 [==============================] - 157s 9ms/step - loss: 7.4633 - max_distance: 16.3962 - val_loss: 5.4837 - val_max_distance: 21.9800\n",
      "Epoch 60/100\n",
      "17530/17530 [==============================] - 158s 9ms/step - loss: 7.4280 - max_distance: 16.3508 - val_loss: 4.4391 - val_max_distance: 21.3640\n",
      "Epoch 61/100\n",
      "17530/17530 [==============================] - 158s 9ms/step - loss: 7.3991 - max_distance: 16.3562 - val_loss: 4.2804 - val_max_distance: 21.2756\n",
      "Epoch 62/100\n",
      "17530/17530 [==============================] - 158s 9ms/step - loss: 7.3473 - max_distance: 16.3233 - val_loss: 4.3455 - val_max_distance: 21.3398\n",
      "Epoch 63/100\n",
      "11682/17530 [==================>...........] - ETA: 49s - loss: 7.3541 - max_distance: 16.2586"
     ]
    }
   ],
   "source": [
    "history = model.fit(X_train, y_train, epochs = 100, batch_size = 2, verbose = 1,\n",
    "                    callbacks=[learning_rate_reduction, early_stopping, checkpoint],\n",
    "                    validation_data= (X_test, y_test))"
   ]
  },
  {
   "cell_type": "code",
   "execution_count": 45,
   "metadata": {
    "colab": {
     "base_uri": "https://localhost:8080/",
     "height": 337
    },
    "id": "y52tT-U02v0B",
    "outputId": "6c3037a0-26b7-463c-a92e-a9d4dc0d3b9a"
   },
   "outputs": [
    {
     "data": {
      "text/plain": [
       "<matplotlib.legend.Legend at 0x7fc754c2bc88>"
      ]
     },
     "execution_count": 45,
     "metadata": {
      "tags": []
     },
     "output_type": "execute_result"
    },
    {
     "data": {
      "image/png": "[encoded data removed]",
      "text/plain": [
       "<Figure size 1152x360 with 1 Axes>"
      ]
     },
     "metadata": {
      "needs_background": "light",
      "tags": []
     },
     "output_type": "display_data"
    }
   ],
   "source": [
    "plt.figure(figsize=(16,5))\n",
    "plt.plot(history.history['loss'], label='train', marker='*')\n",
    "plt.plot(history.history['val_loss'], label='validation', marker='*')\n",
    "plt.grid()\n",
    "plt.legend(fontsize=11)"
   ]
  },
  {
   "cell_type": "code",
   "execution_count": 30,
   "metadata": {
    "colab": {
     "base_uri": "https://localhost:8080/"
    },
    "id": "6J3rLUsU2v0G",
    "outputId": "b749f197-cf5c-4c8d-86ab-ec79dfeeddff"
   },
   "outputs": [
    {
     "name": "stdout",
     "output_type": "stream",
     "text": [
      "274/274 [==============================] - 1s 2ms/step\n"
     ]
    }
   ],
   "source": [
    "y_pred_redes = model.predict(X_test, verbose=1)"
   ]
  },
  {
   "cell_type": "code",
   "execution_count": 31,
   "metadata": {
    "id": "Yv6SU01UyatA"
   },
   "outputs": [],
   "source": [
    "#y_test_original = y_test * (maximo - minimo) + minimo\n",
    "#y_pred_redes_ok = y_pred_redes * (maximo - minimo) + minimo\n",
    "#y_pred_baseline_ok = y_pred_baseline * (maximo - minimo) + minimo\n",
    "\n",
    "y_test_original = y_test \n",
    "y_pred_redes_ok = y_pred_redes \n",
    "y_pred_baseline_ok = y_pred_baseline "
   ]
  },
  {
   "cell_type": "code",
   "execution_count": 32,
   "metadata": {
    "id": "I3MkN0UH2v0L"
   },
   "outputs": [],
   "source": [
    "errores_redes = np.empty([len(y_test_original)])\n",
    "errores_baseline = np.empty([len(y_test_original)])\n",
    "for i in range(0,len(y_test_original)):\n",
    "    errores_redes[i] = np.linalg.norm(y_test_original[i] - y_pred_redes_ok[i], np.inf)\n",
    "    errores_baseline[i] = np.linalg.norm(y_test_original[i] - y_pred_baseline_ok[i], np.inf)"
   ]
  },
  {
   "cell_type": "code",
   "execution_count": 33,
   "metadata": {
    "colab": {
     "base_uri": "https://localhost:8080/"
    },
    "id": "4TY5bC892v0O",
    "outputId": "a8905cf2-598a-4702-d571-e7f09b4cd4eb"
   },
   "outputs": [
    {
     "name": "stdout",
     "output_type": "stream",
     "text": [
      "Errores usando Redes\n",
      "    count   mean     std   min   25%    50%    75%      max\n",
      "0  8760.0  20.14  106.79  2.37  9.29  12.58  27.23  9918.01\n",
      "Errores usando Baseline\n",
      "    count   mean     std   min  25%   50%    75%     max\n",
      "0  8760.0  21.36  150.68  0.42  4.7  8.99  33.59  9913.7\n"
     ]
    }
   ],
   "source": [
    "print(\"Errores usando Redes\")\n",
    "print(pd.DataFrame(errores_redes).describe().transpose().round(2))\n",
    "print(\"Errores usando Baseline\")\n",
    "print(pd.DataFrame(errores_baseline).describe().transpose().round(2))"
   ]
  },
  {
   "cell_type": "code",
   "execution_count": 34,
   "metadata": {
    "id": "KkWs9YBklFw2"
   },
   "outputs": [],
   "source": [
    "s1 = errores_baseline[errores_baseline < np.percentile(errores_baseline, 95)]\n",
    "s2 = errores_redes[errores_redes < np.percentile(errores_redes, 95)]"
   ]
  },
  {
   "cell_type": "code",
   "execution_count": 35,
   "metadata": {
    "colab": {
     "base_uri": "https://localhost:8080/",
     "height": 441
    },
    "id": "yU-NdnwFlCNP",
    "outputId": "1b5e46e2-3f40-44b1-cddf-6665233b5d60"
   },
   "outputs": [
    {
     "data": {
      "image/png": "[encoded data removed]",
      "text/plain": [
       "<Figure size 432x432 with 1 Axes>"
      ]
     },
     "metadata": {
      "needs_background": "light",
      "tags": []
     },
     "output_type": "display_data"
    }
   ],
   "source": [
    "plt.figure(figsize=(6,6))\n",
    "sns.kdeplot(s1, color = \"red\",  label = 'Errores Baseline')\n",
    "sns.kdeplot(s2, color = \"blue\", label = 'Errores Redes')\n",
    "plt.title('Errores')\n",
    "plt.tight_layout()\n",
    "plt.legend()\n",
    "plt.show()"
   ]
  },
  {
   "cell_type": "code",
   "execution_count": 36,
   "metadata": {
    "colab": {
     "base_uri": "https://localhost:8080/"
    },
    "id": "vU1Orvm4sAG_",
    "outputId": "017ce7aa-6f1b-47ec-fdfa-311e0ed50735"
   },
   "outputs": [
    {
     "name": "stdout",
     "output_type": "stream",
     "text": [
      "Posicion mejor Baseline Model: 1334\n",
      "Posicion peor Baseline Model: 4774\n",
      "Posicion mejor Redes Model: 533\n",
      "Posicion peor Redes Model: 4774\n"
     ]
    }
   ],
   "source": [
    "best_baseline = np.argmin(errores_baseline)\n",
    "worse_baseline = np.argmax(errores_baseline)\n",
    "print(\"Posicion mejor Baseline Model: \" + str(best_baseline))\n",
    "print(\"Posicion peor Baseline Model: \" + str(worse_baseline))\n",
    "\n",
    "best_redes = np.argmin(errores_redes)\n",
    "worse_redes = np.argmax(errores_redes)\n",
    "print(\"Posicion mejor Redes Model: \" + str(best_redes))\n",
    "print(\"Posicion peor Redes Model: \" + str(worse_redes))"
   ]
  },
  {
   "cell_type": "code",
   "execution_count": null,
   "metadata": {
    "colab": {
     "base_uri": "https://localhost:8080/",
     "height": 435
    },
    "id": "0bDYTTSS2v0h",
    "outputId": "6e6a85a9-39bf-4371-cfdb-882b37b61faa"
   },
   "outputs": [
    {
     "data": {
      "image/png": "[encoded data removed]",
      "text/plain": [
       "<Figure size 1440x432 with 2 Axes>"
      ]
     },
     "metadata": {
      "needs_background": "light",
      "tags": []
     },
     "output_type": "display_data"
    },
    {
     "data": {
      "image/png": "[encoded data removed]",
      "text/plain": [
       "<Figure size 1440x432 with 2 Axes>"
      ]
     },
     "metadata": {
      "needs_background": "light",
      "tags": []
     },
     "output_type": "display_data"
    }
   ],
   "source": [
    "plt.figure(figsize=(20, 6))\n",
    "plt.subplot(221)\n",
    "plt.title(\"Best Forecast Baseline\")\n",
    "plt.plot(y_test[best_baseline], color = \"blue\", marker='.', label=\"true\")\n",
    "plt.plot(y_pred_baseline[best_baseline], color = 'red', marker = \".\", label=\"prediction\")\n",
    "plt.ylabel('Value'); plt.xlabel('Time Step'); plt.legend(fontsize=11)\n",
    "\n",
    "plt.subplot(222)\n",
    "plt.title(\"Worse Forecast Baseline\")\n",
    "plt.plot(y_test[worse_baseline], color = \"blue\", marker='.', label=\"true\")\n",
    "plt.plot(y_pred_baseline[worse_baseline], color = 'red', marker = \".\", label=\"prediction\")\n",
    "plt.ylabel('Value'); plt.xlabel('Time Step'); plt.legend(fontsize=11)\n",
    "\n",
    "plt.figure(figsize=(20, 6))\n",
    "plt.subplot(223)\n",
    "plt.title(\"Best Forecast Redes\")\n",
    "plt.plot(y_test[best_redes],  color = \"blue\", marker='.', label=\"true\")\n",
    "plt.plot(y_pred_redes[best_redes], color = 'red', marker = \".\", label=\"prediction\")\n",
    "plt.ylabel('Value'); plt.xlabel('Time Step'); plt.legend(fontsize=11)\n",
    "\n",
    "plt.subplot(224)\n",
    "plt.title(\"Worse Forecast Redes\")\n",
    "plt.plot(y_test[worse_redes], color = \"blue\", marker='.', label=\"true\")\n",
    "plt.plot(y_pred_redes[worse_redes], color = 'red', marker = \".\", label=\"prediction\")\n",
    "plt.ylabel('Value'); plt.xlabel('Time Step'); plt.legend(fontsize=11) \n",
    "plt.show();"
   ]
  },
  {
   "cell_type": "code",
   "execution_count": null,
   "metadata": {
    "colab": {
     "base_uri": "https://localhost:8080/"
    },
    "id": "rvlbvxz3_bhT",
    "outputId": "0149cc60-3440-43bf-8d6f-4b373e86b400"
   },
   "outputs": [
    {
     "name": "stdout",
     "output_type": "stream",
     "text": [
      "Saved model to disk\n"
     ]
    }
   ],
   "source": [
    "# serialize model to JSON\n",
    "model_json = model.to_json()\n",
    "with open(\"/content/drive/My Drive/Curvas de Demandas/model.json\", \"w\") as json_file:\n",
    "    json_file.write(model_json)\n",
    "# serialize weights to HDF5\n",
    "model.save_weights(\"/content/drive/My Drive/Curvas de Demandas/model.h5\")\n",
    "print(\"Saved model to disk\")"
   ]
  },
  {
   "cell_type": "code",
   "execution_count": null,
   "metadata": {
    "colab": {
     "base_uri": "https://localhost:8080/"
    },
    "id": "FwYNH_8zx-2M",
    "outputId": "2b2382f6-65b7-4722-dbed-c1bf9b62eab7"
   },
   "outputs": [
    {
     "name": "stdout",
     "output_type": "stream",
     "text": [
      "Loaded model from disk\n"
     ]
    }
   ],
   "source": [
    "from keras.models import model_from_json\n",
    "# load json and create model\n",
    "json_file = open('/content/drive/My Drive/Curvas de Demandas/model.json', 'r')\n",
    "loaded_model_json = json_file.read()\n",
    "json_file.close()\n",
    "loaded_model = model_from_json(loaded_model_json)\n",
    "\n",
    "# load weights into new model\n",
    "loaded_model.load_weights(\"/content/drive/My Drive/Curvas de Demandas/model.h5\")\n",
    "print(\"Loaded model from disk\")"
   ]
  },
  {
   "cell_type": "code",
   "execution_count": null,
   "metadata": {
    "id": "QIHzXlNlBR46"
   },
   "outputs": [],
   "source": [
    "from keras import backend as K \n",
    "\n",
    "def euc_dist_keras(y_true, y_pred):\n",
    "    return K.sqrt(K.sum(K.square(y_true - y_pred), axis=-1, keepdims=True))\n",
    "\n",
    "def max_distance(y_true, y_pred):\n",
    "    return K.max(K.abs(y_true - y_pred), axis=-1, keepdims=True)"
   ]
  },
  {
   "cell_type": "code",
   "execution_count": null,
   "metadata": {
    "colab": {
     "base_uri": "https://localhost:8080/"
    },
    "id": "BPU6yvY3A37S",
    "outputId": "df40ff8d-a7bc-4dff-ce46-8534233a1300"
   },
   "outputs": [
    {
     "name": "stdout",
     "output_type": "stream",
     "text": [
      "Model: \"sequential_2\"\n",
      "_________________________________________________________________\n",
      "Layer (type)                 Output Shape              Param #   \n",
      "=================================================================\n",
      "conv2d_2 (Conv2D)            (None, 4, 500, 8)         72        \n",
      "_________________________________________________________________\n",
      "max_pooling2d_2 (MaxPooling2 (None, 1, 250, 8)         0         \n",
      "_________________________________________________________________\n",
      "time_distributed_2 (TimeDist (None, 1, 2000)           0         \n",
      "_________________________________________________________________\n",
      "lstm_2 (LSTM)                (None, 10)                80440     \n",
      "_________________________________________________________________\n",
      "dropout_2 (Dropout)          (None, 10)                0         \n",
      "_________________________________________________________________\n",
      "dense_2 (Dense)              (None, 500)               5500      \n",
      "_________________________________________________________________\n",
      "lambda_2 (Lambda)            (None, None)              0         \n",
      "=================================================================\n",
      "Total params: 86,012\n",
      "Trainable params: 86,012\n",
      "Non-trainable params: 0\n",
      "_________________________________________________________________\n"
     ]
    }
   ],
   "source": [
    "# evaluate loaded model on test data\n",
    "loaded_model.compile(loss = 'mae', metrics = [max_distance], optimizer = Adam(0.001))\n",
    "\n",
    "loaded_model.summary()"
   ]
  },
  {
   "cell_type": "code",
   "execution_count": null,
   "metadata": {
    "id": "0IOjFiO4rz29"
   },
   "outputs": [],
   "source": [
    "y_pred = loaded_model.predict(X_test, verbose=1)"
   ]
  },
  {
   "cell_type": "code",
   "execution_count": null,
   "metadata": {
    "colab": {
     "base_uri": "https://localhost:8080/"
    },
    "id": "cavtAiu1BjbB",
    "outputId": "21213706-2587-4d4d-ba6d-a39dde7bb305"
   },
   "outputs": [
    {
     "name": "stdout",
     "output_type": "stream",
     "text": [
      "Errores usando Redes\n",
      "    count   mean     std   min    25%    50%    75%      max\n",
      "0  8760.0  26.41  106.56  3.25  17.62  25.52  33.83  9941.12\n"
     ]
    }
   ],
   "source": [
    "errores_redes = np.empty([len(y_test_original)])\n",
    "for i in range(0,len(y_test_original)):\n",
    "    errores_redes[i] = np.linalg.norm(y_test_original[i] - y_pred[i], np.inf)\n",
    "\n",
    "print(\"Errores usando Redes\")\n",
    "print(pd.DataFrame(errores_redes).describe().transpose().round(2))"
   ]
  },
  {
   "cell_type": "code",
   "execution_count": null,
   "metadata": {
    "id": "dn3YXwfQe56A"
   },
   "outputs": [],
   "source": []
  }
 ],
 "metadata": {
  "accelerator": "GPU",
  "colab": {
   "collapsed_sections": [],
   "name": "Curvas.ipynb",
   "provenance": []
  },
  "kernelspec": {
   "display_name": "Python 3 (ipykernel)",
   "language": "python",
   "name": "python3"
  },
  "language_info": {
   "codemirror_mode": {
    "name": "ipython",
    "version": 3
   },
   "file_extension": ".py",
   "mimetype": "text/x-python",
   "name": "python",
   "nbconvert_exporter": "python",
   "pygments_lexer": "ipython3",
   "version": "3.7.9"
  }
 },
 "nbformat": 4,
 "nbformat_minor": 4
}
