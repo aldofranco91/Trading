{
  "nbformat": 4,
  "nbformat_minor": 0,
  "metadata": {
    "colab": {
      "name": "Production_Jaime.ipynb",
      "provenance": [],
      "collapsed_sections": [],
      "machine_shape": "hm",
      "mount_file_id": "1RaFhj9WemiffT9uKpFw8Q6jJbjFQNKCM",
      "authorship_tag": "ABX9TyM3fS4Ul0lzjHmuTLqXnbDz",
      "include_colab_link": true
    },
    "kernelspec": {
      "name": "python3",
      "display_name": "Python 3"
    },
    "language_info": {
      "name": "python"
    },
    "accelerator": "GPU"
  },
  "cells": [
    {
      "cell_type": "markdown",
      "metadata": {
        "id": "view-in-github",
        "colab_type": "text"
      },
      "source": [
        "<a href=\"https://colab.research.google.com/github/aldofranco91/Trading/blob/main/Production_Jaime.ipynb\" target=\"_parent\"><img src=\"https://colab.research.google.com/assets/colab-badge.svg\" alt=\"Open In Colab\"/></a>"
      ]
    },
    {
      "cell_type": "code",
      "execution_count": 1,
      "metadata": {
        "colab": {
          "base_uri": "https://localhost:8080/"
        },
        "id": "gME2dnH9vVqh",
        "outputId": "4d60f67e-4163-4d7f-86dc-6b464e37c4b7"
      },
      "outputs": [
        {
          "output_type": "stream",
          "name": "stdout",
          "text": [
            "Collecting yfinance\n",
            "  Downloading yfinance-0.1.70-py2.py3-none-any.whl (26 kB)\n",
            "Requirement already satisfied: pandas>=0.24.0 in /usr/local/lib/python3.7/dist-packages (from yfinance) (1.3.5)\n",
            "Requirement already satisfied: multitasking>=0.0.7 in /usr/local/lib/python3.7/dist-packages (from yfinance) (0.0.10)\n",
            "Collecting lxml>=4.5.1\n",
            "  Downloading lxml-4.7.1-cp37-cp37m-manylinux_2_17_x86_64.manylinux2014_x86_64.manylinux_2_24_x86_64.whl (6.4 MB)\n",
            "\u001b[K     |████████████████████████████████| 6.4 MB 6.2 MB/s \n",
            "\u001b[?25hRequirement already satisfied: numpy>=1.15 in /usr/local/lib/python3.7/dist-packages (from yfinance) (1.19.5)\n",
            "Collecting requests>=2.26\n",
            "  Downloading requests-2.27.1-py2.py3-none-any.whl (63 kB)\n",
            "\u001b[K     |████████████████████████████████| 63 kB 2.6 MB/s \n",
            "\u001b[?25hRequirement already satisfied: python-dateutil>=2.7.3 in /usr/local/lib/python3.7/dist-packages (from pandas>=0.24.0->yfinance) (2.8.2)\n",
            "Requirement already satisfied: pytz>=2017.3 in /usr/local/lib/python3.7/dist-packages (from pandas>=0.24.0->yfinance) (2018.9)\n",
            "Requirement already satisfied: six>=1.5 in /usr/local/lib/python3.7/dist-packages (from python-dateutil>=2.7.3->pandas>=0.24.0->yfinance) (1.15.0)\n",
            "Requirement already satisfied: charset-normalizer~=2.0.0 in /usr/local/lib/python3.7/dist-packages (from requests>=2.26->yfinance) (2.0.11)\n",
            "Requirement already satisfied: certifi>=2017.4.17 in /usr/local/lib/python3.7/dist-packages (from requests>=2.26->yfinance) (2021.10.8)\n",
            "Requirement already satisfied: urllib3<1.27,>=1.21.1 in /usr/local/lib/python3.7/dist-packages (from requests>=2.26->yfinance) (1.24.3)\n",
            "Requirement already satisfied: idna<4,>=2.5 in /usr/local/lib/python3.7/dist-packages (from requests>=2.26->yfinance) (2.10)\n",
            "Installing collected packages: requests, lxml, yfinance\n",
            "  Attempting uninstall: requests\n",
            "    Found existing installation: requests 2.23.0\n",
            "    Uninstalling requests-2.23.0:\n",
            "      Successfully uninstalled requests-2.23.0\n",
            "  Attempting uninstall: lxml\n",
            "    Found existing installation: lxml 4.2.6\n",
            "    Uninstalling lxml-4.2.6:\n",
            "      Successfully uninstalled lxml-4.2.6\n",
            "\u001b[31mERROR: pip's dependency resolver does not currently take into account all the packages that are installed. This behaviour is the source of the following dependency conflicts.\n",
            "google-colab 1.0.0 requires requests~=2.23.0, but you have requests 2.27.1 which is incompatible.\n",
            "datascience 0.10.6 requires folium==0.2.1, but you have folium 0.8.3 which is incompatible.\u001b[0m\n",
            "Successfully installed lxml-4.7.1 requests-2.27.1 yfinance-0.1.70\n"
          ]
        }
      ],
      "source": [
        "!pip install yfinance"
      ]
    },
    {
      "cell_type": "code",
      "source": [
        "import pandas as pd\n",
        "import numpy as np\n",
        "import time\n",
        "# Viz\n",
        "import matplotlib.pyplot as plt # basic plotting\n",
        "import seaborn as sns # for prettier plots\n",
        "\n",
        "from pickle import load\n",
        "\n",
        "from IPython import display\n",
        "\n",
        "import tensorflow as tf\n",
        "\n",
        "from sklearn import metrics\n",
        "from scipy import stats\n",
        "\n",
        "import requests\n",
        "import json\n",
        "\n",
        "tf.test.gpu_device_name()"
      ],
      "metadata": {
        "colab": {
          "base_uri": "https://localhost:8080/",
          "height": 36
        },
        "id": "Ktx7e2Y4veO8",
        "outputId": "8bb95689-c247-47fc-bc33-f214d35a975e"
      },
      "execution_count": 5,
      "outputs": [
        {
          "output_type": "execute_result",
          "data": {
            "application/vnd.google.colaboratory.intrinsic+json": {
              "type": "string"
            },
            "text/plain": [
              "'/device:GPU:0'"
            ]
          },
          "metadata": {},
          "execution_count": 5
        }
      ]
    },
    {
      "cell_type": "code",
      "source": [
        "pd.set_option(\"display.max_columns\", None)\n",
        "\n",
        "import warnings\n",
        "warnings.filterwarnings('ignore')"
      ],
      "metadata": {
        "id": "Nz8cQDFuvmFj"
      },
      "execution_count": 3,
      "outputs": []
    },
    {
      "cell_type": "code",
      "source": [
        "import yfinance as yf\n",
        "import datetime as dt\n",
        "\n",
        "limit = 120\n",
        "end = dt.datetime.now() - dt.timedelta(days=0)\n",
        "#end = dt.datetime.now() - dt.timedelta(days=1)\n",
        "start = end - dt.timedelta(days=(limit-1))\n",
        "\n",
        "df = yf.download('BTC-USD', start, end).drop('Adj Close', axis=1)\n",
        "df['date'] = pd.to_datetime(df.index)\n",
        "df"
      ],
      "metadata": {
        "colab": {
          "base_uri": "https://localhost:8080/",
          "height": 474
        },
        "id": "wlBsijUMvnva",
        "outputId": "623d1bbb-9546-4504-b4fd-a48b624bee65"
      },
      "execution_count": 32,
      "outputs": [
        {
          "output_type": "stream",
          "name": "stdout",
          "text": [
            "\r[*********************100%***********************]  1 of 1 completed\n"
          ]
        },
        {
          "output_type": "execute_result",
          "data": {
            "text/html": [
              "\n",
              "  <div id=\"df-38542da0-c3ef-4af8-9147-6eafb697989d\">\n",
              "    <div class=\"colab-df-container\">\n",
              "      <div>\n",
              "<style scoped>\n",
              "    .dataframe tbody tr th:only-of-type {\n",
              "        vertical-align: middle;\n",
              "    }\n",
              "\n",
              "    .dataframe tbody tr th {\n",
              "        vertical-align: top;\n",
              "    }\n",
              "\n",
              "    .dataframe thead th {\n",
              "        text-align: right;\n",
              "    }\n",
              "</style>\n",
              "<table border=\"1\" class=\"dataframe\">\n",
              "  <thead>\n",
              "    <tr style=\"text-align: right;\">\n",
              "      <th></th>\n",
              "      <th>Open</th>\n",
              "      <th>High</th>\n",
              "      <th>Low</th>\n",
              "      <th>Close</th>\n",
              "      <th>Volume</th>\n",
              "      <th>date</th>\n",
              "    </tr>\n",
              "    <tr>\n",
              "      <th>Date</th>\n",
              "      <th></th>\n",
              "      <th></th>\n",
              "      <th></th>\n",
              "      <th></th>\n",
              "      <th></th>\n",
              "      <th></th>\n",
              "    </tr>\n",
              "  </thead>\n",
              "  <tbody>\n",
              "    <tr>\n",
              "      <th>2021-10-12</th>\n",
              "      <td>57526.832031</td>\n",
              "      <td>57627.878906</td>\n",
              "      <td>54477.972656</td>\n",
              "      <td>56041.058594</td>\n",
              "      <td>41083758949</td>\n",
              "      <td>2021-10-12</td>\n",
              "    </tr>\n",
              "    <tr>\n",
              "      <th>2021-10-13</th>\n",
              "      <td>56038.257812</td>\n",
              "      <td>57688.660156</td>\n",
              "      <td>54370.972656</td>\n",
              "      <td>57401.097656</td>\n",
              "      <td>41684252783</td>\n",
              "      <td>2021-10-13</td>\n",
              "    </tr>\n",
              "    <tr>\n",
              "      <th>2021-10-14</th>\n",
              "      <td>57372.832031</td>\n",
              "      <td>58478.734375</td>\n",
              "      <td>56957.074219</td>\n",
              "      <td>57321.523438</td>\n",
              "      <td>36615791366</td>\n",
              "      <td>2021-10-14</td>\n",
              "    </tr>\n",
              "    <tr>\n",
              "      <th>2021-10-15</th>\n",
              "      <td>57345.902344</td>\n",
              "      <td>62757.128906</td>\n",
              "      <td>56868.144531</td>\n",
              "      <td>61593.949219</td>\n",
              "      <td>51780081801</td>\n",
              "      <td>2021-10-15</td>\n",
              "    </tr>\n",
              "    <tr>\n",
              "      <th>2021-10-16</th>\n",
              "      <td>61609.527344</td>\n",
              "      <td>62274.476562</td>\n",
              "      <td>60206.121094</td>\n",
              "      <td>60892.179688</td>\n",
              "      <td>34250964237</td>\n",
              "      <td>2021-10-16</td>\n",
              "    </tr>\n",
              "    <tr>\n",
              "      <th>...</th>\n",
              "      <td>...</td>\n",
              "      <td>...</td>\n",
              "      <td>...</td>\n",
              "      <td>...</td>\n",
              "      <td>...</td>\n",
              "      <td>...</td>\n",
              "    </tr>\n",
              "    <tr>\n",
              "      <th>2022-02-04</th>\n",
              "      <td>37149.265625</td>\n",
              "      <td>41527.785156</td>\n",
              "      <td>37093.628906</td>\n",
              "      <td>41500.875000</td>\n",
              "      <td>29412210792</td>\n",
              "      <td>2022-02-04</td>\n",
              "    </tr>\n",
              "    <tr>\n",
              "      <th>2022-02-05</th>\n",
              "      <td>41501.480469</td>\n",
              "      <td>41847.164062</td>\n",
              "      <td>41038.097656</td>\n",
              "      <td>41441.164062</td>\n",
              "      <td>19652846215</td>\n",
              "      <td>2022-02-05</td>\n",
              "    </tr>\n",
              "    <tr>\n",
              "      <th>2022-02-06</th>\n",
              "      <td>41441.121094</td>\n",
              "      <td>42500.785156</td>\n",
              "      <td>41244.906250</td>\n",
              "      <td>42412.433594</td>\n",
              "      <td>16142097334</td>\n",
              "      <td>2022-02-06</td>\n",
              "    </tr>\n",
              "    <tr>\n",
              "      <th>2022-02-07</th>\n",
              "      <td>42406.781250</td>\n",
              "      <td>44401.863281</td>\n",
              "      <td>41748.156250</td>\n",
              "      <td>43840.285156</td>\n",
              "      <td>28641855926</td>\n",
              "      <td>2022-02-07</td>\n",
              "    </tr>\n",
              "    <tr>\n",
              "      <th>2022-02-08</th>\n",
              "      <td>43927.300781</td>\n",
              "      <td>45257.082031</td>\n",
              "      <td>43140.765625</td>\n",
              "      <td>43391.484375</td>\n",
              "      <td>36206051328</td>\n",
              "      <td>2022-02-08</td>\n",
              "    </tr>\n",
              "  </tbody>\n",
              "</table>\n",
              "<p>120 rows × 6 columns</p>\n",
              "</div>\n",
              "      <button class=\"colab-df-convert\" onclick=\"convertToInteractive('df-38542da0-c3ef-4af8-9147-6eafb697989d')\"\n",
              "              title=\"Convert this dataframe to an interactive table.\"\n",
              "              style=\"display:none;\">\n",
              "        \n",
              "  <svg xmlns=\"http://www.w3.org/2000/svg\" height=\"24px\"viewBox=\"0 0 24 24\"\n",
              "       width=\"24px\">\n",
              "    <path d=\"M0 0h24v24H0V0z\" fill=\"none\"/>\n",
              "    <path d=\"M18.56 5.44l.94 2.06.94-2.06 2.06-.94-2.06-.94-.94-2.06-.94 2.06-2.06.94zm-11 1L8.5 8.5l.94-2.06 2.06-.94-2.06-.94L8.5 2.5l-.94 2.06-2.06.94zm10 10l.94 2.06.94-2.06 2.06-.94-2.06-.94-.94-2.06-.94 2.06-2.06.94z\"/><path d=\"M17.41 7.96l-1.37-1.37c-.4-.4-.92-.59-1.43-.59-.52 0-1.04.2-1.43.59L10.3 9.45l-7.72 7.72c-.78.78-.78 2.05 0 2.83L4 21.41c.39.39.9.59 1.41.59.51 0 1.02-.2 1.41-.59l7.78-7.78 2.81-2.81c.8-.78.8-2.07 0-2.86zM5.41 20L4 18.59l7.72-7.72 1.47 1.35L5.41 20z\"/>\n",
              "  </svg>\n",
              "      </button>\n",
              "      \n",
              "  <style>\n",
              "    .colab-df-container {\n",
              "      display:flex;\n",
              "      flex-wrap:wrap;\n",
              "      gap: 12px;\n",
              "    }\n",
              "\n",
              "    .colab-df-convert {\n",
              "      background-color: #E8F0FE;\n",
              "      border: none;\n",
              "      border-radius: 50%;\n",
              "      cursor: pointer;\n",
              "      display: none;\n",
              "      fill: #1967D2;\n",
              "      height: 32px;\n",
              "      padding: 0 0 0 0;\n",
              "      width: 32px;\n",
              "    }\n",
              "\n",
              "    .colab-df-convert:hover {\n",
              "      background-color: #E2EBFA;\n",
              "      box-shadow: 0px 1px 2px rgba(60, 64, 67, 0.3), 0px 1px 3px 1px rgba(60, 64, 67, 0.15);\n",
              "      fill: #174EA6;\n",
              "    }\n",
              "\n",
              "    [theme=dark] .colab-df-convert {\n",
              "      background-color: #3B4455;\n",
              "      fill: #D2E3FC;\n",
              "    }\n",
              "\n",
              "    [theme=dark] .colab-df-convert:hover {\n",
              "      background-color: #434B5C;\n",
              "      box-shadow: 0px 1px 3px 1px rgba(0, 0, 0, 0.15);\n",
              "      filter: drop-shadow(0px 1px 2px rgba(0, 0, 0, 0.3));\n",
              "      fill: #FFFFFF;\n",
              "    }\n",
              "  </style>\n",
              "\n",
              "      <script>\n",
              "        const buttonEl =\n",
              "          document.querySelector('#df-38542da0-c3ef-4af8-9147-6eafb697989d button.colab-df-convert');\n",
              "        buttonEl.style.display =\n",
              "          google.colab.kernel.accessAllowed ? 'block' : 'none';\n",
              "\n",
              "        async function convertToInteractive(key) {\n",
              "          const element = document.querySelector('#df-38542da0-c3ef-4af8-9147-6eafb697989d');\n",
              "          const dataTable =\n",
              "            await google.colab.kernel.invokeFunction('convertToInteractive',\n",
              "                                                     [key], {});\n",
              "          if (!dataTable) return;\n",
              "\n",
              "          const docLinkHtml = 'Like what you see? Visit the ' +\n",
              "            '<a target=\"_blank\" href=https://colab.research.google.com/notebooks/data_table.ipynb>data table notebook</a>'\n",
              "            + ' to learn more about interactive tables.';\n",
              "          element.innerHTML = '';\n",
              "          dataTable['output_type'] = 'display_data';\n",
              "          await google.colab.output.renderOutput(dataTable, element);\n",
              "          const docLink = document.createElement('div');\n",
              "          docLink.innerHTML = docLinkHtml;\n",
              "          element.appendChild(docLink);\n",
              "        }\n",
              "      </script>\n",
              "    </div>\n",
              "  </div>\n",
              "  "
            ],
            "text/plain": [
              "                    Open          High           Low         Close  \\\n",
              "Date                                                                 \n",
              "2021-10-12  57526.832031  57627.878906  54477.972656  56041.058594   \n",
              "2021-10-13  56038.257812  57688.660156  54370.972656  57401.097656   \n",
              "2021-10-14  57372.832031  58478.734375  56957.074219  57321.523438   \n",
              "2021-10-15  57345.902344  62757.128906  56868.144531  61593.949219   \n",
              "2021-10-16  61609.527344  62274.476562  60206.121094  60892.179688   \n",
              "...                  ...           ...           ...           ...   \n",
              "2022-02-04  37149.265625  41527.785156  37093.628906  41500.875000   \n",
              "2022-02-05  41501.480469  41847.164062  41038.097656  41441.164062   \n",
              "2022-02-06  41441.121094  42500.785156  41244.906250  42412.433594   \n",
              "2022-02-07  42406.781250  44401.863281  41748.156250  43840.285156   \n",
              "2022-02-08  43927.300781  45257.082031  43140.765625  43391.484375   \n",
              "\n",
              "                 Volume       date  \n",
              "Date                                \n",
              "2021-10-12  41083758949 2021-10-12  \n",
              "2021-10-13  41684252783 2021-10-13  \n",
              "2021-10-14  36615791366 2021-10-14  \n",
              "2021-10-15  51780081801 2021-10-15  \n",
              "2021-10-16  34250964237 2021-10-16  \n",
              "...                 ...        ...  \n",
              "2022-02-04  29412210792 2022-02-04  \n",
              "2022-02-05  19652846215 2022-02-05  \n",
              "2022-02-06  16142097334 2022-02-06  \n",
              "2022-02-07  28641855926 2022-02-07  \n",
              "2022-02-08  36206051328 2022-02-08  \n",
              "\n",
              "[120 rows x 6 columns]"
            ]
          },
          "metadata": {},
          "execution_count": 32
        }
      ]
    },
    {
      "cell_type": "code",
      "source": [
        "response = requests.get(\"https://api.alternative.me/fng/?limit=\" + str(limit))\n",
        "fear = response.json()\n",
        "df_fear = pd.json_normalize(fear['data'])\n",
        "df_fear['date'] = pd.to_datetime(df_fear.timestamp, unit='s')\n",
        "df_fear = df_fear.set_index(df_fear['date'])\n",
        "df_fear = df_fear.sort_index().drop(['value_classification','timestamp', \n",
        "                                                   'time_until_update', 'date'], axis=1)\n",
        "\n",
        "df = df.join(df_fear, on='date')\n",
        "df = df.drop(['date'], axis=1)"
      ],
      "metadata": {
        "id": "ef51gz01AVn0"
      },
      "execution_count": 33,
      "outputs": []
    },
    {
      "cell_type": "code",
      "source": [
        "price = 'Close'\n",
        "\n",
        "# MovingAverage\n",
        "#https://towardsdatascience.com/building-a-comprehensive-set-of-technical-indicators-in-python-for-quantitative-trading-8d98751b5fb\n",
        "values_ma = range(2,30,2)\n",
        "for i in values_ma:\n",
        "    df[\"maclose\" + str(i)] = df[price].rolling(window=i).mean()\n",
        "\n",
        "# ExponentialMovingWindow\n",
        "values_ema = range(2,30,2)\n",
        "for i in values_ema:\n",
        "    df[\"ema\" + str(i)] = df[price].ewm(span = i, adjust = False).mean()\n",
        "\n",
        "# Wight Moving Average\n",
        "# https://predictivehacks.com/?all-tips=how-to-apply-a-rolling-weighted-moving-average-in-pandas\n",
        "weights = np.array([0.1, 0.2, 0.3, 0.4]) #Tienen que sumar 1 🙂\n",
        "df['wma'] = df[price].rolling(4).apply(lambda x: np.sum(weights*x))\n",
        "\n",
        "# RSI\n",
        "# https://stackoverflow.com/questions/20526414/relative-strength-index-in-python-pandas\n",
        "values_rsi = range(2,30,2)\n",
        "close = df[price]\n",
        "\n",
        "# Get the difference in price from previous step\n",
        "delta = close.diff()\n",
        "\n",
        "# Make the positive gains (up) and negative gains (down) Series\n",
        "up, down = delta.copy(), delta.copy()\n",
        "up[up < 0] = 0\n",
        "down[down > 0] = 0\n",
        "\n",
        "for i in values_rsi:\n",
        "    # Calculate the EWMA\n",
        "    roll_up1 = up.ewm(span=i).mean()\n",
        "    roll_down1 = down.abs().ewm(span=i).mean()\n",
        "\n",
        "    ## Calculate the RSI based on EWMA\n",
        "    RS1 = roll_up1 / roll_down1\n",
        "    RSI1 = 100.0 - (100.0 / (1.0 + RS1))\n",
        "\n",
        "    # Calculate the SMA\n",
        "    roll_up2 = up.rolling(i).mean()\n",
        "    roll_down2 = down.abs().rolling(i).mean()\n",
        "\n",
        "    # Calculate the RSI based on SMA\n",
        "    RS2 = roll_up2 / roll_down2\n",
        "    RSI2 = 100.0 - (100.0 / (1.0 + RS2))\n",
        "\n",
        "    df[\"rsiewma\" + str(i)] = RSI1.values\n",
        "    df[\"rsisma\" + str(i)]  = RSI2.values\n",
        "\n",
        "# BollingerBand\n",
        "values_bollinger = range(2,30,2)\n",
        "for i in values_bollinger:\n",
        "    df['bollingerupper' + str(i)] = df[price].rolling(window=i).mean() + (df[price].rolling(window=i).std() * 2)\n",
        "    df['bollingerlower' + str(i)] = df[price].rolling(window=i).mean() - (df[price].rolling(window=i).std() * 2)"
      ],
      "metadata": {
        "id": "jPRQV3gWxEyf"
      },
      "execution_count": 34,
      "outputs": []
    },
    {
      "cell_type": "code",
      "source": [
        "# Model 15 days\n",
        "days_pred = 15\n",
        "days_select = 60\n",
        "date_to_predict = [(end + dt.timedelta(days=x)).strftime(\"%Y-%m-%d\") for x in range(1,days_pred+1)]\n",
        "\n",
        "df_final = df.copy()\n",
        "df_final = df_final.iloc[-days_select:]\n",
        "df_rs = np.array(df_final)\n",
        "\n",
        "scaler = load(open('/content/drive/MyDrive/Trading/15_days/scaler.pkl', 'rb'))\n",
        "X = scaler.transform(df_rs)\n",
        "X = np.reshape(X, (1, days_select, 91))\n",
        "\n",
        "best_model = tf.keras.models.load_model('/content/drive/MyDrive/Trading/15_days/modelo_best.h5')\n",
        "pred_15 = best_model.predict(X, verbose=1)"
      ],
      "metadata": {
        "colab": {
          "base_uri": "https://localhost:8080/"
        },
        "id": "-fYgw_lHCBoB",
        "outputId": "d2d645d9-ef30-4462-9243-92fb41900536"
      },
      "execution_count": 36,
      "outputs": [
        {
          "output_type": "stream",
          "name": "stdout",
          "text": [
            "1/1 [==============================] - 10s 10s/step\n"
          ]
        }
      ]
    },
    {
      "cell_type": "code",
      "source": [
        "# Model 7 days\n",
        "days_pred = 7\n",
        "days_select = 30\n",
        "date_to_predict = [(end + dt.timedelta(days=x)).strftime(\"%Y-%m-%d\") for x in range(1,days_pred+1)]\n",
        "\n",
        "df_final = df.copy()\n",
        "df_final = df_final.iloc[-days_select:]\n",
        "df_rs = np.array(df_final)\n",
        "\n",
        "scaler = load(open('/content/drive/MyDrive/Trading/7_days/scaler.pkl', 'rb'))\n",
        "X = scaler.transform(df_rs)\n",
        "X = np.reshape(X, (1, days_select, 91))\n",
        "\n",
        "best_model = tf.keras.models.load_model('/content/drive/MyDrive/Trading/7_days/modelo_best.h5')\n",
        "pred_7 = best_model.predict(X, verbose=1)"
      ],
      "metadata": {
        "colab": {
          "base_uri": "https://localhost:8080/"
        },
        "id": "6nFMz9A4xQes",
        "outputId": "1f8049db-8497-4d26-b14c-598a606f6dfb"
      },
      "execution_count": 37,
      "outputs": [
        {
          "output_type": "stream",
          "name": "stdout",
          "text": [
            "1/1 [==============================] - 2s 2s/step\n"
          ]
        }
      ]
    },
    {
      "cell_type": "code",
      "source": [
        "# Model 5 days\n",
        "days_pred = 5\n",
        "days_select = 22\n",
        "date_to_predict = [(end + dt.timedelta(days=x)).strftime(\"%Y-%m-%d\") for x in range(1,days_pred+1)]\n",
        "\n",
        "df_final = df.copy()\n",
        "df_final = df_final.iloc[-days_select:]\n",
        "df_rs = np.array(df_final)\n",
        "\n",
        "scaler = load(open('/content/drive/MyDrive/Trading/5_days/scaler.pkl', 'rb'))\n",
        "X = scaler.transform(df_rs)\n",
        "X = np.reshape(X, (1, days_select, 91))\n",
        "\n",
        "best_model = tf.keras.models.load_model('/content/drive/MyDrive/Trading/5_days/modelo_best.h5')\n",
        "pred_5 = best_model.predict(X, verbose=1)"
      ],
      "metadata": {
        "colab": {
          "base_uri": "https://localhost:8080/"
        },
        "id": "lxj98CGNCe6J",
        "outputId": "208d64e3-503f-48ed-cbe7-d0a495ff0f58"
      },
      "execution_count": 38,
      "outputs": [
        {
          "output_type": "stream",
          "name": "stdout",
          "text": [
            "1/1 [==============================] - 3s 3s/step\n"
          ]
        }
      ]
    },
    {
      "cell_type": "code",
      "source": [
        "# Model 3 days\n",
        "days_pred = 3\n",
        "days_select = 15\n",
        "date_to_predict = [(end + dt.timedelta(days=x)).strftime(\"%Y-%m-%d\") for x in range(1,days_pred+1)]\n",
        "\n",
        "df_final = df.copy()\n",
        "df_final = df_final.iloc[-days_select:]\n",
        "df_rs = np.array(df_final)\n",
        "\n",
        "scaler = load(open('/content/drive/MyDrive/Trading/3_days/scaler.pkl', 'rb'))\n",
        "X = scaler.transform(df_rs)\n",
        "X = np.reshape(X, (1, days_select, 91))\n",
        "\n",
        "best_model = tf.keras.models.load_model('/content/drive/MyDrive/Trading/3_days/modelo_best.h5')\n",
        "pred_3 = best_model.predict(X, verbose=1)"
      ],
      "metadata": {
        "colab": {
          "base_uri": "https://localhost:8080/"
        },
        "id": "3Q12b_1-VE2Y",
        "outputId": "e10b07d7-d50a-4698-fa0c-ce609d577e37"
      },
      "execution_count": 39,
      "outputs": [
        {
          "output_type": "stream",
          "name": "stdout",
          "text": [
            "1/1 [==============================] - 2s 2s/step\n"
          ]
        }
      ]
    },
    {
      "cell_type": "code",
      "source": [
        "# Model 1 days\n",
        "days_pred = 1\n",
        "days_select = 7\n",
        "date_to_predict = [(end + dt.timedelta(days=x)).strftime(\"%Y-%m-%d\") for x in range(1,days_pred+1)]\n",
        "\n",
        "df_final = df.copy()\n",
        "df_final = df_final.iloc[-days_select:]\n",
        "df_rs = np.array(df_final)\n",
        "\n",
        "scaler = load(open('/content/drive/MyDrive/Trading/1_days/scaler.pkl', 'rb'))\n",
        "X = scaler.transform(df_rs)\n",
        "X = np.reshape(X, (1, days_select, 91))\n",
        "\n",
        "best_model = tf.keras.models.load_model('/content/drive/MyDrive/Trading/1_days/modelo_best.h5')\n",
        "pred_1 = best_model.predict(X, verbose=1)"
      ],
      "metadata": {
        "colab": {
          "base_uri": "https://localhost:8080/"
        },
        "id": "eK5NyLp2Cpfw",
        "outputId": "0a1d105f-d4dd-4f54-b93f-cbf9ed8a1899"
      },
      "execution_count": 40,
      "outputs": [
        {
          "output_type": "stream",
          "name": "stdout",
          "text": [
            "WARNING:tensorflow:5 out of the last 5 calls to <function Model.make_predict_function.<locals>.predict_function at 0x7f9b54636710> triggered tf.function retracing. Tracing is expensive and the excessive number of tracings could be due to (1) creating @tf.function repeatedly in a loop, (2) passing tensors with different shapes, (3) passing Python objects instead of tensors. For (1), please define your @tf.function outside of the loop. For (2), @tf.function has experimental_relax_shapes=True option that relaxes argument shapes that can avoid unnecessary retracing. For (3), please refer to https://www.tensorflow.org/guide/function#controlling_retracing and https://www.tensorflow.org/api_docs/python/tf/function for  more details.\n",
            "1/1 [==============================] - 3s 3s/step\n"
          ]
        }
      ]
    },
    {
      "cell_type": "markdown",
      "source": [
        "Weighted 7 days prices (Fibonacci)"
      ],
      "metadata": {
        "id": "x9oJw3oDYrGw"
      }
    },
    {
      "cell_type": "code",
      "source": [
        "preds = {'pred_1': pd.Series(pred_1[0]),\n",
        "         'pred_3': pd.Series(pred_3[0]),\n",
        "         'pred_5': pd.Series(pred_5[0]),  \n",
        "         'pred_7': pd.Series(pred_7[0]),\n",
        "         'pred_15': pd.Series(pred_15[0])}\n",
        "preds = pd.DataFrame(preds)\n",
        "preds['pred_7'] = preds['pred_7'].fillna(preds.pred_15)\n",
        "preds['pred_5'] = preds['pred_5'].fillna(preds.pred_7)\n",
        "preds['pred_3'] = preds['pred_3'].fillna(preds.pred_5)\n",
        "preds['pred_1'] = preds['pred_1'].fillna(preds.pred_3)\n",
        "preds['weighted_pred'] = preds.pred_1*(8/19)+preds.pred_3*(5/19)+preds.pred_5*(3/19)+preds.pred_7*(2/19)+preds.pred_15*(1/19)\n",
        "preds = preds.iloc[:7]\n",
        "preds"
      ],
      "metadata": {
        "colab": {
          "base_uri": "https://localhost:8080/",
          "height": 269
        },
        "id": "nBUncTXEa50c",
        "outputId": "a9dbe2ca-206e-482c-95a7-86a1094910f5"
      },
      "execution_count": 79,
      "outputs": [
        {
          "output_type": "execute_result",
          "data": {
            "text/html": [
              "\n",
              "  <div id=\"df-b8655706-9cd0-40ea-8d28-942455706b36\">\n",
              "    <div class=\"colab-df-container\">\n",
              "      <div>\n",
              "<style scoped>\n",
              "    .dataframe tbody tr th:only-of-type {\n",
              "        vertical-align: middle;\n",
              "    }\n",
              "\n",
              "    .dataframe tbody tr th {\n",
              "        vertical-align: top;\n",
              "    }\n",
              "\n",
              "    .dataframe thead th {\n",
              "        text-align: right;\n",
              "    }\n",
              "</style>\n",
              "<table border=\"1\" class=\"dataframe\">\n",
              "  <thead>\n",
              "    <tr style=\"text-align: right;\">\n",
              "      <th></th>\n",
              "      <th>pred_1</th>\n",
              "      <th>pred_3</th>\n",
              "      <th>pred_5</th>\n",
              "      <th>pred_7</th>\n",
              "      <th>pred_15</th>\n",
              "      <th>weighted_pred</th>\n",
              "    </tr>\n",
              "  </thead>\n",
              "  <tbody>\n",
              "    <tr>\n",
              "      <th>0</th>\n",
              "      <td>45643.652344</td>\n",
              "      <td>44354.265625</td>\n",
              "      <td>42041.566406</td>\n",
              "      <td>40903.593750</td>\n",
              "      <td>39614.816406</td>\n",
              "      <td>43919.328125</td>\n",
              "    </tr>\n",
              "    <tr>\n",
              "      <th>1</th>\n",
              "      <td>44642.437500</td>\n",
              "      <td>44642.437500</td>\n",
              "      <td>42095.640625</td>\n",
              "      <td>40933.906250</td>\n",
              "      <td>39064.609375</td>\n",
              "      <td>43556.371094</td>\n",
              "    </tr>\n",
              "    <tr>\n",
              "      <th>2</th>\n",
              "      <td>44688.835938</td>\n",
              "      <td>44688.835938</td>\n",
              "      <td>41962.386719</td>\n",
              "      <td>40846.011719</td>\n",
              "      <td>38436.550781</td>\n",
              "      <td>43524.765625</td>\n",
              "    </tr>\n",
              "    <tr>\n",
              "      <th>3</th>\n",
              "      <td>41857.109375</td>\n",
              "      <td>41857.109375</td>\n",
              "      <td>41857.109375</td>\n",
              "      <td>40589.332031</td>\n",
              "      <td>38023.968750</td>\n",
              "      <td>41521.917969</td>\n",
              "    </tr>\n",
              "    <tr>\n",
              "      <th>4</th>\n",
              "      <td>41869.105469</td>\n",
              "      <td>41869.105469</td>\n",
              "      <td>41869.105469</td>\n",
              "      <td>40087.582031</td>\n",
              "      <td>37207.781250</td>\n",
              "      <td>41436.246094</td>\n",
              "    </tr>\n",
              "    <tr>\n",
              "      <th>5</th>\n",
              "      <td>39835.070312</td>\n",
              "      <td>39835.070312</td>\n",
              "      <td>39835.070312</td>\n",
              "      <td>39835.070312</td>\n",
              "      <td>36440.421875</td>\n",
              "      <td>39656.406250</td>\n",
              "    </tr>\n",
              "    <tr>\n",
              "      <th>6</th>\n",
              "      <td>39840.171875</td>\n",
              "      <td>39840.171875</td>\n",
              "      <td>39840.171875</td>\n",
              "      <td>39840.171875</td>\n",
              "      <td>35929.574219</td>\n",
              "      <td>39634.351562</td>\n",
              "    </tr>\n",
              "  </tbody>\n",
              "</table>\n",
              "</div>\n",
              "      <button class=\"colab-df-convert\" onclick=\"convertToInteractive('df-b8655706-9cd0-40ea-8d28-942455706b36')\"\n",
              "              title=\"Convert this dataframe to an interactive table.\"\n",
              "              style=\"display:none;\">\n",
              "        \n",
              "  <svg xmlns=\"http://www.w3.org/2000/svg\" height=\"24px\"viewBox=\"0 0 24 24\"\n",
              "       width=\"24px\">\n",
              "    <path d=\"M0 0h24v24H0V0z\" fill=\"none\"/>\n",
              "    <path d=\"M18.56 5.44l.94 2.06.94-2.06 2.06-.94-2.06-.94-.94-2.06-.94 2.06-2.06.94zm-11 1L8.5 8.5l.94-2.06 2.06-.94-2.06-.94L8.5 2.5l-.94 2.06-2.06.94zm10 10l.94 2.06.94-2.06 2.06-.94-2.06-.94-.94-2.06-.94 2.06-2.06.94z\"/><path d=\"M17.41 7.96l-1.37-1.37c-.4-.4-.92-.59-1.43-.59-.52 0-1.04.2-1.43.59L10.3 9.45l-7.72 7.72c-.78.78-.78 2.05 0 2.83L4 21.41c.39.39.9.59 1.41.59.51 0 1.02-.2 1.41-.59l7.78-7.78 2.81-2.81c.8-.78.8-2.07 0-2.86zM5.41 20L4 18.59l7.72-7.72 1.47 1.35L5.41 20z\"/>\n",
              "  </svg>\n",
              "      </button>\n",
              "      \n",
              "  <style>\n",
              "    .colab-df-container {\n",
              "      display:flex;\n",
              "      flex-wrap:wrap;\n",
              "      gap: 12px;\n",
              "    }\n",
              "\n",
              "    .colab-df-convert {\n",
              "      background-color: #E8F0FE;\n",
              "      border: none;\n",
              "      border-radius: 50%;\n",
              "      cursor: pointer;\n",
              "      display: none;\n",
              "      fill: #1967D2;\n",
              "      height: 32px;\n",
              "      padding: 0 0 0 0;\n",
              "      width: 32px;\n",
              "    }\n",
              "\n",
              "    .colab-df-convert:hover {\n",
              "      background-color: #E2EBFA;\n",
              "      box-shadow: 0px 1px 2px rgba(60, 64, 67, 0.3), 0px 1px 3px 1px rgba(60, 64, 67, 0.15);\n",
              "      fill: #174EA6;\n",
              "    }\n",
              "\n",
              "    [theme=dark] .colab-df-convert {\n",
              "      background-color: #3B4455;\n",
              "      fill: #D2E3FC;\n",
              "    }\n",
              "\n",
              "    [theme=dark] .colab-df-convert:hover {\n",
              "      background-color: #434B5C;\n",
              "      box-shadow: 0px 1px 3px 1px rgba(0, 0, 0, 0.15);\n",
              "      filter: drop-shadow(0px 1px 2px rgba(0, 0, 0, 0.3));\n",
              "      fill: #FFFFFF;\n",
              "    }\n",
              "  </style>\n",
              "\n",
              "      <script>\n",
              "        const buttonEl =\n",
              "          document.querySelector('#df-b8655706-9cd0-40ea-8d28-942455706b36 button.colab-df-convert');\n",
              "        buttonEl.style.display =\n",
              "          google.colab.kernel.accessAllowed ? 'block' : 'none';\n",
              "\n",
              "        async function convertToInteractive(key) {\n",
              "          const element = document.querySelector('#df-b8655706-9cd0-40ea-8d28-942455706b36');\n",
              "          const dataTable =\n",
              "            await google.colab.kernel.invokeFunction('convertToInteractive',\n",
              "                                                     [key], {});\n",
              "          if (!dataTable) return;\n",
              "\n",
              "          const docLinkHtml = 'Like what you see? Visit the ' +\n",
              "            '<a target=\"_blank\" href=https://colab.research.google.com/notebooks/data_table.ipynb>data table notebook</a>'\n",
              "            + ' to learn more about interactive tables.';\n",
              "          element.innerHTML = '';\n",
              "          dataTable['output_type'] = 'display_data';\n",
              "          await google.colab.output.renderOutput(dataTable, element);\n",
              "          const docLink = document.createElement('div');\n",
              "          docLink.innerHTML = docLinkHtml;\n",
              "          element.appendChild(docLink);\n",
              "        }\n",
              "      </script>\n",
              "    </div>\n",
              "  </div>\n",
              "  "
            ],
            "text/plain": [
              "         pred_1        pred_3        pred_5        pred_7       pred_15  \\\n",
              "0  45643.652344  44354.265625  42041.566406  40903.593750  39614.816406   \n",
              "1  44642.437500  44642.437500  42095.640625  40933.906250  39064.609375   \n",
              "2  44688.835938  44688.835938  41962.386719  40846.011719  38436.550781   \n",
              "3  41857.109375  41857.109375  41857.109375  40589.332031  38023.968750   \n",
              "4  41869.105469  41869.105469  41869.105469  40087.582031  37207.781250   \n",
              "5  39835.070312  39835.070312  39835.070312  39835.070312  36440.421875   \n",
              "6  39840.171875  39840.171875  39840.171875  39840.171875  35929.574219   \n",
              "\n",
              "   weighted_pred  \n",
              "0   43919.328125  \n",
              "1   43556.371094  \n",
              "2   43524.765625  \n",
              "3   41521.917969  \n",
              "4   41436.246094  \n",
              "5   39656.406250  \n",
              "6   39634.351562  "
            ]
          },
          "metadata": {},
          "execution_count": 79
        }
      ]
    },
    {
      "cell_type": "code",
      "source": [
        "fig=plt.figure(figsize=(20, 10))\n",
        "plt.axhline(y=df.iloc[-1:].Close.values, label = 'Last close price', color = \"r\", linestyle='--')\n",
        "plt.plot(preds.pred_1, '--.', label = 'Prices 1 days pred', color = \"b\")\n",
        "#plt.plot(preds.pred_3, '--.', label = 'Prices 3 days pred', color = \"g\")\n",
        "#plt.plot(preds.pred_5, '--.', label = 'Prices 5 days pred', color = \"brown\")\n",
        "plt.plot(preds.pred_7, '--.', label = 'Prices 7 days pred', color = \"m\")\n",
        "#plt.plot(preds.pred_15, '--.', label = 'Prices 15 days pred', color = \"y\")\n",
        "plt.plot(preds.weighted_pred.values, '-bo', label = 'Weighted prices', color = \"k\")\n",
        "plt.xlabel('dates')\n",
        "plt.ylabel('prices')\n",
        "plt.legend()\n",
        "plt.grid(True)\n",
        "plt.savefig('imagen.png', dpi = 200)\n",
        "plt.show()"
      ],
      "metadata": {
        "colab": {
          "base_uri": "https://localhost:8080/",
          "height": 530
        },
        "id": "4x3eg5uRUI-6",
        "outputId": "4a105d41-c4cd-4676-fd67-5287e28a0f11"
      },
      "execution_count": 80,
      "outputs": [
        {
          "output_type": "display_data",
          "data": {
            "image/png": "[encoded data removed]",
            "text/plain": [
              "<Figure size 1440x720 with 1 Axes>"
            ]
          },
          "metadata": {
            "needs_background": "light"
          }
        }
      ]
    }
  ]
}