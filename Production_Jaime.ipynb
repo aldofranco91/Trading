{
  "nbformat": 4,
  "nbformat_minor": 0,
  "metadata": {
    "colab": {
      "name": "Production_Jaime.ipynb",
      "provenance": [],
      "collapsed_sections": [],
      "machine_shape": "hm",
      "mount_file_id": "1RaFhj9WemiffT9uKpFw8Q6jJbjFQNKCM",
      "authorship_tag": "ABX9TyM8+mn6GO9ONfpNYyat0t6L",
      "include_colab_link": true
    },
    "kernelspec": {
      "name": "python3",
      "display_name": "Python 3"
    },
    "language_info": {
      "name": "python"
    },
    "accelerator": "GPU"
  },
  "cells": [
    {
      "cell_type": "markdown",
      "metadata": {
        "id": "view-in-github",
        "colab_type": "text"
      },
      "source": [
        "<a href=\"https://colab.research.google.com/github/aldofranco91/Trading/blob/main/Production_Jaime.ipynb\" target=\"_parent\"><img src=\"https://colab.research.google.com/assets/colab-badge.svg\" alt=\"Open In Colab\"/></a>"
      ]
    },
    {
      "cell_type": "code",
      "execution_count": 15,
      "metadata": {
        "colab": {
          "base_uri": "https://localhost:8080/"
        },
        "id": "gME2dnH9vVqh",
        "outputId": "9b058318-ca38-409c-cecf-7737cf79597f"
      },
      "outputs": [
        {
          "output_type": "stream",
          "name": "stdout",
          "text": [
            "Requirement already satisfied: yfinance in /usr/local/lib/python3.7/dist-packages (0.1.70)\n",
            "Requirement already satisfied: multitasking>=0.0.7 in /usr/local/lib/python3.7/dist-packages (from yfinance) (0.0.10)\n",
            "Requirement already satisfied: requests>=2.26 in /usr/local/lib/python3.7/dist-packages (from yfinance) (2.27.1)\n",
            "Requirement already satisfied: pandas>=0.24.0 in /usr/local/lib/python3.7/dist-packages (from yfinance) (1.3.5)\n",
            "Requirement already satisfied: lxml>=4.5.1 in /usr/local/lib/python3.7/dist-packages (from yfinance) (4.7.1)\n",
            "Requirement already satisfied: numpy>=1.15 in /usr/local/lib/python3.7/dist-packages (from yfinance) (1.19.5)\n",
            "Requirement already satisfied: python-dateutil>=2.7.3 in /usr/local/lib/python3.7/dist-packages (from pandas>=0.24.0->yfinance) (2.8.2)\n",
            "Requirement already satisfied: pytz>=2017.3 in /usr/local/lib/python3.7/dist-packages (from pandas>=0.24.0->yfinance) (2018.9)\n",
            "Requirement already satisfied: six>=1.5 in /usr/local/lib/python3.7/dist-packages (from python-dateutil>=2.7.3->pandas>=0.24.0->yfinance) (1.15.0)\n",
            "Requirement already satisfied: urllib3<1.27,>=1.21.1 in /usr/local/lib/python3.7/dist-packages (from requests>=2.26->yfinance) (1.24.3)\n",
            "Requirement already satisfied: idna<4,>=2.5 in /usr/local/lib/python3.7/dist-packages (from requests>=2.26->yfinance) (2.10)\n",
            "Requirement already satisfied: charset-normalizer~=2.0.0 in /usr/local/lib/python3.7/dist-packages (from requests>=2.26->yfinance) (2.0.11)\n",
            "Requirement already satisfied: certifi>=2017.4.17 in /usr/local/lib/python3.7/dist-packages (from requests>=2.26->yfinance) (2021.10.8)\n"
          ]
        }
      ],
      "source": [
        "!pip install yfinance"
      ]
    },
    {
      "cell_type": "code",
      "source": [
        "import pandas as pd\n",
        "import numpy as np\n",
        "import time\n",
        "# Viz\n",
        "import matplotlib.pyplot as plt # basic plotting\n",
        "import seaborn as sns # for prettier plots\n",
        "\n",
        "from pickle import load\n",
        "\n",
        "from IPython import display\n",
        "\n",
        "import tensorflow as tf\n",
        "\n",
        "from sklearn import metrics\n",
        "from scipy import stats\n",
        "\n",
        "import requests\n",
        "import json\n",
        "\n",
        "tf.test.gpu_device_name()"
      ],
      "metadata": {
        "colab": {
          "base_uri": "https://localhost:8080/",
          "height": 36
        },
        "id": "Ktx7e2Y4veO8",
        "outputId": "8bba3b3f-e35d-4435-af44-a1edc64fbf0a"
      },
      "execution_count": 16,
      "outputs": [
        {
          "output_type": "execute_result",
          "data": {
            "application/vnd.google.colaboratory.intrinsic+json": {
              "type": "string"
            },
            "text/plain": [
              "'/device:GPU:0'"
            ]
          },
          "metadata": {},
          "execution_count": 16
        }
      ]
    },
    {
      "cell_type": "code",
      "source": [
        "pd.set_option(\"display.max_columns\", None)\n",
        "\n",
        "import warnings\n",
        "warnings.filterwarnings('ignore')"
      ],
      "metadata": {
        "id": "Nz8cQDFuvmFj"
      },
      "execution_count": 17,
      "outputs": []
    },
    {
      "cell_type": "code",
      "source": [
        "import yfinance as yf\n",
        "import datetime as dt\n",
        "\n",
        "limit = 120\n",
        "end = dt.datetime.now()\n",
        "#end = dt.datetime.now() - dt.timedelta(days=1)\n",
        "start = end - dt.timedelta(days=(limit-1))\n",
        "\n",
        "df = yf.download('BTC-USD', start, end).drop('Adj Close', axis=1)\n",
        "df['date'] = pd.to_datetime(df.index)\n",
        "df"
      ],
      "metadata": {
        "colab": {
          "base_uri": "https://localhost:8080/",
          "height": 474
        },
        "id": "wlBsijUMvnva",
        "outputId": "cc2718a0-cfe1-4079-e557-7c3307df512f"
      },
      "execution_count": 18,
      "outputs": [
        {
          "output_type": "stream",
          "name": "stdout",
          "text": [
            "\r[*********************100%***********************]  1 of 1 completed\n"
          ]
        },
        {
          "output_type": "execute_result",
          "data": {
            "text/html": [
              "\n",
              "  <div id=\"df-19131848-9d94-43a4-bdbe-b08dd3af69b2\">\n",
              "    <div class=\"colab-df-container\">\n",
              "      <div>\n",
              "<style scoped>\n",
              "    .dataframe tbody tr th:only-of-type {\n",
              "        vertical-align: middle;\n",
              "    }\n",
              "\n",
              "    .dataframe tbody tr th {\n",
              "        vertical-align: top;\n",
              "    }\n",
              "\n",
              "    .dataframe thead th {\n",
              "        text-align: right;\n",
              "    }\n",
              "</style>\n",
              "<table border=\"1\" class=\"dataframe\">\n",
              "  <thead>\n",
              "    <tr style=\"text-align: right;\">\n",
              "      <th></th>\n",
              "      <th>Open</th>\n",
              "      <th>High</th>\n",
              "      <th>Low</th>\n",
              "      <th>Close</th>\n",
              "      <th>Volume</th>\n",
              "      <th>date</th>\n",
              "    </tr>\n",
              "    <tr>\n",
              "      <th>Date</th>\n",
              "      <th></th>\n",
              "      <th></th>\n",
              "      <th></th>\n",
              "      <th></th>\n",
              "      <th></th>\n",
              "      <th></th>\n",
              "    </tr>\n",
              "  </thead>\n",
              "  <tbody>\n",
              "    <tr>\n",
              "      <th>2021-10-13</th>\n",
              "      <td>56038.257812</td>\n",
              "      <td>57688.660156</td>\n",
              "      <td>54370.972656</td>\n",
              "      <td>57401.097656</td>\n",
              "      <td>41684252783</td>\n",
              "      <td>2021-10-13</td>\n",
              "    </tr>\n",
              "    <tr>\n",
              "      <th>2021-10-14</th>\n",
              "      <td>57372.832031</td>\n",
              "      <td>58478.734375</td>\n",
              "      <td>56957.074219</td>\n",
              "      <td>57321.523438</td>\n",
              "      <td>36615791366</td>\n",
              "      <td>2021-10-14</td>\n",
              "    </tr>\n",
              "    <tr>\n",
              "      <th>2021-10-15</th>\n",
              "      <td>57345.902344</td>\n",
              "      <td>62757.128906</td>\n",
              "      <td>56868.144531</td>\n",
              "      <td>61593.949219</td>\n",
              "      <td>51780081801</td>\n",
              "      <td>2021-10-15</td>\n",
              "    </tr>\n",
              "    <tr>\n",
              "      <th>2021-10-16</th>\n",
              "      <td>61609.527344</td>\n",
              "      <td>62274.476562</td>\n",
              "      <td>60206.121094</td>\n",
              "      <td>60892.179688</td>\n",
              "      <td>34250964237</td>\n",
              "      <td>2021-10-16</td>\n",
              "    </tr>\n",
              "    <tr>\n",
              "      <th>2021-10-17</th>\n",
              "      <td>60887.652344</td>\n",
              "      <td>61645.523438</td>\n",
              "      <td>59164.468750</td>\n",
              "      <td>61553.617188</td>\n",
              "      <td>29032367511</td>\n",
              "      <td>2021-10-17</td>\n",
              "    </tr>\n",
              "    <tr>\n",
              "      <th>...</th>\n",
              "      <td>...</td>\n",
              "      <td>...</td>\n",
              "      <td>...</td>\n",
              "      <td>...</td>\n",
              "      <td>...</td>\n",
              "      <td>...</td>\n",
              "    </tr>\n",
              "    <tr>\n",
              "      <th>2022-02-05</th>\n",
              "      <td>41501.480469</td>\n",
              "      <td>41847.164062</td>\n",
              "      <td>41038.097656</td>\n",
              "      <td>41441.164062</td>\n",
              "      <td>19652846215</td>\n",
              "      <td>2022-02-05</td>\n",
              "    </tr>\n",
              "    <tr>\n",
              "      <th>2022-02-06</th>\n",
              "      <td>41441.121094</td>\n",
              "      <td>42500.785156</td>\n",
              "      <td>41244.906250</td>\n",
              "      <td>42412.433594</td>\n",
              "      <td>16142097334</td>\n",
              "      <td>2022-02-06</td>\n",
              "    </tr>\n",
              "    <tr>\n",
              "      <th>2022-02-07</th>\n",
              "      <td>42406.781250</td>\n",
              "      <td>44401.863281</td>\n",
              "      <td>41748.156250</td>\n",
              "      <td>43840.285156</td>\n",
              "      <td>28641855926</td>\n",
              "      <td>2022-02-07</td>\n",
              "    </tr>\n",
              "    <tr>\n",
              "      <th>2022-02-08</th>\n",
              "      <td>43854.652344</td>\n",
              "      <td>45293.867188</td>\n",
              "      <td>42807.835938</td>\n",
              "      <td>44118.445312</td>\n",
              "      <td>33079398868</td>\n",
              "      <td>2022-02-08</td>\n",
              "    </tr>\n",
              "    <tr>\n",
              "      <th>2022-02-09</th>\n",
              "      <td>44053.984375</td>\n",
              "      <td>44690.375000</td>\n",
              "      <td>43249.785156</td>\n",
              "      <td>44690.375000</td>\n",
              "      <td>24046819328</td>\n",
              "      <td>2022-02-09</td>\n",
              "    </tr>\n",
              "  </tbody>\n",
              "</table>\n",
              "<p>120 rows × 6 columns</p>\n",
              "</div>\n",
              "      <button class=\"colab-df-convert\" onclick=\"convertToInteractive('df-19131848-9d94-43a4-bdbe-b08dd3af69b2')\"\n",
              "              title=\"Convert this dataframe to an interactive table.\"\n",
              "              style=\"display:none;\">\n",
              "        \n",
              "  <svg xmlns=\"http://www.w3.org/2000/svg\" height=\"24px\"viewBox=\"0 0 24 24\"\n",
              "       width=\"24px\">\n",
              "    <path d=\"M0 0h24v24H0V0z\" fill=\"none\"/>\n",
              "    <path d=\"M18.56 5.44l.94 2.06.94-2.06 2.06-.94-2.06-.94-.94-2.06-.94 2.06-2.06.94zm-11 1L8.5 8.5l.94-2.06 2.06-.94-2.06-.94L8.5 2.5l-.94 2.06-2.06.94zm10 10l.94 2.06.94-2.06 2.06-.94-2.06-.94-.94-2.06-.94 2.06-2.06.94z\"/><path d=\"M17.41 7.96l-1.37-1.37c-.4-.4-.92-.59-1.43-.59-.52 0-1.04.2-1.43.59L10.3 9.45l-7.72 7.72c-.78.78-.78 2.05 0 2.83L4 21.41c.39.39.9.59 1.41.59.51 0 1.02-.2 1.41-.59l7.78-7.78 2.81-2.81c.8-.78.8-2.07 0-2.86zM5.41 20L4 18.59l7.72-7.72 1.47 1.35L5.41 20z\"/>\n",
              "  </svg>\n",
              "      </button>\n",
              "      \n",
              "  <style>\n",
              "    .colab-df-container {\n",
              "      display:flex;\n",
              "      flex-wrap:wrap;\n",
              "      gap: 12px;\n",
              "    }\n",
              "\n",
              "    .colab-df-convert {\n",
              "      background-color: #E8F0FE;\n",
              "      border: none;\n",
              "      border-radius: 50%;\n",
              "      cursor: pointer;\n",
              "      display: none;\n",
              "      fill: #1967D2;\n",
              "      height: 32px;\n",
              "      padding: 0 0 0 0;\n",
              "      width: 32px;\n",
              "    }\n",
              "\n",
              "    .colab-df-convert:hover {\n",
              "      background-color: #E2EBFA;\n",
              "      box-shadow: 0px 1px 2px rgba(60, 64, 67, 0.3), 0px 1px 3px 1px rgba(60, 64, 67, 0.15);\n",
              "      fill: #174EA6;\n",
              "    }\n",
              "\n",
              "    [theme=dark] .colab-df-convert {\n",
              "      background-color: #3B4455;\n",
              "      fill: #D2E3FC;\n",
              "    }\n",
              "\n",
              "    [theme=dark] .colab-df-convert:hover {\n",
              "      background-color: #434B5C;\n",
              "      box-shadow: 0px 1px 3px 1px rgba(0, 0, 0, 0.15);\n",
              "      filter: drop-shadow(0px 1px 2px rgba(0, 0, 0, 0.3));\n",
              "      fill: #FFFFFF;\n",
              "    }\n",
              "  </style>\n",
              "\n",
              "      <script>\n",
              "        const buttonEl =\n",
              "          document.querySelector('#df-19131848-9d94-43a4-bdbe-b08dd3af69b2 button.colab-df-convert');\n",
              "        buttonEl.style.display =\n",
              "          google.colab.kernel.accessAllowed ? 'block' : 'none';\n",
              "\n",
              "        async function convertToInteractive(key) {\n",
              "          const element = document.querySelector('#df-19131848-9d94-43a4-bdbe-b08dd3af69b2');\n",
              "          const dataTable =\n",
              "            await google.colab.kernel.invokeFunction('convertToInteractive',\n",
              "                                                     [key], {});\n",
              "          if (!dataTable) return;\n",
              "\n",
              "          const docLinkHtml = 'Like what you see? Visit the ' +\n",
              "            '<a target=\"_blank\" href=https://colab.research.google.com/notebooks/data_table.ipynb>data table notebook</a>'\n",
              "            + ' to learn more about interactive tables.';\n",
              "          element.innerHTML = '';\n",
              "          dataTable['output_type'] = 'display_data';\n",
              "          await google.colab.output.renderOutput(dataTable, element);\n",
              "          const docLink = document.createElement('div');\n",
              "          docLink.innerHTML = docLinkHtml;\n",
              "          element.appendChild(docLink);\n",
              "        }\n",
              "      </script>\n",
              "    </div>\n",
              "  </div>\n",
              "  "
            ],
            "text/plain": [
              "                    Open          High           Low         Close  \\\n",
              "Date                                                                 \n",
              "2021-10-13  56038.257812  57688.660156  54370.972656  57401.097656   \n",
              "2021-10-14  57372.832031  58478.734375  56957.074219  57321.523438   \n",
              "2021-10-15  57345.902344  62757.128906  56868.144531  61593.949219   \n",
              "2021-10-16  61609.527344  62274.476562  60206.121094  60892.179688   \n",
              "2021-10-17  60887.652344  61645.523438  59164.468750  61553.617188   \n",
              "...                  ...           ...           ...           ...   \n",
              "2022-02-05  41501.480469  41847.164062  41038.097656  41441.164062   \n",
              "2022-02-06  41441.121094  42500.785156  41244.906250  42412.433594   \n",
              "2022-02-07  42406.781250  44401.863281  41748.156250  43840.285156   \n",
              "2022-02-08  43854.652344  45293.867188  42807.835938  44118.445312   \n",
              "2022-02-09  44053.984375  44690.375000  43249.785156  44690.375000   \n",
              "\n",
              "                 Volume       date  \n",
              "Date                                \n",
              "2021-10-13  41684252783 2021-10-13  \n",
              "2021-10-14  36615791366 2021-10-14  \n",
              "2021-10-15  51780081801 2021-10-15  \n",
              "2021-10-16  34250964237 2021-10-16  \n",
              "2021-10-17  29032367511 2021-10-17  \n",
              "...                 ...        ...  \n",
              "2022-02-05  19652846215 2022-02-05  \n",
              "2022-02-06  16142097334 2022-02-06  \n",
              "2022-02-07  28641855926 2022-02-07  \n",
              "2022-02-08  33079398868 2022-02-08  \n",
              "2022-02-09  24046819328 2022-02-09  \n",
              "\n",
              "[120 rows x 6 columns]"
            ]
          },
          "metadata": {},
          "execution_count": 18
        }
      ]
    },
    {
      "cell_type": "code",
      "source": [
        "response = requests.get(\"https://api.alternative.me/fng/?limit=\" + str(limit))\n",
        "fear = response.json()\n",
        "df_fear = pd.json_normalize(fear['data'])\n",
        "df_fear['date'] = pd.to_datetime(df_fear.timestamp, unit='s')\n",
        "df_fear = df_fear.set_index(df_fear['date'])\n",
        "df_fear = df_fear.sort_index().drop(['value_classification','timestamp', \n",
        "                                                   'time_until_update', 'date'], axis=1)\n",
        "\n",
        "df = df.join(df_fear, on='date')\n",
        "df = df.drop(['date'], axis=1)"
      ],
      "metadata": {
        "id": "ef51gz01AVn0"
      },
      "execution_count": 19,
      "outputs": []
    },
    {
      "cell_type": "code",
      "source": [
        "price = 'Close'\n",
        "\n",
        "# MovingAverage\n",
        "#https://towardsdatascience.com/building-a-comprehensive-set-of-technical-indicators-in-python-for-quantitative-trading-8d98751b5fb\n",
        "values_ma = range(2,30,2)\n",
        "for i in values_ma:\n",
        "    df[\"maclose\" + str(i)] = df[price].rolling(window=i).mean()\n",
        "\n",
        "# ExponentialMovingWindow\n",
        "values_ema = range(2,30,2)\n",
        "for i in values_ema:\n",
        "    df[\"ema\" + str(i)] = df[price].ewm(span = i, adjust = False).mean()\n",
        "\n",
        "# Wight Moving Average\n",
        "# https://predictivehacks.com/?all-tips=how-to-apply-a-rolling-weighted-moving-average-in-pandas\n",
        "weights = np.array([0.1, 0.2, 0.3, 0.4]) #Tienen que sumar 1 🙂\n",
        "df['wma'] = df[price].rolling(4).apply(lambda x: np.sum(weights*x))\n",
        "\n",
        "# RSI\n",
        "# https://stackoverflow.com/questions/20526414/relative-strength-index-in-python-pandas\n",
        "values_rsi = range(2,30,2)\n",
        "close = df[price]\n",
        "\n",
        "# Get the difference in price from previous step\n",
        "delta = close.diff()\n",
        "\n",
        "# Make the positive gains (up) and negative gains (down) Series\n",
        "up, down = delta.copy(), delta.copy()\n",
        "up[up < 0] = 0\n",
        "down[down > 0] = 0\n",
        "\n",
        "for i in values_rsi:\n",
        "    # Calculate the EWMA\n",
        "    roll_up1 = up.ewm(span=i).mean()\n",
        "    roll_down1 = down.abs().ewm(span=i).mean()\n",
        "\n",
        "    ## Calculate the RSI based on EWMA\n",
        "    RS1 = roll_up1 / roll_down1\n",
        "    RSI1 = 100.0 - (100.0 / (1.0 + RS1))\n",
        "\n",
        "    # Calculate the SMA\n",
        "    roll_up2 = up.rolling(i).mean()\n",
        "    roll_down2 = down.abs().rolling(i).mean()\n",
        "\n",
        "    # Calculate the RSI based on SMA\n",
        "    RS2 = roll_up2 / roll_down2\n",
        "    RSI2 = 100.0 - (100.0 / (1.0 + RS2))\n",
        "\n",
        "    df[\"rsiewma\" + str(i)] = RSI1.values\n",
        "    df[\"rsisma\" + str(i)]  = RSI2.values\n",
        "\n",
        "# BollingerBand\n",
        "values_bollinger = range(2,30,2)\n",
        "for i in values_bollinger:\n",
        "    df['bollingerupper' + str(i)] = df[price].rolling(window=i).mean() + (df[price].rolling(window=i).std() * 2)\n",
        "    df['bollingerlower' + str(i)] = df[price].rolling(window=i).mean() - (df[price].rolling(window=i).std() * 2)"
      ],
      "metadata": {
        "id": "jPRQV3gWxEyf"
      },
      "execution_count": 20,
      "outputs": []
    },
    {
      "cell_type": "code",
      "source": [
        "# Model 15 days\n",
        "days_pred = 15\n",
        "days_select = 60\n",
        "\n",
        "df_final = df.copy()\n",
        "df_final = df_final.iloc[-days_select:]\n",
        "df_rs = np.array(df_final)\n",
        "\n",
        "scaler = load(open('/content/drive/MyDrive/Trading/15_days/scaler.pkl', 'rb'))\n",
        "X = scaler.transform(df_rs)\n",
        "X = np.reshape(X, (1, days_select, 91))\n",
        "\n",
        "best_model = tf.keras.models.load_model('/content/drive/MyDrive/Trading/15_days/modelo_best.h5')\n",
        "pred_15 = best_model.predict(X, verbose=1)"
      ],
      "metadata": {
        "colab": {
          "base_uri": "https://localhost:8080/"
        },
        "id": "-fYgw_lHCBoB",
        "outputId": "dd5cf619-6b67-4b6e-f32d-81921d06236a"
      },
      "execution_count": 21,
      "outputs": [
        {
          "output_type": "stream",
          "name": "stdout",
          "text": [
            "WARNING:tensorflow:6 out of the last 6 calls to <function Model.make_predict_function.<locals>.predict_function at 0x7fedf63753b0> triggered tf.function retracing. Tracing is expensive and the excessive number of tracings could be due to (1) creating @tf.function repeatedly in a loop, (2) passing tensors with different shapes, (3) passing Python objects instead of tensors. For (1), please define your @tf.function outside of the loop. For (2), @tf.function has experimental_relax_shapes=True option that relaxes argument shapes that can avoid unnecessary retracing. For (3), please refer to https://www.tensorflow.org/guide/function#controlling_retracing and https://www.tensorflow.org/api_docs/python/tf/function for  more details.\n",
            "1/1 [==============================] - 3s 3s/step\n"
          ]
        }
      ]
    },
    {
      "cell_type": "code",
      "source": [
        "# Model 7 days\n",
        "days_pred = 7\n",
        "days_select = 30\n",
        "\n",
        "df_final = df.copy()\n",
        "df_final = df_final.iloc[-days_select:]\n",
        "df_rs = np.array(df_final)\n",
        "\n",
        "scaler = load(open('/content/drive/MyDrive/Trading/7_days/scaler.pkl', 'rb'))\n",
        "X = scaler.transform(df_rs)\n",
        "X = np.reshape(X, (1, days_select, 91))\n",
        "\n",
        "best_model = tf.keras.models.load_model('/content/drive/MyDrive/Trading/7_days/modelo_best.h5')\n",
        "pred_7 = best_model.predict(X, verbose=1)"
      ],
      "metadata": {
        "colab": {
          "base_uri": "https://localhost:8080/"
        },
        "id": "6nFMz9A4xQes",
        "outputId": "e1a9c3da-498d-4eb7-b0ea-18f79fb1aab4"
      },
      "execution_count": 22,
      "outputs": [
        {
          "output_type": "stream",
          "name": "stdout",
          "text": [
            "1/1 [==============================] - 3s 3s/step\n"
          ]
        }
      ]
    },
    {
      "cell_type": "code",
      "source": [
        "# Model 5 days\n",
        "days_pred = 5\n",
        "days_select = 22\n",
        "\n",
        "df_final = df.copy()\n",
        "df_final = df_final.iloc[-days_select:]\n",
        "df_rs = np.array(df_final)\n",
        "\n",
        "scaler = load(open('/content/drive/MyDrive/Trading/5_days/scaler.pkl', 'rb'))\n",
        "X = scaler.transform(df_rs)\n",
        "X = np.reshape(X, (1, days_select, 91))\n",
        "\n",
        "best_model = tf.keras.models.load_model('/content/drive/MyDrive/Trading/5_days/modelo_best.h5')\n",
        "pred_5 = best_model.predict(X, verbose=1)"
      ],
      "metadata": {
        "colab": {
          "base_uri": "https://localhost:8080/"
        },
        "id": "lxj98CGNCe6J",
        "outputId": "086ad49d-0a81-460d-dd51-13232a94d2dc"
      },
      "execution_count": 23,
      "outputs": [
        {
          "output_type": "stream",
          "name": "stdout",
          "text": [
            "1/1 [==============================] - 2s 2s/step\n"
          ]
        }
      ]
    },
    {
      "cell_type": "code",
      "source": [
        "# Model 3 days\n",
        "days_pred = 3\n",
        "days_select = 15\n",
        "\n",
        "df_final = df.copy()\n",
        "df_final = df_final.iloc[-days_select:]\n",
        "df_rs = np.array(df_final)\n",
        "\n",
        "scaler = load(open('/content/drive/MyDrive/Trading/3_days/scaler.pkl', 'rb'))\n",
        "X = scaler.transform(df_rs)\n",
        "X = np.reshape(X, (1, days_select, 91))\n",
        "\n",
        "best_model = tf.keras.models.load_model('/content/drive/MyDrive/Trading/3_days/modelo_best.h5')\n",
        "pred_3 = best_model.predict(X, verbose=1)"
      ],
      "metadata": {
        "colab": {
          "base_uri": "https://localhost:8080/"
        },
        "id": "3Q12b_1-VE2Y",
        "outputId": "1f05761f-d1f9-4712-e534-5433d55a93b1"
      },
      "execution_count": 24,
      "outputs": [
        {
          "output_type": "stream",
          "name": "stdout",
          "text": [
            "1/1 [==============================] - 2s 2s/step\n"
          ]
        }
      ]
    },
    {
      "cell_type": "code",
      "source": [
        "# Model 1 days\n",
        "days_pred = 1\n",
        "days_select = 7\n",
        "\n",
        "df_final = df.copy()\n",
        "df_final = df_final.iloc[-days_select:]\n",
        "df_rs = np.array(df_final)\n",
        "\n",
        "scaler = load(open('/content/drive/MyDrive/Trading/1_days/scaler.pkl', 'rb'))\n",
        "X = scaler.transform(df_rs)\n",
        "X = np.reshape(X, (1, days_select, 91))\n",
        "\n",
        "best_model = tf.keras.models.load_model('/content/drive/MyDrive/Trading/1_days/modelo_best.h5')\n",
        "pred_1 = best_model.predict(X, verbose=1)"
      ],
      "metadata": {
        "colab": {
          "base_uri": "https://localhost:8080/"
        },
        "id": "eK5NyLp2Cpfw",
        "outputId": "3f9bf09f-b014-4f8a-85bc-f9e3a95fcfe3"
      },
      "execution_count": 25,
      "outputs": [
        {
          "output_type": "stream",
          "name": "stdout",
          "text": [
            "1/1 [==============================] - 2s 2s/step\n"
          ]
        }
      ]
    },
    {
      "cell_type": "markdown",
      "source": [
        "Weighted 7 days prices (Fibonacci)"
      ],
      "metadata": {
        "id": "x9oJw3oDYrGw"
      }
    },
    {
      "cell_type": "code",
      "source": [
        "preds = {'pred_1': pd.Series(pred_1[0]),\n",
        "         'pred_3': pd.Series(pred_3[0]),\n",
        "         'pred_5': pd.Series(pred_5[0]),  \n",
        "         'pred_7': pd.Series(pred_7[0]),\n",
        "         'pred_15': pd.Series(pred_15[0])}\n",
        "preds = pd.DataFrame(preds)\n",
        "preds['pred_7'] = preds['pred_7'].fillna(preds.pred_15)\n",
        "preds['pred_5'] = preds['pred_5'].fillna(preds.pred_7)\n",
        "preds['pred_3'] = preds['pred_3'].fillna(preds.pred_5)\n",
        "preds['pred_1'] = preds['pred_1'].fillna(preds.pred_3)\n",
        "preds['weighted_pred'] = preds.pred_1*(8/19)+preds.pred_3*(5/19)+preds.pred_5*(3/19)+preds.pred_7*(2/19)+preds.pred_15*(1/19)\n",
        "preds = preds.iloc[:7]\n",
        "#preds"
      ],
      "metadata": {
        "id": "nBUncTXEa50c"
      },
      "execution_count": 29,
      "outputs": []
    },
    {
      "cell_type": "code",
      "source": [
        "data = {'date': [(end + dt.timedelta(days=x)).strftime(\"%Y-%m-%d\") for x in range(1,7+1)],\n",
        "        'weighted_pred': preds.weighted_pred\n",
        "        }\n",
        "final = pd.DataFrame(data).set_index('date')\n",
        "final.to_csv('/content/drive/MyDrive/Trading/preds/preds_' + end.strftime(\"%Y-%m-%d\") + '.csv')\n",
        "print('Todays price: ' + str(df.iloc[-1:].Close.values[0]))\n",
        "final"
      ],
      "metadata": {
        "colab": {
          "base_uri": "https://localhost:8080/",
          "height": 319
        },
        "id": "-6q0dmLW1IX0",
        "outputId": "5ebae0d6-92b1-4953-ec59-5d0e9471002d"
      },
      "execution_count": 35,
      "outputs": [
        {
          "output_type": "stream",
          "name": "stdout",
          "text": [
            "Todays price: 44690.375\n"
          ]
        },
        {
          "output_type": "execute_result",
          "data": {
            "text/html": [
              "\n",
              "  <div id=\"df-1f9b8d2c-d8ce-46ca-a7c7-8445918c3bcb\">\n",
              "    <div class=\"colab-df-container\">\n",
              "      <div>\n",
              "<style scoped>\n",
              "    .dataframe tbody tr th:only-of-type {\n",
              "        vertical-align: middle;\n",
              "    }\n",
              "\n",
              "    .dataframe tbody tr th {\n",
              "        vertical-align: top;\n",
              "    }\n",
              "\n",
              "    .dataframe thead th {\n",
              "        text-align: right;\n",
              "    }\n",
              "</style>\n",
              "<table border=\"1\" class=\"dataframe\">\n",
              "  <thead>\n",
              "    <tr style=\"text-align: right;\">\n",
              "      <th></th>\n",
              "      <th>weighted_pred</th>\n",
              "    </tr>\n",
              "    <tr>\n",
              "      <th>date</th>\n",
              "      <th></th>\n",
              "    </tr>\n",
              "  </thead>\n",
              "  <tbody>\n",
              "    <tr>\n",
              "      <th>2022-02-10</th>\n",
              "      <td>45978.609375</td>\n",
              "    </tr>\n",
              "    <tr>\n",
              "      <th>2022-02-11</th>\n",
              "      <td>44815.878906</td>\n",
              "    </tr>\n",
              "    <tr>\n",
              "      <th>2022-02-12</th>\n",
              "      <td>44722.746094</td>\n",
              "    </tr>\n",
              "    <tr>\n",
              "      <th>2022-02-13</th>\n",
              "      <td>42493.984375</td>\n",
              "    </tr>\n",
              "    <tr>\n",
              "      <th>2022-02-14</th>\n",
              "      <td>42432.410156</td>\n",
              "    </tr>\n",
              "    <tr>\n",
              "      <th>2022-02-15</th>\n",
              "      <td>40079.062500</td>\n",
              "    </tr>\n",
              "    <tr>\n",
              "      <th>2022-02-16</th>\n",
              "      <td>39903.781250</td>\n",
              "    </tr>\n",
              "  </tbody>\n",
              "</table>\n",
              "</div>\n",
              "      <button class=\"colab-df-convert\" onclick=\"convertToInteractive('df-1f9b8d2c-d8ce-46ca-a7c7-8445918c3bcb')\"\n",
              "              title=\"Convert this dataframe to an interactive table.\"\n",
              "              style=\"display:none;\">\n",
              "        \n",
              "  <svg xmlns=\"http://www.w3.org/2000/svg\" height=\"24px\"viewBox=\"0 0 24 24\"\n",
              "       width=\"24px\">\n",
              "    <path d=\"M0 0h24v24H0V0z\" fill=\"none\"/>\n",
              "    <path d=\"M18.56 5.44l.94 2.06.94-2.06 2.06-.94-2.06-.94-.94-2.06-.94 2.06-2.06.94zm-11 1L8.5 8.5l.94-2.06 2.06-.94-2.06-.94L8.5 2.5l-.94 2.06-2.06.94zm10 10l.94 2.06.94-2.06 2.06-.94-2.06-.94-.94-2.06-.94 2.06-2.06.94z\"/><path d=\"M17.41 7.96l-1.37-1.37c-.4-.4-.92-.59-1.43-.59-.52 0-1.04.2-1.43.59L10.3 9.45l-7.72 7.72c-.78.78-.78 2.05 0 2.83L4 21.41c.39.39.9.59 1.41.59.51 0 1.02-.2 1.41-.59l7.78-7.78 2.81-2.81c.8-.78.8-2.07 0-2.86zM5.41 20L4 18.59l7.72-7.72 1.47 1.35L5.41 20z\"/>\n",
              "  </svg>\n",
              "      </button>\n",
              "      \n",
              "  <style>\n",
              "    .colab-df-container {\n",
              "      display:flex;\n",
              "      flex-wrap:wrap;\n",
              "      gap: 12px;\n",
              "    }\n",
              "\n",
              "    .colab-df-convert {\n",
              "      background-color: #E8F0FE;\n",
              "      border: none;\n",
              "      border-radius: 50%;\n",
              "      cursor: pointer;\n",
              "      display: none;\n",
              "      fill: #1967D2;\n",
              "      height: 32px;\n",
              "      padding: 0 0 0 0;\n",
              "      width: 32px;\n",
              "    }\n",
              "\n",
              "    .colab-df-convert:hover {\n",
              "      background-color: #E2EBFA;\n",
              "      box-shadow: 0px 1px 2px rgba(60, 64, 67, 0.3), 0px 1px 3px 1px rgba(60, 64, 67, 0.15);\n",
              "      fill: #174EA6;\n",
              "    }\n",
              "\n",
              "    [theme=dark] .colab-df-convert {\n",
              "      background-color: #3B4455;\n",
              "      fill: #D2E3FC;\n",
              "    }\n",
              "\n",
              "    [theme=dark] .colab-df-convert:hover {\n",
              "      background-color: #434B5C;\n",
              "      box-shadow: 0px 1px 3px 1px rgba(0, 0, 0, 0.15);\n",
              "      filter: drop-shadow(0px 1px 2px rgba(0, 0, 0, 0.3));\n",
              "      fill: #FFFFFF;\n",
              "    }\n",
              "  </style>\n",
              "\n",
              "      <script>\n",
              "        const buttonEl =\n",
              "          document.querySelector('#df-1f9b8d2c-d8ce-46ca-a7c7-8445918c3bcb button.colab-df-convert');\n",
              "        buttonEl.style.display =\n",
              "          google.colab.kernel.accessAllowed ? 'block' : 'none';\n",
              "\n",
              "        async function convertToInteractive(key) {\n",
              "          const element = document.querySelector('#df-1f9b8d2c-d8ce-46ca-a7c7-8445918c3bcb');\n",
              "          const dataTable =\n",
              "            await google.colab.kernel.invokeFunction('convertToInteractive',\n",
              "                                                     [key], {});\n",
              "          if (!dataTable) return;\n",
              "\n",
              "          const docLinkHtml = 'Like what you see? Visit the ' +\n",
              "            '<a target=\"_blank\" href=https://colab.research.google.com/notebooks/data_table.ipynb>data table notebook</a>'\n",
              "            + ' to learn more about interactive tables.';\n",
              "          element.innerHTML = '';\n",
              "          dataTable['output_type'] = 'display_data';\n",
              "          await google.colab.output.renderOutput(dataTable, element);\n",
              "          const docLink = document.createElement('div');\n",
              "          docLink.innerHTML = docLinkHtml;\n",
              "          element.appendChild(docLink);\n",
              "        }\n",
              "      </script>\n",
              "    </div>\n",
              "  </div>\n",
              "  "
            ],
            "text/plain": [
              "            weighted_pred\n",
              "date                     \n",
              "2022-02-10   45978.609375\n",
              "2022-02-11   44815.878906\n",
              "2022-02-12   44722.746094\n",
              "2022-02-13   42493.984375\n",
              "2022-02-14   42432.410156\n",
              "2022-02-15   40079.062500\n",
              "2022-02-16   39903.781250"
            ]
          },
          "metadata": {},
          "execution_count": 35
        }
      ]
    },
    {
      "cell_type": "code",
      "source": [
        "fig=plt.figure(figsize=(20, 10))\n",
        "plt.axhline(y=df.iloc[-1:].Close.values[0], label = 'Last close price', color = \"r\", linestyle='--')\n",
        "plt.plot(preds.pred_1, '--.', label = 'Optimistic pred', color = \"b\")\n",
        "#plt.plot(preds.pred_3, '--.', label = 'Prices 3 days pred', color = \"g\")\n",
        "#plt.plot(preds.pred_5, '--.', label = 'Prices 5 days pred', color = \"brown\")\n",
        "plt.plot(preds.pred_7, '--.', label = 'Pesimistic pred', color = \"m\")\n",
        "#plt.plot(preds.pred_15, '--.', label = 'Prices 15 days pred', color = \"y\")\n",
        "plt.plot(preds.weighted_pred.values, '-bo', label = 'Weighted pred', color = \"k\")\n",
        "plt.xlabel('dates')\n",
        "plt.ylabel('prices')\n",
        "plt.legend()\n",
        "plt.grid(True)\n",
        "plt.savefig('imagen.png', dpi = 200)\n",
        "plt.show()"
      ],
      "metadata": {
        "colab": {
          "base_uri": "https://localhost:8080/",
          "height": 570
        },
        "id": "4x3eg5uRUI-6",
        "outputId": "2a59d414-8642-46ba-c122-424d2f252126"
      },
      "execution_count": 33,
      "outputs": [
        {
          "output_type": "display_data",
          "data": {
            "image/png": "[encoded data removed]",
            "text/plain": [
              "<Figure size 1440x720 with 1 Axes>"
            ]
          },
          "metadata": {
            "needs_background": "light"
          }
        }
      ]
    }
  ]
}