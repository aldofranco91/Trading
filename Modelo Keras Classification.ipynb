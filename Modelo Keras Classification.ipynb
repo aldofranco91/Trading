{
 "cells": [
  {
   "cell_type": "code",
   "execution_count": 108,
   "id": "78bb2ea5-2e9c-41e2-900a-e69bd1b035a2",
   "metadata": {},
   "outputs": [
    {
     "name": "stdout",
     "output_type": "stream",
     "text": [
      "Python version\n",
      "3.7.9 (tags/v3.7.9:13c94747c7, Aug 17 2020, 18:58:18) [MSC v.1900 64 bit (AMD64)]\n"
     ]
    }
   ],
   "source": [
    "%reset -f\n",
    "import sys\n",
    "print(\"Python version\")\n",
    "print(sys.version)"
   ]
  },
  {
   "cell_type": "code",
   "execution_count": 109,
   "id": "convenient-spouse",
   "metadata": {},
   "outputs": [],
   "source": [
    "import pandas as pd\n",
    "import numpy as np\n",
    "import matplotlib.pyplot as plt\n",
    "\n",
    "pd.set_option(\"display.max_columns\", None)"
   ]
  },
  {
   "cell_type": "code",
   "execution_count": 110,
   "id": "cb1b5f5c-3940-4a0e-8c49-16294c6c3daa",
   "metadata": {},
   "outputs": [],
   "source": [
    "#Coingecko api\n",
    "from pycoingecko import CoinGeckoAPI\n",
    "cg = CoinGeckoAPI()"
   ]
  },
  {
   "cell_type": "code",
   "execution_count": 111,
   "id": "fe5ece55-1a05-423b-a1b9-69eccf0697c3",
   "metadata": {},
   "outputs": [],
   "source": [
    "import time\n",
    "import datetime\n",
    "\n",
    "def edit_prices_dict(d): \n",
    "    df=pd.DataFrame(d)\n",
    "    #Saving dates\n",
    "    dates=df['prices'].map(lambda x: x[0])  \n",
    "    #Filtering the values without dates\n",
    "    df=df.applymap(lambda x: x[1])\n",
    "    df['dates']=dates \n",
    "    df[\"dates\"] = pd.to_datetime(df['dates'], unit='ms')\n",
    "    df.index = df[\"dates\"]\n",
    "    df=df[['prices','total_volumes']]\n",
    "    return df"
   ]
  },
  {
   "cell_type": "code",
   "execution_count": 133,
   "id": "c6db8b35-301d-441f-a9ce-40de42fd5935",
   "metadata": {},
   "outputs": [],
   "source": [
    "#dd/mm/yyyy\n",
    "from_date=\"01/01/2018\"\n",
    "to_date=\"25/11/2021\"\n",
    "from_unix = time.mktime(datetime.datetime.strptime(from_date, \"%d/%m/%Y\").timetuple())\n",
    "to_unix = time.mktime(datetime.datetime.strptime(to_date, \"%d/%m/%Y\").timetuple())\n",
    "\n",
    "token = \"bitcoin\"; vs_currency = \"usd\"\n",
    "\n",
    "response=cg.get_coin_market_chart_range_by_id(id = token, vs_currency = vs_currency, from_timestamp = from_unix, to_timestamp = to_unix)"
   ]
  },
  {
   "cell_type": "code",
   "execution_count": 134,
   "id": "2c7d4e07-3d10-48b5-9740-f5f156968026",
   "metadata": {},
   "outputs": [
    {
     "name": "stdout",
     "output_type": "stream",
     "text": [
      "(1424, 2)\n"
     ]
    },
    {
     "data": {
      "text/html": [
       "<div>\n",
       "<style scoped>\n",
       "    .dataframe tbody tr th:only-of-type {\n",
       "        vertical-align: middle;\n",
       "    }\n",
       "\n",
       "    .dataframe tbody tr th {\n",
       "        vertical-align: top;\n",
       "    }\n",
       "\n",
       "    .dataframe thead th {\n",
       "        text-align: right;\n",
       "    }\n",
       "</style>\n",
       "<table border=\"1\" class=\"dataframe\">\n",
       "  <thead>\n",
       "    <tr style=\"text-align: right;\">\n",
       "      <th></th>\n",
       "      <th>prices</th>\n",
       "      <th>total_volumes</th>\n",
       "    </tr>\n",
       "    <tr>\n",
       "      <th>dates</th>\n",
       "      <th></th>\n",
       "      <th></th>\n",
       "    </tr>\n",
       "  </thead>\n",
       "  <tbody>\n",
       "    <tr>\n",
       "      <th>2021-11-20</th>\n",
       "      <td>58459.255517</td>\n",
       "      <td>3.785126e+10</td>\n",
       "    </tr>\n",
       "    <tr>\n",
       "      <th>2021-11-21</th>\n",
       "      <td>60082.911668</td>\n",
       "      <td>2.967655e+10</td>\n",
       "    </tr>\n",
       "    <tr>\n",
       "      <th>2021-11-22</th>\n",
       "      <td>59139.779280</td>\n",
       "      <td>2.574343e+10</td>\n",
       "    </tr>\n",
       "    <tr>\n",
       "      <th>2021-11-23</th>\n",
       "      <td>56386.856853</td>\n",
       "      <td>3.400147e+10</td>\n",
       "    </tr>\n",
       "    <tr>\n",
       "      <th>2021-11-24</th>\n",
       "      <td>57748.793174</td>\n",
       "      <td>3.642119e+10</td>\n",
       "    </tr>\n",
       "  </tbody>\n",
       "</table>\n",
       "</div>"
      ],
      "text/plain": [
       "                  prices  total_volumes\n",
       "dates                                  \n",
       "2021-11-20  58459.255517   3.785126e+10\n",
       "2021-11-21  60082.911668   2.967655e+10\n",
       "2021-11-22  59139.779280   2.574343e+10\n",
       "2021-11-23  56386.856853   3.400147e+10\n",
       "2021-11-24  57748.793174   3.642119e+10"
      ]
     },
     "execution_count": 134,
     "metadata": {},
     "output_type": "execute_result"
    }
   ],
   "source": [
    "df = edit_prices_dict(response)\n",
    "print(df.shape)\n",
    "df.tail()"
   ]
  },
  {
   "cell_type": "code",
   "execution_count": 135,
   "id": "026aeb88-adae-451e-882b-38d3d690b48b",
   "metadata": {},
   "outputs": [
    {
     "data": {
      "image/png": "[encoded data removed]",
      "text/plain": [
       "<Figure size 1440x720 with 1 Axes>"
      ]
     },
     "metadata": {
      "needs_background": "light"
     },
     "output_type": "display_data"
    }
   ],
   "source": [
    "fig=plt.figure(figsize=(20, 10))\n",
    "plt.plot(df['prices'], '--o', label = 'Prices', alpha = 0.5)\n",
    "plt.title('From: ' + from_date + ' To: ' + to_date) \n",
    "plt.xlabel('dates')\n",
    "plt.ylabel('prices')\n",
    "plt.legend()\n",
    "plt.grid(True)"
   ]
  },
  {
   "cell_type": "code",
   "execution_count": 136,
   "id": "609ecd8a-4515-4843-8bf7-891045b04c21",
   "metadata": {},
   "outputs": [
    {
     "data": {
      "text/html": [
       "<div>\n",
       "<style scoped>\n",
       "    .dataframe tbody tr th:only-of-type {\n",
       "        vertical-align: middle;\n",
       "    }\n",
       "\n",
       "    .dataframe tbody tr th {\n",
       "        vertical-align: top;\n",
       "    }\n",
       "\n",
       "    .dataframe thead th {\n",
       "        text-align: right;\n",
       "    }\n",
       "</style>\n",
       "<table border=\"1\" class=\"dataframe\">\n",
       "  <thead>\n",
       "    <tr style=\"text-align: right;\">\n",
       "      <th></th>\n",
       "      <th>prices</th>\n",
       "      <th>total_volumes</th>\n",
       "      <th>y</th>\n",
       "    </tr>\n",
       "    <tr>\n",
       "      <th>dates</th>\n",
       "      <th></th>\n",
       "      <th></th>\n",
       "      <th></th>\n",
       "    </tr>\n",
       "  </thead>\n",
       "  <tbody>\n",
       "    <tr>\n",
       "      <th>2021-11-20</th>\n",
       "      <td>58459.255517</td>\n",
       "      <td>3.785126e+10</td>\n",
       "      <td>60082.911668</td>\n",
       "    </tr>\n",
       "    <tr>\n",
       "      <th>2021-11-21</th>\n",
       "      <td>60082.911668</td>\n",
       "      <td>2.967655e+10</td>\n",
       "      <td>59139.779280</td>\n",
       "    </tr>\n",
       "    <tr>\n",
       "      <th>2021-11-22</th>\n",
       "      <td>59139.779280</td>\n",
       "      <td>2.574343e+10</td>\n",
       "      <td>56386.856853</td>\n",
       "    </tr>\n",
       "    <tr>\n",
       "      <th>2021-11-23</th>\n",
       "      <td>56386.856853</td>\n",
       "      <td>3.400147e+10</td>\n",
       "      <td>57748.793174</td>\n",
       "    </tr>\n",
       "    <tr>\n",
       "      <th>2021-11-24</th>\n",
       "      <td>57748.793174</td>\n",
       "      <td>3.642119e+10</td>\n",
       "      <td>NaN</td>\n",
       "    </tr>\n",
       "  </tbody>\n",
       "</table>\n",
       "</div>"
      ],
      "text/plain": [
       "                  prices  total_volumes             y\n",
       "dates                                                \n",
       "2021-11-20  58459.255517   3.785126e+10  60082.911668\n",
       "2021-11-21  60082.911668   2.967655e+10  59139.779280\n",
       "2021-11-22  59139.779280   2.574343e+10  56386.856853\n",
       "2021-11-23  56386.856853   3.400147e+10  57748.793174\n",
       "2021-11-24  57748.793174   3.642119e+10           NaN"
      ]
     },
     "execution_count": 136,
     "metadata": {},
     "output_type": "execute_result"
    }
   ],
   "source": [
    "# Esto hay que hacerlo pues es con la info de hoy predecir mañana\n",
    "df[\"y\"] = df[\"prices\"].shift(-1)\n",
    "df.tail(5)"
   ]
  },
  {
   "cell_type": "markdown",
   "id": "341f693c-7eb8-4dae-872c-c29fee2639ee",
   "metadata": {},
   "source": [
    "#### Se calculan indicadores para ese día"
   ]
  },
  {
   "cell_type": "code",
   "execution_count": 137,
   "id": "bde69960-5b6a-45f5-8846-3f83a7e24d96",
   "metadata": {},
   "outputs": [],
   "source": [
    "#https://towardsdatascience.com/building-a-comprehensive-set-of-technical-indicators-in-python-for-quantitative-trading-8d98751b5fb\n",
    "# MovingAverage\n",
    "#values_ma = [5,15,30]\n",
    "#\n",
    "#for i in values_ma:\n",
    "#    df[\"ma_close_\" + str(i)] = df[\"close\"].rolling(window=i).mean()\n",
    "#    df[\"ma_volume_\" + str(i)] = df[\"volume\"].rolling(window=i).mean()\n",
    "\n",
    "# ExponentialMovingWindow\n",
    "values_ema = [5,15,30]\n",
    "\n",
    "for i in values_ema:\n",
    "    df[\"ema_\" + str(i)] = df[\"prices\"].ewm(span = i, adjust = False).mean()\n",
    "    \n",
    "# RSI https://stackoverflow.com/questions/20526414/relative-strength-index-in-python-pandas\n",
    "values_rsi = [7,14,21]\n",
    "close = df['prices']\n",
    "\n",
    "# Get the difference in price from previous step\n",
    "delta = close.diff()\n",
    "\n",
    "# Make the positive gains (up) and negative gains (down) Series\n",
    "up, down = delta.copy(), delta.copy()\n",
    "up[up < 0] = 0\n",
    "down[down > 0] = 0\n",
    "\n",
    "for i in values_rsi:\n",
    "    # Calculate the EWMA\n",
    "    #roll_up1 = up.ewm(span=i).mean()\n",
    "    #roll_down1 = down.abs().ewm(span=i).mean()\n",
    "\n",
    "    ## Calculate the RSI based on EWMA\n",
    "    #RS1 = roll_up1 / roll_down1\n",
    "    #RSI1 = 100.0 - (100.0 / (1.0 + RS1))\n",
    "\n",
    "    # Calculate the SMA\n",
    "    roll_up2 = up.rolling(i).mean()\n",
    "    roll_down2 = down.abs().rolling(i).mean()\n",
    "\n",
    "    # Calculate the RSI based on SMA\n",
    "    RS2 = roll_up2 / roll_down2\n",
    "    RSI2 = 100.0 - (100.0 / (1.0 + RS2))\n",
    "    \n",
    "    #df[\"rsi_ewma_\" + str(i)] = RSI1.values\n",
    "    df[\"rsi_sma_\" + str(i)]  = RSI2.values\n",
    "    \n",
    "# BollingerBand\n",
    "values_bollinger = [5,10,20]\n",
    "for i in values_bollinger:\n",
    "    df['bollinger_upper_' + str(i)] = df['prices'].rolling(window=i).mean() + (df['prices'].rolling(window=i).std()  * 2)\n",
    "    df['bollinger_lower_' + str(i)] = df['prices'].rolling(window=i).mean() - (df['prices'].rolling(window=i).std()  * 2)\n",
    "\n",
    "# Rate of change\n",
    "values_rc = [5,15,30]\n",
    "for i in values_rc:\n",
    "    df[\"rc_\" + str(i)] = df[\"prices\"].pct_change(periods = i)\n",
    "    \n",
    "# Stochastic Oscillators\n",
    "#values_so = [5,15,30]\n",
    "#for i in values_so:\n",
    "#    lowest = df[\"low\"].rolling(window = i).min()\n",
    "#    high = df[\"high\"].rolling(window = i).max()\n",
    "#    df[\"so_\" + str(i)] = ((df['close'] -lowest)/(high - lowest))*100\n",
    "#    df[\"so_%D\" + str(i)] = df[\"so_\" + str(i)].rolling(window = i).mean()"
   ]
  },
  {
   "cell_type": "code",
   "execution_count": 138,
   "id": "77e5c85c-ad77-4b93-999f-13bf33ff62d5",
   "metadata": {},
   "outputs": [],
   "source": [
    "# Get feature from dates\n",
    "#df['month'] = df.index.month.astype(str)\n",
    "#df['day'] = df.index.day\n",
    "#df['weekday'] = df.index.dayofweek.astype(str)\n",
    "#df['dayofyear'] = df.index.dayofyear"
   ]
  },
  {
   "cell_type": "code",
   "execution_count": 139,
   "id": "1689c358-3263-4419-ab5f-724b220bc6bd",
   "metadata": {},
   "outputs": [
    {
     "data": {
      "text/html": [
       "<div>\n",
       "<style scoped>\n",
       "    .dataframe tbody tr th:only-of-type {\n",
       "        vertical-align: middle;\n",
       "    }\n",
       "\n",
       "    .dataframe tbody tr th {\n",
       "        vertical-align: top;\n",
       "    }\n",
       "\n",
       "    .dataframe thead th {\n",
       "        text-align: right;\n",
       "    }\n",
       "</style>\n",
       "<table border=\"1\" class=\"dataframe\">\n",
       "  <thead>\n",
       "    <tr style=\"text-align: right;\">\n",
       "      <th></th>\n",
       "      <th>prices</th>\n",
       "      <th>total_volumes</th>\n",
       "      <th>y</th>\n",
       "      <th>ema_5</th>\n",
       "      <th>ema_15</th>\n",
       "      <th>ema_30</th>\n",
       "      <th>rsi_sma_7</th>\n",
       "      <th>rsi_sma_14</th>\n",
       "      <th>rsi_sma_21</th>\n",
       "      <th>bollinger_upper_5</th>\n",
       "      <th>bollinger_lower_5</th>\n",
       "      <th>bollinger_upper_10</th>\n",
       "      <th>bollinger_lower_10</th>\n",
       "      <th>bollinger_upper_20</th>\n",
       "      <th>bollinger_lower_20</th>\n",
       "      <th>rc_5</th>\n",
       "      <th>rc_15</th>\n",
       "      <th>rc_30</th>\n",
       "    </tr>\n",
       "    <tr>\n",
       "      <th>dates</th>\n",
       "      <th></th>\n",
       "      <th></th>\n",
       "      <th></th>\n",
       "      <th></th>\n",
       "      <th></th>\n",
       "      <th></th>\n",
       "      <th></th>\n",
       "      <th></th>\n",
       "      <th></th>\n",
       "      <th></th>\n",
       "      <th></th>\n",
       "      <th></th>\n",
       "      <th></th>\n",
       "      <th></th>\n",
       "      <th></th>\n",
       "      <th></th>\n",
       "      <th></th>\n",
       "      <th></th>\n",
       "    </tr>\n",
       "  </thead>\n",
       "  <tbody>\n",
       "    <tr>\n",
       "      <th>2020-04-15</th>\n",
       "      <td>6860.178536</td>\n",
       "      <td>3.383737e+10</td>\n",
       "      <td>6629.431738</td>\n",
       "      <td>6911.596846</td>\n",
       "      <td>6873.143144</td>\n",
       "      <td>6919.104764</td>\n",
       "      <td>26.939632</td>\n",
       "      <td>60.964798</td>\n",
       "      <td>51.878689</td>\n",
       "      <td>6920.70795</td>\n",
       "      <td>6829.032582</td>\n",
       "      <td>7475.523336</td>\n",
       "      <td>6583.196232</td>\n",
       "      <td>7505.588349</td>\n",
       "      <td>6043.725858</td>\n",
       "      <td>-0.05954</td>\n",
       "      <td>0.071377</td>\n",
       "      <td>0.27089</td>\n",
       "    </tr>\n",
       "  </tbody>\n",
       "</table>\n",
       "</div>"
      ],
      "text/plain": [
       "                 prices  total_volumes            y        ema_5       ema_15  \\\n",
       "dates                                                                           \n",
       "2020-04-15  6860.178536   3.383737e+10  6629.431738  6911.596846  6873.143144   \n",
       "\n",
       "                 ema_30  rsi_sma_7  rsi_sma_14  rsi_sma_21  bollinger_upper_5  \\\n",
       "dates                                                                           \n",
       "2020-04-15  6919.104764  26.939632   60.964798   51.878689         6920.70795   \n",
       "\n",
       "            bollinger_lower_5  bollinger_upper_10  bollinger_lower_10  \\\n",
       "dates                                                                   \n",
       "2020-04-15        6829.032582         7475.523336         6583.196232   \n",
       "\n",
       "            bollinger_upper_20  bollinger_lower_20     rc_5     rc_15    rc_30  \n",
       "dates                                                                           \n",
       "2020-04-15         7505.588349         6043.725858 -0.05954  0.071377  0.27089  "
      ]
     },
     "execution_count": 139,
     "metadata": {},
     "output_type": "execute_result"
    }
   ],
   "source": [
    "df.sample()"
   ]
  },
  {
   "cell_type": "code",
   "execution_count": 140,
   "id": "966cf95d-afce-451b-be21-d51043593cfc",
   "metadata": {},
   "outputs": [
    {
     "data": {
      "text/html": [
       "<div>\n",
       "<style scoped>\n",
       "    .dataframe tbody tr th:only-of-type {\n",
       "        vertical-align: middle;\n",
       "    }\n",
       "\n",
       "    .dataframe tbody tr th {\n",
       "        vertical-align: top;\n",
       "    }\n",
       "\n",
       "    .dataframe thead th {\n",
       "        text-align: right;\n",
       "    }\n",
       "</style>\n",
       "<table border=\"1\" class=\"dataframe\">\n",
       "  <thead>\n",
       "    <tr style=\"text-align: right;\">\n",
       "      <th></th>\n",
       "      <th>prices</th>\n",
       "      <th>total_volumes</th>\n",
       "      <th>y</th>\n",
       "      <th>ema_5</th>\n",
       "      <th>ema_15</th>\n",
       "      <th>ema_30</th>\n",
       "      <th>rsi_sma_7</th>\n",
       "      <th>rsi_sma_14</th>\n",
       "      <th>rsi_sma_21</th>\n",
       "      <th>bollinger_upper_5</th>\n",
       "      <th>bollinger_lower_5</th>\n",
       "      <th>bollinger_upper_10</th>\n",
       "      <th>bollinger_lower_10</th>\n",
       "      <th>bollinger_upper_20</th>\n",
       "      <th>bollinger_lower_20</th>\n",
       "      <th>rc_5</th>\n",
       "      <th>rc_15</th>\n",
       "      <th>rc_30</th>\n",
       "    </tr>\n",
       "    <tr>\n",
       "      <th>dates</th>\n",
       "      <th></th>\n",
       "      <th></th>\n",
       "      <th></th>\n",
       "      <th></th>\n",
       "      <th></th>\n",
       "      <th></th>\n",
       "      <th></th>\n",
       "      <th></th>\n",
       "      <th></th>\n",
       "      <th></th>\n",
       "      <th></th>\n",
       "      <th></th>\n",
       "      <th></th>\n",
       "      <th></th>\n",
       "      <th></th>\n",
       "      <th></th>\n",
       "      <th></th>\n",
       "      <th></th>\n",
       "    </tr>\n",
       "  </thead>\n",
       "  <tbody>\n",
       "    <tr>\n",
       "      <th>2021-11-21</th>\n",
       "      <td>60082.911668</td>\n",
       "      <td>2.967655e+10</td>\n",
       "      <td>-1.569718</td>\n",
       "      <td>59945.854855</td>\n",
       "      <td>61663.518176</td>\n",
       "      <td>61215.166452</td>\n",
       "      <td>32.470137</td>\n",
       "      <td>46.480606</td>\n",
       "      <td>46.830976</td>\n",
       "      <td>62428.520747</td>\n",
       "      <td>56204.162415</td>\n",
       "      <td>68164.288708</td>\n",
       "      <td>55888.221212</td>\n",
       "      <td>68312.642859</td>\n",
       "      <td>57212.326578</td>\n",
       "      <td>-0.060233</td>\n",
       "      <td>-0.019013</td>\n",
       "      <td>-0.039305</td>\n",
       "    </tr>\n",
       "    <tr>\n",
       "      <th>2021-11-22</th>\n",
       "      <td>59139.779280</td>\n",
       "      <td>2.574343e+10</td>\n",
       "      <td>-4.654942</td>\n",
       "      <td>59677.162996</td>\n",
       "      <td>61348.050814</td>\n",
       "      <td>61081.270505</td>\n",
       "      <td>24.984948</td>\n",
       "      <td>40.826921</td>\n",
       "      <td>45.873479</td>\n",
       "      <td>61899.286405</td>\n",
       "      <td>56209.883463</td>\n",
       "      <td>67431.660020</td>\n",
       "      <td>55447.676724</td>\n",
       "      <td>68404.389504</td>\n",
       "      <td>56922.374741</td>\n",
       "      <td>-0.021651</td>\n",
       "      <td>-0.040894</td>\n",
       "      <td>-0.030960</td>\n",
       "    </tr>\n",
       "    <tr>\n",
       "      <th>2021-11-23</th>\n",
       "      <td>56386.856853</td>\n",
       "      <td>3.400147e+10</td>\n",
       "      <td>2.415344</td>\n",
       "      <td>58580.394282</td>\n",
       "      <td>60727.901569</td>\n",
       "      <td>60778.405108</td>\n",
       "      <td>23.139259</td>\n",
       "      <td>22.154860</td>\n",
       "      <td>42.278309</td>\n",
       "      <td>61253.132433</td>\n",
       "      <td>55169.317830</td>\n",
       "      <td>66990.828351</td>\n",
       "      <td>54279.470173</td>\n",
       "      <td>68698.893162</td>\n",
       "      <td>55941.835872</td>\n",
       "      <td>-0.069580</td>\n",
       "      <td>-0.107142</td>\n",
       "      <td>-0.084215</td>\n",
       "    </tr>\n",
       "    <tr>\n",
       "      <th>2021-11-24</th>\n",
       "      <td>57748.793174</td>\n",
       "      <td>3.642119e+10</td>\n",
       "      <td>NaN</td>\n",
       "      <td>58303.193913</td>\n",
       "      <td>60355.513019</td>\n",
       "      <td>60582.946274</td>\n",
       "      <td>38.680219</td>\n",
       "      <td>27.686349</td>\n",
       "      <td>40.804333</td>\n",
       "      <td>61165.864340</td>\n",
       "      <td>55561.174256</td>\n",
       "      <td>65840.885540</td>\n",
       "      <td>54047.104549</td>\n",
       "      <td>68732.741026</td>\n",
       "      <td>55369.773090</td>\n",
       "      <td>0.013362</td>\n",
       "      <td>-0.145943</td>\n",
       "      <td>-0.055978</td>\n",
       "    </tr>\n",
       "  </tbody>\n",
       "</table>\n",
       "</div>"
      ],
      "text/plain": [
       "                  prices  total_volumes         y         ema_5        ema_15  \\\n",
       "dates                                                                           \n",
       "2021-11-21  60082.911668   2.967655e+10 -1.569718  59945.854855  61663.518176   \n",
       "2021-11-22  59139.779280   2.574343e+10 -4.654942  59677.162996  61348.050814   \n",
       "2021-11-23  56386.856853   3.400147e+10  2.415344  58580.394282  60727.901569   \n",
       "2021-11-24  57748.793174   3.642119e+10       NaN  58303.193913  60355.513019   \n",
       "\n",
       "                  ema_30  rsi_sma_7  rsi_sma_14  rsi_sma_21  \\\n",
       "dates                                                         \n",
       "2021-11-21  61215.166452  32.470137   46.480606   46.830976   \n",
       "2021-11-22  61081.270505  24.984948   40.826921   45.873479   \n",
       "2021-11-23  60778.405108  23.139259   22.154860   42.278309   \n",
       "2021-11-24  60582.946274  38.680219   27.686349   40.804333   \n",
       "\n",
       "            bollinger_upper_5  bollinger_lower_5  bollinger_upper_10  \\\n",
       "dates                                                                  \n",
       "2021-11-21       62428.520747       56204.162415        68164.288708   \n",
       "2021-11-22       61899.286405       56209.883463        67431.660020   \n",
       "2021-11-23       61253.132433       55169.317830        66990.828351   \n",
       "2021-11-24       61165.864340       55561.174256        65840.885540   \n",
       "\n",
       "            bollinger_lower_10  bollinger_upper_20  bollinger_lower_20  \\\n",
       "dates                                                                    \n",
       "2021-11-21        55888.221212        68312.642859        57212.326578   \n",
       "2021-11-22        55447.676724        68404.389504        56922.374741   \n",
       "2021-11-23        54279.470173        68698.893162        55941.835872   \n",
       "2021-11-24        54047.104549        68732.741026        55369.773090   \n",
       "\n",
       "                rc_5     rc_15     rc_30  \n",
       "dates                                     \n",
       "2021-11-21 -0.060233 -0.019013 -0.039305  \n",
       "2021-11-22 -0.021651 -0.040894 -0.030960  \n",
       "2021-11-23 -0.069580 -0.107142 -0.084215  \n",
       "2021-11-24  0.013362 -0.145943 -0.055978  "
      ]
     },
     "execution_count": 140,
     "metadata": {},
     "output_type": "execute_result"
    }
   ],
   "source": [
    "df[\"y\"] = 100*( (df[\"y\"] - df[\"prices\"])/df[\"prices\"])   \n",
    "df.tail(4)"
   ]
  },
  {
   "cell_type": "code",
   "execution_count": 141,
   "id": "3f8b00e2-d6d2-472d-9d0b-9bd882e67c03",
   "metadata": {},
   "outputs": [],
   "source": [
    "cota_max = 4\n",
    "cota_min = -4"
   ]
  },
  {
   "cell_type": "code",
   "execution_count": 142,
   "id": "9dcb6abe-734e-45c5-b1f3-29af7db65674",
   "metadata": {},
   "outputs": [
    {
     "data": {
      "image/png": "[encoded data removed]",
      "text/plain": [
       "<Figure size 720x360 with 1 Axes>"
      ]
     },
     "metadata": {
      "needs_background": "light"
     },
     "output_type": "display_data"
    }
   ],
   "source": [
    "fig=plt.figure(figsize=(10, 5))\n",
    "plt.plot(df['y'], 'b', label = 'Delta', alpha = 0.5)\n",
    "plt.hlines(cota_max, df.index.min(), df.index.max(), color='r', ls=':')\n",
    "plt.hlines(cota_min, df.index.min(), df.index.max(), color='r', ls=':')\n",
    "plt.grid(True)"
   ]
  },
  {
   "cell_type": "code",
   "execution_count": 143,
   "id": "bc8df6ca-b526-4ce3-9e16-c35222545083",
   "metadata": {},
   "outputs": [],
   "source": [
    "# 0: Vender\n",
    "# 1: Mantener\n",
    "# 2: Comprar\n",
    "\n",
    "df['y'] = [0 if x > cota_max else 2 if x < cota_min else 1 for x in df['y']]"
   ]
  },
  {
   "cell_type": "code",
   "execution_count": 144,
   "id": "4b224257-262d-4a9b-b7e7-fe2fb26ca626",
   "metadata": {},
   "outputs": [
    {
     "data": {
      "text/plain": [
       "1    1113\n",
       "0     165\n",
       "2     146\n",
       "Name: y, dtype: int64"
      ]
     },
     "execution_count": 144,
     "metadata": {},
     "output_type": "execute_result"
    }
   ],
   "source": [
    "df[\"y\"].value_counts()"
   ]
  },
  {
   "cell_type": "code",
   "execution_count": 145,
   "id": "26b59010-293c-4764-9530-7de902dfc34f",
   "metadata": {},
   "outputs": [
    {
     "name": "stdout",
     "output_type": "stream",
     "text": [
      "(1424, 18)\n"
     ]
    },
    {
     "data": {
      "text/html": [
       "<div>\n",
       "<style scoped>\n",
       "    .dataframe tbody tr th:only-of-type {\n",
       "        vertical-align: middle;\n",
       "    }\n",
       "\n",
       "    .dataframe tbody tr th {\n",
       "        vertical-align: top;\n",
       "    }\n",
       "\n",
       "    .dataframe thead th {\n",
       "        text-align: right;\n",
       "    }\n",
       "</style>\n",
       "<table border=\"1\" class=\"dataframe\">\n",
       "  <thead>\n",
       "    <tr style=\"text-align: right;\">\n",
       "      <th></th>\n",
       "      <th>prices</th>\n",
       "      <th>total_volumes</th>\n",
       "      <th>y</th>\n",
       "      <th>ema_5</th>\n",
       "      <th>ema_15</th>\n",
       "      <th>ema_30</th>\n",
       "      <th>rsi_sma_7</th>\n",
       "      <th>rsi_sma_14</th>\n",
       "      <th>rsi_sma_21</th>\n",
       "      <th>bollinger_upper_5</th>\n",
       "      <th>bollinger_lower_5</th>\n",
       "      <th>bollinger_upper_10</th>\n",
       "      <th>bollinger_lower_10</th>\n",
       "      <th>bollinger_upper_20</th>\n",
       "      <th>bollinger_lower_20</th>\n",
       "      <th>rc_5</th>\n",
       "      <th>rc_15</th>\n",
       "      <th>rc_30</th>\n",
       "    </tr>\n",
       "    <tr>\n",
       "      <th>dates</th>\n",
       "      <th></th>\n",
       "      <th></th>\n",
       "      <th></th>\n",
       "      <th></th>\n",
       "      <th></th>\n",
       "      <th></th>\n",
       "      <th></th>\n",
       "      <th></th>\n",
       "      <th></th>\n",
       "      <th></th>\n",
       "      <th></th>\n",
       "      <th></th>\n",
       "      <th></th>\n",
       "      <th></th>\n",
       "      <th></th>\n",
       "      <th></th>\n",
       "      <th></th>\n",
       "      <th></th>\n",
       "    </tr>\n",
       "  </thead>\n",
       "  <tbody>\n",
       "    <tr>\n",
       "      <th>2019-06-13</th>\n",
       "      <td>8145.059098</td>\n",
       "      <td>2.218153e+10</td>\n",
       "      <td>1</td>\n",
       "      <td>7989.916875</td>\n",
       "      <td>8017.987357</td>\n",
       "      <td>7775.816038</td>\n",
       "      <td>63.010107</td>\n",
       "      <td>42.29834</td>\n",
       "      <td>55.2115</td>\n",
       "      <td>8279.610379</td>\n",
       "      <td>7582.923009</td>\n",
       "      <td>8269.182728</td>\n",
       "      <td>7567.473953</td>\n",
       "      <td>8973.310873</td>\n",
       "      <td>7447.432161</td>\n",
       "      <td>0.013558</td>\n",
       "      <td>-0.06668</td>\n",
       "      <td>0.043438</td>\n",
       "    </tr>\n",
       "  </tbody>\n",
       "</table>\n",
       "</div>"
      ],
      "text/plain": [
       "                 prices  total_volumes  y        ema_5       ema_15  \\\n",
       "dates                                                                 \n",
       "2019-06-13  8145.059098   2.218153e+10  1  7989.916875  8017.987357   \n",
       "\n",
       "                 ema_30  rsi_sma_7  rsi_sma_14  rsi_sma_21  bollinger_upper_5  \\\n",
       "dates                                                                           \n",
       "2019-06-13  7775.816038  63.010107    42.29834     55.2115        8279.610379   \n",
       "\n",
       "            bollinger_lower_5  bollinger_upper_10  bollinger_lower_10  \\\n",
       "dates                                                                   \n",
       "2019-06-13        7582.923009         8269.182728         7567.473953   \n",
       "\n",
       "            bollinger_upper_20  bollinger_lower_20      rc_5    rc_15  \\\n",
       "dates                                                                   \n",
       "2019-06-13         8973.310873         7447.432161  0.013558 -0.06668   \n",
       "\n",
       "               rc_30  \n",
       "dates                 \n",
       "2019-06-13  0.043438  "
      ]
     },
     "execution_count": 145,
     "metadata": {},
     "output_type": "execute_result"
    }
   ],
   "source": [
    "print(df.shape)\n",
    "df.sample()"
   ]
  },
  {
   "cell_type": "code",
   "execution_count": 146,
   "id": "9e3815f4-2f06-4a7c-8774-8337c7960a8b",
   "metadata": {},
   "outputs": [
    {
     "name": "stdout",
     "output_type": "stream",
     "text": [
      "['prices', 'total_volumes', 'ema_5', 'ema_15', 'ema_30', 'rsi_sma_7', 'rsi_sma_14', 'rsi_sma_21', 'bollinger_upper_5', 'bollinger_lower_5', 'bollinger_upper_10', 'bollinger_lower_10', 'bollinger_upper_20', 'bollinger_lower_20', 'rc_5', 'rc_15', 'rc_30']\n"
     ]
    }
   ],
   "source": [
    "all_columns = list(df.columns)\n",
    "keep_columns = [item for item in all_columns if item not in \"y\"]\n",
    "print(keep_columns)"
   ]
  },
  {
   "cell_type": "code",
   "execution_count": 147,
   "id": "94cf5f49-98ed-41f6-ac5b-048566660a2f",
   "metadata": {},
   "outputs": [
    {
     "name": "stderr",
     "output_type": "stream",
     "text": [
      "C:\\Users\\AldoFranco\\AppData\\Roaming\\Python\\Python37\\site-packages\\ipykernel_launcher.py:6: PerformanceWarning: DataFrame is highly fragmented.  This is usually the result of calling `frame.insert` many times, which has poor performance.  Consider joining all columns at once using pd.concat(axis=1) instead.  To get a de-fragmented frame, use `newframe = frame.copy()`\n",
      "  \n"
     ]
    }
   ],
   "source": [
    "minus = 15 # Es el lag del pasado cuanto pillamos\n",
    "list_shift = list(range(1, minus))\n",
    "\n",
    "for i in list_shift:\n",
    "    for j in keep_columns:\n",
    "        df[str(j) + \"minus\" + str(i)] = df[str(j)].shift(i)"
   ]
  },
  {
   "cell_type": "code",
   "execution_count": 148,
   "id": "a02b2260-0663-4096-bd45-c233d3c2ff8e",
   "metadata": {},
   "outputs": [
    {
     "name": "stdout",
     "output_type": "stream",
     "text": [
      "Shape: (1424, 256)\n",
      "Shape: (1380, 256)\n"
     ]
    }
   ],
   "source": [
    "print(\"Shape: \" + str(df.shape))\n",
    "df.dropna(inplace = True)\n",
    "print(\"Shape: \" + str(df.shape))"
   ]
  },
  {
   "cell_type": "code",
   "execution_count": 149,
   "id": "f0c18db2-6924-49e8-99ee-a414d4763c59",
   "metadata": {},
   "outputs": [
    {
     "data": {
      "text/html": [
       "<div>\n",
       "<style scoped>\n",
       "    .dataframe tbody tr th:only-of-type {\n",
       "        vertical-align: middle;\n",
       "    }\n",
       "\n",
       "    .dataframe tbody tr th {\n",
       "        vertical-align: top;\n",
       "    }\n",
       "\n",
       "    .dataframe thead th {\n",
       "        text-align: right;\n",
       "    }\n",
       "</style>\n",
       "<table border=\"1\" class=\"dataframe\">\n",
       "  <thead>\n",
       "    <tr style=\"text-align: right;\">\n",
       "      <th></th>\n",
       "      <th>prices</th>\n",
       "      <th>total_volumes</th>\n",
       "      <th>y</th>\n",
       "      <th>ema_5</th>\n",
       "      <th>ema_15</th>\n",
       "      <th>ema_30</th>\n",
       "      <th>rsi_sma_7</th>\n",
       "      <th>rsi_sma_14</th>\n",
       "      <th>rsi_sma_21</th>\n",
       "      <th>bollinger_upper_5</th>\n",
       "      <th>bollinger_lower_5</th>\n",
       "      <th>bollinger_upper_10</th>\n",
       "      <th>bollinger_lower_10</th>\n",
       "      <th>bollinger_upper_20</th>\n",
       "      <th>bollinger_lower_20</th>\n",
       "      <th>rc_5</th>\n",
       "      <th>rc_15</th>\n",
       "      <th>rc_30</th>\n",
       "      <th>pricesminus1</th>\n",
       "      <th>total_volumesminus1</th>\n",
       "      <th>ema_5minus1</th>\n",
       "      <th>ema_15minus1</th>\n",
       "      <th>ema_30minus1</th>\n",
       "      <th>rsi_sma_7minus1</th>\n",
       "      <th>rsi_sma_14minus1</th>\n",
       "      <th>rsi_sma_21minus1</th>\n",
       "      <th>bollinger_upper_5minus1</th>\n",
       "      <th>bollinger_lower_5minus1</th>\n",
       "      <th>bollinger_upper_10minus1</th>\n",
       "      <th>bollinger_lower_10minus1</th>\n",
       "      <th>bollinger_upper_20minus1</th>\n",
       "      <th>bollinger_lower_20minus1</th>\n",
       "      <th>rc_5minus1</th>\n",
       "      <th>rc_15minus1</th>\n",
       "      <th>rc_30minus1</th>\n",
       "      <th>pricesminus2</th>\n",
       "      <th>total_volumesminus2</th>\n",
       "      <th>ema_5minus2</th>\n",
       "      <th>ema_15minus2</th>\n",
       "      <th>ema_30minus2</th>\n",
       "      <th>rsi_sma_7minus2</th>\n",
       "      <th>rsi_sma_14minus2</th>\n",
       "      <th>rsi_sma_21minus2</th>\n",
       "      <th>bollinger_upper_5minus2</th>\n",
       "      <th>bollinger_lower_5minus2</th>\n",
       "      <th>bollinger_upper_10minus2</th>\n",
       "      <th>bollinger_lower_10minus2</th>\n",
       "      <th>bollinger_upper_20minus2</th>\n",
       "      <th>bollinger_lower_20minus2</th>\n",
       "      <th>rc_5minus2</th>\n",
       "      <th>rc_15minus2</th>\n",
       "      <th>rc_30minus2</th>\n",
       "      <th>pricesminus3</th>\n",
       "      <th>total_volumesminus3</th>\n",
       "      <th>ema_5minus3</th>\n",
       "      <th>ema_15minus3</th>\n",
       "      <th>ema_30minus3</th>\n",
       "      <th>rsi_sma_7minus3</th>\n",
       "      <th>rsi_sma_14minus3</th>\n",
       "      <th>rsi_sma_21minus3</th>\n",
       "      <th>bollinger_upper_5minus3</th>\n",
       "      <th>bollinger_lower_5minus3</th>\n",
       "      <th>bollinger_upper_10minus3</th>\n",
       "      <th>bollinger_lower_10minus3</th>\n",
       "      <th>bollinger_upper_20minus3</th>\n",
       "      <th>bollinger_lower_20minus3</th>\n",
       "      <th>rc_5minus3</th>\n",
       "      <th>rc_15minus3</th>\n",
       "      <th>rc_30minus3</th>\n",
       "      <th>pricesminus4</th>\n",
       "      <th>total_volumesminus4</th>\n",
       "      <th>ema_5minus4</th>\n",
       "      <th>ema_15minus4</th>\n",
       "      <th>ema_30minus4</th>\n",
       "      <th>rsi_sma_7minus4</th>\n",
       "      <th>rsi_sma_14minus4</th>\n",
       "      <th>rsi_sma_21minus4</th>\n",
       "      <th>bollinger_upper_5minus4</th>\n",
       "      <th>bollinger_lower_5minus4</th>\n",
       "      <th>bollinger_upper_10minus4</th>\n",
       "      <th>bollinger_lower_10minus4</th>\n",
       "      <th>bollinger_upper_20minus4</th>\n",
       "      <th>bollinger_lower_20minus4</th>\n",
       "      <th>rc_5minus4</th>\n",
       "      <th>rc_15minus4</th>\n",
       "      <th>rc_30minus4</th>\n",
       "      <th>pricesminus5</th>\n",
       "      <th>total_volumesminus5</th>\n",
       "      <th>ema_5minus5</th>\n",
       "      <th>ema_15minus5</th>\n",
       "      <th>ema_30minus5</th>\n",
       "      <th>rsi_sma_7minus5</th>\n",
       "      <th>rsi_sma_14minus5</th>\n",
       "      <th>rsi_sma_21minus5</th>\n",
       "      <th>bollinger_upper_5minus5</th>\n",
       "      <th>bollinger_lower_5minus5</th>\n",
       "      <th>bollinger_upper_10minus5</th>\n",
       "      <th>bollinger_lower_10minus5</th>\n",
       "      <th>bollinger_upper_20minus5</th>\n",
       "      <th>bollinger_lower_20minus5</th>\n",
       "      <th>rc_5minus5</th>\n",
       "      <th>rc_15minus5</th>\n",
       "      <th>rc_30minus5</th>\n",
       "      <th>pricesminus6</th>\n",
       "      <th>total_volumesminus6</th>\n",
       "      <th>ema_5minus6</th>\n",
       "      <th>ema_15minus6</th>\n",
       "      <th>ema_30minus6</th>\n",
       "      <th>rsi_sma_7minus6</th>\n",
       "      <th>rsi_sma_14minus6</th>\n",
       "      <th>rsi_sma_21minus6</th>\n",
       "      <th>bollinger_upper_5minus6</th>\n",
       "      <th>bollinger_lower_5minus6</th>\n",
       "      <th>bollinger_upper_10minus6</th>\n",
       "      <th>bollinger_lower_10minus6</th>\n",
       "      <th>bollinger_upper_20minus6</th>\n",
       "      <th>bollinger_lower_20minus6</th>\n",
       "      <th>rc_5minus6</th>\n",
       "      <th>rc_15minus6</th>\n",
       "      <th>rc_30minus6</th>\n",
       "      <th>pricesminus7</th>\n",
       "      <th>total_volumesminus7</th>\n",
       "      <th>ema_5minus7</th>\n",
       "      <th>ema_15minus7</th>\n",
       "      <th>ema_30minus7</th>\n",
       "      <th>rsi_sma_7minus7</th>\n",
       "      <th>rsi_sma_14minus7</th>\n",
       "      <th>rsi_sma_21minus7</th>\n",
       "      <th>bollinger_upper_5minus7</th>\n",
       "      <th>bollinger_lower_5minus7</th>\n",
       "      <th>bollinger_upper_10minus7</th>\n",
       "      <th>bollinger_lower_10minus7</th>\n",
       "      <th>bollinger_upper_20minus7</th>\n",
       "      <th>bollinger_lower_20minus7</th>\n",
       "      <th>rc_5minus7</th>\n",
       "      <th>rc_15minus7</th>\n",
       "      <th>rc_30minus7</th>\n",
       "      <th>pricesminus8</th>\n",
       "      <th>total_volumesminus8</th>\n",
       "      <th>ema_5minus8</th>\n",
       "      <th>ema_15minus8</th>\n",
       "      <th>ema_30minus8</th>\n",
       "      <th>rsi_sma_7minus8</th>\n",
       "      <th>rsi_sma_14minus8</th>\n",
       "      <th>rsi_sma_21minus8</th>\n",
       "      <th>bollinger_upper_5minus8</th>\n",
       "      <th>bollinger_lower_5minus8</th>\n",
       "      <th>bollinger_upper_10minus8</th>\n",
       "      <th>bollinger_lower_10minus8</th>\n",
       "      <th>bollinger_upper_20minus8</th>\n",
       "      <th>bollinger_lower_20minus8</th>\n",
       "      <th>rc_5minus8</th>\n",
       "      <th>rc_15minus8</th>\n",
       "      <th>rc_30minus8</th>\n",
       "      <th>pricesminus9</th>\n",
       "      <th>total_volumesminus9</th>\n",
       "      <th>ema_5minus9</th>\n",
       "      <th>ema_15minus9</th>\n",
       "      <th>ema_30minus9</th>\n",
       "      <th>rsi_sma_7minus9</th>\n",
       "      <th>rsi_sma_14minus9</th>\n",
       "      <th>rsi_sma_21minus9</th>\n",
       "      <th>bollinger_upper_5minus9</th>\n",
       "      <th>bollinger_lower_5minus9</th>\n",
       "      <th>bollinger_upper_10minus9</th>\n",
       "      <th>bollinger_lower_10minus9</th>\n",
       "      <th>bollinger_upper_20minus9</th>\n",
       "      <th>bollinger_lower_20minus9</th>\n",
       "      <th>rc_5minus9</th>\n",
       "      <th>rc_15minus9</th>\n",
       "      <th>rc_30minus9</th>\n",
       "      <th>pricesminus10</th>\n",
       "      <th>total_volumesminus10</th>\n",
       "      <th>ema_5minus10</th>\n",
       "      <th>ema_15minus10</th>\n",
       "      <th>ema_30minus10</th>\n",
       "      <th>rsi_sma_7minus10</th>\n",
       "      <th>rsi_sma_14minus10</th>\n",
       "      <th>rsi_sma_21minus10</th>\n",
       "      <th>bollinger_upper_5minus10</th>\n",
       "      <th>bollinger_lower_5minus10</th>\n",
       "      <th>bollinger_upper_10minus10</th>\n",
       "      <th>bollinger_lower_10minus10</th>\n",
       "      <th>bollinger_upper_20minus10</th>\n",
       "      <th>bollinger_lower_20minus10</th>\n",
       "      <th>rc_5minus10</th>\n",
       "      <th>rc_15minus10</th>\n",
       "      <th>rc_30minus10</th>\n",
       "      <th>pricesminus11</th>\n",
       "      <th>total_volumesminus11</th>\n",
       "      <th>ema_5minus11</th>\n",
       "      <th>ema_15minus11</th>\n",
       "      <th>ema_30minus11</th>\n",
       "      <th>rsi_sma_7minus11</th>\n",
       "      <th>rsi_sma_14minus11</th>\n",
       "      <th>rsi_sma_21minus11</th>\n",
       "      <th>bollinger_upper_5minus11</th>\n",
       "      <th>bollinger_lower_5minus11</th>\n",
       "      <th>bollinger_upper_10minus11</th>\n",
       "      <th>bollinger_lower_10minus11</th>\n",
       "      <th>bollinger_upper_20minus11</th>\n",
       "      <th>bollinger_lower_20minus11</th>\n",
       "      <th>rc_5minus11</th>\n",
       "      <th>rc_15minus11</th>\n",
       "      <th>rc_30minus11</th>\n",
       "      <th>pricesminus12</th>\n",
       "      <th>total_volumesminus12</th>\n",
       "      <th>ema_5minus12</th>\n",
       "      <th>ema_15minus12</th>\n",
       "      <th>ema_30minus12</th>\n",
       "      <th>rsi_sma_7minus12</th>\n",
       "      <th>rsi_sma_14minus12</th>\n",
       "      <th>rsi_sma_21minus12</th>\n",
       "      <th>bollinger_upper_5minus12</th>\n",
       "      <th>bollinger_lower_5minus12</th>\n",
       "      <th>bollinger_upper_10minus12</th>\n",
       "      <th>bollinger_lower_10minus12</th>\n",
       "      <th>bollinger_upper_20minus12</th>\n",
       "      <th>bollinger_lower_20minus12</th>\n",
       "      <th>rc_5minus12</th>\n",
       "      <th>rc_15minus12</th>\n",
       "      <th>rc_30minus12</th>\n",
       "      <th>pricesminus13</th>\n",
       "      <th>total_volumesminus13</th>\n",
       "      <th>ema_5minus13</th>\n",
       "      <th>ema_15minus13</th>\n",
       "      <th>ema_30minus13</th>\n",
       "      <th>rsi_sma_7minus13</th>\n",
       "      <th>rsi_sma_14minus13</th>\n",
       "      <th>rsi_sma_21minus13</th>\n",
       "      <th>bollinger_upper_5minus13</th>\n",
       "      <th>bollinger_lower_5minus13</th>\n",
       "      <th>bollinger_upper_10minus13</th>\n",
       "      <th>bollinger_lower_10minus13</th>\n",
       "      <th>bollinger_upper_20minus13</th>\n",
       "      <th>bollinger_lower_20minus13</th>\n",
       "      <th>rc_5minus13</th>\n",
       "      <th>rc_15minus13</th>\n",
       "      <th>rc_30minus13</th>\n",
       "      <th>pricesminus14</th>\n",
       "      <th>total_volumesminus14</th>\n",
       "      <th>ema_5minus14</th>\n",
       "      <th>ema_15minus14</th>\n",
       "      <th>ema_30minus14</th>\n",
       "      <th>rsi_sma_7minus14</th>\n",
       "      <th>rsi_sma_14minus14</th>\n",
       "      <th>rsi_sma_21minus14</th>\n",
       "      <th>bollinger_upper_5minus14</th>\n",
       "      <th>bollinger_lower_5minus14</th>\n",
       "      <th>bollinger_upper_10minus14</th>\n",
       "      <th>bollinger_lower_10minus14</th>\n",
       "      <th>bollinger_upper_20minus14</th>\n",
       "      <th>bollinger_lower_20minus14</th>\n",
       "      <th>rc_5minus14</th>\n",
       "      <th>rc_15minus14</th>\n",
       "      <th>rc_30minus14</th>\n",
       "    </tr>\n",
       "    <tr>\n",
       "      <th>dates</th>\n",
       "      <th></th>\n",
       "      <th></th>\n",
       "      <th></th>\n",
       "      <th></th>\n",
       "      <th></th>\n",
       "      <th></th>\n",
       "      <th></th>\n",
       "      <th></th>\n",
       "      <th></th>\n",
       "      <th></th>\n",
       "      <th></th>\n",
       "      <th></th>\n",
       "      <th></th>\n",
       "      <th></th>\n",
       "      <th></th>\n",
       "      <th></th>\n",
       "      <th></th>\n",
       "      <th></th>\n",
       "      <th></th>\n",
       "      <th></th>\n",
       "      <th></th>\n",
       "      <th></th>\n",
       "      <th></th>\n",
       "      <th></th>\n",
       "      <th></th>\n",
       "      <th></th>\n",
       "      <th></th>\n",
       "      <th></th>\n",
       "      <th></th>\n",
       "      <th></th>\n",
       "      <th></th>\n",
       "      <th></th>\n",
       "      <th></th>\n",
       "      <th></th>\n",
       "      <th></th>\n",
       "      <th></th>\n",
       "      <th></th>\n",
       "      <th></th>\n",
       "      <th></th>\n",
       "      <th></th>\n",
       "      <th></th>\n",
       "      <th></th>\n",
       "      <th></th>\n",
       "      <th></th>\n",
       "      <th></th>\n",
       "      <th></th>\n",
       "      <th></th>\n",
       "      <th></th>\n",
       "      <th></th>\n",
       "      <th></th>\n",
       "      <th></th>\n",
       "      <th></th>\n",
       "      <th></th>\n",
       "      <th></th>\n",
       "      <th></th>\n",
       "      <th></th>\n",
       "      <th></th>\n",
       "      <th></th>\n",
       "      <th></th>\n",
       "      <th></th>\n",
       "      <th></th>\n",
       "      <th></th>\n",
       "      <th></th>\n",
       "      <th></th>\n",
       "      <th></th>\n",
       "      <th></th>\n",
       "      <th></th>\n",
       "      <th></th>\n",
       "      <th></th>\n",
       "      <th></th>\n",
       "      <th></th>\n",
       "      <th></th>\n",
       "      <th></th>\n",
       "      <th></th>\n",
       "      <th></th>\n",
       "      <th></th>\n",
       "      <th></th>\n",
       "      <th></th>\n",
       "      <th></th>\n",
       "      <th></th>\n",
       "      <th></th>\n",
       "      <th></th>\n",
       "      <th></th>\n",
       "      <th></th>\n",
       "      <th></th>\n",
       "      <th></th>\n",
       "      <th></th>\n",
       "      <th></th>\n",
       "      <th></th>\n",
       "      <th></th>\n",
       "      <th></th>\n",
       "      <th></th>\n",
       "      <th></th>\n",
       "      <th></th>\n",
       "      <th></th>\n",
       "      <th></th>\n",
       "      <th></th>\n",
       "      <th></th>\n",
       "      <th></th>\n",
       "      <th></th>\n",
       "      <th></th>\n",
       "      <th></th>\n",
       "      <th></th>\n",
       "      <th></th>\n",
       "      <th></th>\n",
       "      <th></th>\n",
       "      <th></th>\n",
       "      <th></th>\n",
       "      <th></th>\n",
       "      <th></th>\n",
       "      <th></th>\n",
       "      <th></th>\n",
       "      <th></th>\n",
       "      <th></th>\n",
       "      <th></th>\n",
       "      <th></th>\n",
       "      <th></th>\n",
       "      <th></th>\n",
       "      <th></th>\n",
       "      <th></th>\n",
       "      <th></th>\n",
       "      <th></th>\n",
       "      <th></th>\n",
       "      <th></th>\n",
       "      <th></th>\n",
       "      <th></th>\n",
       "      <th></th>\n",
       "      <th></th>\n",
       "      <th></th>\n",
       "      <th></th>\n",
       "      <th></th>\n",
       "      <th></th>\n",
       "      <th></th>\n",
       "      <th></th>\n",
       "      <th></th>\n",
       "      <th></th>\n",
       "      <th></th>\n",
       "      <th></th>\n",
       "      <th></th>\n",
       "      <th></th>\n",
       "      <th></th>\n",
       "      <th></th>\n",
       "      <th></th>\n",
       "      <th></th>\n",
       "      <th></th>\n",
       "      <th></th>\n",
       "      <th></th>\n",
       "      <th></th>\n",
       "      <th></th>\n",
       "      <th></th>\n",
       "      <th></th>\n",
       "      <th></th>\n",
       "      <th></th>\n",
       "      <th></th>\n",
       "      <th></th>\n",
       "      <th></th>\n",
       "      <th></th>\n",
       "      <th></th>\n",
       "      <th></th>\n",
       "      <th></th>\n",
       "      <th></th>\n",
       "      <th></th>\n",
       "      <th></th>\n",
       "      <th></th>\n",
       "      <th></th>\n",
       "      <th></th>\n",
       "      <th></th>\n",
       "      <th></th>\n",
       "      <th></th>\n",
       "      <th></th>\n",
       "      <th></th>\n",
       "      <th></th>\n",
       "      <th></th>\n",
       "      <th></th>\n",
       "      <th></th>\n",
       "      <th></th>\n",
       "      <th></th>\n",
       "      <th></th>\n",
       "      <th></th>\n",
       "      <th></th>\n",
       "      <th></th>\n",
       "      <th></th>\n",
       "      <th></th>\n",
       "      <th></th>\n",
       "      <th></th>\n",
       "      <th></th>\n",
       "      <th></th>\n",
       "      <th></th>\n",
       "      <th></th>\n",
       "      <th></th>\n",
       "      <th></th>\n",
       "      <th></th>\n",
       "      <th></th>\n",
       "      <th></th>\n",
       "      <th></th>\n",
       "      <th></th>\n",
       "      <th></th>\n",
       "      <th></th>\n",
       "      <th></th>\n",
       "      <th></th>\n",
       "      <th></th>\n",
       "      <th></th>\n",
       "      <th></th>\n",
       "      <th></th>\n",
       "      <th></th>\n",
       "      <th></th>\n",
       "      <th></th>\n",
       "      <th></th>\n",
       "      <th></th>\n",
       "      <th></th>\n",
       "      <th></th>\n",
       "      <th></th>\n",
       "      <th></th>\n",
       "      <th></th>\n",
       "      <th></th>\n",
       "      <th></th>\n",
       "      <th></th>\n",
       "      <th></th>\n",
       "      <th></th>\n",
       "      <th></th>\n",
       "      <th></th>\n",
       "      <th></th>\n",
       "      <th></th>\n",
       "      <th></th>\n",
       "      <th></th>\n",
       "      <th></th>\n",
       "      <th></th>\n",
       "      <th></th>\n",
       "      <th></th>\n",
       "      <th></th>\n",
       "      <th></th>\n",
       "      <th></th>\n",
       "      <th></th>\n",
       "      <th></th>\n",
       "      <th></th>\n",
       "      <th></th>\n",
       "      <th></th>\n",
       "      <th></th>\n",
       "      <th></th>\n",
       "      <th></th>\n",
       "      <th></th>\n",
       "      <th></th>\n",
       "      <th></th>\n",
       "      <th></th>\n",
       "      <th></th>\n",
       "      <th></th>\n",
       "      <th></th>\n",
       "      <th></th>\n",
       "      <th></th>\n",
       "      <th></th>\n",
       "      <th></th>\n",
       "      <th></th>\n",
       "      <th></th>\n",
       "      <th></th>\n",
       "      <th></th>\n",
       "      <th></th>\n",
       "    </tr>\n",
       "  </thead>\n",
       "  <tbody>\n",
       "    <tr>\n",
       "      <th>2021-11-23</th>\n",
       "      <td>56386.856853</td>\n",
       "      <td>3.400147e+10</td>\n",
       "      <td>1</td>\n",
       "      <td>58580.394282</td>\n",
       "      <td>60727.901569</td>\n",
       "      <td>60778.405108</td>\n",
       "      <td>23.139259</td>\n",
       "      <td>22.154860</td>\n",
       "      <td>42.278309</td>\n",
       "      <td>61253.132433</td>\n",
       "      <td>55169.317830</td>\n",
       "      <td>66990.828351</td>\n",
       "      <td>54279.470173</td>\n",
       "      <td>68698.893162</td>\n",
       "      <td>55941.835872</td>\n",
       "      <td>-0.069580</td>\n",
       "      <td>-0.107142</td>\n",
       "      <td>-0.084215</td>\n",
       "      <td>59139.779280</td>\n",
       "      <td>2.574343e+10</td>\n",
       "      <td>59677.162996</td>\n",
       "      <td>61348.050814</td>\n",
       "      <td>61081.270505</td>\n",
       "      <td>24.984948</td>\n",
       "      <td>40.826921</td>\n",
       "      <td>45.873479</td>\n",
       "      <td>61899.286405</td>\n",
       "      <td>56209.883463</td>\n",
       "      <td>67431.660020</td>\n",
       "      <td>55447.676724</td>\n",
       "      <td>68404.389504</td>\n",
       "      <td>56922.374741</td>\n",
       "      <td>-0.021651</td>\n",
       "      <td>-0.040894</td>\n",
       "      <td>-0.030960</td>\n",
       "      <td>60082.911668</td>\n",
       "      <td>2.967655e+10</td>\n",
       "      <td>59945.854855</td>\n",
       "      <td>61663.518176</td>\n",
       "      <td>61215.166452</td>\n",
       "      <td>32.470137</td>\n",
       "      <td>46.480606</td>\n",
       "      <td>46.830976</td>\n",
       "      <td>62428.520747</td>\n",
       "      <td>56204.162415</td>\n",
       "      <td>68164.288708</td>\n",
       "      <td>55888.221212</td>\n",
       "      <td>68312.642859</td>\n",
       "      <td>57212.326578</td>\n",
       "      <td>-0.060233</td>\n",
       "      <td>-0.019013</td>\n",
       "      <td>-0.039305</td>\n",
       "      <td>58459.255517</td>\n",
       "      <td>3.785126e+10</td>\n",
       "      <td>59877.326448</td>\n",
       "      <td>61889.319105</td>\n",
       "      <td>61293.252988</td>\n",
       "      <td>24.389231</td>\n",
       "      <td>43.428966</td>\n",
       "      <td>42.785524</td>\n",
       "      <td>65326.121381</td>\n",
       "      <td>54846.931290</td>\n",
       "      <td>68768.178108</td>\n",
       "      <td>56279.960359</td>\n",
       "      <td>68274.635672</td>\n",
       "      <td>57389.229444</td>\n",
       "      <td>-0.109518</td>\n",
       "      <td>-0.051013</td>\n",
       "      <td>-0.117430</td>\n",
       "      <td>56987.322339</td>\n",
       "      <td>4.182852e+10</td>\n",
       "      <td>60586.361913</td>\n",
       "      <td>62379.328189</td>\n",
       "      <td>61488.701090</td>\n",
       "      <td>12.748338</td>\n",
       "      <td>38.520043</td>\n",
       "      <td>42.879731</td>\n",
       "      <td>68263.001108</td>\n",
       "      <td>54785.940473</td>\n",
       "      <td>69539.546825</td>\n",
       "      <td>57245.815525</td>\n",
       "      <td>68068.955131</td>\n",
       "      <td>57932.710134</td>\n",
       "      <td>-0.118666</td>\n",
       "      <td>-0.097316</td>\n",
       "      <td>-0.116717</td>\n",
       "      <td>60603.655867</td>\n",
       "      <td>3.920073e+10</td>\n",
       "      <td>62385.881700</td>\n",
       "      <td>63149.614740</td>\n",
       "      <td>61799.141004</td>\n",
       "      <td>19.052054</td>\n",
       "      <td>42.983889</td>\n",
       "      <td>53.916567</td>\n",
       "      <td>67842.450399</td>\n",
       "      <td>58275.696387</td>\n",
       "      <td>69194.672675</td>\n",
       "      <td>59716.628317</td>\n",
       "      <td>67494.804271</td>\n",
       "      <td>59036.448566</td>\n",
       "      <td>-0.059418</td>\n",
       "      <td>-0.041797</td>\n",
       "      <td>-0.022805</td>\n",
       "      <td>60448.562513</td>\n",
       "      <td>4.897840e+10</td>\n",
       "      <td>63276.994617</td>\n",
       "      <td>63513.32315</td>\n",
       "      <td>61881.588255</td>\n",
       "      <td>13.327933</td>\n",
       "      <td>42.213770</td>\n",
       "      <td>49.710343</td>\n",
       "      <td>67800.347651</td>\n",
       "      <td>59849.155968</td>\n",
       "      <td>68751.490579</td>\n",
       "      <td>60669.725278</td>\n",
       "      <td>67481.863002</td>\n",
       "      <td>59065.779833</td>\n",
       "      <td>-0.070103</td>\n",
       "      <td>-0.011015</td>\n",
       "      <td>-0.018434</td>\n",
       "      <td>63933.835443</td>\n",
       "      <td>3.210721e+10</td>\n",
       "      <td>64691.210669</td>\n",
       "      <td>63951.146098</td>\n",
       "      <td>61980.417616</td>\n",
       "      <td>19.894097</td>\n",
       "      <td>58.463839</td>\n",
       "      <td>51.356826</td>\n",
       "      <td>66019.841499</td>\n",
       "      <td>63452.495178</td>\n",
       "      <td>68342.218382</td>\n",
       "      <td>61321.556705</td>\n",
       "      <td>67712.385041</td>\n",
       "      <td>58654.501691</td>\n",
       "      <td>-0.017326</td>\n",
       "      <td>0.040050</td>\n",
       "      <td>0.045257</td>\n",
       "      <td>65648.977791</td>\n",
       "      <td>2.608845e+10</td>\n",
       "      <td>65069.898282</td>\n",
       "      <td>63953.619049</td>\n",
       "      <td>61845.699145</td>\n",
       "      <td>64.075326</td>\n",
       "      <td>63.698344</td>\n",
       "      <td>58.495402</td>\n",
       "      <td>65886.547343</td>\n",
       "      <td>64036.676920</td>\n",
       "      <td>68729.024295</td>\n",
       "      <td>60397.460692</td>\n",
       "      <td>67672.775137</td>\n",
       "      <td>58361.146939</td>\n",
       "      <td>-0.022286</td>\n",
       "      <td>0.061641</td>\n",
       "      <td>0.062126</td>\n",
       "      <td>64660.335353</td>\n",
       "      <td>2.967769e+10</td>\n",
       "      <td>64780.358528</td>\n",
       "      <td>63711.424943</td>\n",
       "      <td>61583.404066</td>\n",
       "      <td>66.004936</td>\n",
       "      <td>59.652531</td>\n",
       "      <td>55.995823</td>\n",
       "      <td>67429.765161</td>\n",
       "      <td>63092.017959</td>\n",
       "      <td>68630.632904</td>\n",
       "      <td>59686.405240</td>\n",
       "      <td>67386.567713</td>\n",
       "      <td>58405.277967</td>\n",
       "      <td>-0.043727</td>\n",
       "      <td>0.038167</td>\n",
       "      <td>0.125459</td>\n",
       "      <td>64432.047947</td>\n",
       "      <td>3.687263e+10</td>\n",
       "      <td>64840.370115</td>\n",
       "      <td>63575.866313</td>\n",
       "      <td>61371.201909</td>\n",
       "      <td>66.665604</td>\n",
       "      <td>57.239491</td>\n",
       "      <td>56.526866</td>\n",
       "      <td>68706.395361</td>\n",
       "      <td>62998.059836</td>\n",
       "      <td>68505.937526</td>\n",
       "      <td>59505.222017</td>\n",
       "      <td>67194.517141</td>\n",
       "      <td>58248.611642</td>\n",
       "      <td>0.020249</td>\n",
       "      <td>0.060303</td>\n",
       "      <td>0.120792</td>\n",
       "      <td>65005.645160</td>\n",
       "      <td>3.545758e+10</td>\n",
       "      <td>65044.531199</td>\n",
       "      <td>63453.554651</td>\n",
       "      <td>61160.109078</td>\n",
       "      <td>68.231229</td>\n",
       "      <td>63.425941</td>\n",
       "      <td>54.563036</td>\n",
       "      <td>69214.042713</td>\n",
       "      <td>61978.885382</td>\n",
       "      <td>68399.922613</td>\n",
       "      <td>59374.269133</td>\n",
       "      <td>67003.883107</td>\n",
       "      <td>58153.254925</td>\n",
       "      <td>0.054236</td>\n",
       "      <td>0.108536</td>\n",
       "      <td>0.153911</td>\n",
       "      <td>65061.054407</td>\n",
       "      <td>4.864856e+10</td>\n",
       "      <td>65063.974219</td>\n",
       "      <td>63231.827435</td>\n",
       "      <td>60894.899693</td>\n",
       "      <td>58.928141</td>\n",
       "      <td>67.978953</td>\n",
       "      <td>48.080604</td>\n",
       "      <td>70025.254480</td>\n",
       "      <td>59829.959017</td>\n",
       "      <td>68246.099571</td>\n",
       "      <td>58751.329383</td>\n",
       "      <td>66702.035791</td>\n",
       "      <td>58057.464818</td>\n",
       "      <td>0.062267</td>\n",
       "      <td>0.073541</td>\n",
       "      <td>0.130072</td>\n",
       "      <td>67145.374935</td>\n",
       "      <td>4.120791e+10</td>\n",
       "      <td>65065.434126</td>\n",
       "      <td>62970.509296</td>\n",
       "      <td>60607.578679</td>\n",
       "      <td>72.045719</td>\n",
       "      <td>68.443308</td>\n",
       "      <td>54.338723</td>\n",
       "      <td>70214.949029</td>\n",
       "      <td>58114.796682</td>\n",
       "      <td>67904.887460</td>\n",
       "      <td>58374.704306</td>\n",
       "      <td>66389.840782</td>\n",
       "      <td>58117.663080</td>\n",
       "      <td>0.089991</td>\n",
       "      <td>0.061953</td>\n",
       "      <td>0.227254</td>\n",
       "      <td>67617.015545</td>\n",
       "      <td>1.054263e+11</td>\n",
       "      <td>64025.463721</td>\n",
       "      <td>62374.099919</td>\n",
       "      <td>60156.696178</td>\n",
       "      <td>80.944679</td>\n",
       "      <td>61.035121</td>\n",
       "      <td>58.664488</td>\n",
       "      <td>68361.171658</td>\n",
       "      <td>57751.121508</td>\n",
       "      <td>66491.884054</td>\n",
       "      <td>58726.084125</td>\n",
       "      <td>66132.925409</td>\n",
       "      <td>58283.792714</td>\n",
       "      <td>0.071060</td>\n",
       "      <td>0.105338</td>\n",
       "      <td>0.226602</td>\n",
       "    </tr>\n",
       "    <tr>\n",
       "      <th>2021-11-24</th>\n",
       "      <td>57748.793174</td>\n",
       "      <td>3.642119e+10</td>\n",
       "      <td>1</td>\n",
       "      <td>58303.193913</td>\n",
       "      <td>60355.513019</td>\n",
       "      <td>60582.946274</td>\n",
       "      <td>38.680219</td>\n",
       "      <td>27.686349</td>\n",
       "      <td>40.804333</td>\n",
       "      <td>61165.864340</td>\n",
       "      <td>55561.174256</td>\n",
       "      <td>65840.885540</td>\n",
       "      <td>54047.104549</td>\n",
       "      <td>68732.741026</td>\n",
       "      <td>55369.773090</td>\n",
       "      <td>0.013362</td>\n",
       "      <td>-0.145943</td>\n",
       "      <td>-0.055978</td>\n",
       "      <td>56386.856853</td>\n",
       "      <td>3.400147e+10</td>\n",
       "      <td>58580.394282</td>\n",
       "      <td>60727.901569</td>\n",
       "      <td>60778.405108</td>\n",
       "      <td>23.139259</td>\n",
       "      <td>22.154860</td>\n",
       "      <td>42.278309</td>\n",
       "      <td>61253.132433</td>\n",
       "      <td>55169.317830</td>\n",
       "      <td>66990.828351</td>\n",
       "      <td>54279.470173</td>\n",
       "      <td>68698.893162</td>\n",
       "      <td>55941.835872</td>\n",
       "      <td>-0.069580</td>\n",
       "      <td>-0.107142</td>\n",
       "      <td>-0.084215</td>\n",
       "      <td>59139.779280</td>\n",
       "      <td>2.574343e+10</td>\n",
       "      <td>59677.162996</td>\n",
       "      <td>61348.050814</td>\n",
       "      <td>61081.270505</td>\n",
       "      <td>24.984948</td>\n",
       "      <td>40.826921</td>\n",
       "      <td>45.873479</td>\n",
       "      <td>61899.286405</td>\n",
       "      <td>56209.883463</td>\n",
       "      <td>67431.660020</td>\n",
       "      <td>55447.676724</td>\n",
       "      <td>68404.389504</td>\n",
       "      <td>56922.374741</td>\n",
       "      <td>-0.021651</td>\n",
       "      <td>-0.040894</td>\n",
       "      <td>-0.030960</td>\n",
       "      <td>60082.911668</td>\n",
       "      <td>2.967655e+10</td>\n",
       "      <td>59945.854855</td>\n",
       "      <td>61663.518176</td>\n",
       "      <td>61215.166452</td>\n",
       "      <td>32.470137</td>\n",
       "      <td>46.480606</td>\n",
       "      <td>46.830976</td>\n",
       "      <td>62428.520747</td>\n",
       "      <td>56204.162415</td>\n",
       "      <td>68164.288708</td>\n",
       "      <td>55888.221212</td>\n",
       "      <td>68312.642859</td>\n",
       "      <td>57212.326578</td>\n",
       "      <td>-0.060233</td>\n",
       "      <td>-0.019013</td>\n",
       "      <td>-0.039305</td>\n",
       "      <td>58459.255517</td>\n",
       "      <td>3.785126e+10</td>\n",
       "      <td>59877.326448</td>\n",
       "      <td>61889.319105</td>\n",
       "      <td>61293.252988</td>\n",
       "      <td>24.389231</td>\n",
       "      <td>43.428966</td>\n",
       "      <td>42.785524</td>\n",
       "      <td>65326.121381</td>\n",
       "      <td>54846.931290</td>\n",
       "      <td>68768.178108</td>\n",
       "      <td>56279.960359</td>\n",
       "      <td>68274.635672</td>\n",
       "      <td>57389.229444</td>\n",
       "      <td>-0.109518</td>\n",
       "      <td>-0.051013</td>\n",
       "      <td>-0.117430</td>\n",
       "      <td>56987.322339</td>\n",
       "      <td>4.182852e+10</td>\n",
       "      <td>60586.361913</td>\n",
       "      <td>62379.328189</td>\n",
       "      <td>61488.701090</td>\n",
       "      <td>12.748338</td>\n",
       "      <td>38.520043</td>\n",
       "      <td>42.879731</td>\n",
       "      <td>68263.001108</td>\n",
       "      <td>54785.940473</td>\n",
       "      <td>69539.546825</td>\n",
       "      <td>57245.815525</td>\n",
       "      <td>68068.955131</td>\n",
       "      <td>57932.710134</td>\n",
       "      <td>-0.118666</td>\n",
       "      <td>-0.097316</td>\n",
       "      <td>-0.116717</td>\n",
       "      <td>60603.655867</td>\n",
       "      <td>3.920073e+10</td>\n",
       "      <td>62385.881700</td>\n",
       "      <td>63149.61474</td>\n",
       "      <td>61799.141004</td>\n",
       "      <td>19.052054</td>\n",
       "      <td>42.983889</td>\n",
       "      <td>53.916567</td>\n",
       "      <td>67842.450399</td>\n",
       "      <td>58275.696387</td>\n",
       "      <td>69194.672675</td>\n",
       "      <td>59716.628317</td>\n",
       "      <td>67494.804271</td>\n",
       "      <td>59036.448566</td>\n",
       "      <td>-0.059418</td>\n",
       "      <td>-0.041797</td>\n",
       "      <td>-0.022805</td>\n",
       "      <td>60448.562513</td>\n",
       "      <td>4.897840e+10</td>\n",
       "      <td>63276.994617</td>\n",
       "      <td>63513.323150</td>\n",
       "      <td>61881.588255</td>\n",
       "      <td>13.327933</td>\n",
       "      <td>42.213770</td>\n",
       "      <td>49.710343</td>\n",
       "      <td>67800.347651</td>\n",
       "      <td>59849.155968</td>\n",
       "      <td>68751.490579</td>\n",
       "      <td>60669.725278</td>\n",
       "      <td>67481.863002</td>\n",
       "      <td>59065.779833</td>\n",
       "      <td>-0.070103</td>\n",
       "      <td>-0.011015</td>\n",
       "      <td>-0.018434</td>\n",
       "      <td>63933.835443</td>\n",
       "      <td>3.210721e+10</td>\n",
       "      <td>64691.210669</td>\n",
       "      <td>63951.146098</td>\n",
       "      <td>61980.417616</td>\n",
       "      <td>19.894097</td>\n",
       "      <td>58.463839</td>\n",
       "      <td>51.356826</td>\n",
       "      <td>66019.841499</td>\n",
       "      <td>63452.495178</td>\n",
       "      <td>68342.218382</td>\n",
       "      <td>61321.556705</td>\n",
       "      <td>67712.385041</td>\n",
       "      <td>58654.501691</td>\n",
       "      <td>-0.017326</td>\n",
       "      <td>0.040050</td>\n",
       "      <td>0.045257</td>\n",
       "      <td>65648.977791</td>\n",
       "      <td>2.608845e+10</td>\n",
       "      <td>65069.898282</td>\n",
       "      <td>63953.619049</td>\n",
       "      <td>61845.699145</td>\n",
       "      <td>64.075326</td>\n",
       "      <td>63.698344</td>\n",
       "      <td>58.495402</td>\n",
       "      <td>65886.547343</td>\n",
       "      <td>64036.676920</td>\n",
       "      <td>68729.024295</td>\n",
       "      <td>60397.460692</td>\n",
       "      <td>67672.775137</td>\n",
       "      <td>58361.146939</td>\n",
       "      <td>-0.022286</td>\n",
       "      <td>0.061641</td>\n",
       "      <td>0.062126</td>\n",
       "      <td>64660.335353</td>\n",
       "      <td>2.967769e+10</td>\n",
       "      <td>64780.358528</td>\n",
       "      <td>63711.424943</td>\n",
       "      <td>61583.404066</td>\n",
       "      <td>66.004936</td>\n",
       "      <td>59.652531</td>\n",
       "      <td>55.995823</td>\n",
       "      <td>67429.765161</td>\n",
       "      <td>63092.017959</td>\n",
       "      <td>68630.632904</td>\n",
       "      <td>59686.405240</td>\n",
       "      <td>67386.567713</td>\n",
       "      <td>58405.277967</td>\n",
       "      <td>-0.043727</td>\n",
       "      <td>0.038167</td>\n",
       "      <td>0.125459</td>\n",
       "      <td>64432.047947</td>\n",
       "      <td>3.687263e+10</td>\n",
       "      <td>64840.370115</td>\n",
       "      <td>63575.866313</td>\n",
       "      <td>61371.201909</td>\n",
       "      <td>66.665604</td>\n",
       "      <td>57.239491</td>\n",
       "      <td>56.526866</td>\n",
       "      <td>68706.395361</td>\n",
       "      <td>62998.059836</td>\n",
       "      <td>68505.937526</td>\n",
       "      <td>59505.222017</td>\n",
       "      <td>67194.517141</td>\n",
       "      <td>58248.611642</td>\n",
       "      <td>0.020249</td>\n",
       "      <td>0.060303</td>\n",
       "      <td>0.120792</td>\n",
       "      <td>65005.645160</td>\n",
       "      <td>3.545758e+10</td>\n",
       "      <td>65044.531199</td>\n",
       "      <td>63453.554651</td>\n",
       "      <td>61160.109078</td>\n",
       "      <td>68.231229</td>\n",
       "      <td>63.425941</td>\n",
       "      <td>54.563036</td>\n",
       "      <td>69214.042713</td>\n",
       "      <td>61978.885382</td>\n",
       "      <td>68399.922613</td>\n",
       "      <td>59374.269133</td>\n",
       "      <td>67003.883107</td>\n",
       "      <td>58153.254925</td>\n",
       "      <td>0.054236</td>\n",
       "      <td>0.108536</td>\n",
       "      <td>0.153911</td>\n",
       "      <td>65061.054407</td>\n",
       "      <td>4.864856e+10</td>\n",
       "      <td>65063.974219</td>\n",
       "      <td>63231.827435</td>\n",
       "      <td>60894.899693</td>\n",
       "      <td>58.928141</td>\n",
       "      <td>67.978953</td>\n",
       "      <td>48.080604</td>\n",
       "      <td>70025.254480</td>\n",
       "      <td>59829.959017</td>\n",
       "      <td>68246.099571</td>\n",
       "      <td>58751.329383</td>\n",
       "      <td>66702.035791</td>\n",
       "      <td>58057.464818</td>\n",
       "      <td>0.062267</td>\n",
       "      <td>0.073541</td>\n",
       "      <td>0.130072</td>\n",
       "      <td>67145.374935</td>\n",
       "      <td>4.120791e+10</td>\n",
       "      <td>65065.434126</td>\n",
       "      <td>62970.509296</td>\n",
       "      <td>60607.578679</td>\n",
       "      <td>72.045719</td>\n",
       "      <td>68.443308</td>\n",
       "      <td>54.338723</td>\n",
       "      <td>70214.949029</td>\n",
       "      <td>58114.796682</td>\n",
       "      <td>67904.887460</td>\n",
       "      <td>58374.704306</td>\n",
       "      <td>66389.840782</td>\n",
       "      <td>58117.663080</td>\n",
       "      <td>0.089991</td>\n",
       "      <td>0.061953</td>\n",
       "      <td>0.227254</td>\n",
       "    </tr>\n",
       "  </tbody>\n",
       "</table>\n",
       "</div>"
      ],
      "text/plain": [
       "                  prices  total_volumes  y         ema_5        ema_15  \\\n",
       "dates                                                                    \n",
       "2021-11-23  56386.856853   3.400147e+10  1  58580.394282  60727.901569   \n",
       "2021-11-24  57748.793174   3.642119e+10  1  58303.193913  60355.513019   \n",
       "\n",
       "                  ema_30  rsi_sma_7  rsi_sma_14  rsi_sma_21  \\\n",
       "dates                                                         \n",
       "2021-11-23  60778.405108  23.139259   22.154860   42.278309   \n",
       "2021-11-24  60582.946274  38.680219   27.686349   40.804333   \n",
       "\n",
       "            bollinger_upper_5  bollinger_lower_5  bollinger_upper_10  \\\n",
       "dates                                                                  \n",
       "2021-11-23       61253.132433       55169.317830        66990.828351   \n",
       "2021-11-24       61165.864340       55561.174256        65840.885540   \n",
       "\n",
       "            bollinger_lower_10  bollinger_upper_20  bollinger_lower_20  \\\n",
       "dates                                                                    \n",
       "2021-11-23        54279.470173        68698.893162        55941.835872   \n",
       "2021-11-24        54047.104549        68732.741026        55369.773090   \n",
       "\n",
       "                rc_5     rc_15     rc_30  pricesminus1  total_volumesminus1  \\\n",
       "dates                                                                         \n",
       "2021-11-23 -0.069580 -0.107142 -0.084215  59139.779280         2.574343e+10   \n",
       "2021-11-24  0.013362 -0.145943 -0.055978  56386.856853         3.400147e+10   \n",
       "\n",
       "             ema_5minus1  ema_15minus1  ema_30minus1  rsi_sma_7minus1  \\\n",
       "dates                                                                   \n",
       "2021-11-23  59677.162996  61348.050814  61081.270505        24.984948   \n",
       "2021-11-24  58580.394282  60727.901569  60778.405108        23.139259   \n",
       "\n",
       "            rsi_sma_14minus1  rsi_sma_21minus1  bollinger_upper_5minus1  \\\n",
       "dates                                                                     \n",
       "2021-11-23         40.826921         45.873479             61899.286405   \n",
       "2021-11-24         22.154860         42.278309             61253.132433   \n",
       "\n",
       "            bollinger_lower_5minus1  bollinger_upper_10minus1  \\\n",
       "dates                                                           \n",
       "2021-11-23             56209.883463              67431.660020   \n",
       "2021-11-24             55169.317830              66990.828351   \n",
       "\n",
       "            bollinger_lower_10minus1  bollinger_upper_20minus1  \\\n",
       "dates                                                            \n",
       "2021-11-23              55447.676724              68404.389504   \n",
       "2021-11-24              54279.470173              68698.893162   \n",
       "\n",
       "            bollinger_lower_20minus1  rc_5minus1  rc_15minus1  rc_30minus1  \\\n",
       "dates                                                                        \n",
       "2021-11-23              56922.374741   -0.021651    -0.040894    -0.030960   \n",
       "2021-11-24              55941.835872   -0.069580    -0.107142    -0.084215   \n",
       "\n",
       "            pricesminus2  total_volumesminus2   ema_5minus2  ema_15minus2  \\\n",
       "dates                                                                       \n",
       "2021-11-23  60082.911668         2.967655e+10  59945.854855  61663.518176   \n",
       "2021-11-24  59139.779280         2.574343e+10  59677.162996  61348.050814   \n",
       "\n",
       "            ema_30minus2  rsi_sma_7minus2  rsi_sma_14minus2  rsi_sma_21minus2  \\\n",
       "dates                                                                           \n",
       "2021-11-23  61215.166452        32.470137         46.480606         46.830976   \n",
       "2021-11-24  61081.270505        24.984948         40.826921         45.873479   \n",
       "\n",
       "            bollinger_upper_5minus2  bollinger_lower_5minus2  \\\n",
       "dates                                                          \n",
       "2021-11-23             62428.520747             56204.162415   \n",
       "2021-11-24             61899.286405             56209.883463   \n",
       "\n",
       "            bollinger_upper_10minus2  bollinger_lower_10minus2  \\\n",
       "dates                                                            \n",
       "2021-11-23              68164.288708              55888.221212   \n",
       "2021-11-24              67431.660020              55447.676724   \n",
       "\n",
       "            bollinger_upper_20minus2  bollinger_lower_20minus2  rc_5minus2  \\\n",
       "dates                                                                        \n",
       "2021-11-23              68312.642859              57212.326578   -0.060233   \n",
       "2021-11-24              68404.389504              56922.374741   -0.021651   \n",
       "\n",
       "            rc_15minus2  rc_30minus2  pricesminus3  total_volumesminus3  \\\n",
       "dates                                                                     \n",
       "2021-11-23    -0.019013    -0.039305  58459.255517         3.785126e+10   \n",
       "2021-11-24    -0.040894    -0.030960  60082.911668         2.967655e+10   \n",
       "\n",
       "             ema_5minus3  ema_15minus3  ema_30minus3  rsi_sma_7minus3  \\\n",
       "dates                                                                   \n",
       "2021-11-23  59877.326448  61889.319105  61293.252988        24.389231   \n",
       "2021-11-24  59945.854855  61663.518176  61215.166452        32.470137   \n",
       "\n",
       "            rsi_sma_14minus3  rsi_sma_21minus3  bollinger_upper_5minus3  \\\n",
       "dates                                                                     \n",
       "2021-11-23         43.428966         42.785524             65326.121381   \n",
       "2021-11-24         46.480606         46.830976             62428.520747   \n",
       "\n",
       "            bollinger_lower_5minus3  bollinger_upper_10minus3  \\\n",
       "dates                                                           \n",
       "2021-11-23             54846.931290              68768.178108   \n",
       "2021-11-24             56204.162415              68164.288708   \n",
       "\n",
       "            bollinger_lower_10minus3  bollinger_upper_20minus3  \\\n",
       "dates                                                            \n",
       "2021-11-23              56279.960359              68274.635672   \n",
       "2021-11-24              55888.221212              68312.642859   \n",
       "\n",
       "            bollinger_lower_20minus3  rc_5minus3  rc_15minus3  rc_30minus3  \\\n",
       "dates                                                                        \n",
       "2021-11-23              57389.229444   -0.109518    -0.051013    -0.117430   \n",
       "2021-11-24              57212.326578   -0.060233    -0.019013    -0.039305   \n",
       "\n",
       "            pricesminus4  total_volumesminus4   ema_5minus4  ema_15minus4  \\\n",
       "dates                                                                       \n",
       "2021-11-23  56987.322339         4.182852e+10  60586.361913  62379.328189   \n",
       "2021-11-24  58459.255517         3.785126e+10  59877.326448  61889.319105   \n",
       "\n",
       "            ema_30minus4  rsi_sma_7minus4  rsi_sma_14minus4  rsi_sma_21minus4  \\\n",
       "dates                                                                           \n",
       "2021-11-23  61488.701090        12.748338         38.520043         42.879731   \n",
       "2021-11-24  61293.252988        24.389231         43.428966         42.785524   \n",
       "\n",
       "            bollinger_upper_5minus4  bollinger_lower_5minus4  \\\n",
       "dates                                                          \n",
       "2021-11-23             68263.001108             54785.940473   \n",
       "2021-11-24             65326.121381             54846.931290   \n",
       "\n",
       "            bollinger_upper_10minus4  bollinger_lower_10minus4  \\\n",
       "dates                                                            \n",
       "2021-11-23              69539.546825              57245.815525   \n",
       "2021-11-24              68768.178108              56279.960359   \n",
       "\n",
       "            bollinger_upper_20minus4  bollinger_lower_20minus4  rc_5minus4  \\\n",
       "dates                                                                        \n",
       "2021-11-23              68068.955131              57932.710134   -0.118666   \n",
       "2021-11-24              68274.635672              57389.229444   -0.109518   \n",
       "\n",
       "            rc_15minus4  rc_30minus4  pricesminus5  total_volumesminus5  \\\n",
       "dates                                                                     \n",
       "2021-11-23    -0.097316    -0.116717  60603.655867         3.920073e+10   \n",
       "2021-11-24    -0.051013    -0.117430  56987.322339         4.182852e+10   \n",
       "\n",
       "             ema_5minus5  ema_15minus5  ema_30minus5  rsi_sma_7minus5  \\\n",
       "dates                                                                   \n",
       "2021-11-23  62385.881700  63149.614740  61799.141004        19.052054   \n",
       "2021-11-24  60586.361913  62379.328189  61488.701090        12.748338   \n",
       "\n",
       "            rsi_sma_14minus5  rsi_sma_21minus5  bollinger_upper_5minus5  \\\n",
       "dates                                                                     \n",
       "2021-11-23         42.983889         53.916567             67842.450399   \n",
       "2021-11-24         38.520043         42.879731             68263.001108   \n",
       "\n",
       "            bollinger_lower_5minus5  bollinger_upper_10minus5  \\\n",
       "dates                                                           \n",
       "2021-11-23             58275.696387              69194.672675   \n",
       "2021-11-24             54785.940473              69539.546825   \n",
       "\n",
       "            bollinger_lower_10minus5  bollinger_upper_20minus5  \\\n",
       "dates                                                            \n",
       "2021-11-23              59716.628317              67494.804271   \n",
       "2021-11-24              57245.815525              68068.955131   \n",
       "\n",
       "            bollinger_lower_20minus5  rc_5minus5  rc_15minus5  rc_30minus5  \\\n",
       "dates                                                                        \n",
       "2021-11-23              59036.448566   -0.059418    -0.041797    -0.022805   \n",
       "2021-11-24              57932.710134   -0.118666    -0.097316    -0.116717   \n",
       "\n",
       "            pricesminus6  total_volumesminus6   ema_5minus6  ema_15minus6  \\\n",
       "dates                                                                       \n",
       "2021-11-23  60448.562513         4.897840e+10  63276.994617   63513.32315   \n",
       "2021-11-24  60603.655867         3.920073e+10  62385.881700   63149.61474   \n",
       "\n",
       "            ema_30minus6  rsi_sma_7minus6  rsi_sma_14minus6  rsi_sma_21minus6  \\\n",
       "dates                                                                           \n",
       "2021-11-23  61881.588255        13.327933         42.213770         49.710343   \n",
       "2021-11-24  61799.141004        19.052054         42.983889         53.916567   \n",
       "\n",
       "            bollinger_upper_5minus6  bollinger_lower_5minus6  \\\n",
       "dates                                                          \n",
       "2021-11-23             67800.347651             59849.155968   \n",
       "2021-11-24             67842.450399             58275.696387   \n",
       "\n",
       "            bollinger_upper_10minus6  bollinger_lower_10minus6  \\\n",
       "dates                                                            \n",
       "2021-11-23              68751.490579              60669.725278   \n",
       "2021-11-24              69194.672675              59716.628317   \n",
       "\n",
       "            bollinger_upper_20minus6  bollinger_lower_20minus6  rc_5minus6  \\\n",
       "dates                                                                        \n",
       "2021-11-23              67481.863002              59065.779833   -0.070103   \n",
       "2021-11-24              67494.804271              59036.448566   -0.059418   \n",
       "\n",
       "            rc_15minus6  rc_30minus6  pricesminus7  total_volumesminus7  \\\n",
       "dates                                                                     \n",
       "2021-11-23    -0.011015    -0.018434  63933.835443         3.210721e+10   \n",
       "2021-11-24    -0.041797    -0.022805  60448.562513         4.897840e+10   \n",
       "\n",
       "             ema_5minus7  ema_15minus7  ema_30minus7  rsi_sma_7minus7  \\\n",
       "dates                                                                   \n",
       "2021-11-23  64691.210669  63951.146098  61980.417616        19.894097   \n",
       "2021-11-24  63276.994617  63513.323150  61881.588255        13.327933   \n",
       "\n",
       "            rsi_sma_14minus7  rsi_sma_21minus7  bollinger_upper_5minus7  \\\n",
       "dates                                                                     \n",
       "2021-11-23         58.463839         51.356826             66019.841499   \n",
       "2021-11-24         42.213770         49.710343             67800.347651   \n",
       "\n",
       "            bollinger_lower_5minus7  bollinger_upper_10minus7  \\\n",
       "dates                                                           \n",
       "2021-11-23             63452.495178              68342.218382   \n",
       "2021-11-24             59849.155968              68751.490579   \n",
       "\n",
       "            bollinger_lower_10minus7  bollinger_upper_20minus7  \\\n",
       "dates                                                            \n",
       "2021-11-23              61321.556705              67712.385041   \n",
       "2021-11-24              60669.725278              67481.863002   \n",
       "\n",
       "            bollinger_lower_20minus7  rc_5minus7  rc_15minus7  rc_30minus7  \\\n",
       "dates                                                                        \n",
       "2021-11-23              58654.501691   -0.017326     0.040050     0.045257   \n",
       "2021-11-24              59065.779833   -0.070103    -0.011015    -0.018434   \n",
       "\n",
       "            pricesminus8  total_volumesminus8   ema_5minus8  ema_15minus8  \\\n",
       "dates                                                                       \n",
       "2021-11-23  65648.977791         2.608845e+10  65069.898282  63953.619049   \n",
       "2021-11-24  63933.835443         3.210721e+10  64691.210669  63951.146098   \n",
       "\n",
       "            ema_30minus8  rsi_sma_7minus8  rsi_sma_14minus8  rsi_sma_21minus8  \\\n",
       "dates                                                                           \n",
       "2021-11-23  61845.699145        64.075326         63.698344         58.495402   \n",
       "2021-11-24  61980.417616        19.894097         58.463839         51.356826   \n",
       "\n",
       "            bollinger_upper_5minus8  bollinger_lower_5minus8  \\\n",
       "dates                                                          \n",
       "2021-11-23             65886.547343             64036.676920   \n",
       "2021-11-24             66019.841499             63452.495178   \n",
       "\n",
       "            bollinger_upper_10minus8  bollinger_lower_10minus8  \\\n",
       "dates                                                            \n",
       "2021-11-23              68729.024295              60397.460692   \n",
       "2021-11-24              68342.218382              61321.556705   \n",
       "\n",
       "            bollinger_upper_20minus8  bollinger_lower_20minus8  rc_5minus8  \\\n",
       "dates                                                                        \n",
       "2021-11-23              67672.775137              58361.146939   -0.022286   \n",
       "2021-11-24              67712.385041              58654.501691   -0.017326   \n",
       "\n",
       "            rc_15minus8  rc_30minus8  pricesminus9  total_volumesminus9  \\\n",
       "dates                                                                     \n",
       "2021-11-23     0.061641     0.062126  64660.335353         2.967769e+10   \n",
       "2021-11-24     0.040050     0.045257  65648.977791         2.608845e+10   \n",
       "\n",
       "             ema_5minus9  ema_15minus9  ema_30minus9  rsi_sma_7minus9  \\\n",
       "dates                                                                   \n",
       "2021-11-23  64780.358528  63711.424943  61583.404066        66.004936   \n",
       "2021-11-24  65069.898282  63953.619049  61845.699145        64.075326   \n",
       "\n",
       "            rsi_sma_14minus9  rsi_sma_21minus9  bollinger_upper_5minus9  \\\n",
       "dates                                                                     \n",
       "2021-11-23         59.652531         55.995823             67429.765161   \n",
       "2021-11-24         63.698344         58.495402             65886.547343   \n",
       "\n",
       "            bollinger_lower_5minus9  bollinger_upper_10minus9  \\\n",
       "dates                                                           \n",
       "2021-11-23             63092.017959              68630.632904   \n",
       "2021-11-24             64036.676920              68729.024295   \n",
       "\n",
       "            bollinger_lower_10minus9  bollinger_upper_20minus9  \\\n",
       "dates                                                            \n",
       "2021-11-23              59686.405240              67386.567713   \n",
       "2021-11-24              60397.460692              67672.775137   \n",
       "\n",
       "            bollinger_lower_20minus9  rc_5minus9  rc_15minus9  rc_30minus9  \\\n",
       "dates                                                                        \n",
       "2021-11-23              58405.277967   -0.043727     0.038167     0.125459   \n",
       "2021-11-24              58361.146939   -0.022286     0.061641     0.062126   \n",
       "\n",
       "            pricesminus10  total_volumesminus10  ema_5minus10  ema_15minus10  \\\n",
       "dates                                                                          \n",
       "2021-11-23   64432.047947          3.687263e+10  64840.370115   63575.866313   \n",
       "2021-11-24   64660.335353          2.967769e+10  64780.358528   63711.424943   \n",
       "\n",
       "            ema_30minus10  rsi_sma_7minus10  rsi_sma_14minus10  \\\n",
       "dates                                                            \n",
       "2021-11-23   61371.201909         66.665604          57.239491   \n",
       "2021-11-24   61583.404066         66.004936          59.652531   \n",
       "\n",
       "            rsi_sma_21minus10  bollinger_upper_5minus10  \\\n",
       "dates                                                     \n",
       "2021-11-23          56.526866              68706.395361   \n",
       "2021-11-24          55.995823              67429.765161   \n",
       "\n",
       "            bollinger_lower_5minus10  bollinger_upper_10minus10  \\\n",
       "dates                                                             \n",
       "2021-11-23              62998.059836               68505.937526   \n",
       "2021-11-24              63092.017959               68630.632904   \n",
       "\n",
       "            bollinger_lower_10minus10  bollinger_upper_20minus10  \\\n",
       "dates                                                              \n",
       "2021-11-23               59505.222017               67194.517141   \n",
       "2021-11-24               59686.405240               67386.567713   \n",
       "\n",
       "            bollinger_lower_20minus10  rc_5minus10  rc_15minus10  \\\n",
       "dates                                                              \n",
       "2021-11-23               58248.611642     0.020249      0.060303   \n",
       "2021-11-24               58405.277967    -0.043727      0.038167   \n",
       "\n",
       "            rc_30minus10  pricesminus11  total_volumesminus11  ema_5minus11  \\\n",
       "dates                                                                         \n",
       "2021-11-23      0.120792   65005.645160          3.545758e+10  65044.531199   \n",
       "2021-11-24      0.125459   64432.047947          3.687263e+10  64840.370115   \n",
       "\n",
       "            ema_15minus11  ema_30minus11  rsi_sma_7minus11  rsi_sma_14minus11  \\\n",
       "dates                                                                           \n",
       "2021-11-23   63453.554651   61160.109078         68.231229          63.425941   \n",
       "2021-11-24   63575.866313   61371.201909         66.665604          57.239491   \n",
       "\n",
       "            rsi_sma_21minus11  bollinger_upper_5minus11  \\\n",
       "dates                                                     \n",
       "2021-11-23          54.563036              69214.042713   \n",
       "2021-11-24          56.526866              68706.395361   \n",
       "\n",
       "            bollinger_lower_5minus11  bollinger_upper_10minus11  \\\n",
       "dates                                                             \n",
       "2021-11-23              61978.885382               68399.922613   \n",
       "2021-11-24              62998.059836               68505.937526   \n",
       "\n",
       "            bollinger_lower_10minus11  bollinger_upper_20minus11  \\\n",
       "dates                                                              \n",
       "2021-11-23               59374.269133               67003.883107   \n",
       "2021-11-24               59505.222017               67194.517141   \n",
       "\n",
       "            bollinger_lower_20minus11  rc_5minus11  rc_15minus11  \\\n",
       "dates                                                              \n",
       "2021-11-23               58153.254925     0.054236      0.108536   \n",
       "2021-11-24               58248.611642     0.020249      0.060303   \n",
       "\n",
       "            rc_30minus11  pricesminus12  total_volumesminus12  ema_5minus12  \\\n",
       "dates                                                                         \n",
       "2021-11-23      0.153911   65061.054407          4.864856e+10  65063.974219   \n",
       "2021-11-24      0.120792   65005.645160          3.545758e+10  65044.531199   \n",
       "\n",
       "            ema_15minus12  ema_30minus12  rsi_sma_7minus12  rsi_sma_14minus12  \\\n",
       "dates                                                                           \n",
       "2021-11-23   63231.827435   60894.899693         58.928141          67.978953   \n",
       "2021-11-24   63453.554651   61160.109078         68.231229          63.425941   \n",
       "\n",
       "            rsi_sma_21minus12  bollinger_upper_5minus12  \\\n",
       "dates                                                     \n",
       "2021-11-23          48.080604              70025.254480   \n",
       "2021-11-24          54.563036              69214.042713   \n",
       "\n",
       "            bollinger_lower_5minus12  bollinger_upper_10minus12  \\\n",
       "dates                                                             \n",
       "2021-11-23              59829.959017               68246.099571   \n",
       "2021-11-24              61978.885382               68399.922613   \n",
       "\n",
       "            bollinger_lower_10minus12  bollinger_upper_20minus12  \\\n",
       "dates                                                              \n",
       "2021-11-23               58751.329383               66702.035791   \n",
       "2021-11-24               59374.269133               67003.883107   \n",
       "\n",
       "            bollinger_lower_20minus12  rc_5minus12  rc_15minus12  \\\n",
       "dates                                                              \n",
       "2021-11-23               58057.464818     0.062267      0.073541   \n",
       "2021-11-24               58153.254925     0.054236      0.108536   \n",
       "\n",
       "            rc_30minus12  pricesminus13  total_volumesminus13  ema_5minus13  \\\n",
       "dates                                                                         \n",
       "2021-11-23      0.130072   67145.374935          4.120791e+10  65065.434126   \n",
       "2021-11-24      0.153911   65061.054407          4.864856e+10  65063.974219   \n",
       "\n",
       "            ema_15minus13  ema_30minus13  rsi_sma_7minus13  rsi_sma_14minus13  \\\n",
       "dates                                                                           \n",
       "2021-11-23   62970.509296   60607.578679         72.045719          68.443308   \n",
       "2021-11-24   63231.827435   60894.899693         58.928141          67.978953   \n",
       "\n",
       "            rsi_sma_21minus13  bollinger_upper_5minus13  \\\n",
       "dates                                                     \n",
       "2021-11-23          54.338723              70214.949029   \n",
       "2021-11-24          48.080604              70025.254480   \n",
       "\n",
       "            bollinger_lower_5minus13  bollinger_upper_10minus13  \\\n",
       "dates                                                             \n",
       "2021-11-23              58114.796682               67904.887460   \n",
       "2021-11-24              59829.959017               68246.099571   \n",
       "\n",
       "            bollinger_lower_10minus13  bollinger_upper_20minus13  \\\n",
       "dates                                                              \n",
       "2021-11-23               58374.704306               66389.840782   \n",
       "2021-11-24               58751.329383               66702.035791   \n",
       "\n",
       "            bollinger_lower_20minus13  rc_5minus13  rc_15minus13  \\\n",
       "dates                                                              \n",
       "2021-11-23               58117.663080     0.089991      0.061953   \n",
       "2021-11-24               58057.464818     0.062267      0.073541   \n",
       "\n",
       "            rc_30minus13  pricesminus14  total_volumesminus14  ema_5minus14  \\\n",
       "dates                                                                         \n",
       "2021-11-23      0.227254   67617.015545          1.054263e+11  64025.463721   \n",
       "2021-11-24      0.130072   67145.374935          4.120791e+10  65065.434126   \n",
       "\n",
       "            ema_15minus14  ema_30minus14  rsi_sma_7minus14  rsi_sma_14minus14  \\\n",
       "dates                                                                           \n",
       "2021-11-23   62374.099919   60156.696178         80.944679          61.035121   \n",
       "2021-11-24   62970.509296   60607.578679         72.045719          68.443308   \n",
       "\n",
       "            rsi_sma_21minus14  bollinger_upper_5minus14  \\\n",
       "dates                                                     \n",
       "2021-11-23          58.664488              68361.171658   \n",
       "2021-11-24          54.338723              70214.949029   \n",
       "\n",
       "            bollinger_lower_5minus14  bollinger_upper_10minus14  \\\n",
       "dates                                                             \n",
       "2021-11-23              57751.121508               66491.884054   \n",
       "2021-11-24              58114.796682               67904.887460   \n",
       "\n",
       "            bollinger_lower_10minus14  bollinger_upper_20minus14  \\\n",
       "dates                                                              \n",
       "2021-11-23               58726.084125               66132.925409   \n",
       "2021-11-24               58374.704306               66389.840782   \n",
       "\n",
       "            bollinger_lower_20minus14  rc_5minus14  rc_15minus14  rc_30minus14  \n",
       "dates                                                                           \n",
       "2021-11-23               58283.792714     0.071060      0.105338      0.226602  \n",
       "2021-11-24               58117.663080     0.089991      0.061953      0.227254  "
      ]
     },
     "execution_count": 149,
     "metadata": {},
     "output_type": "execute_result"
    }
   ],
   "source": [
    "df.tail(2)"
   ]
  },
  {
   "cell_type": "code",
   "execution_count": 150,
   "id": "c393f082-127e-4243-8329-baf13160d467",
   "metadata": {},
   "outputs": [
    {
     "data": {
      "text/plain": [
       "float64    255\n",
       "int64        1\n",
       "dtype: int64"
      ]
     },
     "execution_count": 150,
     "metadata": {},
     "output_type": "execute_result"
    }
   ],
   "source": [
    "df.dtypes.value_counts()"
   ]
  },
  {
   "cell_type": "code",
   "execution_count": 152,
   "id": "2a1f07f2-7298-4337-bf7b-8f76842ae7e5",
   "metadata": {},
   "outputs": [
    {
     "name": "stdout",
     "output_type": "stream",
     "text": [
      "(1380, 256)\n",
      "(1100, 256)\n",
      "(280, 256)\n"
     ]
    },
    {
     "data": {
      "text/html": [
       "<div>\n",
       "<style scoped>\n",
       "    .dataframe tbody tr th:only-of-type {\n",
       "        vertical-align: middle;\n",
       "    }\n",
       "\n",
       "    .dataframe tbody tr th {\n",
       "        vertical-align: top;\n",
       "    }\n",
       "\n",
       "    .dataframe thead th {\n",
       "        text-align: right;\n",
       "    }\n",
       "</style>\n",
       "<table border=\"1\" class=\"dataframe\">\n",
       "  <thead>\n",
       "    <tr style=\"text-align: right;\">\n",
       "      <th></th>\n",
       "      <th>prices</th>\n",
       "      <th>total_volumes</th>\n",
       "      <th>y</th>\n",
       "      <th>ema_5</th>\n",
       "      <th>ema_15</th>\n",
       "      <th>ema_30</th>\n",
       "      <th>rsi_sma_7</th>\n",
       "      <th>rsi_sma_14</th>\n",
       "      <th>rsi_sma_21</th>\n",
       "      <th>bollinger_upper_5</th>\n",
       "      <th>bollinger_lower_5</th>\n",
       "      <th>bollinger_upper_10</th>\n",
       "      <th>bollinger_lower_10</th>\n",
       "      <th>bollinger_upper_20</th>\n",
       "      <th>bollinger_lower_20</th>\n",
       "      <th>rc_5</th>\n",
       "      <th>rc_15</th>\n",
       "      <th>rc_30</th>\n",
       "      <th>pricesminus1</th>\n",
       "      <th>total_volumesminus1</th>\n",
       "      <th>ema_5minus1</th>\n",
       "      <th>ema_15minus1</th>\n",
       "      <th>ema_30minus1</th>\n",
       "      <th>rsi_sma_7minus1</th>\n",
       "      <th>rsi_sma_14minus1</th>\n",
       "      <th>rsi_sma_21minus1</th>\n",
       "      <th>bollinger_upper_5minus1</th>\n",
       "      <th>bollinger_lower_5minus1</th>\n",
       "      <th>bollinger_upper_10minus1</th>\n",
       "      <th>bollinger_lower_10minus1</th>\n",
       "      <th>bollinger_upper_20minus1</th>\n",
       "      <th>bollinger_lower_20minus1</th>\n",
       "      <th>rc_5minus1</th>\n",
       "      <th>rc_15minus1</th>\n",
       "      <th>rc_30minus1</th>\n",
       "      <th>pricesminus2</th>\n",
       "      <th>total_volumesminus2</th>\n",
       "      <th>ema_5minus2</th>\n",
       "      <th>ema_15minus2</th>\n",
       "      <th>ema_30minus2</th>\n",
       "      <th>rsi_sma_7minus2</th>\n",
       "      <th>rsi_sma_14minus2</th>\n",
       "      <th>rsi_sma_21minus2</th>\n",
       "      <th>bollinger_upper_5minus2</th>\n",
       "      <th>bollinger_lower_5minus2</th>\n",
       "      <th>bollinger_upper_10minus2</th>\n",
       "      <th>bollinger_lower_10minus2</th>\n",
       "      <th>bollinger_upper_20minus2</th>\n",
       "      <th>bollinger_lower_20minus2</th>\n",
       "      <th>rc_5minus2</th>\n",
       "      <th>rc_15minus2</th>\n",
       "      <th>rc_30minus2</th>\n",
       "      <th>pricesminus3</th>\n",
       "      <th>total_volumesminus3</th>\n",
       "      <th>ema_5minus3</th>\n",
       "      <th>ema_15minus3</th>\n",
       "      <th>ema_30minus3</th>\n",
       "      <th>rsi_sma_7minus3</th>\n",
       "      <th>rsi_sma_14minus3</th>\n",
       "      <th>rsi_sma_21minus3</th>\n",
       "      <th>bollinger_upper_5minus3</th>\n",
       "      <th>bollinger_lower_5minus3</th>\n",
       "      <th>bollinger_upper_10minus3</th>\n",
       "      <th>bollinger_lower_10minus3</th>\n",
       "      <th>bollinger_upper_20minus3</th>\n",
       "      <th>bollinger_lower_20minus3</th>\n",
       "      <th>rc_5minus3</th>\n",
       "      <th>rc_15minus3</th>\n",
       "      <th>rc_30minus3</th>\n",
       "      <th>pricesminus4</th>\n",
       "      <th>total_volumesminus4</th>\n",
       "      <th>ema_5minus4</th>\n",
       "      <th>ema_15minus4</th>\n",
       "      <th>ema_30minus4</th>\n",
       "      <th>rsi_sma_7minus4</th>\n",
       "      <th>rsi_sma_14minus4</th>\n",
       "      <th>rsi_sma_21minus4</th>\n",
       "      <th>bollinger_upper_5minus4</th>\n",
       "      <th>bollinger_lower_5minus4</th>\n",
       "      <th>bollinger_upper_10minus4</th>\n",
       "      <th>bollinger_lower_10minus4</th>\n",
       "      <th>bollinger_upper_20minus4</th>\n",
       "      <th>bollinger_lower_20minus4</th>\n",
       "      <th>rc_5minus4</th>\n",
       "      <th>rc_15minus4</th>\n",
       "      <th>rc_30minus4</th>\n",
       "      <th>pricesminus5</th>\n",
       "      <th>total_volumesminus5</th>\n",
       "      <th>ema_5minus5</th>\n",
       "      <th>ema_15minus5</th>\n",
       "      <th>ema_30minus5</th>\n",
       "      <th>rsi_sma_7minus5</th>\n",
       "      <th>rsi_sma_14minus5</th>\n",
       "      <th>rsi_sma_21minus5</th>\n",
       "      <th>bollinger_upper_5minus5</th>\n",
       "      <th>bollinger_lower_5minus5</th>\n",
       "      <th>bollinger_upper_10minus5</th>\n",
       "      <th>bollinger_lower_10minus5</th>\n",
       "      <th>bollinger_upper_20minus5</th>\n",
       "      <th>bollinger_lower_20minus5</th>\n",
       "      <th>rc_5minus5</th>\n",
       "      <th>rc_15minus5</th>\n",
       "      <th>rc_30minus5</th>\n",
       "      <th>pricesminus6</th>\n",
       "      <th>total_volumesminus6</th>\n",
       "      <th>ema_5minus6</th>\n",
       "      <th>ema_15minus6</th>\n",
       "      <th>ema_30minus6</th>\n",
       "      <th>rsi_sma_7minus6</th>\n",
       "      <th>rsi_sma_14minus6</th>\n",
       "      <th>rsi_sma_21minus6</th>\n",
       "      <th>bollinger_upper_5minus6</th>\n",
       "      <th>bollinger_lower_5minus6</th>\n",
       "      <th>bollinger_upper_10minus6</th>\n",
       "      <th>bollinger_lower_10minus6</th>\n",
       "      <th>bollinger_upper_20minus6</th>\n",
       "      <th>bollinger_lower_20minus6</th>\n",
       "      <th>rc_5minus6</th>\n",
       "      <th>rc_15minus6</th>\n",
       "      <th>rc_30minus6</th>\n",
       "      <th>pricesminus7</th>\n",
       "      <th>total_volumesminus7</th>\n",
       "      <th>ema_5minus7</th>\n",
       "      <th>ema_15minus7</th>\n",
       "      <th>ema_30minus7</th>\n",
       "      <th>rsi_sma_7minus7</th>\n",
       "      <th>rsi_sma_14minus7</th>\n",
       "      <th>rsi_sma_21minus7</th>\n",
       "      <th>bollinger_upper_5minus7</th>\n",
       "      <th>bollinger_lower_5minus7</th>\n",
       "      <th>bollinger_upper_10minus7</th>\n",
       "      <th>bollinger_lower_10minus7</th>\n",
       "      <th>bollinger_upper_20minus7</th>\n",
       "      <th>bollinger_lower_20minus7</th>\n",
       "      <th>rc_5minus7</th>\n",
       "      <th>rc_15minus7</th>\n",
       "      <th>rc_30minus7</th>\n",
       "      <th>pricesminus8</th>\n",
       "      <th>total_volumesminus8</th>\n",
       "      <th>ema_5minus8</th>\n",
       "      <th>ema_15minus8</th>\n",
       "      <th>ema_30minus8</th>\n",
       "      <th>rsi_sma_7minus8</th>\n",
       "      <th>rsi_sma_14minus8</th>\n",
       "      <th>rsi_sma_21minus8</th>\n",
       "      <th>bollinger_upper_5minus8</th>\n",
       "      <th>bollinger_lower_5minus8</th>\n",
       "      <th>bollinger_upper_10minus8</th>\n",
       "      <th>bollinger_lower_10minus8</th>\n",
       "      <th>bollinger_upper_20minus8</th>\n",
       "      <th>bollinger_lower_20minus8</th>\n",
       "      <th>rc_5minus8</th>\n",
       "      <th>rc_15minus8</th>\n",
       "      <th>rc_30minus8</th>\n",
       "      <th>pricesminus9</th>\n",
       "      <th>total_volumesminus9</th>\n",
       "      <th>ema_5minus9</th>\n",
       "      <th>ema_15minus9</th>\n",
       "      <th>ema_30minus9</th>\n",
       "      <th>rsi_sma_7minus9</th>\n",
       "      <th>rsi_sma_14minus9</th>\n",
       "      <th>rsi_sma_21minus9</th>\n",
       "      <th>bollinger_upper_5minus9</th>\n",
       "      <th>bollinger_lower_5minus9</th>\n",
       "      <th>bollinger_upper_10minus9</th>\n",
       "      <th>bollinger_lower_10minus9</th>\n",
       "      <th>bollinger_upper_20minus9</th>\n",
       "      <th>bollinger_lower_20minus9</th>\n",
       "      <th>rc_5minus9</th>\n",
       "      <th>rc_15minus9</th>\n",
       "      <th>rc_30minus9</th>\n",
       "      <th>pricesminus10</th>\n",
       "      <th>total_volumesminus10</th>\n",
       "      <th>ema_5minus10</th>\n",
       "      <th>ema_15minus10</th>\n",
       "      <th>ema_30minus10</th>\n",
       "      <th>rsi_sma_7minus10</th>\n",
       "      <th>rsi_sma_14minus10</th>\n",
       "      <th>rsi_sma_21minus10</th>\n",
       "      <th>bollinger_upper_5minus10</th>\n",
       "      <th>bollinger_lower_5minus10</th>\n",
       "      <th>bollinger_upper_10minus10</th>\n",
       "      <th>bollinger_lower_10minus10</th>\n",
       "      <th>bollinger_upper_20minus10</th>\n",
       "      <th>bollinger_lower_20minus10</th>\n",
       "      <th>rc_5minus10</th>\n",
       "      <th>rc_15minus10</th>\n",
       "      <th>rc_30minus10</th>\n",
       "      <th>pricesminus11</th>\n",
       "      <th>total_volumesminus11</th>\n",
       "      <th>ema_5minus11</th>\n",
       "      <th>ema_15minus11</th>\n",
       "      <th>ema_30minus11</th>\n",
       "      <th>rsi_sma_7minus11</th>\n",
       "      <th>rsi_sma_14minus11</th>\n",
       "      <th>rsi_sma_21minus11</th>\n",
       "      <th>bollinger_upper_5minus11</th>\n",
       "      <th>bollinger_lower_5minus11</th>\n",
       "      <th>bollinger_upper_10minus11</th>\n",
       "      <th>bollinger_lower_10minus11</th>\n",
       "      <th>bollinger_upper_20minus11</th>\n",
       "      <th>bollinger_lower_20minus11</th>\n",
       "      <th>rc_5minus11</th>\n",
       "      <th>rc_15minus11</th>\n",
       "      <th>rc_30minus11</th>\n",
       "      <th>pricesminus12</th>\n",
       "      <th>total_volumesminus12</th>\n",
       "      <th>ema_5minus12</th>\n",
       "      <th>ema_15minus12</th>\n",
       "      <th>ema_30minus12</th>\n",
       "      <th>rsi_sma_7minus12</th>\n",
       "      <th>rsi_sma_14minus12</th>\n",
       "      <th>rsi_sma_21minus12</th>\n",
       "      <th>bollinger_upper_5minus12</th>\n",
       "      <th>bollinger_lower_5minus12</th>\n",
       "      <th>bollinger_upper_10minus12</th>\n",
       "      <th>bollinger_lower_10minus12</th>\n",
       "      <th>bollinger_upper_20minus12</th>\n",
       "      <th>bollinger_lower_20minus12</th>\n",
       "      <th>rc_5minus12</th>\n",
       "      <th>rc_15minus12</th>\n",
       "      <th>rc_30minus12</th>\n",
       "      <th>pricesminus13</th>\n",
       "      <th>total_volumesminus13</th>\n",
       "      <th>ema_5minus13</th>\n",
       "      <th>ema_15minus13</th>\n",
       "      <th>ema_30minus13</th>\n",
       "      <th>rsi_sma_7minus13</th>\n",
       "      <th>rsi_sma_14minus13</th>\n",
       "      <th>rsi_sma_21minus13</th>\n",
       "      <th>bollinger_upper_5minus13</th>\n",
       "      <th>bollinger_lower_5minus13</th>\n",
       "      <th>bollinger_upper_10minus13</th>\n",
       "      <th>bollinger_lower_10minus13</th>\n",
       "      <th>bollinger_upper_20minus13</th>\n",
       "      <th>bollinger_lower_20minus13</th>\n",
       "      <th>rc_5minus13</th>\n",
       "      <th>rc_15minus13</th>\n",
       "      <th>rc_30minus13</th>\n",
       "      <th>pricesminus14</th>\n",
       "      <th>total_volumesminus14</th>\n",
       "      <th>ema_5minus14</th>\n",
       "      <th>ema_15minus14</th>\n",
       "      <th>ema_30minus14</th>\n",
       "      <th>rsi_sma_7minus14</th>\n",
       "      <th>rsi_sma_14minus14</th>\n",
       "      <th>rsi_sma_21minus14</th>\n",
       "      <th>bollinger_upper_5minus14</th>\n",
       "      <th>bollinger_lower_5minus14</th>\n",
       "      <th>bollinger_upper_10minus14</th>\n",
       "      <th>bollinger_lower_10minus14</th>\n",
       "      <th>bollinger_upper_20minus14</th>\n",
       "      <th>bollinger_lower_20minus14</th>\n",
       "      <th>rc_5minus14</th>\n",
       "      <th>rc_15minus14</th>\n",
       "      <th>rc_30minus14</th>\n",
       "    </tr>\n",
       "    <tr>\n",
       "      <th>dates</th>\n",
       "      <th></th>\n",
       "      <th></th>\n",
       "      <th></th>\n",
       "      <th></th>\n",
       "      <th></th>\n",
       "      <th></th>\n",
       "      <th></th>\n",
       "      <th></th>\n",
       "      <th></th>\n",
       "      <th></th>\n",
       "      <th></th>\n",
       "      <th></th>\n",
       "      <th></th>\n",
       "      <th></th>\n",
       "      <th></th>\n",
       "      <th></th>\n",
       "      <th></th>\n",
       "      <th></th>\n",
       "      <th></th>\n",
       "      <th></th>\n",
       "      <th></th>\n",
       "      <th></th>\n",
       "      <th></th>\n",
       "      <th></th>\n",
       "      <th></th>\n",
       "      <th></th>\n",
       "      <th></th>\n",
       "      <th></th>\n",
       "      <th></th>\n",
       "      <th></th>\n",
       "      <th></th>\n",
       "      <th></th>\n",
       "      <th></th>\n",
       "      <th></th>\n",
       "      <th></th>\n",
       "      <th></th>\n",
       "      <th></th>\n",
       "      <th></th>\n",
       "      <th></th>\n",
       "      <th></th>\n",
       "      <th></th>\n",
       "      <th></th>\n",
       "      <th></th>\n",
       "      <th></th>\n",
       "      <th></th>\n",
       "      <th></th>\n",
       "      <th></th>\n",
       "      <th></th>\n",
       "      <th></th>\n",
       "      <th></th>\n",
       "      <th></th>\n",
       "      <th></th>\n",
       "      <th></th>\n",
       "      <th></th>\n",
       "      <th></th>\n",
       "      <th></th>\n",
       "      <th></th>\n",
       "      <th></th>\n",
       "      <th></th>\n",
       "      <th></th>\n",
       "      <th></th>\n",
       "      <th></th>\n",
       "      <th></th>\n",
       "      <th></th>\n",
       "      <th></th>\n",
       "      <th></th>\n",
       "      <th></th>\n",
       "      <th></th>\n",
       "      <th></th>\n",
       "      <th></th>\n",
       "      <th></th>\n",
       "      <th></th>\n",
       "      <th></th>\n",
       "      <th></th>\n",
       "      <th></th>\n",
       "      <th></th>\n",
       "      <th></th>\n",
       "      <th></th>\n",
       "      <th></th>\n",
       "      <th></th>\n",
       "      <th></th>\n",
       "      <th></th>\n",
       "      <th></th>\n",
       "      <th></th>\n",
       "      <th></th>\n",
       "      <th></th>\n",
       "      <th></th>\n",
       "      <th></th>\n",
       "      <th></th>\n",
       "      <th></th>\n",
       "      <th></th>\n",
       "      <th></th>\n",
       "      <th></th>\n",
       "      <th></th>\n",
       "      <th></th>\n",
       "      <th></th>\n",
       "      <th></th>\n",
       "      <th></th>\n",
       "      <th></th>\n",
       "      <th></th>\n",
       "      <th></th>\n",
       "      <th></th>\n",
       "      <th></th>\n",
       "      <th></th>\n",
       "      <th></th>\n",
       "      <th></th>\n",
       "      <th></th>\n",
       "      <th></th>\n",
       "      <th></th>\n",
       "      <th></th>\n",
       "      <th></th>\n",
       "      <th></th>\n",
       "      <th></th>\n",
       "      <th></th>\n",
       "      <th></th>\n",
       "      <th></th>\n",
       "      <th></th>\n",
       "      <th></th>\n",
       "      <th></th>\n",
       "      <th></th>\n",
       "      <th></th>\n",
       "      <th></th>\n",
       "      <th></th>\n",
       "      <th></th>\n",
       "      <th></th>\n",
       "      <th></th>\n",
       "      <th></th>\n",
       "      <th></th>\n",
       "      <th></th>\n",
       "      <th></th>\n",
       "      <th></th>\n",
       "      <th></th>\n",
       "      <th></th>\n",
       "      <th></th>\n",
       "      <th></th>\n",
       "      <th></th>\n",
       "      <th></th>\n",
       "      <th></th>\n",
       "      <th></th>\n",
       "      <th></th>\n",
       "      <th></th>\n",
       "      <th></th>\n",
       "      <th></th>\n",
       "      <th></th>\n",
       "      <th></th>\n",
       "      <th></th>\n",
       "      <th></th>\n",
       "      <th></th>\n",
       "      <th></th>\n",
       "      <th></th>\n",
       "      <th></th>\n",
       "      <th></th>\n",
       "      <th></th>\n",
       "      <th></th>\n",
       "      <th></th>\n",
       "      <th></th>\n",
       "      <th></th>\n",
       "      <th></th>\n",
       "      <th></th>\n",
       "      <th></th>\n",
       "      <th></th>\n",
       "      <th></th>\n",
       "      <th></th>\n",
       "      <th></th>\n",
       "      <th></th>\n",
       "      <th></th>\n",
       "      <th></th>\n",
       "      <th></th>\n",
       "      <th></th>\n",
       "      <th></th>\n",
       "      <th></th>\n",
       "      <th></th>\n",
       "      <th></th>\n",
       "      <th></th>\n",
       "      <th></th>\n",
       "      <th></th>\n",
       "      <th></th>\n",
       "      <th></th>\n",
       "      <th></th>\n",
       "      <th></th>\n",
       "      <th></th>\n",
       "      <th></th>\n",
       "      <th></th>\n",
       "      <th></th>\n",
       "      <th></th>\n",
       "      <th></th>\n",
       "      <th></th>\n",
       "      <th></th>\n",
       "      <th></th>\n",
       "      <th></th>\n",
       "      <th></th>\n",
       "      <th></th>\n",
       "      <th></th>\n",
       "      <th></th>\n",
       "      <th></th>\n",
       "      <th></th>\n",
       "      <th></th>\n",
       "      <th></th>\n",
       "      <th></th>\n",
       "      <th></th>\n",
       "      <th></th>\n",
       "      <th></th>\n",
       "      <th></th>\n",
       "      <th></th>\n",
       "      <th></th>\n",
       "      <th></th>\n",
       "      <th></th>\n",
       "      <th></th>\n",
       "      <th></th>\n",
       "      <th></th>\n",
       "      <th></th>\n",
       "      <th></th>\n",
       "      <th></th>\n",
       "      <th></th>\n",
       "      <th></th>\n",
       "      <th></th>\n",
       "      <th></th>\n",
       "      <th></th>\n",
       "      <th></th>\n",
       "      <th></th>\n",
       "      <th></th>\n",
       "      <th></th>\n",
       "      <th></th>\n",
       "      <th></th>\n",
       "      <th></th>\n",
       "      <th></th>\n",
       "      <th></th>\n",
       "      <th></th>\n",
       "      <th></th>\n",
       "      <th></th>\n",
       "      <th></th>\n",
       "      <th></th>\n",
       "      <th></th>\n",
       "      <th></th>\n",
       "      <th></th>\n",
       "      <th></th>\n",
       "      <th></th>\n",
       "      <th></th>\n",
       "      <th></th>\n",
       "      <th></th>\n",
       "      <th></th>\n",
       "      <th></th>\n",
       "      <th></th>\n",
       "      <th></th>\n",
       "      <th></th>\n",
       "      <th></th>\n",
       "      <th></th>\n",
       "      <th></th>\n",
       "      <th></th>\n",
       "      <th></th>\n",
       "      <th></th>\n",
       "      <th></th>\n",
       "      <th></th>\n",
       "      <th></th>\n",
       "      <th></th>\n",
       "      <th></th>\n",
       "    </tr>\n",
       "  </thead>\n",
       "  <tbody>\n",
       "    <tr>\n",
       "      <th>2021-11-24</th>\n",
       "      <td>57748.793174</td>\n",
       "      <td>3.642119e+10</td>\n",
       "      <td>1</td>\n",
       "      <td>58303.193913</td>\n",
       "      <td>60355.513019</td>\n",
       "      <td>60582.946274</td>\n",
       "      <td>38.680219</td>\n",
       "      <td>27.686349</td>\n",
       "      <td>40.804333</td>\n",
       "      <td>61165.86434</td>\n",
       "      <td>55561.174256</td>\n",
       "      <td>65840.88554</td>\n",
       "      <td>54047.104549</td>\n",
       "      <td>68732.741026</td>\n",
       "      <td>55369.77309</td>\n",
       "      <td>0.013362</td>\n",
       "      <td>-0.145943</td>\n",
       "      <td>-0.055978</td>\n",
       "      <td>56386.856853</td>\n",
       "      <td>3.400147e+10</td>\n",
       "      <td>58580.394282</td>\n",
       "      <td>60727.901569</td>\n",
       "      <td>60778.405108</td>\n",
       "      <td>23.139259</td>\n",
       "      <td>22.15486</td>\n",
       "      <td>42.278309</td>\n",
       "      <td>61253.132433</td>\n",
       "      <td>55169.31783</td>\n",
       "      <td>66990.828351</td>\n",
       "      <td>54279.470173</td>\n",
       "      <td>68698.893162</td>\n",
       "      <td>55941.835872</td>\n",
       "      <td>-0.06958</td>\n",
       "      <td>-0.107142</td>\n",
       "      <td>-0.084215</td>\n",
       "      <td>59139.77928</td>\n",
       "      <td>2.574343e+10</td>\n",
       "      <td>59677.162996</td>\n",
       "      <td>61348.050814</td>\n",
       "      <td>61081.270505</td>\n",
       "      <td>24.984948</td>\n",
       "      <td>40.826921</td>\n",
       "      <td>45.873479</td>\n",
       "      <td>61899.286405</td>\n",
       "      <td>56209.883463</td>\n",
       "      <td>67431.66002</td>\n",
       "      <td>55447.676724</td>\n",
       "      <td>68404.389504</td>\n",
       "      <td>56922.374741</td>\n",
       "      <td>-0.021651</td>\n",
       "      <td>-0.040894</td>\n",
       "      <td>-0.03096</td>\n",
       "      <td>60082.911668</td>\n",
       "      <td>2.967655e+10</td>\n",
       "      <td>59945.854855</td>\n",
       "      <td>61663.518176</td>\n",
       "      <td>61215.166452</td>\n",
       "      <td>32.470137</td>\n",
       "      <td>46.480606</td>\n",
       "      <td>46.830976</td>\n",
       "      <td>62428.520747</td>\n",
       "      <td>56204.162415</td>\n",
       "      <td>68164.288708</td>\n",
       "      <td>55888.221212</td>\n",
       "      <td>68312.642859</td>\n",
       "      <td>57212.326578</td>\n",
       "      <td>-0.060233</td>\n",
       "      <td>-0.019013</td>\n",
       "      <td>-0.039305</td>\n",
       "      <td>58459.255517</td>\n",
       "      <td>3.785126e+10</td>\n",
       "      <td>59877.326448</td>\n",
       "      <td>61889.319105</td>\n",
       "      <td>61293.252988</td>\n",
       "      <td>24.389231</td>\n",
       "      <td>43.428966</td>\n",
       "      <td>42.785524</td>\n",
       "      <td>65326.121381</td>\n",
       "      <td>54846.93129</td>\n",
       "      <td>68768.178108</td>\n",
       "      <td>56279.960359</td>\n",
       "      <td>68274.635672</td>\n",
       "      <td>57389.229444</td>\n",
       "      <td>-0.109518</td>\n",
       "      <td>-0.051013</td>\n",
       "      <td>-0.11743</td>\n",
       "      <td>56987.322339</td>\n",
       "      <td>4.182852e+10</td>\n",
       "      <td>60586.361913</td>\n",
       "      <td>62379.328189</td>\n",
       "      <td>61488.70109</td>\n",
       "      <td>12.748338</td>\n",
       "      <td>38.520043</td>\n",
       "      <td>42.879731</td>\n",
       "      <td>68263.001108</td>\n",
       "      <td>54785.940473</td>\n",
       "      <td>69539.546825</td>\n",
       "      <td>57245.815525</td>\n",
       "      <td>68068.955131</td>\n",
       "      <td>57932.710134</td>\n",
       "      <td>-0.118666</td>\n",
       "      <td>-0.097316</td>\n",
       "      <td>-0.116717</td>\n",
       "      <td>60603.655867</td>\n",
       "      <td>3.920073e+10</td>\n",
       "      <td>62385.8817</td>\n",
       "      <td>63149.61474</td>\n",
       "      <td>61799.141004</td>\n",
       "      <td>19.052054</td>\n",
       "      <td>42.983889</td>\n",
       "      <td>53.916567</td>\n",
       "      <td>67842.450399</td>\n",
       "      <td>58275.696387</td>\n",
       "      <td>69194.672675</td>\n",
       "      <td>59716.628317</td>\n",
       "      <td>67494.804271</td>\n",
       "      <td>59036.448566</td>\n",
       "      <td>-0.059418</td>\n",
       "      <td>-0.041797</td>\n",
       "      <td>-0.022805</td>\n",
       "      <td>60448.562513</td>\n",
       "      <td>4.897840e+10</td>\n",
       "      <td>63276.994617</td>\n",
       "      <td>63513.32315</td>\n",
       "      <td>61881.588255</td>\n",
       "      <td>13.327933</td>\n",
       "      <td>42.21377</td>\n",
       "      <td>49.710343</td>\n",
       "      <td>67800.347651</td>\n",
       "      <td>59849.155968</td>\n",
       "      <td>68751.490579</td>\n",
       "      <td>60669.725278</td>\n",
       "      <td>67481.863002</td>\n",
       "      <td>59065.779833</td>\n",
       "      <td>-0.070103</td>\n",
       "      <td>-0.011015</td>\n",
       "      <td>-0.018434</td>\n",
       "      <td>63933.835443</td>\n",
       "      <td>3.210721e+10</td>\n",
       "      <td>64691.210669</td>\n",
       "      <td>63951.146098</td>\n",
       "      <td>61980.417616</td>\n",
       "      <td>19.894097</td>\n",
       "      <td>58.463839</td>\n",
       "      <td>51.356826</td>\n",
       "      <td>66019.841499</td>\n",
       "      <td>63452.495178</td>\n",
       "      <td>68342.218382</td>\n",
       "      <td>61321.556705</td>\n",
       "      <td>67712.385041</td>\n",
       "      <td>58654.501691</td>\n",
       "      <td>-0.017326</td>\n",
       "      <td>0.04005</td>\n",
       "      <td>0.045257</td>\n",
       "      <td>65648.977791</td>\n",
       "      <td>2.608845e+10</td>\n",
       "      <td>65069.898282</td>\n",
       "      <td>63953.619049</td>\n",
       "      <td>61845.699145</td>\n",
       "      <td>64.075326</td>\n",
       "      <td>63.698344</td>\n",
       "      <td>58.495402</td>\n",
       "      <td>65886.547343</td>\n",
       "      <td>64036.67692</td>\n",
       "      <td>68729.024295</td>\n",
       "      <td>60397.460692</td>\n",
       "      <td>67672.775137</td>\n",
       "      <td>58361.146939</td>\n",
       "      <td>-0.022286</td>\n",
       "      <td>0.061641</td>\n",
       "      <td>0.062126</td>\n",
       "      <td>64660.335353</td>\n",
       "      <td>2.967769e+10</td>\n",
       "      <td>64780.358528</td>\n",
       "      <td>63711.424943</td>\n",
       "      <td>61583.404066</td>\n",
       "      <td>66.004936</td>\n",
       "      <td>59.652531</td>\n",
       "      <td>55.995823</td>\n",
       "      <td>67429.765161</td>\n",
       "      <td>63092.017959</td>\n",
       "      <td>68630.632904</td>\n",
       "      <td>59686.40524</td>\n",
       "      <td>67386.567713</td>\n",
       "      <td>58405.277967</td>\n",
       "      <td>-0.043727</td>\n",
       "      <td>0.038167</td>\n",
       "      <td>0.125459</td>\n",
       "      <td>64432.047947</td>\n",
       "      <td>3.687263e+10</td>\n",
       "      <td>64840.370115</td>\n",
       "      <td>63575.866313</td>\n",
       "      <td>61371.201909</td>\n",
       "      <td>66.665604</td>\n",
       "      <td>57.239491</td>\n",
       "      <td>56.526866</td>\n",
       "      <td>68706.395361</td>\n",
       "      <td>62998.059836</td>\n",
       "      <td>68505.937526</td>\n",
       "      <td>59505.222017</td>\n",
       "      <td>67194.517141</td>\n",
       "      <td>58248.611642</td>\n",
       "      <td>0.020249</td>\n",
       "      <td>0.060303</td>\n",
       "      <td>0.120792</td>\n",
       "      <td>65005.64516</td>\n",
       "      <td>3.545758e+10</td>\n",
       "      <td>65044.531199</td>\n",
       "      <td>63453.554651</td>\n",
       "      <td>61160.109078</td>\n",
       "      <td>68.231229</td>\n",
       "      <td>63.425941</td>\n",
       "      <td>54.563036</td>\n",
       "      <td>69214.042713</td>\n",
       "      <td>61978.885382</td>\n",
       "      <td>68399.922613</td>\n",
       "      <td>59374.269133</td>\n",
       "      <td>67003.883107</td>\n",
       "      <td>58153.254925</td>\n",
       "      <td>0.054236</td>\n",
       "      <td>0.108536</td>\n",
       "      <td>0.153911</td>\n",
       "      <td>65061.054407</td>\n",
       "      <td>4.864856e+10</td>\n",
       "      <td>65063.974219</td>\n",
       "      <td>63231.827435</td>\n",
       "      <td>60894.899693</td>\n",
       "      <td>58.928141</td>\n",
       "      <td>67.978953</td>\n",
       "      <td>48.080604</td>\n",
       "      <td>70025.25448</td>\n",
       "      <td>59829.959017</td>\n",
       "      <td>68246.099571</td>\n",
       "      <td>58751.329383</td>\n",
       "      <td>66702.035791</td>\n",
       "      <td>58057.464818</td>\n",
       "      <td>0.062267</td>\n",
       "      <td>0.073541</td>\n",
       "      <td>0.130072</td>\n",
       "      <td>67145.374935</td>\n",
       "      <td>4.120791e+10</td>\n",
       "      <td>65065.434126</td>\n",
       "      <td>62970.509296</td>\n",
       "      <td>60607.578679</td>\n",
       "      <td>72.045719</td>\n",
       "      <td>68.443308</td>\n",
       "      <td>54.338723</td>\n",
       "      <td>70214.949029</td>\n",
       "      <td>58114.796682</td>\n",
       "      <td>67904.88746</td>\n",
       "      <td>58374.704306</td>\n",
       "      <td>66389.840782</td>\n",
       "      <td>58117.66308</td>\n",
       "      <td>0.089991</td>\n",
       "      <td>0.061953</td>\n",
       "      <td>0.227254</td>\n",
       "    </tr>\n",
       "  </tbody>\n",
       "</table>\n",
       "</div>"
      ],
      "text/plain": [
       "                  prices  total_volumes  y         ema_5        ema_15  \\\n",
       "dates                                                                    \n",
       "2021-11-24  57748.793174   3.642119e+10  1  58303.193913  60355.513019   \n",
       "\n",
       "                  ema_30  rsi_sma_7  rsi_sma_14  rsi_sma_21  \\\n",
       "dates                                                         \n",
       "2021-11-24  60582.946274  38.680219   27.686349   40.804333   \n",
       "\n",
       "            bollinger_upper_5  bollinger_lower_5  bollinger_upper_10  \\\n",
       "dates                                                                  \n",
       "2021-11-24        61165.86434       55561.174256         65840.88554   \n",
       "\n",
       "            bollinger_lower_10  bollinger_upper_20  bollinger_lower_20  \\\n",
       "dates                                                                    \n",
       "2021-11-24        54047.104549        68732.741026         55369.77309   \n",
       "\n",
       "                rc_5     rc_15     rc_30  pricesminus1  total_volumesminus1  \\\n",
       "dates                                                                         \n",
       "2021-11-24  0.013362 -0.145943 -0.055978  56386.856853         3.400147e+10   \n",
       "\n",
       "             ema_5minus1  ema_15minus1  ema_30minus1  rsi_sma_7minus1  \\\n",
       "dates                                                                   \n",
       "2021-11-24  58580.394282  60727.901569  60778.405108        23.139259   \n",
       "\n",
       "            rsi_sma_14minus1  rsi_sma_21minus1  bollinger_upper_5minus1  \\\n",
       "dates                                                                     \n",
       "2021-11-24          22.15486         42.278309             61253.132433   \n",
       "\n",
       "            bollinger_lower_5minus1  bollinger_upper_10minus1  \\\n",
       "dates                                                           \n",
       "2021-11-24              55169.31783              66990.828351   \n",
       "\n",
       "            bollinger_lower_10minus1  bollinger_upper_20minus1  \\\n",
       "dates                                                            \n",
       "2021-11-24              54279.470173              68698.893162   \n",
       "\n",
       "            bollinger_lower_20minus1  rc_5minus1  rc_15minus1  rc_30minus1  \\\n",
       "dates                                                                        \n",
       "2021-11-24              55941.835872    -0.06958    -0.107142    -0.084215   \n",
       "\n",
       "            pricesminus2  total_volumesminus2   ema_5minus2  ema_15minus2  \\\n",
       "dates                                                                       \n",
       "2021-11-24   59139.77928         2.574343e+10  59677.162996  61348.050814   \n",
       "\n",
       "            ema_30minus2  rsi_sma_7minus2  rsi_sma_14minus2  rsi_sma_21minus2  \\\n",
       "dates                                                                           \n",
       "2021-11-24  61081.270505        24.984948         40.826921         45.873479   \n",
       "\n",
       "            bollinger_upper_5minus2  bollinger_lower_5minus2  \\\n",
       "dates                                                          \n",
       "2021-11-24             61899.286405             56209.883463   \n",
       "\n",
       "            bollinger_upper_10minus2  bollinger_lower_10minus2  \\\n",
       "dates                                                            \n",
       "2021-11-24               67431.66002              55447.676724   \n",
       "\n",
       "            bollinger_upper_20minus2  bollinger_lower_20minus2  rc_5minus2  \\\n",
       "dates                                                                        \n",
       "2021-11-24              68404.389504              56922.374741   -0.021651   \n",
       "\n",
       "            rc_15minus2  rc_30minus2  pricesminus3  total_volumesminus3  \\\n",
       "dates                                                                     \n",
       "2021-11-24    -0.040894     -0.03096  60082.911668         2.967655e+10   \n",
       "\n",
       "             ema_5minus3  ema_15minus3  ema_30minus3  rsi_sma_7minus3  \\\n",
       "dates                                                                   \n",
       "2021-11-24  59945.854855  61663.518176  61215.166452        32.470137   \n",
       "\n",
       "            rsi_sma_14minus3  rsi_sma_21minus3  bollinger_upper_5minus3  \\\n",
       "dates                                                                     \n",
       "2021-11-24         46.480606         46.830976             62428.520747   \n",
       "\n",
       "            bollinger_lower_5minus3  bollinger_upper_10minus3  \\\n",
       "dates                                                           \n",
       "2021-11-24             56204.162415              68164.288708   \n",
       "\n",
       "            bollinger_lower_10minus3  bollinger_upper_20minus3  \\\n",
       "dates                                                            \n",
       "2021-11-24              55888.221212              68312.642859   \n",
       "\n",
       "            bollinger_lower_20minus3  rc_5minus3  rc_15minus3  rc_30minus3  \\\n",
       "dates                                                                        \n",
       "2021-11-24              57212.326578   -0.060233    -0.019013    -0.039305   \n",
       "\n",
       "            pricesminus4  total_volumesminus4   ema_5minus4  ema_15minus4  \\\n",
       "dates                                                                       \n",
       "2021-11-24  58459.255517         3.785126e+10  59877.326448  61889.319105   \n",
       "\n",
       "            ema_30minus4  rsi_sma_7minus4  rsi_sma_14minus4  rsi_sma_21minus4  \\\n",
       "dates                                                                           \n",
       "2021-11-24  61293.252988        24.389231         43.428966         42.785524   \n",
       "\n",
       "            bollinger_upper_5minus4  bollinger_lower_5minus4  \\\n",
       "dates                                                          \n",
       "2021-11-24             65326.121381              54846.93129   \n",
       "\n",
       "            bollinger_upper_10minus4  bollinger_lower_10minus4  \\\n",
       "dates                                                            \n",
       "2021-11-24              68768.178108              56279.960359   \n",
       "\n",
       "            bollinger_upper_20minus4  bollinger_lower_20minus4  rc_5minus4  \\\n",
       "dates                                                                        \n",
       "2021-11-24              68274.635672              57389.229444   -0.109518   \n",
       "\n",
       "            rc_15minus4  rc_30minus4  pricesminus5  total_volumesminus5  \\\n",
       "dates                                                                     \n",
       "2021-11-24    -0.051013     -0.11743  56987.322339         4.182852e+10   \n",
       "\n",
       "             ema_5minus5  ema_15minus5  ema_30minus5  rsi_sma_7minus5  \\\n",
       "dates                                                                   \n",
       "2021-11-24  60586.361913  62379.328189   61488.70109        12.748338   \n",
       "\n",
       "            rsi_sma_14minus5  rsi_sma_21minus5  bollinger_upper_5minus5  \\\n",
       "dates                                                                     \n",
       "2021-11-24         38.520043         42.879731             68263.001108   \n",
       "\n",
       "            bollinger_lower_5minus5  bollinger_upper_10minus5  \\\n",
       "dates                                                           \n",
       "2021-11-24             54785.940473              69539.546825   \n",
       "\n",
       "            bollinger_lower_10minus5  bollinger_upper_20minus5  \\\n",
       "dates                                                            \n",
       "2021-11-24              57245.815525              68068.955131   \n",
       "\n",
       "            bollinger_lower_20minus5  rc_5minus5  rc_15minus5  rc_30minus5  \\\n",
       "dates                                                                        \n",
       "2021-11-24              57932.710134   -0.118666    -0.097316    -0.116717   \n",
       "\n",
       "            pricesminus6  total_volumesminus6  ema_5minus6  ema_15minus6  \\\n",
       "dates                                                                      \n",
       "2021-11-24  60603.655867         3.920073e+10   62385.8817   63149.61474   \n",
       "\n",
       "            ema_30minus6  rsi_sma_7minus6  rsi_sma_14minus6  rsi_sma_21minus6  \\\n",
       "dates                                                                           \n",
       "2021-11-24  61799.141004        19.052054         42.983889         53.916567   \n",
       "\n",
       "            bollinger_upper_5minus6  bollinger_lower_5minus6  \\\n",
       "dates                                                          \n",
       "2021-11-24             67842.450399             58275.696387   \n",
       "\n",
       "            bollinger_upper_10minus6  bollinger_lower_10minus6  \\\n",
       "dates                                                            \n",
       "2021-11-24              69194.672675              59716.628317   \n",
       "\n",
       "            bollinger_upper_20minus6  bollinger_lower_20minus6  rc_5minus6  \\\n",
       "dates                                                                        \n",
       "2021-11-24              67494.804271              59036.448566   -0.059418   \n",
       "\n",
       "            rc_15minus6  rc_30minus6  pricesminus7  total_volumesminus7  \\\n",
       "dates                                                                     \n",
       "2021-11-24    -0.041797    -0.022805  60448.562513         4.897840e+10   \n",
       "\n",
       "             ema_5minus7  ema_15minus7  ema_30minus7  rsi_sma_7minus7  \\\n",
       "dates                                                                   \n",
       "2021-11-24  63276.994617   63513.32315  61881.588255        13.327933   \n",
       "\n",
       "            rsi_sma_14minus7  rsi_sma_21minus7  bollinger_upper_5minus7  \\\n",
       "dates                                                                     \n",
       "2021-11-24          42.21377         49.710343             67800.347651   \n",
       "\n",
       "            bollinger_lower_5minus7  bollinger_upper_10minus7  \\\n",
       "dates                                                           \n",
       "2021-11-24             59849.155968              68751.490579   \n",
       "\n",
       "            bollinger_lower_10minus7  bollinger_upper_20minus7  \\\n",
       "dates                                                            \n",
       "2021-11-24              60669.725278              67481.863002   \n",
       "\n",
       "            bollinger_lower_20minus7  rc_5minus7  rc_15minus7  rc_30minus7  \\\n",
       "dates                                                                        \n",
       "2021-11-24              59065.779833   -0.070103    -0.011015    -0.018434   \n",
       "\n",
       "            pricesminus8  total_volumesminus8   ema_5minus8  ema_15minus8  \\\n",
       "dates                                                                       \n",
       "2021-11-24  63933.835443         3.210721e+10  64691.210669  63951.146098   \n",
       "\n",
       "            ema_30minus8  rsi_sma_7minus8  rsi_sma_14minus8  rsi_sma_21minus8  \\\n",
       "dates                                                                           \n",
       "2021-11-24  61980.417616        19.894097         58.463839         51.356826   \n",
       "\n",
       "            bollinger_upper_5minus8  bollinger_lower_5minus8  \\\n",
       "dates                                                          \n",
       "2021-11-24             66019.841499             63452.495178   \n",
       "\n",
       "            bollinger_upper_10minus8  bollinger_lower_10minus8  \\\n",
       "dates                                                            \n",
       "2021-11-24              68342.218382              61321.556705   \n",
       "\n",
       "            bollinger_upper_20minus8  bollinger_lower_20minus8  rc_5minus8  \\\n",
       "dates                                                                        \n",
       "2021-11-24              67712.385041              58654.501691   -0.017326   \n",
       "\n",
       "            rc_15minus8  rc_30minus8  pricesminus9  total_volumesminus9  \\\n",
       "dates                                                                     \n",
       "2021-11-24      0.04005     0.045257  65648.977791         2.608845e+10   \n",
       "\n",
       "             ema_5minus9  ema_15minus9  ema_30minus9  rsi_sma_7minus9  \\\n",
       "dates                                                                   \n",
       "2021-11-24  65069.898282  63953.619049  61845.699145        64.075326   \n",
       "\n",
       "            rsi_sma_14minus9  rsi_sma_21minus9  bollinger_upper_5minus9  \\\n",
       "dates                                                                     \n",
       "2021-11-24         63.698344         58.495402             65886.547343   \n",
       "\n",
       "            bollinger_lower_5minus9  bollinger_upper_10minus9  \\\n",
       "dates                                                           \n",
       "2021-11-24              64036.67692              68729.024295   \n",
       "\n",
       "            bollinger_lower_10minus9  bollinger_upper_20minus9  \\\n",
       "dates                                                            \n",
       "2021-11-24              60397.460692              67672.775137   \n",
       "\n",
       "            bollinger_lower_20minus9  rc_5minus9  rc_15minus9  rc_30minus9  \\\n",
       "dates                                                                        \n",
       "2021-11-24              58361.146939   -0.022286     0.061641     0.062126   \n",
       "\n",
       "            pricesminus10  total_volumesminus10  ema_5minus10  ema_15minus10  \\\n",
       "dates                                                                          \n",
       "2021-11-24   64660.335353          2.967769e+10  64780.358528   63711.424943   \n",
       "\n",
       "            ema_30minus10  rsi_sma_7minus10  rsi_sma_14minus10  \\\n",
       "dates                                                            \n",
       "2021-11-24   61583.404066         66.004936          59.652531   \n",
       "\n",
       "            rsi_sma_21minus10  bollinger_upper_5minus10  \\\n",
       "dates                                                     \n",
       "2021-11-24          55.995823              67429.765161   \n",
       "\n",
       "            bollinger_lower_5minus10  bollinger_upper_10minus10  \\\n",
       "dates                                                             \n",
       "2021-11-24              63092.017959               68630.632904   \n",
       "\n",
       "            bollinger_lower_10minus10  bollinger_upper_20minus10  \\\n",
       "dates                                                              \n",
       "2021-11-24                59686.40524               67386.567713   \n",
       "\n",
       "            bollinger_lower_20minus10  rc_5minus10  rc_15minus10  \\\n",
       "dates                                                              \n",
       "2021-11-24               58405.277967    -0.043727      0.038167   \n",
       "\n",
       "            rc_30minus10  pricesminus11  total_volumesminus11  ema_5minus11  \\\n",
       "dates                                                                         \n",
       "2021-11-24      0.125459   64432.047947          3.687263e+10  64840.370115   \n",
       "\n",
       "            ema_15minus11  ema_30minus11  rsi_sma_7minus11  rsi_sma_14minus11  \\\n",
       "dates                                                                           \n",
       "2021-11-24   63575.866313   61371.201909         66.665604          57.239491   \n",
       "\n",
       "            rsi_sma_21minus11  bollinger_upper_5minus11  \\\n",
       "dates                                                     \n",
       "2021-11-24          56.526866              68706.395361   \n",
       "\n",
       "            bollinger_lower_5minus11  bollinger_upper_10minus11  \\\n",
       "dates                                                             \n",
       "2021-11-24              62998.059836               68505.937526   \n",
       "\n",
       "            bollinger_lower_10minus11  bollinger_upper_20minus11  \\\n",
       "dates                                                              \n",
       "2021-11-24               59505.222017               67194.517141   \n",
       "\n",
       "            bollinger_lower_20minus11  rc_5minus11  rc_15minus11  \\\n",
       "dates                                                              \n",
       "2021-11-24               58248.611642     0.020249      0.060303   \n",
       "\n",
       "            rc_30minus11  pricesminus12  total_volumesminus12  ema_5minus12  \\\n",
       "dates                                                                         \n",
       "2021-11-24      0.120792    65005.64516          3.545758e+10  65044.531199   \n",
       "\n",
       "            ema_15minus12  ema_30minus12  rsi_sma_7minus12  rsi_sma_14minus12  \\\n",
       "dates                                                                           \n",
       "2021-11-24   63453.554651   61160.109078         68.231229          63.425941   \n",
       "\n",
       "            rsi_sma_21minus12  bollinger_upper_5minus12  \\\n",
       "dates                                                     \n",
       "2021-11-24          54.563036              69214.042713   \n",
       "\n",
       "            bollinger_lower_5minus12  bollinger_upper_10minus12  \\\n",
       "dates                                                             \n",
       "2021-11-24              61978.885382               68399.922613   \n",
       "\n",
       "            bollinger_lower_10minus12  bollinger_upper_20minus12  \\\n",
       "dates                                                              \n",
       "2021-11-24               59374.269133               67003.883107   \n",
       "\n",
       "            bollinger_lower_20minus12  rc_5minus12  rc_15minus12  \\\n",
       "dates                                                              \n",
       "2021-11-24               58153.254925     0.054236      0.108536   \n",
       "\n",
       "            rc_30minus12  pricesminus13  total_volumesminus13  ema_5minus13  \\\n",
       "dates                                                                         \n",
       "2021-11-24      0.153911   65061.054407          4.864856e+10  65063.974219   \n",
       "\n",
       "            ema_15minus13  ema_30minus13  rsi_sma_7minus13  rsi_sma_14minus13  \\\n",
       "dates                                                                           \n",
       "2021-11-24   63231.827435   60894.899693         58.928141          67.978953   \n",
       "\n",
       "            rsi_sma_21minus13  bollinger_upper_5minus13  \\\n",
       "dates                                                     \n",
       "2021-11-24          48.080604               70025.25448   \n",
       "\n",
       "            bollinger_lower_5minus13  bollinger_upper_10minus13  \\\n",
       "dates                                                             \n",
       "2021-11-24              59829.959017               68246.099571   \n",
       "\n",
       "            bollinger_lower_10minus13  bollinger_upper_20minus13  \\\n",
       "dates                                                              \n",
       "2021-11-24               58751.329383               66702.035791   \n",
       "\n",
       "            bollinger_lower_20minus13  rc_5minus13  rc_15minus13  \\\n",
       "dates                                                              \n",
       "2021-11-24               58057.464818     0.062267      0.073541   \n",
       "\n",
       "            rc_30minus13  pricesminus14  total_volumesminus14  ema_5minus14  \\\n",
       "dates                                                                         \n",
       "2021-11-24      0.130072   67145.374935          4.120791e+10  65065.434126   \n",
       "\n",
       "            ema_15minus14  ema_30minus14  rsi_sma_7minus14  rsi_sma_14minus14  \\\n",
       "dates                                                                           \n",
       "2021-11-24   62970.509296   60607.578679         72.045719          68.443308   \n",
       "\n",
       "            rsi_sma_21minus14  bollinger_upper_5minus14  \\\n",
       "dates                                                     \n",
       "2021-11-24          54.338723              70214.949029   \n",
       "\n",
       "            bollinger_lower_5minus14  bollinger_upper_10minus14  \\\n",
       "dates                                                             \n",
       "2021-11-24              58114.796682                67904.88746   \n",
       "\n",
       "            bollinger_lower_10minus14  bollinger_upper_20minus14  \\\n",
       "dates                                                              \n",
       "2021-11-24               58374.704306               66389.840782   \n",
       "\n",
       "            bollinger_lower_20minus14  rc_5minus14  rc_15minus14  rc_30minus14  \n",
       "dates                                                                           \n",
       "2021-11-24                58117.66308     0.089991      0.061953      0.227254  "
      ]
     },
     "execution_count": 152,
     "metadata": {},
     "output_type": "execute_result"
    }
   ],
   "source": [
    "print(df.shape)\n",
    "cutoff = 1100\n",
    "\n",
    "train = df[0:cutoff]\n",
    "print(train.shape)\n",
    "\n",
    "test = df[cutoff:df.shape[0]]\n",
    "print(test.shape)\n",
    "test.tail(1)"
   ]
  },
  {
   "cell_type": "code",
   "execution_count": 153,
   "id": "5d7f968b-55f3-4d34-9000-9b4eb4869b74",
   "metadata": {},
   "outputs": [
    {
     "name": "stdout",
     "output_type": "stream",
     "text": [
      "(1100, 255)\n",
      "(280, 255)\n",
      "(1100, 1)\n",
      "(280, 1)\n"
     ]
    }
   ],
   "source": [
    "X_train = train.drop(columns = [\"y\"]); print(X_train.shape)\n",
    "X_test = test.drop(columns = [\"y\"]); print(X_test.shape)\n",
    "y_train = train[[\"y\"]]; print(y_train.shape)\n",
    "y_test = test[[\"y\"]]; print(y_test.shape)"
   ]
  },
  {
   "cell_type": "code",
   "execution_count": 156,
   "id": "5fde33b8-c4e4-4ed6-9b88-e468766d23b9",
   "metadata": {},
   "outputs": [],
   "source": [
    "import tensorflow as tf\n",
    "\n",
    "model = tf.keras.models.Sequential()\n",
    "model.add(tf.keras.layers.Dense(units=200, activation='sigmoid', input_shape=(X_train.shape[1], )))\n",
    "model.add(tf.keras.layers.Dense(units=200, activation='sigmoid'))\n",
    "model.add(tf.keras.layers.Dense(units=3, activation='softmax'))\n",
    "\n",
    "LEARNING_RATE = 0.01\n",
    "optimizer = tf.keras.optimizers.Adam(learning_rate = LEARNING_RATE)\n",
    "\n",
    "model.compile(optimizer=optimizer, \n",
    "              loss='sparse_categorical_crossentropy', \n",
    "              metrics=['sparse_categorical_accuracy'])"
   ]
  },
  {
   "cell_type": "code",
   "execution_count": 157,
   "id": "4a866411-c3d9-46fb-aa5d-67dec36f9bfc",
   "metadata": {},
   "outputs": [
    {
     "name": "stdout",
     "output_type": "stream",
     "text": [
      "Model: \"sequential_5\"\n",
      "_________________________________________________________________\n",
      " Layer (type)                Output Shape              Param #   \n",
      "=================================================================\n",
      " dense_8 (Dense)             (None, 200)               51200     \n",
      "                                                                 \n",
      " dense_9 (Dense)             (None, 200)               40200     \n",
      "                                                                 \n",
      " dense_10 (Dense)            (None, 3)                 603       \n",
      "                                                                 \n",
      "=================================================================\n",
      "Total params: 92,003\n",
      "Trainable params: 92,003\n",
      "Non-trainable params: 0\n",
      "_________________________________________________________________\n"
     ]
    }
   ],
   "source": [
    "model.summary()"
   ]
  },
  {
   "cell_type": "code",
   "execution_count": 167,
   "id": "2ffea6de-b32d-4011-9575-471d927aef04",
   "metadata": {},
   "outputs": [
    {
     "data": {
      "application/vnd.jupyter.widget-view+json": {
       "model_id": "d320a3a978a34024b0e99497b849eb97",
       "version_major": 2,
       "version_minor": 0
      },
      "text/plain": [
       "0epoch [00:00, ?epoch/s]"
      ]
     },
     "metadata": {},
     "output_type": "display_data"
    },
    {
     "data": {
      "application/vnd.jupyter.widget-view+json": {
       "model_id": "6e0e2dd0b07947faacb0a659e8cf7f98",
       "version_major": 2,
       "version_minor": 0
      },
      "text/plain": [
       "  0%|          | 0.00/59.0 [00:00<?, ?batch/s]"
      ]
     },
     "metadata": {},
     "output_type": "display_data"
    },
    {
     "data": {
      "application/vnd.jupyter.widget-view+json": {
       "model_id": "282e1c55b30b4f7982e0507a0a7fcd52",
       "version_major": 2,
       "version_minor": 0
      },
      "text/plain": [
       "  0%|          | 0.00/59.0 [00:00<?, ?batch/s]"
      ]
     },
     "metadata": {},
     "output_type": "display_data"
    },
    {
     "data": {
      "application/vnd.jupyter.widget-view+json": {
       "model_id": "8c941b690c774bc1873ea4c70614faaf",
       "version_major": 2,
       "version_minor": 0
      },
      "text/plain": [
       "  0%|          | 0.00/59.0 [00:00<?, ?batch/s]"
      ]
     },
     "metadata": {},
     "output_type": "display_data"
    },
    {
     "data": {
      "application/vnd.jupyter.widget-view+json": {
       "model_id": "280166633f31495b82bbab0855122749",
       "version_major": 2,
       "version_minor": 0
      },
      "text/plain": [
       "  0%|          | 0.00/59.0 [00:00<?, ?batch/s]"
      ]
     },
     "metadata": {},
     "output_type": "display_data"
    },
    {
     "data": {
      "application/vnd.jupyter.widget-view+json": {
       "model_id": "8468bdebc1434916a18ec41bd3f1df6c",
       "version_major": 2,
       "version_minor": 0
      },
      "text/plain": [
       "  0%|          | 0.00/59.0 [00:00<?, ?batch/s]"
      ]
     },
     "metadata": {},
     "output_type": "display_data"
    },
    {
     "data": {
      "application/vnd.jupyter.widget-view+json": {
       "model_id": "6c67f7109de444719d81024d1ada9203",
       "version_major": 2,
       "version_minor": 0
      },
      "text/plain": [
       "  0%|          | 0.00/59.0 [00:00<?, ?batch/s]"
      ]
     },
     "metadata": {},
     "output_type": "display_data"
    },
    {
     "data": {
      "application/vnd.jupyter.widget-view+json": {
       "model_id": "cfea9ad623854099963894b6d91a1653",
       "version_major": 2,
       "version_minor": 0
      },
      "text/plain": [
       "  0%|          | 0.00/59.0 [00:00<?, ?batch/s]"
      ]
     },
     "metadata": {},
     "output_type": "display_data"
    },
    {
     "data": {
      "application/vnd.jupyter.widget-view+json": {
       "model_id": "20710cadd72a4c73b142638c2dfc139d",
       "version_major": 2,
       "version_minor": 0
      },
      "text/plain": [
       "  0%|          | 0.00/59.0 [00:00<?, ?batch/s]"
      ]
     },
     "metadata": {},
     "output_type": "display_data"
    },
    {
     "data": {
      "application/vnd.jupyter.widget-view+json": {
       "model_id": "37b30ab4e31d4129b4832ca5f6552340",
       "version_major": 2,
       "version_minor": 0
      },
      "text/plain": [
       "  0%|          | 0.00/59.0 [00:00<?, ?batch/s]"
      ]
     },
     "metadata": {},
     "output_type": "display_data"
    },
    {
     "data": {
      "application/vnd.jupyter.widget-view+json": {
       "model_id": "07dda7c128414e1f880fa9f0d5b45830",
       "version_major": 2,
       "version_minor": 0
      },
      "text/plain": [
       "  0%|          | 0.00/59.0 [00:00<?, ?batch/s]"
      ]
     },
     "metadata": {},
     "output_type": "display_data"
    },
    {
     "data": {
      "application/vnd.jupyter.widget-view+json": {
       "model_id": "aa688d7c049c48a7bcf67d69eab88a15",
       "version_major": 2,
       "version_minor": 0
      },
      "text/plain": [
       "  0%|          | 0.00/59.0 [00:00<?, ?batch/s]"
      ]
     },
     "metadata": {},
     "output_type": "display_data"
    },
    {
     "data": {
      "application/vnd.jupyter.widget-view+json": {
       "model_id": "a1b2b9b5899349ecacf9d81ca7b66373",
       "version_major": 2,
       "version_minor": 0
      },
      "text/plain": [
       "  0%|          | 0.00/59.0 [00:00<?, ?batch/s]"
      ]
     },
     "metadata": {},
     "output_type": "display_data"
    },
    {
     "data": {
      "application/vnd.jupyter.widget-view+json": {
       "model_id": "2d3b4e7dc5c7439c862c59b6e27a5991",
       "version_major": 2,
       "version_minor": 0
      },
      "text/plain": [
       "  0%|          | 0.00/59.0 [00:00<?, ?batch/s]"
      ]
     },
     "metadata": {},
     "output_type": "display_data"
    },
    {
     "data": {
      "application/vnd.jupyter.widget-view+json": {
       "model_id": "0a6b138c5552405eaa6f2008baf0d26d",
       "version_major": 2,
       "version_minor": 0
      },
      "text/plain": [
       "  0%|          | 0.00/59.0 [00:00<?, ?batch/s]"
      ]
     },
     "metadata": {},
     "output_type": "display_data"
    },
    {
     "data": {
      "application/vnd.jupyter.widget-view+json": {
       "model_id": "683668a1937b4d369fe022d66aed9089",
       "version_major": 2,
       "version_minor": 0
      },
      "text/plain": [
       "  0%|          | 0.00/59.0 [00:00<?, ?batch/s]"
      ]
     },
     "metadata": {},
     "output_type": "display_data"
    },
    {
     "data": {
      "application/vnd.jupyter.widget-view+json": {
       "model_id": "7ce7c6ab3bd244e3bd6098de88e33497",
       "version_major": 2,
       "version_minor": 0
      },
      "text/plain": [
       "  0%|          | 0.00/59.0 [00:00<?, ?batch/s]"
      ]
     },
     "metadata": {},
     "output_type": "display_data"
    },
    {
     "data": {
      "application/vnd.jupyter.widget-view+json": {
       "model_id": "e909d03b4f6d4757b574170eeab789f8",
       "version_major": 2,
       "version_minor": 0
      },
      "text/plain": [
       "  0%|          | 0.00/59.0 [00:00<?, ?batch/s]"
      ]
     },
     "metadata": {},
     "output_type": "display_data"
    },
    {
     "data": {
      "application/vnd.jupyter.widget-view+json": {
       "model_id": "3d73f4f0292f4848be2f8dc26ba2b2a0",
       "version_major": 2,
       "version_minor": 0
      },
      "text/plain": [
       "  0%|          | 0.00/59.0 [00:00<?, ?batch/s]"
      ]
     },
     "metadata": {},
     "output_type": "display_data"
    },
    {
     "data": {
      "application/vnd.jupyter.widget-view+json": {
       "model_id": "4aa06f1a88ee4cf3b453d52189aaa2a6",
       "version_major": 2,
       "version_minor": 0
      },
      "text/plain": [
       "  0%|          | 0.00/59.0 [00:00<?, ?batch/s]"
      ]
     },
     "metadata": {},
     "output_type": "display_data"
    },
    {
     "data": {
      "application/vnd.jupyter.widget-view+json": {
       "model_id": "e6e7e437d3524682ae08f41d0edadb8f",
       "version_major": 2,
       "version_minor": 0
      },
      "text/plain": [
       "  0%|          | 0.00/59.0 [00:00<?, ?batch/s]"
      ]
     },
     "metadata": {},
     "output_type": "display_data"
    },
    {
     "data": {
      "application/vnd.jupyter.widget-view+json": {
       "model_id": "5f9551c046e74b0da1ceac562d02af22",
       "version_major": 2,
       "version_minor": 0
      },
      "text/plain": [
       "  0%|          | 0.00/59.0 [00:00<?, ?batch/s]"
      ]
     },
     "metadata": {},
     "output_type": "display_data"
    },
    {
     "data": {
      "application/vnd.jupyter.widget-view+json": {
       "model_id": "6fa10e78106643e2aa0ecf321220aa49",
       "version_major": 2,
       "version_minor": 0
      },
      "text/plain": [
       "  0%|          | 0.00/59.0 [00:00<?, ?batch/s]"
      ]
     },
     "metadata": {},
     "output_type": "display_data"
    },
    {
     "data": {
      "application/vnd.jupyter.widget-view+json": {
       "model_id": "53ed2e9723354eed88eedb70f7db968d",
       "version_major": 2,
       "version_minor": 0
      },
      "text/plain": [
       "  0%|          | 0.00/59.0 [00:00<?, ?batch/s]"
      ]
     },
     "metadata": {},
     "output_type": "display_data"
    },
    {
     "data": {
      "application/vnd.jupyter.widget-view+json": {
       "model_id": "c1993562aa294c83a75750440e0316a7",
       "version_major": 2,
       "version_minor": 0
      },
      "text/plain": [
       "  0%|          | 0.00/59.0 [00:00<?, ?batch/s]"
      ]
     },
     "metadata": {},
     "output_type": "display_data"
    },
    {
     "data": {
      "application/vnd.jupyter.widget-view+json": {
       "model_id": "541a773ad653475baa5620a71474242d",
       "version_major": 2,
       "version_minor": 0
      },
      "text/plain": [
       "  0%|          | 0.00/59.0 [00:00<?, ?batch/s]"
      ]
     },
     "metadata": {},
     "output_type": "display_data"
    },
    {
     "data": {
      "application/vnd.jupyter.widget-view+json": {
       "model_id": "b7f1dceb9e094bbba236335a16a3d44f",
       "version_major": 2,
       "version_minor": 0
      },
      "text/plain": [
       "  0%|          | 0.00/59.0 [00:00<?, ?batch/s]"
      ]
     },
     "metadata": {},
     "output_type": "display_data"
    },
    {
     "data": {
      "application/vnd.jupyter.widget-view+json": {
       "model_id": "83b447e6ab18498eac8ae522538451f5",
       "version_major": 2,
       "version_minor": 0
      },
      "text/plain": [
       "  0%|          | 0.00/59.0 [00:00<?, ?batch/s]"
      ]
     },
     "metadata": {},
     "output_type": "display_data"
    },
    {
     "data": {
      "application/vnd.jupyter.widget-view+json": {
       "model_id": "5c098c339ccc4812be44d0cf779a9e13",
       "version_major": 2,
       "version_minor": 0
      },
      "text/plain": [
       "  0%|          | 0.00/59.0 [00:00<?, ?batch/s]"
      ]
     },
     "metadata": {},
     "output_type": "display_data"
    },
    {
     "data": {
      "application/vnd.jupyter.widget-view+json": {
       "model_id": "c5f68990cd81489181567e271a83d3c5",
       "version_major": 2,
       "version_minor": 0
      },
      "text/plain": [
       "  0%|          | 0.00/59.0 [00:00<?, ?batch/s]"
      ]
     },
     "metadata": {},
     "output_type": "display_data"
    },
    {
     "data": {
      "application/vnd.jupyter.widget-view+json": {
       "model_id": "1ecef544650d49d3a8e882e53febb12c",
       "version_major": 2,
       "version_minor": 0
      },
      "text/plain": [
       "  0%|          | 0.00/59.0 [00:00<?, ?batch/s]"
      ]
     },
     "metadata": {},
     "output_type": "display_data"
    },
    {
     "data": {
      "application/vnd.jupyter.widget-view+json": {
       "model_id": "e99bc28344db4a4ca81913824e730da5",
       "version_major": 2,
       "version_minor": 0
      },
      "text/plain": [
       "  0%|          | 0.00/59.0 [00:00<?, ?batch/s]"
      ]
     },
     "metadata": {},
     "output_type": "display_data"
    },
    {
     "data": {
      "application/vnd.jupyter.widget-view+json": {
       "model_id": "382a03ceedef493989ebe179f424f0aa",
       "version_major": 2,
       "version_minor": 0
      },
      "text/plain": [
       "  0%|          | 0.00/59.0 [00:00<?, ?batch/s]"
      ]
     },
     "metadata": {},
     "output_type": "display_data"
    },
    {
     "data": {
      "application/vnd.jupyter.widget-view+json": {
       "model_id": "e2495f80dc84424382bae93a383723e7",
       "version_major": 2,
       "version_minor": 0
      },
      "text/plain": [
       "  0%|          | 0.00/59.0 [00:00<?, ?batch/s]"
      ]
     },
     "metadata": {},
     "output_type": "display_data"
    },
    {
     "data": {
      "application/vnd.jupyter.widget-view+json": {
       "model_id": "7fd65d917c504069a94ab39f5079d265",
       "version_major": 2,
       "version_minor": 0
      },
      "text/plain": [
       "  0%|          | 0.00/59.0 [00:00<?, ?batch/s]"
      ]
     },
     "metadata": {},
     "output_type": "display_data"
    },
    {
     "data": {
      "application/vnd.jupyter.widget-view+json": {
       "model_id": "d96fc8f320404e7c9fcff6f29c257925",
       "version_major": 2,
       "version_minor": 0
      },
      "text/plain": [
       "  0%|          | 0.00/59.0 [00:00<?, ?batch/s]"
      ]
     },
     "metadata": {},
     "output_type": "display_data"
    },
    {
     "data": {
      "application/vnd.jupyter.widget-view+json": {
       "model_id": "d79b0b8b7ebe434883079d322e95e5a2",
       "version_major": 2,
       "version_minor": 0
      },
      "text/plain": [
       "  0%|          | 0.00/59.0 [00:00<?, ?batch/s]"
      ]
     },
     "metadata": {},
     "output_type": "display_data"
    },
    {
     "data": {
      "application/vnd.jupyter.widget-view+json": {
       "model_id": "8a4ecc12c5ba405386e5deb9e2da0f61",
       "version_major": 2,
       "version_minor": 0
      },
      "text/plain": [
       "  0%|          | 0.00/59.0 [00:00<?, ?batch/s]"
      ]
     },
     "metadata": {},
     "output_type": "display_data"
    },
    {
     "data": {
      "application/vnd.jupyter.widget-view+json": {
       "model_id": "f73d0abcecbe4f0c80102bd12933eeaf",
       "version_major": 2,
       "version_minor": 0
      },
      "text/plain": [
       "  0%|          | 0.00/59.0 [00:00<?, ?batch/s]"
      ]
     },
     "metadata": {},
     "output_type": "display_data"
    },
    {
     "data": {
      "application/vnd.jupyter.widget-view+json": {
       "model_id": "ef2fbe0ed0f946cebf030968ce0fe48c",
       "version_major": 2,
       "version_minor": 0
      },
      "text/plain": [
       "  0%|          | 0.00/59.0 [00:00<?, ?batch/s]"
      ]
     },
     "metadata": {},
     "output_type": "display_data"
    },
    {
     "data": {
      "application/vnd.jupyter.widget-view+json": {
       "model_id": "011de5369cd8487bb76f3add05d6dae9",
       "version_major": 2,
       "version_minor": 0
      },
      "text/plain": [
       "  0%|          | 0.00/59.0 [00:00<?, ?batch/s]"
      ]
     },
     "metadata": {},
     "output_type": "display_data"
    },
    {
     "data": {
      "application/vnd.jupyter.widget-view+json": {
       "model_id": "b90ad9979fdc454bae4f69e099700d82",
       "version_major": 2,
       "version_minor": 0
      },
      "text/plain": [
       "  0%|          | 0.00/59.0 [00:00<?, ?batch/s]"
      ]
     },
     "metadata": {},
     "output_type": "display_data"
    },
    {
     "data": {
      "application/vnd.jupyter.widget-view+json": {
       "model_id": "5e01ad1436434bcd9e54701c331cedc0",
       "version_major": 2,
       "version_minor": 0
      },
      "text/plain": [
       "  0%|          | 0.00/59.0 [00:00<?, ?batch/s]"
      ]
     },
     "metadata": {},
     "output_type": "display_data"
    },
    {
     "data": {
      "application/vnd.jupyter.widget-view+json": {
       "model_id": "1eeefea431ff4ae6a940164d8949865b",
       "version_major": 2,
       "version_minor": 0
      },
      "text/plain": [
       "  0%|          | 0.00/59.0 [00:00<?, ?batch/s]"
      ]
     },
     "metadata": {},
     "output_type": "display_data"
    },
    {
     "data": {
      "application/vnd.jupyter.widget-view+json": {
       "model_id": "0cdd4fe04d084d9fb4579c0097d08442",
       "version_major": 2,
       "version_minor": 0
      },
      "text/plain": [
       "  0%|          | 0.00/59.0 [00:00<?, ?batch/s]"
      ]
     },
     "metadata": {},
     "output_type": "display_data"
    },
    {
     "data": {
      "application/vnd.jupyter.widget-view+json": {
       "model_id": "eab6f0d2cf914b94a005398d7f944e44",
       "version_major": 2,
       "version_minor": 0
      },
      "text/plain": [
       "  0%|          | 0.00/59.0 [00:00<?, ?batch/s]"
      ]
     },
     "metadata": {},
     "output_type": "display_data"
    },
    {
     "data": {
      "application/vnd.jupyter.widget-view+json": {
       "model_id": "1b4acc2f729a4fdd9343688f24919a20",
       "version_major": 2,
       "version_minor": 0
      },
      "text/plain": [
       "  0%|          | 0.00/59.0 [00:00<?, ?batch/s]"
      ]
     },
     "metadata": {},
     "output_type": "display_data"
    },
    {
     "data": {
      "application/vnd.jupyter.widget-view+json": {
       "model_id": "42c25da7cb9e466482fff1ae1da8c85d",
       "version_major": 2,
       "version_minor": 0
      },
      "text/plain": [
       "  0%|          | 0.00/59.0 [00:00<?, ?batch/s]"
      ]
     },
     "metadata": {},
     "output_type": "display_data"
    },
    {
     "data": {
      "application/vnd.jupyter.widget-view+json": {
       "model_id": "cbafd3366d184d92b5fc957d09ef246e",
       "version_major": 2,
       "version_minor": 0
      },
      "text/plain": [
       "  0%|          | 0.00/59.0 [00:00<?, ?batch/s]"
      ]
     },
     "metadata": {},
     "output_type": "display_data"
    },
    {
     "data": {
      "application/vnd.jupyter.widget-view+json": {
       "model_id": "d8f1fcc05b3f4f089a5397e52d6f4514",
       "version_major": 2,
       "version_minor": 0
      },
      "text/plain": [
       "  0%|          | 0.00/59.0 [00:00<?, ?batch/s]"
      ]
     },
     "metadata": {},
     "output_type": "display_data"
    },
    {
     "data": {
      "application/vnd.jupyter.widget-view+json": {
       "model_id": "8c3d18b7fc954db8976dcc7ad9466c27",
       "version_major": 2,
       "version_minor": 0
      },
      "text/plain": [
       "  0%|          | 0.00/59.0 [00:00<?, ?batch/s]"
      ]
     },
     "metadata": {},
     "output_type": "display_data"
    },
    {
     "data": {
      "application/vnd.jupyter.widget-view+json": {
       "model_id": "a13d4c47b80844b9800294f0f103fe6d",
       "version_major": 2,
       "version_minor": 0
      },
      "text/plain": [
       "  0%|          | 0.00/59.0 [00:00<?, ?batch/s]"
      ]
     },
     "metadata": {},
     "output_type": "display_data"
    },
    {
     "data": {
      "application/vnd.jupyter.widget-view+json": {
       "model_id": "082a42297f9d476e9d7e151d5f531e8e",
       "version_major": 2,
       "version_minor": 0
      },
      "text/plain": [
       "  0%|          | 0.00/59.0 [00:00<?, ?batch/s]"
      ]
     },
     "metadata": {},
     "output_type": "display_data"
    },
    {
     "data": {
      "application/vnd.jupyter.widget-view+json": {
       "model_id": "32b64ac0920741028d91273659f1e1be",
       "version_major": 2,
       "version_minor": 0
      },
      "text/plain": [
       "  0%|          | 0.00/59.0 [00:00<?, ?batch/s]"
      ]
     },
     "metadata": {},
     "output_type": "display_data"
    },
    {
     "data": {
      "application/vnd.jupyter.widget-view+json": {
       "model_id": "acc98ff1bb7d4f2ea5b5852a0f827df6",
       "version_major": 2,
       "version_minor": 0
      },
      "text/plain": [
       "  0%|          | 0.00/59.0 [00:00<?, ?batch/s]"
      ]
     },
     "metadata": {},
     "output_type": "display_data"
    },
    {
     "data": {
      "application/vnd.jupyter.widget-view+json": {
       "model_id": "af75db9ad0094e84bc9ac46645c3fec4",
       "version_major": 2,
       "version_minor": 0
      },
      "text/plain": [
       "  0%|          | 0.00/59.0 [00:00<?, ?batch/s]"
      ]
     },
     "metadata": {},
     "output_type": "display_data"
    },
    {
     "data": {
      "application/vnd.jupyter.widget-view+json": {
       "model_id": "c922b74bb56043c099f417b41c1889c3",
       "version_major": 2,
       "version_minor": 0
      },
      "text/plain": [
       "  0%|          | 0.00/59.0 [00:00<?, ?batch/s]"
      ]
     },
     "metadata": {},
     "output_type": "display_data"
    },
    {
     "data": {
      "application/vnd.jupyter.widget-view+json": {
       "model_id": "2125ed1b5532436ab57807f2b705c7ae",
       "version_major": 2,
       "version_minor": 0
      },
      "text/plain": [
       "  0%|          | 0.00/59.0 [00:00<?, ?batch/s]"
      ]
     },
     "metadata": {},
     "output_type": "display_data"
    },
    {
     "data": {
      "application/vnd.jupyter.widget-view+json": {
       "model_id": "6f7fb744bf81454e95151fde4bfc3e5b",
       "version_major": 2,
       "version_minor": 0
      },
      "text/plain": [
       "  0%|          | 0.00/59.0 [00:00<?, ?batch/s]"
      ]
     },
     "metadata": {},
     "output_type": "display_data"
    },
    {
     "data": {
      "application/vnd.jupyter.widget-view+json": {
       "model_id": "6b86e0dfcb4b4704a1324bc6b82edde1",
       "version_major": 2,
       "version_minor": 0
      },
      "text/plain": [
       "  0%|          | 0.00/59.0 [00:00<?, ?batch/s]"
      ]
     },
     "metadata": {},
     "output_type": "display_data"
    },
    {
     "data": {
      "application/vnd.jupyter.widget-view+json": {
       "model_id": "ded85a4a3d144524914103db67503ba7",
       "version_major": 2,
       "version_minor": 0
      },
      "text/plain": [
       "  0%|          | 0.00/59.0 [00:00<?, ?batch/s]"
      ]
     },
     "metadata": {},
     "output_type": "display_data"
    },
    {
     "data": {
      "application/vnd.jupyter.widget-view+json": {
       "model_id": "7cf8a3c413d94d18b43323b7af5d68d8",
       "version_major": 2,
       "version_minor": 0
      },
      "text/plain": [
       "  0%|          | 0.00/59.0 [00:00<?, ?batch/s]"
      ]
     },
     "metadata": {},
     "output_type": "display_data"
    },
    {
     "data": {
      "application/vnd.jupyter.widget-view+json": {
       "model_id": "a5600283a60b4660a1255465a78e8ae5",
       "version_major": 2,
       "version_minor": 0
      },
      "text/plain": [
       "  0%|          | 0.00/59.0 [00:00<?, ?batch/s]"
      ]
     },
     "metadata": {},
     "output_type": "display_data"
    },
    {
     "data": {
      "application/vnd.jupyter.widget-view+json": {
       "model_id": "10e703e4f22f4947b5484250fbfdf8d4",
       "version_major": 2,
       "version_minor": 0
      },
      "text/plain": [
       "  0%|          | 0.00/59.0 [00:00<?, ?batch/s]"
      ]
     },
     "metadata": {},
     "output_type": "display_data"
    },
    {
     "data": {
      "application/vnd.jupyter.widget-view+json": {
       "model_id": "dd65be75f9cb4bb4a0648f74d85dad65",
       "version_major": 2,
       "version_minor": 0
      },
      "text/plain": [
       "  0%|          | 0.00/59.0 [00:00<?, ?batch/s]"
      ]
     },
     "metadata": {},
     "output_type": "display_data"
    },
    {
     "data": {
      "application/vnd.jupyter.widget-view+json": {
       "model_id": "814d8d3ac32c44c5930faf8d3f82c9b2",
       "version_major": 2,
       "version_minor": 0
      },
      "text/plain": [
       "  0%|          | 0.00/59.0 [00:00<?, ?batch/s]"
      ]
     },
     "metadata": {},
     "output_type": "display_data"
    },
    {
     "data": {
      "application/vnd.jupyter.widget-view+json": {
       "model_id": "47208b558966406a883ce7f148014a0f",
       "version_major": 2,
       "version_minor": 0
      },
      "text/plain": [
       "  0%|          | 0.00/59.0 [00:00<?, ?batch/s]"
      ]
     },
     "metadata": {},
     "output_type": "display_data"
    },
    {
     "data": {
      "application/vnd.jupyter.widget-view+json": {
       "model_id": "c707c310a10442a58188a90f6a3adc36",
       "version_major": 2,
       "version_minor": 0
      },
      "text/plain": [
       "  0%|          | 0.00/59.0 [00:00<?, ?batch/s]"
      ]
     },
     "metadata": {},
     "output_type": "display_data"
    },
    {
     "data": {
      "application/vnd.jupyter.widget-view+json": {
       "model_id": "5428b1dd96044c0399c10c728c430827",
       "version_major": 2,
       "version_minor": 0
      },
      "text/plain": [
       "  0%|          | 0.00/59.0 [00:00<?, ?batch/s]"
      ]
     },
     "metadata": {},
     "output_type": "display_data"
    },
    {
     "data": {
      "application/vnd.jupyter.widget-view+json": {
       "model_id": "b2dd4ae208184a338ff1423d4eb2e03f",
       "version_major": 2,
       "version_minor": 0
      },
      "text/plain": [
       "  0%|          | 0.00/59.0 [00:00<?, ?batch/s]"
      ]
     },
     "metadata": {},
     "output_type": "display_data"
    },
    {
     "data": {
      "application/vnd.jupyter.widget-view+json": {
       "model_id": "4dc56a88191c4ddea2bd81e9b275b837",
       "version_major": 2,
       "version_minor": 0
      },
      "text/plain": [
       "  0%|          | 0.00/59.0 [00:00<?, ?batch/s]"
      ]
     },
     "metadata": {},
     "output_type": "display_data"
    },
    {
     "data": {
      "application/vnd.jupyter.widget-view+json": {
       "model_id": "0cbd0ee013d644afbac9077c8946ee39",
       "version_major": 2,
       "version_minor": 0
      },
      "text/plain": [
       "  0%|          | 0.00/59.0 [00:00<?, ?batch/s]"
      ]
     },
     "metadata": {},
     "output_type": "display_data"
    },
    {
     "data": {
      "application/vnd.jupyter.widget-view+json": {
       "model_id": "4ed8e5c9d52c405b84fb93e44a4def8d",
       "version_major": 2,
       "version_minor": 0
      },
      "text/plain": [
       "  0%|          | 0.00/59.0 [00:00<?, ?batch/s]"
      ]
     },
     "metadata": {},
     "output_type": "display_data"
    },
    {
     "data": {
      "application/vnd.jupyter.widget-view+json": {
       "model_id": "e0cbfe357ba5456da255bcf6e5fc4a1d",
       "version_major": 2,
       "version_minor": 0
      },
      "text/plain": [
       "  0%|          | 0.00/59.0 [00:00<?, ?batch/s]"
      ]
     },
     "metadata": {},
     "output_type": "display_data"
    },
    {
     "data": {
      "application/vnd.jupyter.widget-view+json": {
       "model_id": "b079da0bbc6d402f9c8078af3adfc859",
       "version_major": 2,
       "version_minor": 0
      },
      "text/plain": [
       "  0%|          | 0.00/59.0 [00:00<?, ?batch/s]"
      ]
     },
     "metadata": {},
     "output_type": "display_data"
    },
    {
     "data": {
      "application/vnd.jupyter.widget-view+json": {
       "model_id": "fd21d7fc78ce4c5d8b56e826262dc5c4",
       "version_major": 2,
       "version_minor": 0
      },
      "text/plain": [
       "  0%|          | 0.00/59.0 [00:00<?, ?batch/s]"
      ]
     },
     "metadata": {},
     "output_type": "display_data"
    },
    {
     "data": {
      "application/vnd.jupyter.widget-view+json": {
       "model_id": "9644617e3a74470f92e34b3b146ee1dc",
       "version_major": 2,
       "version_minor": 0
      },
      "text/plain": [
       "  0%|          | 0.00/59.0 [00:00<?, ?batch/s]"
      ]
     },
     "metadata": {},
     "output_type": "display_data"
    },
    {
     "data": {
      "application/vnd.jupyter.widget-view+json": {
       "model_id": "f2309a40780a4b0da4adaa01de8d2e8a",
       "version_major": 2,
       "version_minor": 0
      },
      "text/plain": [
       "  0%|          | 0.00/59.0 [00:00<?, ?batch/s]"
      ]
     },
     "metadata": {},
     "output_type": "display_data"
    },
    {
     "data": {
      "application/vnd.jupyter.widget-view+json": {
       "model_id": "80661b4ff9ce4c80b71cadf45f7b31c3",
       "version_major": 2,
       "version_minor": 0
      },
      "text/plain": [
       "  0%|          | 0.00/59.0 [00:00<?, ?batch/s]"
      ]
     },
     "metadata": {},
     "output_type": "display_data"
    },
    {
     "data": {
      "application/vnd.jupyter.widget-view+json": {
       "model_id": "2c9a7f11628d4ab6884f15fc58538f2c",
       "version_major": 2,
       "version_minor": 0
      },
      "text/plain": [
       "  0%|          | 0.00/59.0 [00:00<?, ?batch/s]"
      ]
     },
     "metadata": {},
     "output_type": "display_data"
    },
    {
     "data": {
      "application/vnd.jupyter.widget-view+json": {
       "model_id": "cdc5c8d2c6ab4f4c87f9d1ad98131c9e",
       "version_major": 2,
       "version_minor": 0
      },
      "text/plain": [
       "  0%|          | 0.00/59.0 [00:00<?, ?batch/s]"
      ]
     },
     "metadata": {},
     "output_type": "display_data"
    },
    {
     "data": {
      "application/vnd.jupyter.widget-view+json": {
       "model_id": "58919dc8b6f04c43a884c29874bc3626",
       "version_major": 2,
       "version_minor": 0
      },
      "text/plain": [
       "  0%|          | 0.00/59.0 [00:00<?, ?batch/s]"
      ]
     },
     "metadata": {},
     "output_type": "display_data"
    },
    {
     "data": {
      "application/vnd.jupyter.widget-view+json": {
       "model_id": "cc7fb0b38fd5454bafc258efcca0b727",
       "version_major": 2,
       "version_minor": 0
      },
      "text/plain": [
       "  0%|          | 0.00/59.0 [00:00<?, ?batch/s]"
      ]
     },
     "metadata": {},
     "output_type": "display_data"
    },
    {
     "data": {
      "application/vnd.jupyter.widget-view+json": {
       "model_id": "f24b83c5fc6c4ecd82b2ffe9df25ff13",
       "version_major": 2,
       "version_minor": 0
      },
      "text/plain": [
       "  0%|          | 0.00/59.0 [00:00<?, ?batch/s]"
      ]
     },
     "metadata": {},
     "output_type": "display_data"
    },
    {
     "data": {
      "application/vnd.jupyter.widget-view+json": {
       "model_id": "35e067ec3fbc46d68410f183c8847a00",
       "version_major": 2,
       "version_minor": 0
      },
      "text/plain": [
       "  0%|          | 0.00/59.0 [00:00<?, ?batch/s]"
      ]
     },
     "metadata": {},
     "output_type": "display_data"
    },
    {
     "data": {
      "application/vnd.jupyter.widget-view+json": {
       "model_id": "03a291245495428e9447c4ea92a4c142",
       "version_major": 2,
       "version_minor": 0
      },
      "text/plain": [
       "  0%|          | 0.00/59.0 [00:00<?, ?batch/s]"
      ]
     },
     "metadata": {},
     "output_type": "display_data"
    },
    {
     "data": {
      "application/vnd.jupyter.widget-view+json": {
       "model_id": "7169448bc9cd4049b39a8afd260ccdae",
       "version_major": 2,
       "version_minor": 0
      },
      "text/plain": [
       "  0%|          | 0.00/59.0 [00:00<?, ?batch/s]"
      ]
     },
     "metadata": {},
     "output_type": "display_data"
    },
    {
     "data": {
      "application/vnd.jupyter.widget-view+json": {
       "model_id": "94a03a829fda466197d66471d6d5c227",
       "version_major": 2,
       "version_minor": 0
      },
      "text/plain": [
       "  0%|          | 0.00/59.0 [00:00<?, ?batch/s]"
      ]
     },
     "metadata": {},
     "output_type": "display_data"
    },
    {
     "data": {
      "application/vnd.jupyter.widget-view+json": {
       "model_id": "ffc703065bf348b28a2d41252c261532",
       "version_major": 2,
       "version_minor": 0
      },
      "text/plain": [
       "  0%|          | 0.00/59.0 [00:00<?, ?batch/s]"
      ]
     },
     "metadata": {},
     "output_type": "display_data"
    },
    {
     "data": {
      "application/vnd.jupyter.widget-view+json": {
       "model_id": "e94c25fce6d2427aa322672a1e75f5bd",
       "version_major": 2,
       "version_minor": 0
      },
      "text/plain": [
       "  0%|          | 0.00/59.0 [00:00<?, ?batch/s]"
      ]
     },
     "metadata": {},
     "output_type": "display_data"
    },
    {
     "data": {
      "application/vnd.jupyter.widget-view+json": {
       "model_id": "cf9d15117737494eb1ce41e822aedb27",
       "version_major": 2,
       "version_minor": 0
      },
      "text/plain": [
       "  0%|          | 0.00/59.0 [00:00<?, ?batch/s]"
      ]
     },
     "metadata": {},
     "output_type": "display_data"
    },
    {
     "data": {
      "application/vnd.jupyter.widget-view+json": {
       "model_id": "e6f38522d2ee4511917e5a7f84b4f6e1",
       "version_major": 2,
       "version_minor": 0
      },
      "text/plain": [
       "  0%|          | 0.00/59.0 [00:00<?, ?batch/s]"
      ]
     },
     "metadata": {},
     "output_type": "display_data"
    },
    {
     "data": {
      "application/vnd.jupyter.widget-view+json": {
       "model_id": "fe2c35a188f94b8ea3e21844d3264754",
       "version_major": 2,
       "version_minor": 0
      },
      "text/plain": [
       "  0%|          | 0.00/59.0 [00:00<?, ?batch/s]"
      ]
     },
     "metadata": {},
     "output_type": "display_data"
    },
    {
     "data": {
      "application/vnd.jupyter.widget-view+json": {
       "model_id": "0dd99c589350429e8c556a33077bc97e",
       "version_major": 2,
       "version_minor": 0
      },
      "text/plain": [
       "  0%|          | 0.00/59.0 [00:00<?, ?batch/s]"
      ]
     },
     "metadata": {},
     "output_type": "display_data"
    },
    {
     "data": {
      "application/vnd.jupyter.widget-view+json": {
       "model_id": "96206d16a5d440cb8b76e0aa5bd616af",
       "version_major": 2,
       "version_minor": 0
      },
      "text/plain": [
       "  0%|          | 0.00/59.0 [00:00<?, ?batch/s]"
      ]
     },
     "metadata": {},
     "output_type": "display_data"
    },
    {
     "data": {
      "application/vnd.jupyter.widget-view+json": {
       "model_id": "2b8d66a4f9114a6c820f14dfaa2cf4fb",
       "version_major": 2,
       "version_minor": 0
      },
      "text/plain": [
       "  0%|          | 0.00/59.0 [00:00<?, ?batch/s]"
      ]
     },
     "metadata": {},
     "output_type": "display_data"
    },
    {
     "data": {
      "application/vnd.jupyter.widget-view+json": {
       "model_id": "fa1d5abf1bab45b18005fa69de0baeb0",
       "version_major": 2,
       "version_minor": 0
      },
      "text/plain": [
       "  0%|          | 0.00/59.0 [00:00<?, ?batch/s]"
      ]
     },
     "metadata": {},
     "output_type": "display_data"
    },
    {
     "data": {
      "application/vnd.jupyter.widget-view+json": {
       "model_id": "66a483293b1843b8a6a8cb9837ba7ac5",
       "version_major": 2,
       "version_minor": 0
      },
      "text/plain": [
       "  0%|          | 0.00/59.0 [00:00<?, ?batch/s]"
      ]
     },
     "metadata": {},
     "output_type": "display_data"
    },
    {
     "data": {
      "application/vnd.jupyter.widget-view+json": {
       "model_id": "2f0e97dc9c0a453083e02c901e0d06a2",
       "version_major": 2,
       "version_minor": 0
      },
      "text/plain": [
       "  0%|          | 0.00/59.0 [00:00<?, ?batch/s]"
      ]
     },
     "metadata": {},
     "output_type": "display_data"
    },
    {
     "data": {
      "application/vnd.jupyter.widget-view+json": {
       "model_id": "774aa095dfc54d51911a79af9a6c971f",
       "version_major": 2,
       "version_minor": 0
      },
      "text/plain": [
       "  0%|          | 0.00/59.0 [00:00<?, ?batch/s]"
      ]
     },
     "metadata": {},
     "output_type": "display_data"
    },
    {
     "data": {
      "application/vnd.jupyter.widget-view+json": {
       "model_id": "df58ee792e064eba839a9962aae45d76",
       "version_major": 2,
       "version_minor": 0
      },
      "text/plain": [
       "  0%|          | 0.00/59.0 [00:00<?, ?batch/s]"
      ]
     },
     "metadata": {},
     "output_type": "display_data"
    },
    {
     "data": {
      "application/vnd.jupyter.widget-view+json": {
       "model_id": "dc61024d45354ffb943f4e182af0f62b",
       "version_major": 2,
       "version_minor": 0
      },
      "text/plain": [
       "  0%|          | 0.00/59.0 [00:00<?, ?batch/s]"
      ]
     },
     "metadata": {},
     "output_type": "display_data"
    },
    {
     "data": {
      "application/vnd.jupyter.widget-view+json": {
       "model_id": "3fcd20c2a45145c1b099dfdd165c14ad",
       "version_major": 2,
       "version_minor": 0
      },
      "text/plain": [
       "  0%|          | 0.00/59.0 [00:00<?, ?batch/s]"
      ]
     },
     "metadata": {},
     "output_type": "display_data"
    },
    {
     "data": {
      "application/vnd.jupyter.widget-view+json": {
       "model_id": "bc9c93ac519549e8b442066881322809",
       "version_major": 2,
       "version_minor": 0
      },
      "text/plain": [
       "  0%|          | 0.00/59.0 [00:00<?, ?batch/s]"
      ]
     },
     "metadata": {},
     "output_type": "display_data"
    },
    {
     "data": {
      "application/vnd.jupyter.widget-view+json": {
       "model_id": "5fde0cd151844f46adae12a79509f239",
       "version_major": 2,
       "version_minor": 0
      },
      "text/plain": [
       "  0%|          | 0.00/59.0 [00:00<?, ?batch/s]"
      ]
     },
     "metadata": {},
     "output_type": "display_data"
    },
    {
     "data": {
      "application/vnd.jupyter.widget-view+json": {
       "model_id": "fe958a1a22b84b5da61048a35db6237c",
       "version_major": 2,
       "version_minor": 0
      },
      "text/plain": [
       "  0%|          | 0.00/59.0 [00:00<?, ?batch/s]"
      ]
     },
     "metadata": {},
     "output_type": "display_data"
    },
    {
     "data": {
      "application/vnd.jupyter.widget-view+json": {
       "model_id": "38df57e10b394d12826a690452ffd91d",
       "version_major": 2,
       "version_minor": 0
      },
      "text/plain": [
       "  0%|          | 0.00/59.0 [00:00<?, ?batch/s]"
      ]
     },
     "metadata": {},
     "output_type": "display_data"
    },
    {
     "data": {
      "application/vnd.jupyter.widget-view+json": {
       "model_id": "ff43eca863b943b5a4487a468dcd7475",
       "version_major": 2,
       "version_minor": 0
      },
      "text/plain": [
       "  0%|          | 0.00/59.0 [00:00<?, ?batch/s]"
      ]
     },
     "metadata": {},
     "output_type": "display_data"
    },
    {
     "data": {
      "application/vnd.jupyter.widget-view+json": {
       "model_id": "098f4ba979d94e2ba2f04e779379d63a",
       "version_major": 2,
       "version_minor": 0
      },
      "text/plain": [
       "  0%|          | 0.00/59.0 [00:00<?, ?batch/s]"
      ]
     },
     "metadata": {},
     "output_type": "display_data"
    },
    {
     "data": {
      "application/vnd.jupyter.widget-view+json": {
       "model_id": "7af79cf9f3664eb38aef00e2cda6bccc",
       "version_major": 2,
       "version_minor": 0
      },
      "text/plain": [
       "  0%|          | 0.00/59.0 [00:00<?, ?batch/s]"
      ]
     },
     "metadata": {},
     "output_type": "display_data"
    },
    {
     "data": {
      "application/vnd.jupyter.widget-view+json": {
       "model_id": "9b4595b0886145e18db69681673ab424",
       "version_major": 2,
       "version_minor": 0
      },
      "text/plain": [
       "  0%|          | 0.00/59.0 [00:00<?, ?batch/s]"
      ]
     },
     "metadata": {},
     "output_type": "display_data"
    },
    {
     "data": {
      "application/vnd.jupyter.widget-view+json": {
       "model_id": "c45ca46f039a4dde9fcafe3253a5f04b",
       "version_major": 2,
       "version_minor": 0
      },
      "text/plain": [
       "  0%|          | 0.00/59.0 [00:00<?, ?batch/s]"
      ]
     },
     "metadata": {},
     "output_type": "display_data"
    },
    {
     "data": {
      "application/vnd.jupyter.widget-view+json": {
       "model_id": "73828676cf374af5bf1910218235dbaa",
       "version_major": 2,
       "version_minor": 0
      },
      "text/plain": [
       "  0%|          | 0.00/59.0 [00:00<?, ?batch/s]"
      ]
     },
     "metadata": {},
     "output_type": "display_data"
    },
    {
     "data": {
      "application/vnd.jupyter.widget-view+json": {
       "model_id": "d6153a023ef94b29b1756cad1e7cf32e",
       "version_major": 2,
       "version_minor": 0
      },
      "text/plain": [
       "  0%|          | 0.00/59.0 [00:00<?, ?batch/s]"
      ]
     },
     "metadata": {},
     "output_type": "display_data"
    },
    {
     "data": {
      "application/vnd.jupyter.widget-view+json": {
       "model_id": "c64b1d0f25cd4b389f5630ca8f44d939",
       "version_major": 2,
       "version_minor": 0
      },
      "text/plain": [
       "  0%|          | 0.00/59.0 [00:00<?, ?batch/s]"
      ]
     },
     "metadata": {},
     "output_type": "display_data"
    },
    {
     "data": {
      "application/vnd.jupyter.widget-view+json": {
       "model_id": "2ac6d7d585b34f588dcb32303422498a",
       "version_major": 2,
       "version_minor": 0
      },
      "text/plain": [
       "  0%|          | 0.00/59.0 [00:00<?, ?batch/s]"
      ]
     },
     "metadata": {},
     "output_type": "display_data"
    },
    {
     "data": {
      "application/vnd.jupyter.widget-view+json": {
       "model_id": "bc74de5a541b4db7aa5357b6bd3a016f",
       "version_major": 2,
       "version_minor": 0
      },
      "text/plain": [
       "  0%|          | 0.00/59.0 [00:00<?, ?batch/s]"
      ]
     },
     "metadata": {},
     "output_type": "display_data"
    },
    {
     "data": {
      "application/vnd.jupyter.widget-view+json": {
       "model_id": "12a74d176b314ec7972f7f79c69b4f8d",
       "version_major": 2,
       "version_minor": 0
      },
      "text/plain": [
       "  0%|          | 0.00/59.0 [00:00<?, ?batch/s]"
      ]
     },
     "metadata": {},
     "output_type": "display_data"
    },
    {
     "data": {
      "application/vnd.jupyter.widget-view+json": {
       "model_id": "3d3952e1c65e4b3e80f35ce20c14f80a",
       "version_major": 2,
       "version_minor": 0
      },
      "text/plain": [
       "  0%|          | 0.00/59.0 [00:00<?, ?batch/s]"
      ]
     },
     "metadata": {},
     "output_type": "display_data"
    },
    {
     "data": {
      "application/vnd.jupyter.widget-view+json": {
       "model_id": "fd0e961d557c40a98d88fc4fb672f45e",
       "version_major": 2,
       "version_minor": 0
      },
      "text/plain": [
       "  0%|          | 0.00/59.0 [00:00<?, ?batch/s]"
      ]
     },
     "metadata": {},
     "output_type": "display_data"
    },
    {
     "data": {
      "application/vnd.jupyter.widget-view+json": {
       "model_id": "08b7d0a20faa4d839f2699dbbd8aabc1",
       "version_major": 2,
       "version_minor": 0
      },
      "text/plain": [
       "  0%|          | 0.00/59.0 [00:00<?, ?batch/s]"
      ]
     },
     "metadata": {},
     "output_type": "display_data"
    },
    {
     "data": {
      "application/vnd.jupyter.widget-view+json": {
       "model_id": "eae230ef126743e899855ffc5bb53447",
       "version_major": 2,
       "version_minor": 0
      },
      "text/plain": [
       "  0%|          | 0.00/59.0 [00:00<?, ?batch/s]"
      ]
     },
     "metadata": {},
     "output_type": "display_data"
    },
    {
     "data": {
      "application/vnd.jupyter.widget-view+json": {
       "model_id": "efce313f788c44f8938c67bcbfef780c",
       "version_major": 2,
       "version_minor": 0
      },
      "text/plain": [
       "  0%|          | 0.00/59.0 [00:00<?, ?batch/s]"
      ]
     },
     "metadata": {},
     "output_type": "display_data"
    },
    {
     "data": {
      "application/vnd.jupyter.widget-view+json": {
       "model_id": "8c7cc246116448219e9f390aaaa84d71",
       "version_major": 2,
       "version_minor": 0
      },
      "text/plain": [
       "  0%|          | 0.00/59.0 [00:00<?, ?batch/s]"
      ]
     },
     "metadata": {},
     "output_type": "display_data"
    },
    {
     "data": {
      "application/vnd.jupyter.widget-view+json": {
       "model_id": "a881c97a2dfa4142bfe228994387fcad",
       "version_major": 2,
       "version_minor": 0
      },
      "text/plain": [
       "  0%|          | 0.00/59.0 [00:00<?, ?batch/s]"
      ]
     },
     "metadata": {},
     "output_type": "display_data"
    },
    {
     "data": {
      "application/vnd.jupyter.widget-view+json": {
       "model_id": "603419eed7784de6a1c557c1d1e677fb",
       "version_major": 2,
       "version_minor": 0
      },
      "text/plain": [
       "  0%|          | 0.00/59.0 [00:00<?, ?batch/s]"
      ]
     },
     "metadata": {},
     "output_type": "display_data"
    },
    {
     "data": {
      "application/vnd.jupyter.widget-view+json": {
       "model_id": "e7662ead4d894922a53b4f8e4d804397",
       "version_major": 2,
       "version_minor": 0
      },
      "text/plain": [
       "  0%|          | 0.00/59.0 [00:00<?, ?batch/s]"
      ]
     },
     "metadata": {},
     "output_type": "display_data"
    },
    {
     "data": {
      "application/vnd.jupyter.widget-view+json": {
       "model_id": "fe6c17e2ada741bb806875b33fa14753",
       "version_major": 2,
       "version_minor": 0
      },
      "text/plain": [
       "  0%|          | 0.00/59.0 [00:00<?, ?batch/s]"
      ]
     },
     "metadata": {},
     "output_type": "display_data"
    },
    {
     "data": {
      "application/vnd.jupyter.widget-view+json": {
       "model_id": "eefdb0226f794f24a41fec5ca828fbe5",
       "version_major": 2,
       "version_minor": 0
      },
      "text/plain": [
       "  0%|          | 0.00/59.0 [00:00<?, ?batch/s]"
      ]
     },
     "metadata": {},
     "output_type": "display_data"
    },
    {
     "data": {
      "application/vnd.jupyter.widget-view+json": {
       "model_id": "21aa55e49612446785b7b38ee8e36f71",
       "version_major": 2,
       "version_minor": 0
      },
      "text/plain": [
       "  0%|          | 0.00/59.0 [00:00<?, ?batch/s]"
      ]
     },
     "metadata": {},
     "output_type": "display_data"
    },
    {
     "data": {
      "application/vnd.jupyter.widget-view+json": {
       "model_id": "a1ffef05b4b74e9ea67b5e073d5e2a42",
       "version_major": 2,
       "version_minor": 0
      },
      "text/plain": [
       "  0%|          | 0.00/59.0 [00:00<?, ?batch/s]"
      ]
     },
     "metadata": {},
     "output_type": "display_data"
    },
    {
     "data": {
      "application/vnd.jupyter.widget-view+json": {
       "model_id": "f8156c5e85924220bc20b52454992288",
       "version_major": 2,
       "version_minor": 0
      },
      "text/plain": [
       "  0%|          | 0.00/59.0 [00:00<?, ?batch/s]"
      ]
     },
     "metadata": {},
     "output_type": "display_data"
    },
    {
     "data": {
      "application/vnd.jupyter.widget-view+json": {
       "model_id": "f90e1f28d4e3422d8a22817573acf582",
       "version_major": 2,
       "version_minor": 0
      },
      "text/plain": [
       "  0%|          | 0.00/59.0 [00:00<?, ?batch/s]"
      ]
     },
     "metadata": {},
     "output_type": "display_data"
    },
    {
     "data": {
      "application/vnd.jupyter.widget-view+json": {
       "model_id": "a442c8be2b314234a50c3355110ca17b",
       "version_major": 2,
       "version_minor": 0
      },
      "text/plain": [
       "  0%|          | 0.00/59.0 [00:00<?, ?batch/s]"
      ]
     },
     "metadata": {},
     "output_type": "display_data"
    },
    {
     "data": {
      "application/vnd.jupyter.widget-view+json": {
       "model_id": "4332a3d41d8e4a3c84b55a7bf1238943",
       "version_major": 2,
       "version_minor": 0
      },
      "text/plain": [
       "  0%|          | 0.00/59.0 [00:00<?, ?batch/s]"
      ]
     },
     "metadata": {},
     "output_type": "display_data"
    },
    {
     "data": {
      "application/vnd.jupyter.widget-view+json": {
       "model_id": "795165f2c1f44bb38aa67e7f7e9c7520",
       "version_major": 2,
       "version_minor": 0
      },
      "text/plain": [
       "  0%|          | 0.00/59.0 [00:00<?, ?batch/s]"
      ]
     },
     "metadata": {},
     "output_type": "display_data"
    },
    {
     "data": {
      "application/vnd.jupyter.widget-view+json": {
       "model_id": "71f80d6b88ff4a5f82a9f75dd0eb3431",
       "version_major": 2,
       "version_minor": 0
      },
      "text/plain": [
       "  0%|          | 0.00/59.0 [00:00<?, ?batch/s]"
      ]
     },
     "metadata": {},
     "output_type": "display_data"
    },
    {
     "data": {
      "application/vnd.jupyter.widget-view+json": {
       "model_id": "5016bc68b2e04416b0db0b255ff4f3fb",
       "version_major": 2,
       "version_minor": 0
      },
      "text/plain": [
       "  0%|          | 0.00/59.0 [00:00<?, ?batch/s]"
      ]
     },
     "metadata": {},
     "output_type": "display_data"
    },
    {
     "data": {
      "application/vnd.jupyter.widget-view+json": {
       "model_id": "ea981586cc3c4d0091a94081cb7b493e",
       "version_major": 2,
       "version_minor": 0
      },
      "text/plain": [
       "  0%|          | 0.00/59.0 [00:00<?, ?batch/s]"
      ]
     },
     "metadata": {},
     "output_type": "display_data"
    },
    {
     "data": {
      "application/vnd.jupyter.widget-view+json": {
       "model_id": "1212e6c30ecc455db5c029956491708f",
       "version_major": 2,
       "version_minor": 0
      },
      "text/plain": [
       "  0%|          | 0.00/59.0 [00:00<?, ?batch/s]"
      ]
     },
     "metadata": {},
     "output_type": "display_data"
    },
    {
     "data": {
      "application/vnd.jupyter.widget-view+json": {
       "model_id": "7a5d42bbf7764b808ee3ef6a47d11d08",
       "version_major": 2,
       "version_minor": 0
      },
      "text/plain": [
       "  0%|          | 0.00/59.0 [00:00<?, ?batch/s]"
      ]
     },
     "metadata": {},
     "output_type": "display_data"
    },
    {
     "data": {
      "application/vnd.jupyter.widget-view+json": {
       "model_id": "9588ee6f0481447e8f68bbb04f8eb9a4",
       "version_major": 2,
       "version_minor": 0
      },
      "text/plain": [
       "  0%|          | 0.00/59.0 [00:00<?, ?batch/s]"
      ]
     },
     "metadata": {},
     "output_type": "display_data"
    },
    {
     "data": {
      "application/vnd.jupyter.widget-view+json": {
       "model_id": "4a80a19121be40a98b200d63aaa44b63",
       "version_major": 2,
       "version_minor": 0
      },
      "text/plain": [
       "  0%|          | 0.00/59.0 [00:00<?, ?batch/s]"
      ]
     },
     "metadata": {},
     "output_type": "display_data"
    },
    {
     "data": {
      "application/vnd.jupyter.widget-view+json": {
       "model_id": "666c68d7e81248d9a7d63925363b2cb3",
       "version_major": 2,
       "version_minor": 0
      },
      "text/plain": [
       "  0%|          | 0.00/59.0 [00:00<?, ?batch/s]"
      ]
     },
     "metadata": {},
     "output_type": "display_data"
    },
    {
     "data": {
      "application/vnd.jupyter.widget-view+json": {
       "model_id": "a50844aa10eb47b0a8f5544ddf4946ba",
       "version_major": 2,
       "version_minor": 0
      },
      "text/plain": [
       "  0%|          | 0.00/59.0 [00:00<?, ?batch/s]"
      ]
     },
     "metadata": {},
     "output_type": "display_data"
    },
    {
     "data": {
      "application/vnd.jupyter.widget-view+json": {
       "model_id": "91f2ada4c17e4546b2912afee7835c0f",
       "version_major": 2,
       "version_minor": 0
      },
      "text/plain": [
       "  0%|          | 0.00/59.0 [00:00<?, ?batch/s]"
      ]
     },
     "metadata": {},
     "output_type": "display_data"
    },
    {
     "data": {
      "application/vnd.jupyter.widget-view+json": {
       "model_id": "00fa10e6a3b64244adbc6afb25006fc9",
       "version_major": 2,
       "version_minor": 0
      },
      "text/plain": [
       "  0%|          | 0.00/59.0 [00:00<?, ?batch/s]"
      ]
     },
     "metadata": {},
     "output_type": "display_data"
    },
    {
     "data": {
      "application/vnd.jupyter.widget-view+json": {
       "model_id": "ca09242a022b48e4ad9f8c422d267d84",
       "version_major": 2,
       "version_minor": 0
      },
      "text/plain": [
       "  0%|          | 0.00/59.0 [00:00<?, ?batch/s]"
      ]
     },
     "metadata": {},
     "output_type": "display_data"
    },
    {
     "data": {
      "application/vnd.jupyter.widget-view+json": {
       "model_id": "86afa12d56f841ffb49713244143284f",
       "version_major": 2,
       "version_minor": 0
      },
      "text/plain": [
       "  0%|          | 0.00/59.0 [00:00<?, ?batch/s]"
      ]
     },
     "metadata": {},
     "output_type": "display_data"
    },
    {
     "data": {
      "application/vnd.jupyter.widget-view+json": {
       "model_id": "dcce1c06faad4764af6e67a0101e9f1d",
       "version_major": 2,
       "version_minor": 0
      },
      "text/plain": [
       "  0%|          | 0.00/59.0 [00:00<?, ?batch/s]"
      ]
     },
     "metadata": {},
     "output_type": "display_data"
    },
    {
     "data": {
      "application/vnd.jupyter.widget-view+json": {
       "model_id": "5ed1e2621cf64eec9153e46fd29a5679",
       "version_major": 2,
       "version_minor": 0
      },
      "text/plain": [
       "  0%|          | 0.00/59.0 [00:00<?, ?batch/s]"
      ]
     },
     "metadata": {},
     "output_type": "display_data"
    },
    {
     "data": {
      "application/vnd.jupyter.widget-view+json": {
       "model_id": "c0d52ab44b814c34a520a4fa9ef70d4c",
       "version_major": 2,
       "version_minor": 0
      },
      "text/plain": [
       "  0%|          | 0.00/59.0 [00:00<?, ?batch/s]"
      ]
     },
     "metadata": {},
     "output_type": "display_data"
    },
    {
     "data": {
      "application/vnd.jupyter.widget-view+json": {
       "model_id": "330ff8254f6342748f755fc7e6426624",
       "version_major": 2,
       "version_minor": 0
      },
      "text/plain": [
       "  0%|          | 0.00/59.0 [00:00<?, ?batch/s]"
      ]
     },
     "metadata": {},
     "output_type": "display_data"
    },
    {
     "data": {
      "application/vnd.jupyter.widget-view+json": {
       "model_id": "993290ac1a13403094efb5e94c121add",
       "version_major": 2,
       "version_minor": 0
      },
      "text/plain": [
       "  0%|          | 0.00/59.0 [00:00<?, ?batch/s]"
      ]
     },
     "metadata": {},
     "output_type": "display_data"
    },
    {
     "data": {
      "application/vnd.jupyter.widget-view+json": {
       "model_id": "4ac1d6bd7b72407bbc6d191babff6be2",
       "version_major": 2,
       "version_minor": 0
      },
      "text/plain": [
       "  0%|          | 0.00/59.0 [00:00<?, ?batch/s]"
      ]
     },
     "metadata": {},
     "output_type": "display_data"
    },
    {
     "data": {
      "application/vnd.jupyter.widget-view+json": {
       "model_id": "44e8376143ad48d2b61ddb2eeb684109",
       "version_major": 2,
       "version_minor": 0
      },
      "text/plain": [
       "  0%|          | 0.00/59.0 [00:00<?, ?batch/s]"
      ]
     },
     "metadata": {},
     "output_type": "display_data"
    },
    {
     "data": {
      "application/vnd.jupyter.widget-view+json": {
       "model_id": "c10b7d2759d24c369c6c3271f5760396",
       "version_major": 2,
       "version_minor": 0
      },
      "text/plain": [
       "  0%|          | 0.00/59.0 [00:00<?, ?batch/s]"
      ]
     },
     "metadata": {},
     "output_type": "display_data"
    },
    {
     "data": {
      "application/vnd.jupyter.widget-view+json": {
       "model_id": "71bdae99c78941da88198d0d83374ba2",
       "version_major": 2,
       "version_minor": 0
      },
      "text/plain": [
       "  0%|          | 0.00/59.0 [00:00<?, ?batch/s]"
      ]
     },
     "metadata": {},
     "output_type": "display_data"
    },
    {
     "data": {
      "application/vnd.jupyter.widget-view+json": {
       "model_id": "1b206880348c48a6a7965c637af20136",
       "version_major": 2,
       "version_minor": 0
      },
      "text/plain": [
       "  0%|          | 0.00/59.0 [00:00<?, ?batch/s]"
      ]
     },
     "metadata": {},
     "output_type": "display_data"
    },
    {
     "data": {
      "application/vnd.jupyter.widget-view+json": {
       "model_id": "19a6cb9e743e4bad80415e48d5b672d6",
       "version_major": 2,
       "version_minor": 0
      },
      "text/plain": [
       "  0%|          | 0.00/59.0 [00:00<?, ?batch/s]"
      ]
     },
     "metadata": {},
     "output_type": "display_data"
    },
    {
     "data": {
      "application/vnd.jupyter.widget-view+json": {
       "model_id": "b1a3b2d4f8dc45f69cb940b4edf80c38",
       "version_major": 2,
       "version_minor": 0
      },
      "text/plain": [
       "  0%|          | 0.00/59.0 [00:00<?, ?batch/s]"
      ]
     },
     "metadata": {},
     "output_type": "display_data"
    },
    {
     "data": {
      "application/vnd.jupyter.widget-view+json": {
       "model_id": "8cbf46c229594acf8ea9fd92c73b6a21",
       "version_major": 2,
       "version_minor": 0
      },
      "text/plain": [
       "  0%|          | 0.00/59.0 [00:00<?, ?batch/s]"
      ]
     },
     "metadata": {},
     "output_type": "display_data"
    },
    {
     "data": {
      "application/vnd.jupyter.widget-view+json": {
       "model_id": "2906b023edae4ea3b8bc9ec4d1641f1b",
       "version_major": 2,
       "version_minor": 0
      },
      "text/plain": [
       "  0%|          | 0.00/59.0 [00:00<?, ?batch/s]"
      ]
     },
     "metadata": {},
     "output_type": "display_data"
    },
    {
     "data": {
      "application/vnd.jupyter.widget-view+json": {
       "model_id": "e5a81fcf49de432abdfdd1f339949a8d",
       "version_major": 2,
       "version_minor": 0
      },
      "text/plain": [
       "  0%|          | 0.00/59.0 [00:00<?, ?batch/s]"
      ]
     },
     "metadata": {},
     "output_type": "display_data"
    },
    {
     "data": {
      "application/vnd.jupyter.widget-view+json": {
       "model_id": "12ceb2a572ea45148807667a5ced2476",
       "version_major": 2,
       "version_minor": 0
      },
      "text/plain": [
       "  0%|          | 0.00/59.0 [00:00<?, ?batch/s]"
      ]
     },
     "metadata": {},
     "output_type": "display_data"
    },
    {
     "data": {
      "application/vnd.jupyter.widget-view+json": {
       "model_id": "1fbb47e431ae4892bee2bd2a66cae15d",
       "version_major": 2,
       "version_minor": 0
      },
      "text/plain": [
       "  0%|          | 0.00/59.0 [00:00<?, ?batch/s]"
      ]
     },
     "metadata": {},
     "output_type": "display_data"
    },
    {
     "data": {
      "application/vnd.jupyter.widget-view+json": {
       "model_id": "696c749d8ffa4a89b96e9438f0a91388",
       "version_major": 2,
       "version_minor": 0
      },
      "text/plain": [
       "  0%|          | 0.00/59.0 [00:00<?, ?batch/s]"
      ]
     },
     "metadata": {},
     "output_type": "display_data"
    },
    {
     "data": {
      "application/vnd.jupyter.widget-view+json": {
       "model_id": "1f6620bfd07a4661933ab7aee881c9e5",
       "version_major": 2,
       "version_minor": 0
      },
      "text/plain": [
       "  0%|          | 0.00/59.0 [00:00<?, ?batch/s]"
      ]
     },
     "metadata": {},
     "output_type": "display_data"
    },
    {
     "data": {
      "application/vnd.jupyter.widget-view+json": {
       "model_id": "696892c02fda4f788bc48ba2aab28ef8",
       "version_major": 2,
       "version_minor": 0
      },
      "text/plain": [
       "  0%|          | 0.00/59.0 [00:00<?, ?batch/s]"
      ]
     },
     "metadata": {},
     "output_type": "display_data"
    },
    {
     "data": {
      "application/vnd.jupyter.widget-view+json": {
       "model_id": "c0e7cb4c96394ee7ab59eb11c84b38e9",
       "version_major": 2,
       "version_minor": 0
      },
      "text/plain": [
       "  0%|          | 0.00/59.0 [00:00<?, ?batch/s]"
      ]
     },
     "metadata": {},
     "output_type": "display_data"
    },
    {
     "data": {
      "application/vnd.jupyter.widget-view+json": {
       "model_id": "21fa6c49b0ed4165b69cf9f587a7ee51",
       "version_major": 2,
       "version_minor": 0
      },
      "text/plain": [
       "  0%|          | 0.00/59.0 [00:00<?, ?batch/s]"
      ]
     },
     "metadata": {},
     "output_type": "display_data"
    },
    {
     "data": {
      "application/vnd.jupyter.widget-view+json": {
       "model_id": "c47b87fc60c64d4b947ce24c1fa3a19a",
       "version_major": 2,
       "version_minor": 0
      },
      "text/plain": [
       "  0%|          | 0.00/59.0 [00:00<?, ?batch/s]"
      ]
     },
     "metadata": {},
     "output_type": "display_data"
    },
    {
     "data": {
      "application/vnd.jupyter.widget-view+json": {
       "model_id": "050c31b3b59946a9bfe9bc12e18a7344",
       "version_major": 2,
       "version_minor": 0
      },
      "text/plain": [
       "  0%|          | 0.00/59.0 [00:00<?, ?batch/s]"
      ]
     },
     "metadata": {},
     "output_type": "display_data"
    },
    {
     "data": {
      "application/vnd.jupyter.widget-view+json": {
       "model_id": "1d70c412890540d3a8fc26d49d3b305e",
       "version_major": 2,
       "version_minor": 0
      },
      "text/plain": [
       "  0%|          | 0.00/59.0 [00:00<?, ?batch/s]"
      ]
     },
     "metadata": {},
     "output_type": "display_data"
    },
    {
     "data": {
      "application/vnd.jupyter.widget-view+json": {
       "model_id": "b5374b53355341efbaecce09143e65a4",
       "version_major": 2,
       "version_minor": 0
      },
      "text/plain": [
       "  0%|          | 0.00/59.0 [00:00<?, ?batch/s]"
      ]
     },
     "metadata": {},
     "output_type": "display_data"
    },
    {
     "data": {
      "application/vnd.jupyter.widget-view+json": {
       "model_id": "c7ef709988d441e3bb03e1b26199377c",
       "version_major": 2,
       "version_minor": 0
      },
      "text/plain": [
       "  0%|          | 0.00/59.0 [00:00<?, ?batch/s]"
      ]
     },
     "metadata": {},
     "output_type": "display_data"
    },
    {
     "data": {
      "application/vnd.jupyter.widget-view+json": {
       "model_id": "2a18e71db69c421dbfde1c92e432f767",
       "version_major": 2,
       "version_minor": 0
      },
      "text/plain": [
       "  0%|          | 0.00/59.0 [00:00<?, ?batch/s]"
      ]
     },
     "metadata": {},
     "output_type": "display_data"
    },
    {
     "data": {
      "application/vnd.jupyter.widget-view+json": {
       "model_id": "3e20253e2b7e4247859a9e81d2e1762f",
       "version_major": 2,
       "version_minor": 0
      },
      "text/plain": [
       "  0%|          | 0.00/59.0 [00:00<?, ?batch/s]"
      ]
     },
     "metadata": {},
     "output_type": "display_data"
    },
    {
     "data": {
      "application/vnd.jupyter.widget-view+json": {
       "model_id": "16074683f6c24e8eae55168bb12347ba",
       "version_major": 2,
       "version_minor": 0
      },
      "text/plain": [
       "  0%|          | 0.00/59.0 [00:00<?, ?batch/s]"
      ]
     },
     "metadata": {},
     "output_type": "display_data"
    },
    {
     "data": {
      "application/vnd.jupyter.widget-view+json": {
       "model_id": "27f19269522445ed944bc234a378d107",
       "version_major": 2,
       "version_minor": 0
      },
      "text/plain": [
       "  0%|          | 0.00/59.0 [00:00<?, ?batch/s]"
      ]
     },
     "metadata": {},
     "output_type": "display_data"
    },
    {
     "data": {
      "application/vnd.jupyter.widget-view+json": {
       "model_id": "c0e8a4369a834db4ade0163eec30821d",
       "version_major": 2,
       "version_minor": 0
      },
      "text/plain": [
       "  0%|          | 0.00/59.0 [00:00<?, ?batch/s]"
      ]
     },
     "metadata": {},
     "output_type": "display_data"
    },
    {
     "data": {
      "application/vnd.jupyter.widget-view+json": {
       "model_id": "b5d6b288b807472391cfbdf3018109f3",
       "version_major": 2,
       "version_minor": 0
      },
      "text/plain": [
       "  0%|          | 0.00/59.0 [00:00<?, ?batch/s]"
      ]
     },
     "metadata": {},
     "output_type": "display_data"
    },
    {
     "data": {
      "application/vnd.jupyter.widget-view+json": {
       "model_id": "dcd1abfc1d24452f808561dbe7a4eda0",
       "version_major": 2,
       "version_minor": 0
      },
      "text/plain": [
       "  0%|          | 0.00/59.0 [00:00<?, ?batch/s]"
      ]
     },
     "metadata": {},
     "output_type": "display_data"
    },
    {
     "data": {
      "application/vnd.jupyter.widget-view+json": {
       "model_id": "77ba674549ad4a2d9823a13373600df2",
       "version_major": 2,
       "version_minor": 0
      },
      "text/plain": [
       "  0%|          | 0.00/59.0 [00:00<?, ?batch/s]"
      ]
     },
     "metadata": {},
     "output_type": "display_data"
    },
    {
     "data": {
      "application/vnd.jupyter.widget-view+json": {
       "model_id": "9f5cef7565cc409da27b3e691780e329",
       "version_major": 2,
       "version_minor": 0
      },
      "text/plain": [
       "  0%|          | 0.00/59.0 [00:00<?, ?batch/s]"
      ]
     },
     "metadata": {},
     "output_type": "display_data"
    },
    {
     "data": {
      "application/vnd.jupyter.widget-view+json": {
       "model_id": "ec9aa75436a541fa81af269fa816d123",
       "version_major": 2,
       "version_minor": 0
      },
      "text/plain": [
       "  0%|          | 0.00/59.0 [00:00<?, ?batch/s]"
      ]
     },
     "metadata": {},
     "output_type": "display_data"
    },
    {
     "data": {
      "application/vnd.jupyter.widget-view+json": {
       "model_id": "1eac6a13e41a4503b64a9b170493f31a",
       "version_major": 2,
       "version_minor": 0
      },
      "text/plain": [
       "  0%|          | 0.00/59.0 [00:00<?, ?batch/s]"
      ]
     },
     "metadata": {},
     "output_type": "display_data"
    },
    {
     "data": {
      "application/vnd.jupyter.widget-view+json": {
       "model_id": "7da35e9d73c4444d8fbd268c25f3aa72",
       "version_major": 2,
       "version_minor": 0
      },
      "text/plain": [
       "  0%|          | 0.00/59.0 [00:00<?, ?batch/s]"
      ]
     },
     "metadata": {},
     "output_type": "display_data"
    },
    {
     "data": {
      "application/vnd.jupyter.widget-view+json": {
       "model_id": "e95adf18032d4895bd9ef89167fd3b78",
       "version_major": 2,
       "version_minor": 0
      },
      "text/plain": [
       "  0%|          | 0.00/59.0 [00:00<?, ?batch/s]"
      ]
     },
     "metadata": {},
     "output_type": "display_data"
    },
    {
     "data": {
      "application/vnd.jupyter.widget-view+json": {
       "model_id": "8cf61e25c3bb49f9894129a459dc1a86",
       "version_major": 2,
       "version_minor": 0
      },
      "text/plain": [
       "  0%|          | 0.00/59.0 [00:00<?, ?batch/s]"
      ]
     },
     "metadata": {},
     "output_type": "display_data"
    },
    {
     "data": {
      "application/vnd.jupyter.widget-view+json": {
       "model_id": "c13e5d96accf48dc8971175588b9f57f",
       "version_major": 2,
       "version_minor": 0
      },
      "text/plain": [
       "  0%|          | 0.00/59.0 [00:00<?, ?batch/s]"
      ]
     },
     "metadata": {},
     "output_type": "display_data"
    },
    {
     "data": {
      "application/vnd.jupyter.widget-view+json": {
       "model_id": "02962aca64924121a9846062cc61bcd8",
       "version_major": 2,
       "version_minor": 0
      },
      "text/plain": [
       "  0%|          | 0.00/59.0 [00:00<?, ?batch/s]"
      ]
     },
     "metadata": {},
     "output_type": "display_data"
    },
    {
     "data": {
      "application/vnd.jupyter.widget-view+json": {
       "model_id": "fda4029bb2d54b9088a447cef34b20f2",
       "version_major": 2,
       "version_minor": 0
      },
      "text/plain": [
       "  0%|          | 0.00/59.0 [00:00<?, ?batch/s]"
      ]
     },
     "metadata": {},
     "output_type": "display_data"
    },
    {
     "data": {
      "application/vnd.jupyter.widget-view+json": {
       "model_id": "10b042a042fe40078e5e15e7d83c4ba4",
       "version_major": 2,
       "version_minor": 0
      },
      "text/plain": [
       "  0%|          | 0.00/59.0 [00:00<?, ?batch/s]"
      ]
     },
     "metadata": {},
     "output_type": "display_data"
    },
    {
     "data": {
      "application/vnd.jupyter.widget-view+json": {
       "model_id": "8683977585394a73b536783ea876b956",
       "version_major": 2,
       "version_minor": 0
      },
      "text/plain": [
       "  0%|          | 0.00/59.0 [00:00<?, ?batch/s]"
      ]
     },
     "metadata": {},
     "output_type": "display_data"
    },
    {
     "data": {
      "application/vnd.jupyter.widget-view+json": {
       "model_id": "15c6553a6b604822858fee3895d5c374",
       "version_major": 2,
       "version_minor": 0
      },
      "text/plain": [
       "  0%|          | 0.00/59.0 [00:00<?, ?batch/s]"
      ]
     },
     "metadata": {},
     "output_type": "display_data"
    },
    {
     "data": {
      "application/vnd.jupyter.widget-view+json": {
       "model_id": "a6fdf580f7114fd1ba5cee907ac3a9fd",
       "version_major": 2,
       "version_minor": 0
      },
      "text/plain": [
       "  0%|          | 0.00/59.0 [00:00<?, ?batch/s]"
      ]
     },
     "metadata": {},
     "output_type": "display_data"
    },
    {
     "data": {
      "application/vnd.jupyter.widget-view+json": {
       "model_id": "aa09fbbcd2b646d099b00bd47b8e937e",
       "version_major": 2,
       "version_minor": 0
      },
      "text/plain": [
       "  0%|          | 0.00/59.0 [00:00<?, ?batch/s]"
      ]
     },
     "metadata": {},
     "output_type": "display_data"
    },
    {
     "data": {
      "application/vnd.jupyter.widget-view+json": {
       "model_id": "f5d51ded60fb44d1ba42fbda1c2fd6cc",
       "version_major": 2,
       "version_minor": 0
      },
      "text/plain": [
       "  0%|          | 0.00/59.0 [00:00<?, ?batch/s]"
      ]
     },
     "metadata": {},
     "output_type": "display_data"
    },
    {
     "data": {
      "application/vnd.jupyter.widget-view+json": {
       "model_id": "bae442e2e5cd4b4ab265011f9b125ba1",
       "version_major": 2,
       "version_minor": 0
      },
      "text/plain": [
       "  0%|          | 0.00/59.0 [00:00<?, ?batch/s]"
      ]
     },
     "metadata": {},
     "output_type": "display_data"
    },
    {
     "data": {
      "application/vnd.jupyter.widget-view+json": {
       "model_id": "7593ef0025a241c6b071dc9eefa6d330",
       "version_major": 2,
       "version_minor": 0
      },
      "text/plain": [
       "  0%|          | 0.00/59.0 [00:00<?, ?batch/s]"
      ]
     },
     "metadata": {},
     "output_type": "display_data"
    },
    {
     "data": {
      "application/vnd.jupyter.widget-view+json": {
       "model_id": "64298a09039f49919cba18e61a9fabd9",
       "version_major": 2,
       "version_minor": 0
      },
      "text/plain": [
       "  0%|          | 0.00/59.0 [00:00<?, ?batch/s]"
      ]
     },
     "metadata": {},
     "output_type": "display_data"
    },
    {
     "data": {
      "application/vnd.jupyter.widget-view+json": {
       "model_id": "3ddd64b214624ed7b38f8bfd4b219975",
       "version_major": 2,
       "version_minor": 0
      },
      "text/plain": [
       "  0%|          | 0.00/59.0 [00:00<?, ?batch/s]"
      ]
     },
     "metadata": {},
     "output_type": "display_data"
    },
    {
     "data": {
      "application/vnd.jupyter.widget-view+json": {
       "model_id": "e09b3fe1d7a74b268cec22b31223b749",
       "version_major": 2,
       "version_minor": 0
      },
      "text/plain": [
       "  0%|          | 0.00/59.0 [00:00<?, ?batch/s]"
      ]
     },
     "metadata": {},
     "output_type": "display_data"
    },
    {
     "data": {
      "application/vnd.jupyter.widget-view+json": {
       "model_id": "d1ce6668783848228f35a2355e4213e8",
       "version_major": 2,
       "version_minor": 0
      },
      "text/plain": [
       "  0%|          | 0.00/59.0 [00:00<?, ?batch/s]"
      ]
     },
     "metadata": {},
     "output_type": "display_data"
    },
    {
     "data": {
      "application/vnd.jupyter.widget-view+json": {
       "model_id": "68f3435541b84858a4b8cfb1cfc99276",
       "version_major": 2,
       "version_minor": 0
      },
      "text/plain": [
       "  0%|          | 0.00/59.0 [00:00<?, ?batch/s]"
      ]
     },
     "metadata": {},
     "output_type": "display_data"
    },
    {
     "data": {
      "application/vnd.jupyter.widget-view+json": {
       "model_id": "0d843eaea3fe446b8b1628159a021c68",
       "version_major": 2,
       "version_minor": 0
      },
      "text/plain": [
       "  0%|          | 0.00/59.0 [00:00<?, ?batch/s]"
      ]
     },
     "metadata": {},
     "output_type": "display_data"
    },
    {
     "data": {
      "application/vnd.jupyter.widget-view+json": {
       "model_id": "d574749efd324d63b7a66c3a95351d2a",
       "version_major": 2,
       "version_minor": 0
      },
      "text/plain": [
       "  0%|          | 0.00/59.0 [00:00<?, ?batch/s]"
      ]
     },
     "metadata": {},
     "output_type": "display_data"
    },
    {
     "data": {
      "application/vnd.jupyter.widget-view+json": {
       "model_id": "ea2571892e5f41db8b7f3b82fc149daf",
       "version_major": 2,
       "version_minor": 0
      },
      "text/plain": [
       "  0%|          | 0.00/59.0 [00:00<?, ?batch/s]"
      ]
     },
     "metadata": {},
     "output_type": "display_data"
    },
    {
     "data": {
      "application/vnd.jupyter.widget-view+json": {
       "model_id": "a11804d937384e79b923e115b7e01466",
       "version_major": 2,
       "version_minor": 0
      },
      "text/plain": [
       "  0%|          | 0.00/59.0 [00:00<?, ?batch/s]"
      ]
     },
     "metadata": {},
     "output_type": "display_data"
    },
    {
     "data": {
      "application/vnd.jupyter.widget-view+json": {
       "model_id": "80ae9aa3258b462e9db5678d413050ce",
       "version_major": 2,
       "version_minor": 0
      },
      "text/plain": [
       "  0%|          | 0.00/59.0 [00:00<?, ?batch/s]"
      ]
     },
     "metadata": {},
     "output_type": "display_data"
    },
    {
     "data": {
      "application/vnd.jupyter.widget-view+json": {
       "model_id": "86126cee72ea41d2a2dbb252ed46b455",
       "version_major": 2,
       "version_minor": 0
      },
      "text/plain": [
       "  0%|          | 0.00/59.0 [00:00<?, ?batch/s]"
      ]
     },
     "metadata": {},
     "output_type": "display_data"
    },
    {
     "data": {
      "application/vnd.jupyter.widget-view+json": {
       "model_id": "df5977f9ba5e40c3a8d0fc41dea85bd2",
       "version_major": 2,
       "version_minor": 0
      },
      "text/plain": [
       "  0%|          | 0.00/59.0 [00:00<?, ?batch/s]"
      ]
     },
     "metadata": {},
     "output_type": "display_data"
    },
    {
     "data": {
      "application/vnd.jupyter.widget-view+json": {
       "model_id": "79d3d6e28f714f3f919068448a40fb4b",
       "version_major": 2,
       "version_minor": 0
      },
      "text/plain": [
       "  0%|          | 0.00/59.0 [00:00<?, ?batch/s]"
      ]
     },
     "metadata": {},
     "output_type": "display_data"
    },
    {
     "data": {
      "application/vnd.jupyter.widget-view+json": {
       "model_id": "2fd1f78412a9459ca566e0f18be9358c",
       "version_major": 2,
       "version_minor": 0
      },
      "text/plain": [
       "  0%|          | 0.00/59.0 [00:00<?, ?batch/s]"
      ]
     },
     "metadata": {},
     "output_type": "display_data"
    },
    {
     "data": {
      "application/vnd.jupyter.widget-view+json": {
       "model_id": "e563f10221744ca7b8c8e0f5279b7418",
       "version_major": 2,
       "version_minor": 0
      },
      "text/plain": [
       "  0%|          | 0.00/59.0 [00:00<?, ?batch/s]"
      ]
     },
     "metadata": {},
     "output_type": "display_data"
    },
    {
     "data": {
      "application/vnd.jupyter.widget-view+json": {
       "model_id": "068b3bccd57c41eeabe00aed5bae43bf",
       "version_major": 2,
       "version_minor": 0
      },
      "text/plain": [
       "  0%|          | 0.00/59.0 [00:00<?, ?batch/s]"
      ]
     },
     "metadata": {},
     "output_type": "display_data"
    },
    {
     "data": {
      "application/vnd.jupyter.widget-view+json": {
       "model_id": "a2fed7afb81044408b418574f070222e",
       "version_major": 2,
       "version_minor": 0
      },
      "text/plain": [
       "  0%|          | 0.00/59.0 [00:00<?, ?batch/s]"
      ]
     },
     "metadata": {},
     "output_type": "display_data"
    },
    {
     "data": {
      "application/vnd.jupyter.widget-view+json": {
       "model_id": "297bcab7171d4ae88e9ececfbf21de3e",
       "version_major": 2,
       "version_minor": 0
      },
      "text/plain": [
       "  0%|          | 0.00/59.0 [00:00<?, ?batch/s]"
      ]
     },
     "metadata": {},
     "output_type": "display_data"
    },
    {
     "data": {
      "application/vnd.jupyter.widget-view+json": {
       "model_id": "afe843fd41ad4154b4508682c358e254",
       "version_major": 2,
       "version_minor": 0
      },
      "text/plain": [
       "  0%|          | 0.00/59.0 [00:00<?, ?batch/s]"
      ]
     },
     "metadata": {},
     "output_type": "display_data"
    },
    {
     "data": {
      "application/vnd.jupyter.widget-view+json": {
       "model_id": "b833d0053ee64ad78e3f00c018d82a18",
       "version_major": 2,
       "version_minor": 0
      },
      "text/plain": [
       "  0%|          | 0.00/59.0 [00:00<?, ?batch/s]"
      ]
     },
     "metadata": {},
     "output_type": "display_data"
    },
    {
     "data": {
      "application/vnd.jupyter.widget-view+json": {
       "model_id": "156911f03acf45409e860f99bc36a5ae",
       "version_major": 2,
       "version_minor": 0
      },
      "text/plain": [
       "  0%|          | 0.00/59.0 [00:00<?, ?batch/s]"
      ]
     },
     "metadata": {},
     "output_type": "display_data"
    },
    {
     "data": {
      "application/vnd.jupyter.widget-view+json": {
       "model_id": "79e43baa95394e10bb360feb718ca6b7",
       "version_major": 2,
       "version_minor": 0
      },
      "text/plain": [
       "  0%|          | 0.00/59.0 [00:00<?, ?batch/s]"
      ]
     },
     "metadata": {},
     "output_type": "display_data"
    },
    {
     "data": {
      "application/vnd.jupyter.widget-view+json": {
       "model_id": "03ebc397d8b245e892107d5cef15fa67",
       "version_major": 2,
       "version_minor": 0
      },
      "text/plain": [
       "  0%|          | 0.00/59.0 [00:00<?, ?batch/s]"
      ]
     },
     "metadata": {},
     "output_type": "display_data"
    },
    {
     "data": {
      "application/vnd.jupyter.widget-view+json": {
       "model_id": "0655e23050904c5f85c28ae159c4adb4",
       "version_major": 2,
       "version_minor": 0
      },
      "text/plain": [
       "  0%|          | 0.00/59.0 [00:00<?, ?batch/s]"
      ]
     },
     "metadata": {},
     "output_type": "display_data"
    },
    {
     "data": {
      "application/vnd.jupyter.widget-view+json": {
       "model_id": "29216d941eaf4bdfa89fb1a86b63c9e3",
       "version_major": 2,
       "version_minor": 0
      },
      "text/plain": [
       "  0%|          | 0.00/59.0 [00:00<?, ?batch/s]"
      ]
     },
     "metadata": {},
     "output_type": "display_data"
    },
    {
     "data": {
      "application/vnd.jupyter.widget-view+json": {
       "model_id": "8c7ad698145844588ef87caee2735508",
       "version_major": 2,
       "version_minor": 0
      },
      "text/plain": [
       "  0%|          | 0.00/59.0 [00:00<?, ?batch/s]"
      ]
     },
     "metadata": {},
     "output_type": "display_data"
    },
    {
     "data": {
      "application/vnd.jupyter.widget-view+json": {
       "model_id": "309d14fefa2046e08f254aa37d586dc0",
       "version_major": 2,
       "version_minor": 0
      },
      "text/plain": [
       "  0%|          | 0.00/59.0 [00:00<?, ?batch/s]"
      ]
     },
     "metadata": {},
     "output_type": "display_data"
    },
    {
     "data": {
      "application/vnd.jupyter.widget-view+json": {
       "model_id": "1d96f411527e4b3782b0516a12bb6b8b",
       "version_major": 2,
       "version_minor": 0
      },
      "text/plain": [
       "  0%|          | 0.00/59.0 [00:00<?, ?batch/s]"
      ]
     },
     "metadata": {},
     "output_type": "display_data"
    },
    {
     "data": {
      "application/vnd.jupyter.widget-view+json": {
       "model_id": "c1adfd4f70d34410b146207263acc1ce",
       "version_major": 2,
       "version_minor": 0
      },
      "text/plain": [
       "  0%|          | 0.00/59.0 [00:00<?, ?batch/s]"
      ]
     },
     "metadata": {},
     "output_type": "display_data"
    },
    {
     "data": {
      "application/vnd.jupyter.widget-view+json": {
       "model_id": "2a998a2ee21f448f8a91bf86d2ffceb0",
       "version_major": 2,
       "version_minor": 0
      },
      "text/plain": [
       "  0%|          | 0.00/59.0 [00:00<?, ?batch/s]"
      ]
     },
     "metadata": {},
     "output_type": "display_data"
    },
    {
     "data": {
      "application/vnd.jupyter.widget-view+json": {
       "model_id": "b3d26ed5651d47219f02767e7f227902",
       "version_major": 2,
       "version_minor": 0
      },
      "text/plain": [
       "  0%|          | 0.00/59.0 [00:00<?, ?batch/s]"
      ]
     },
     "metadata": {},
     "output_type": "display_data"
    },
    {
     "data": {
      "application/vnd.jupyter.widget-view+json": {
       "model_id": "139f305863d344d580d4eb8653f8ea97",
       "version_major": 2,
       "version_minor": 0
      },
      "text/plain": [
       "  0%|          | 0.00/59.0 [00:00<?, ?batch/s]"
      ]
     },
     "metadata": {},
     "output_type": "display_data"
    },
    {
     "data": {
      "application/vnd.jupyter.widget-view+json": {
       "model_id": "ebe22d7fca8b4578bccbe162a322d10b",
       "version_major": 2,
       "version_minor": 0
      },
      "text/plain": [
       "  0%|          | 0.00/59.0 [00:00<?, ?batch/s]"
      ]
     },
     "metadata": {},
     "output_type": "display_data"
    },
    {
     "data": {
      "application/vnd.jupyter.widget-view+json": {
       "model_id": "df6967e494d94f7ba79a285a1a02f853",
       "version_major": 2,
       "version_minor": 0
      },
      "text/plain": [
       "  0%|          | 0.00/59.0 [00:00<?, ?batch/s]"
      ]
     },
     "metadata": {},
     "output_type": "display_data"
    },
    {
     "data": {
      "application/vnd.jupyter.widget-view+json": {
       "model_id": "65d3a914c42d4ac0884f2aa2c31841ba",
       "version_major": 2,
       "version_minor": 0
      },
      "text/plain": [
       "  0%|          | 0.00/59.0 [00:00<?, ?batch/s]"
      ]
     },
     "metadata": {},
     "output_type": "display_data"
    },
    {
     "data": {
      "application/vnd.jupyter.widget-view+json": {
       "model_id": "0693de4228b343bd8d0d87d240a94408",
       "version_major": 2,
       "version_minor": 0
      },
      "text/plain": [
       "  0%|          | 0.00/59.0 [00:00<?, ?batch/s]"
      ]
     },
     "metadata": {},
     "output_type": "display_data"
    },
    {
     "data": {
      "application/vnd.jupyter.widget-view+json": {
       "model_id": "ad6098c842ff41c983f2cd854eb820e9",
       "version_major": 2,
       "version_minor": 0
      },
      "text/plain": [
       "  0%|          | 0.00/59.0 [00:00<?, ?batch/s]"
      ]
     },
     "metadata": {},
     "output_type": "display_data"
    },
    {
     "data": {
      "application/vnd.jupyter.widget-view+json": {
       "model_id": "c710beaa363a4f229fec6a881d0bf4e8",
       "version_major": 2,
       "version_minor": 0
      },
      "text/plain": [
       "  0%|          | 0.00/59.0 [00:00<?, ?batch/s]"
      ]
     },
     "metadata": {},
     "output_type": "display_data"
    },
    {
     "data": {
      "application/vnd.jupyter.widget-view+json": {
       "model_id": "e544c16ca469492fb39743abf9c15df7",
       "version_major": 2,
       "version_minor": 0
      },
      "text/plain": [
       "  0%|          | 0.00/59.0 [00:00<?, ?batch/s]"
      ]
     },
     "metadata": {},
     "output_type": "display_data"
    },
    {
     "data": {
      "application/vnd.jupyter.widget-view+json": {
       "model_id": "e7d9855a55474dc3b2444cb9cccfa667",
       "version_major": 2,
       "version_minor": 0
      },
      "text/plain": [
       "  0%|          | 0.00/59.0 [00:00<?, ?batch/s]"
      ]
     },
     "metadata": {},
     "output_type": "display_data"
    },
    {
     "data": {
      "application/vnd.jupyter.widget-view+json": {
       "model_id": "ab30034a08fa4069a0f0977a5fd747c9",
       "version_major": 2,
       "version_minor": 0
      },
      "text/plain": [
       "  0%|          | 0.00/59.0 [00:00<?, ?batch/s]"
      ]
     },
     "metadata": {},
     "output_type": "display_data"
    },
    {
     "data": {
      "application/vnd.jupyter.widget-view+json": {
       "model_id": "43bde1afc5b2416196371929624850cd",
       "version_major": 2,
       "version_minor": 0
      },
      "text/plain": [
       "  0%|          | 0.00/59.0 [00:00<?, ?batch/s]"
      ]
     },
     "metadata": {},
     "output_type": "display_data"
    },
    {
     "data": {
      "application/vnd.jupyter.widget-view+json": {
       "model_id": "59fc825be6ef4713a99c041000fa956d",
       "version_major": 2,
       "version_minor": 0
      },
      "text/plain": [
       "  0%|          | 0.00/59.0 [00:00<?, ?batch/s]"
      ]
     },
     "metadata": {},
     "output_type": "display_data"
    },
    {
     "data": {
      "application/vnd.jupyter.widget-view+json": {
       "model_id": "181805d4b2574d0b9598619f637fc0f0",
       "version_major": 2,
       "version_minor": 0
      },
      "text/plain": [
       "  0%|          | 0.00/59.0 [00:00<?, ?batch/s]"
      ]
     },
     "metadata": {},
     "output_type": "display_data"
    },
    {
     "data": {
      "application/vnd.jupyter.widget-view+json": {
       "model_id": "d8050eb9279c415d89f4a7cc1329228a",
       "version_major": 2,
       "version_minor": 0
      },
      "text/plain": [
       "  0%|          | 0.00/59.0 [00:00<?, ?batch/s]"
      ]
     },
     "metadata": {},
     "output_type": "display_data"
    },
    {
     "data": {
      "application/vnd.jupyter.widget-view+json": {
       "model_id": "665b93792c8142fbbff57969398c3165",
       "version_major": 2,
       "version_minor": 0
      },
      "text/plain": [
       "  0%|          | 0.00/59.0 [00:00<?, ?batch/s]"
      ]
     },
     "metadata": {},
     "output_type": "display_data"
    },
    {
     "data": {
      "application/vnd.jupyter.widget-view+json": {
       "model_id": "efd71d75520a41dc9af7ac606366fd59",
       "version_major": 2,
       "version_minor": 0
      },
      "text/plain": [
       "  0%|          | 0.00/59.0 [00:00<?, ?batch/s]"
      ]
     },
     "metadata": {},
     "output_type": "display_data"
    },
    {
     "data": {
      "application/vnd.jupyter.widget-view+json": {
       "model_id": "e1121bc479cb49b0b1905184a6aeb24a",
       "version_major": 2,
       "version_minor": 0
      },
      "text/plain": [
       "  0%|          | 0.00/59.0 [00:00<?, ?batch/s]"
      ]
     },
     "metadata": {},
     "output_type": "display_data"
    },
    {
     "data": {
      "application/vnd.jupyter.widget-view+json": {
       "model_id": "962778a9cb594d9cbff0904995e41bdd",
       "version_major": 2,
       "version_minor": 0
      },
      "text/plain": [
       "  0%|          | 0.00/59.0 [00:00<?, ?batch/s]"
      ]
     },
     "metadata": {},
     "output_type": "display_data"
    },
    {
     "data": {
      "application/vnd.jupyter.widget-view+json": {
       "model_id": "cde51d68b13c47db86b76e814e270c92",
       "version_major": 2,
       "version_minor": 0
      },
      "text/plain": [
       "  0%|          | 0.00/59.0 [00:00<?, ?batch/s]"
      ]
     },
     "metadata": {},
     "output_type": "display_data"
    }
   ],
   "source": [
    "from tqdm import tqdm_notebook as tqdm\n",
    "from tqdm.keras import TqdmCallback\n",
    "\n",
    "NUM_EPOCHS=250\n",
    "BATCH_SIZE = 16\n",
    "history = model.fit(X_train, y_train,\n",
    "                    epochs = NUM_EPOCHS,\n",
    "                    batch_size  = BATCH_SIZE,\n",
    "                    validation_split = 0.15,\n",
    "                    callbacks = [TqdmCallback(verbose=2)],\n",
    "                    verbose = 0)"
   ]
  },
  {
   "cell_type": "code",
   "execution_count": 168,
   "id": "129ee279-94cd-45de-ba82-fc8816d566cc",
   "metadata": {},
   "outputs": [
    {
     "name": "stdout",
     "output_type": "stream",
     "text": [
      "9/9 [==============================] - 0s 2ms/step - loss: 3.1891 - sparse_categorical_accuracy: 0.5536\n"
     ]
    }
   ],
   "source": [
    "test_loss, test_accuracy = model.evaluate(X_test, y_test)"
   ]
  },
  {
   "cell_type": "code",
   "execution_count": 169,
   "id": "f5b3e5fe-1fa0-468c-9c52-9c98b520a835",
   "metadata": {},
   "outputs": [],
   "source": [
    "def plotCurves(history,epochs):\n",
    "\n",
    "    plt.plot(history.history['sparse_categorical_accuracy'],'r')\n",
    "    plt.plot(history.history['val_sparse_categorical_accuracy'],'g')\n",
    "    plt.xticks(np.arange(0, epochs, 50.0))\n",
    "    plt.rcParams['figure.figsize'] = (8, 6)\n",
    "    plt.xlabel(\"Num of Epochs\")\n",
    "    plt.ylabel(\"categorical_accuracy\")\n",
    "    plt.title(\"Training vs Validation Sparse Categorical Accuracy\")\n",
    "    plt.legend(['train','validation'])\n",
    " \n",
    "    plt.show()"
   ]
  },
  {
   "cell_type": "code",
   "execution_count": 170,
   "id": "6faac3ef-c297-420c-a96e-247ade70fd1b",
   "metadata": {},
   "outputs": [
    {
     "data": {
      "image/png": "[encoded data removed]",
      "text/plain": [
       "<Figure size 432x288 with 1 Axes>"
      ]
     },
     "metadata": {
      "needs_background": "light"
     },
     "output_type": "display_data"
    }
   ],
   "source": [
    "plotCurves(history,NUM_EPOCHS)"
   ]
  },
  {
   "cell_type": "code",
   "execution_count": 171,
   "id": "9169678f-8ac4-4416-8d30-db173159071c",
   "metadata": {},
   "outputs": [],
   "source": [
    "predictions = model.predict(X_test)"
   ]
  },
  {
   "cell_type": "code",
   "execution_count": 172,
   "id": "b447dc01-9945-45d4-bd13-ac18c7c99585",
   "metadata": {},
   "outputs": [
    {
     "data": {
      "text/plain": [
       "array([[  4,  29,   4],\n",
       "       [ 32, 149,  28],\n",
       "       [  2,  30,   2]], dtype=int64)"
      ]
     },
     "execution_count": 172,
     "metadata": {},
     "output_type": "execute_result"
    }
   ],
   "source": [
    "from sklearn.metrics import confusion_matrix\n",
    "labels = [0,1,2]\n",
    "cm=confusion_matrix(y_test.values,\n",
    "                    predictions.argmax(axis=1))\n",
    "cm"
   ]
  },
  {
   "cell_type": "code",
   "execution_count": 173,
   "id": "d01004f3-4d57-4ddc-9da7-e7647e37288d",
   "metadata": {},
   "outputs": [
    {
     "data": {
      "image/png": "[encoded data removed]",
      "text/plain": [
       "<Figure size 432x288 with 2 Axes>"
      ]
     },
     "metadata": {
      "needs_background": "light"
     },
     "output_type": "display_data"
    }
   ],
   "source": [
    "import seaborn as sns\n",
    "%matplotlib inline\n",
    "\n",
    "sns.heatmap(cm,\n",
    "            annot=True,\n",
    "            fmt='d',\n",
    "            cmap='Greens')\n",
    "plt.ylabel('Actual')\n",
    "plt.xlabel('Predicted');"
   ]
  },
  {
   "cell_type": "code",
   "execution_count": 174,
   "id": "395f49c3-c267-4343-a85d-eb29abd37cb3",
   "metadata": {},
   "outputs": [
    {
     "name": "stdout",
     "output_type": "stream",
     "text": [
      "0.5535714285714286\n",
      "              precision    recall  f1-score   support\n",
      "\n",
      "           0       0.11      0.11      0.11        37\n",
      "           1       0.72      0.71      0.71       209\n",
      "           2       0.06      0.06      0.06        34\n",
      "\n",
      "    accuracy                           0.55       280\n",
      "   macro avg       0.29      0.29      0.29       280\n",
      "weighted avg       0.56      0.55      0.55       280\n",
      "\n"
     ]
    }
   ],
   "source": [
    "from sklearn.metrics import classification_report\n",
    "from sklearn.metrics import accuracy_score \n",
    "print(accuracy_score(y_test.values,\n",
    "                    predictions.argmax(axis=1)))\n",
    "print(classification_report(y_test.values,\n",
    "                    predictions.argmax(axis=1)))"
   ]
  },
  {
   "cell_type": "markdown",
   "id": "1666a859-dd6b-4e70-9e49-25d52d320ad2",
   "metadata": {},
   "source": [
    "### Telegram"
   ]
  },
  {
   "cell_type": "code",
   "execution_count": 167,
   "id": "c65a070f-19b6-452c-908a-32d3409281e7",
   "metadata": {},
   "outputs": [],
   "source": [
    "import telepot\n",
    "\n",
    "bot_token = '1653124784:AAFpL0qlC_ybadcbFX6jKagauRFpiFpSf1E'\n",
    "chatID = '-625272860'\n",
    "\n",
    "bot = telepot.Bot(bot_token)"
   ]
  },
  {
   "cell_type": "code",
   "execution_count": 168,
   "id": "fb3cd67e-8182-47c1-9ea5-8054dc9f1b66",
   "metadata": {},
   "outputs": [
    {
     "data": {
      "text/plain": [
       "{'message_id': 107,\n",
       " 'from': {'id': 1653124784,\n",
       "  'is_bot': True,\n",
       "  'first_name': 'JARVIS',\n",
       "  'username': 'JARVIS_Walkn_bot'},\n",
       " 'chat': {'id': -625272860,\n",
       "  'title': 'Trading',\n",
       "  'type': 'group',\n",
       "  'all_members_are_administrators': True},\n",
       " 'date': 1637896017,\n",
       " 'photo': [{'file_id': 'AgACAgQAAxkDAANrYaBPUV6axk1vyzCmCRrt8HVu468AAui3MRsUYwABURgzD2eGDIwBAQADAgADcwADIgQ',\n",
       "   'file_unique_id': 'AQAD6LcxGxRjAAFReA',\n",
       "   'file_size': 758,\n",
       "   'width': 90,\n",
       "   'height': 45},\n",
       "  {'file_id': 'AgACAgQAAxkDAANrYaBPUV6axk1vyzCmCRrt8HVu468AAui3MRsUYwABURgzD2eGDIwBAQADAgADbQADIgQ',\n",
       "   'file_unique_id': 'AQAD6LcxGxRjAAFRcg',\n",
       "   'file_size': 9967,\n",
       "   'width': 320,\n",
       "   'height': 160},\n",
       "  {'file_id': 'AgACAgQAAxkDAANrYaBPUV6axk1vyzCmCRrt8HVu468AAui3MRsUYwABURgzD2eGDIwBAQADAgADeAADIgQ',\n",
       "   'file_unique_id': 'AQAD6LcxGxRjAAFRfQ',\n",
       "   'file_size': 41074,\n",
       "   'width': 800,\n",
       "   'height': 400},\n",
       "  {'file_id': 'AgACAgQAAxkDAANrYaBPUV6axk1vyzCmCRrt8HVu468AAui3MRsUYwABURgzD2eGDIwBAQADAgADeQADIgQ',\n",
       "   'file_unique_id': 'AQAD6LcxGxRjAAFRfg',\n",
       "   'file_size': 87230,\n",
       "   'width': 1280,\n",
       "   'height': 640},\n",
       "  {'file_id': 'AgACAgQAAxkDAANrYaBPUV6axk1vyzCmCRrt8HVu468AAui3MRsUYwABURgzD2eGDIwBAQADAgADdwADIgQ',\n",
       "   'file_unique_id': 'AQAD6LcxGxRjAAFRfA',\n",
       "   'file_size': 238711,\n",
       "   'width': 2560,\n",
       "   'height': 1280}]}"
      ]
     },
     "execution_count": 168,
     "metadata": {},
     "output_type": "execute_result"
    }
   ],
   "source": [
    "#ot.sendMessage(bot_chatID, \"HALA\")\n",
    "bot.sendPhoto(chatID, photo=open('imagen.png', 'rb'))"
   ]
  },
  {
   "cell_type": "code",
   "execution_count": null,
   "id": "7bf52475-94be-4e65-b502-836940c97f20",
   "metadata": {},
   "outputs": [],
   "source": []
  }
 ],
 "metadata": {
  "kernelspec": {
   "display_name": "Python 3 (ipykernel)",
   "language": "python",
   "name": "python3"
  },
  "language_info": {
   "codemirror_mode": {
    "name": "ipython",
    "version": 3
   },
   "file_extension": ".py",
   "mimetype": "text/x-python",
   "name": "python",
   "nbconvert_exporter": "python",
   "pygments_lexer": "ipython3",
   "version": "3.7.9"
  }
 },
 "nbformat": 4,
 "nbformat_minor": 5
}
