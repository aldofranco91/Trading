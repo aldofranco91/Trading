{
 "cells": [
  {
   "cell_type": "code",
   "execution_count": 1,
   "id": "684d0d24-cdd0-44d6-adb7-3b744dd92370",
   "metadata": {},
   "outputs": [],
   "source": [
    "%reset -f"
   ]
  },
  {
   "cell_type": "code",
   "execution_count": 2,
   "id": "5e8696e4-a0f6-40c9-b681-64b04505ddf2",
   "metadata": {},
   "outputs": [
    {
     "ename": "MissingSchema",
     "evalue": "Invalid URL 'api.coincap.io/v2/assets/bitcoin/history?interval=d1': No schema supplied. Perhaps you meant http://api.coincap.io/v2/assets/bitcoin/history?interval=d1?",
     "output_type": "error",
     "traceback": [
      "\u001b[1;31m---------------------------------------------------------------------------\u001b[0m",
      "\u001b[1;31mMissingSchema\u001b[0m                             Traceback (most recent call last)",
      "\u001b[1;32m<ipython-input-2-b331d5d9b102>\u001b[0m in \u001b[0;36m<module>\u001b[1;34m\u001b[0m\n\u001b[0;32m      6\u001b[0m \u001b[0mheaders\u001b[0m \u001b[1;33m=\u001b[0m \u001b[1;33m{\u001b[0m\u001b[1;33m}\u001b[0m\u001b[1;33m\u001b[0m\u001b[1;33m\u001b[0m\u001b[0m\n\u001b[0;32m      7\u001b[0m \u001b[1;33m\u001b[0m\u001b[0m\n\u001b[1;32m----> 8\u001b[1;33m \u001b[0mresponse\u001b[0m \u001b[1;33m=\u001b[0m \u001b[0mrequests\u001b[0m\u001b[1;33m.\u001b[0m\u001b[0mrequest\u001b[0m\u001b[1;33m(\u001b[0m\u001b[1;34m\"GET\"\u001b[0m\u001b[1;33m,\u001b[0m \u001b[0murl\u001b[0m\u001b[1;33m,\u001b[0m \u001b[0mheaders\u001b[0m\u001b[1;33m=\u001b[0m\u001b[0mheaders\u001b[0m\u001b[1;33m,\u001b[0m \u001b[0mdata\u001b[0m\u001b[1;33m=\u001b[0m\u001b[0mpayload\u001b[0m\u001b[1;33m)\u001b[0m\u001b[1;33m\u001b[0m\u001b[1;33m\u001b[0m\u001b[0m\n\u001b[0m\u001b[0;32m      9\u001b[0m \u001b[1;33m\u001b[0m\u001b[0m\n\u001b[0;32m     10\u001b[0m \u001b[0mprint\u001b[0m\u001b[1;33m(\u001b[0m\u001b[0mresponse\u001b[0m\u001b[1;33m.\u001b[0m\u001b[0mtext\u001b[0m\u001b[1;33m)\u001b[0m\u001b[1;33m\u001b[0m\u001b[1;33m\u001b[0m\u001b[0m\n",
      "\u001b[1;32m~\\AppData\\Roaming\\Python\\Python39\\site-packages\\requests\\api.py\u001b[0m in \u001b[0;36mrequest\u001b[1;34m(method, url, **kwargs)\u001b[0m\n\u001b[0;32m     59\u001b[0m     \u001b[1;31m# cases, and look like a memory leak in others.\u001b[0m\u001b[1;33m\u001b[0m\u001b[1;33m\u001b[0m\u001b[1;33m\u001b[0m\u001b[0m\n\u001b[0;32m     60\u001b[0m     \u001b[1;32mwith\u001b[0m \u001b[0msessions\u001b[0m\u001b[1;33m.\u001b[0m\u001b[0mSession\u001b[0m\u001b[1;33m(\u001b[0m\u001b[1;33m)\u001b[0m \u001b[1;32mas\u001b[0m \u001b[0msession\u001b[0m\u001b[1;33m:\u001b[0m\u001b[1;33m\u001b[0m\u001b[1;33m\u001b[0m\u001b[0m\n\u001b[1;32m---> 61\u001b[1;33m         \u001b[1;32mreturn\u001b[0m \u001b[0msession\u001b[0m\u001b[1;33m.\u001b[0m\u001b[0mrequest\u001b[0m\u001b[1;33m(\u001b[0m\u001b[0mmethod\u001b[0m\u001b[1;33m=\u001b[0m\u001b[0mmethod\u001b[0m\u001b[1;33m,\u001b[0m \u001b[0murl\u001b[0m\u001b[1;33m=\u001b[0m\u001b[0murl\u001b[0m\u001b[1;33m,\u001b[0m \u001b[1;33m**\u001b[0m\u001b[0mkwargs\u001b[0m\u001b[1;33m)\u001b[0m\u001b[1;33m\u001b[0m\u001b[1;33m\u001b[0m\u001b[0m\n\u001b[0m\u001b[0;32m     62\u001b[0m \u001b[1;33m\u001b[0m\u001b[0m\n\u001b[0;32m     63\u001b[0m \u001b[1;33m\u001b[0m\u001b[0m\n",
      "\u001b[1;32m~\\AppData\\Roaming\\Python\\Python39\\site-packages\\requests\\sessions.py\u001b[0m in \u001b[0;36mrequest\u001b[1;34m(self, method, url, params, data, headers, cookies, files, auth, timeout, allow_redirects, proxies, hooks, stream, verify, cert, json)\u001b[0m\n\u001b[0;32m    526\u001b[0m             \u001b[0mhooks\u001b[0m\u001b[1;33m=\u001b[0m\u001b[0mhooks\u001b[0m\u001b[1;33m,\u001b[0m\u001b[1;33m\u001b[0m\u001b[1;33m\u001b[0m\u001b[0m\n\u001b[0;32m    527\u001b[0m         )\n\u001b[1;32m--> 528\u001b[1;33m         \u001b[0mprep\u001b[0m \u001b[1;33m=\u001b[0m \u001b[0mself\u001b[0m\u001b[1;33m.\u001b[0m\u001b[0mprepare_request\u001b[0m\u001b[1;33m(\u001b[0m\u001b[0mreq\u001b[0m\u001b[1;33m)\u001b[0m\u001b[1;33m\u001b[0m\u001b[1;33m\u001b[0m\u001b[0m\n\u001b[0m\u001b[0;32m    529\u001b[0m \u001b[1;33m\u001b[0m\u001b[0m\n\u001b[0;32m    530\u001b[0m         \u001b[0mproxies\u001b[0m \u001b[1;33m=\u001b[0m \u001b[0mproxies\u001b[0m \u001b[1;32mor\u001b[0m \u001b[1;33m{\u001b[0m\u001b[1;33m}\u001b[0m\u001b[1;33m\u001b[0m\u001b[1;33m\u001b[0m\u001b[0m\n",
      "\u001b[1;32m~\\AppData\\Roaming\\Python\\Python39\\site-packages\\requests\\sessions.py\u001b[0m in \u001b[0;36mprepare_request\u001b[1;34m(self, request)\u001b[0m\n\u001b[0;32m    454\u001b[0m \u001b[1;33m\u001b[0m\u001b[0m\n\u001b[0;32m    455\u001b[0m         \u001b[0mp\u001b[0m \u001b[1;33m=\u001b[0m \u001b[0mPreparedRequest\u001b[0m\u001b[1;33m(\u001b[0m\u001b[1;33m)\u001b[0m\u001b[1;33m\u001b[0m\u001b[1;33m\u001b[0m\u001b[0m\n\u001b[1;32m--> 456\u001b[1;33m         p.prepare(\n\u001b[0m\u001b[0;32m    457\u001b[0m             \u001b[0mmethod\u001b[0m\u001b[1;33m=\u001b[0m\u001b[0mrequest\u001b[0m\u001b[1;33m.\u001b[0m\u001b[0mmethod\u001b[0m\u001b[1;33m.\u001b[0m\u001b[0mupper\u001b[0m\u001b[1;33m(\u001b[0m\u001b[1;33m)\u001b[0m\u001b[1;33m,\u001b[0m\u001b[1;33m\u001b[0m\u001b[1;33m\u001b[0m\u001b[0m\n\u001b[0;32m    458\u001b[0m             \u001b[0murl\u001b[0m\u001b[1;33m=\u001b[0m\u001b[0mrequest\u001b[0m\u001b[1;33m.\u001b[0m\u001b[0murl\u001b[0m\u001b[1;33m,\u001b[0m\u001b[1;33m\u001b[0m\u001b[1;33m\u001b[0m\u001b[0m\n",
      "\u001b[1;32m~\\AppData\\Roaming\\Python\\Python39\\site-packages\\requests\\models.py\u001b[0m in \u001b[0;36mprepare\u001b[1;34m(self, method, url, headers, files, data, params, auth, cookies, hooks, json)\u001b[0m\n\u001b[0;32m    314\u001b[0m \u001b[1;33m\u001b[0m\u001b[0m\n\u001b[0;32m    315\u001b[0m         \u001b[0mself\u001b[0m\u001b[1;33m.\u001b[0m\u001b[0mprepare_method\u001b[0m\u001b[1;33m(\u001b[0m\u001b[0mmethod\u001b[0m\u001b[1;33m)\u001b[0m\u001b[1;33m\u001b[0m\u001b[1;33m\u001b[0m\u001b[0m\n\u001b[1;32m--> 316\u001b[1;33m         \u001b[0mself\u001b[0m\u001b[1;33m.\u001b[0m\u001b[0mprepare_url\u001b[0m\u001b[1;33m(\u001b[0m\u001b[0murl\u001b[0m\u001b[1;33m,\u001b[0m \u001b[0mparams\u001b[0m\u001b[1;33m)\u001b[0m\u001b[1;33m\u001b[0m\u001b[1;33m\u001b[0m\u001b[0m\n\u001b[0m\u001b[0;32m    317\u001b[0m         \u001b[0mself\u001b[0m\u001b[1;33m.\u001b[0m\u001b[0mprepare_headers\u001b[0m\u001b[1;33m(\u001b[0m\u001b[0mheaders\u001b[0m\u001b[1;33m)\u001b[0m\u001b[1;33m\u001b[0m\u001b[1;33m\u001b[0m\u001b[0m\n\u001b[0;32m    318\u001b[0m         \u001b[0mself\u001b[0m\u001b[1;33m.\u001b[0m\u001b[0mprepare_cookies\u001b[0m\u001b[1;33m(\u001b[0m\u001b[0mcookies\u001b[0m\u001b[1;33m)\u001b[0m\u001b[1;33m\u001b[0m\u001b[1;33m\u001b[0m\u001b[0m\n",
      "\u001b[1;32m~\\AppData\\Roaming\\Python\\Python39\\site-packages\\requests\\models.py\u001b[0m in \u001b[0;36mprepare_url\u001b[1;34m(self, url, params)\u001b[0m\n\u001b[0;32m    388\u001b[0m             \u001b[0merror\u001b[0m \u001b[1;33m=\u001b[0m \u001b[0merror\u001b[0m\u001b[1;33m.\u001b[0m\u001b[0mformat\u001b[0m\u001b[1;33m(\u001b[0m\u001b[0mto_native_string\u001b[0m\u001b[1;33m(\u001b[0m\u001b[0murl\u001b[0m\u001b[1;33m,\u001b[0m \u001b[1;34m'utf8'\u001b[0m\u001b[1;33m)\u001b[0m\u001b[1;33m)\u001b[0m\u001b[1;33m\u001b[0m\u001b[1;33m\u001b[0m\u001b[0m\n\u001b[0;32m    389\u001b[0m \u001b[1;33m\u001b[0m\u001b[0m\n\u001b[1;32m--> 390\u001b[1;33m             \u001b[1;32mraise\u001b[0m \u001b[0mMissingSchema\u001b[0m\u001b[1;33m(\u001b[0m\u001b[0merror\u001b[0m\u001b[1;33m)\u001b[0m\u001b[1;33m\u001b[0m\u001b[1;33m\u001b[0m\u001b[0m\n\u001b[0m\u001b[0;32m    391\u001b[0m \u001b[1;33m\u001b[0m\u001b[0m\n\u001b[0;32m    392\u001b[0m         \u001b[1;32mif\u001b[0m \u001b[1;32mnot\u001b[0m \u001b[0mhost\u001b[0m\u001b[1;33m:\u001b[0m\u001b[1;33m\u001b[0m\u001b[1;33m\u001b[0m\u001b[0m\n",
      "\u001b[1;31mMissingSchema\u001b[0m: Invalid URL 'api.coincap.io/v2/assets/bitcoin/history?interval=d1': No schema supplied. Perhaps you meant http://api.coincap.io/v2/assets/bitcoin/history?interval=d1?"
     ]
    }
   ],
   "source": [
    "import requests\n",
    "\n",
    "url = \"api.coincap.io/v2/assets/bitcoin/history?interval=d1\"\n",
    "\n",
    "payload={}\n",
    "headers = {}\n",
    "\n",
    "response = requests.request(\"GET\", url, headers=headers, data=payload)\n",
    "\n",
    "print(response.text)"
   ]
  },
  {
   "cell_type": "code",
   "execution_count": null,
   "id": "7a940513-1bea-4974-a966-8ff329687303",
   "metadata": {},
   "outputs": [],
   "source": []
  },
  {
   "cell_type": "code",
   "execution_count": null,
   "id": "fe70c753-2009-47a3-9287-8a28274b055b",
   "metadata": {},
   "outputs": [],
   "source": []
  },
  {
   "cell_type": "code",
   "execution_count": null,
   "id": "15c95295-b4e3-4dbd-9389-f228038e8007",
   "metadata": {},
   "outputs": [],
   "source": []
  },
  {
   "cell_type": "code",
   "execution_count": null,
   "id": "379b6362-845f-4026-8193-d350cab6a1b4",
   "metadata": {},
   "outputs": [],
   "source": []
  },
  {
   "cell_type": "code",
   "execution_count": 51,
   "id": "1740e77a-9e07-4a4a-b0e0-27959d129bf5",
   "metadata": {},
   "outputs": [],
   "source": [
    "key = \"e1421d3e-4478-46d2-8760-a699a028e07a\""
   ]
  },
  {
   "cell_type": "code",
   "execution_count": 71,
   "id": "23246c8d-e2d2-4eae-8fa1-b533fa55ad5f",
   "metadata": {},
   "outputs": [],
   "source": [
    "import requests\n",
    "import pandas as pd\n",
    "import json\n",
    "\n",
    "url = 'https://pro-api.coinmarketcap.com/v1/cryptocurrency/listings/historical'\n",
    "\n",
    "parameters = {\n",
    "    'symbol': 'BTC',\n",
    "    'count': '100',\n",
    "    'interval': '12h',\n",
    "    'convert' : 'USD'\n",
    "}\n",
    "\n",
    "headers = {\n",
    "    'Accepts': 'application/json',\n",
    "    'X-CMC_PRO_API_KEY': \"e1421d3e-4478-46d2-8760-a699a028e07a\",\n",
    "}"
   ]
  },
  {
   "cell_type": "code",
   "execution_count": 72,
   "id": "9ed0f6d2-d264-4301-88f8-970d66754850",
   "metadata": {},
   "outputs": [
    {
     "name": "stdout",
     "output_type": "stream",
     "text": [
      "<Response [403]>\n"
     ]
    }
   ],
   "source": [
    "resp = requests.get(url, params=parameters, headers=headers)\n",
    "print(resp)"
   ]
  },
  {
   "cell_type": "code",
   "execution_count": 75,
   "id": "3f1ef34d-166d-4f56-bfe9-97286737480b",
   "metadata": {},
   "outputs": [
    {
     "data": {
      "text/plain": [
       "{'status': {'timestamp': '2021-08-27T20:25:18.009Z',\n",
       "  'error_code': 1006,\n",
       "  'error_message': \"Your API Key subscription plan doesn't support this endpoint.\",\n",
       "  'elapsed': 0,\n",
       "  'credit_count': 0}}"
      ]
     },
     "execution_count": 75,
     "metadata": {},
     "output_type": "execute_result"
    }
   ],
   "source": [
    "jsondata = json.loads(resp.text)\n",
    "jsondata"
   ]
  },
  {
   "cell_type": "code",
   "execution_count": 74,
   "id": "e4f4eb4a-9ea1-4ee0-b08e-250549e49aaa",
   "metadata": {},
   "outputs": [
    {
     "ename": "KeyError",
     "evalue": "'data'",
     "output_type": "error",
     "traceback": [
      "\u001b[1;31m---------------------------------------------------------------------------\u001b[0m",
      "\u001b[1;31mKeyError\u001b[0m                                  Traceback (most recent call last)",
      "\u001b[1;32m<ipython-input-74-b5fab3d9d7fb>\u001b[0m in \u001b[0;36m<module>\u001b[1;34m\u001b[0m\n\u001b[1;32m----> 1\u001b[1;33m \u001b[0mCoinDF\u001b[0m \u001b[1;33m=\u001b[0m \u001b[0mpd\u001b[0m\u001b[1;33m.\u001b[0m\u001b[0mjson_normalize\u001b[0m\u001b[1;33m(\u001b[0m\u001b[0mjsondata\u001b[0m\u001b[1;33m[\u001b[0m\u001b[1;34m'data'\u001b[0m\u001b[1;33m]\u001b[0m\u001b[1;33m)\u001b[0m\u001b[1;33m\u001b[0m\u001b[1;33m\u001b[0m\u001b[0m\n\u001b[0m",
      "\u001b[1;31mKeyError\u001b[0m: 'data'"
     ]
    }
   ],
   "source": [
    "CoinDF = pd.json_normalize(jsondata['data'])"
   ]
  },
  {
   "cell_type": "code",
   "execution_count": 60,
   "id": "0007a0a8-a522-46a2-9684-c7d270d5d086",
   "metadata": {},
   "outputs": [
    {
     "data": {
      "text/plain": [
       "(10, 30)"
      ]
     },
     "execution_count": 60,
     "metadata": {},
     "output_type": "execute_result"
    }
   ],
   "source": [
    "CoinDF.shape"
   ]
  },
  {
   "cell_type": "code",
   "execution_count": 62,
   "id": "89023ef3-2ee8-48ea-9ae3-5074bc7b73a9",
   "metadata": {},
   "outputs": [
    {
     "data": {
      "text/html": [
       "<div>\n",
       "<style scoped>\n",
       "    .dataframe tbody tr th:only-of-type {\n",
       "        vertical-align: middle;\n",
       "    }\n",
       "\n",
       "    .dataframe tbody tr th {\n",
       "        vertical-align: top;\n",
       "    }\n",
       "\n",
       "    .dataframe thead th {\n",
       "        text-align: right;\n",
       "    }\n",
       "</style>\n",
       "<table border=\"1\" class=\"dataframe\">\n",
       "  <thead>\n",
       "    <tr style=\"text-align: right;\">\n",
       "      <th></th>\n",
       "      <th>id</th>\n",
       "      <th>name</th>\n",
       "      <th>symbol</th>\n",
       "      <th>slug</th>\n",
       "      <th>num_market_pairs</th>\n",
       "      <th>date_added</th>\n",
       "      <th>tags</th>\n",
       "      <th>max_supply</th>\n",
       "      <th>circulating_supply</th>\n",
       "      <th>total_supply</th>\n",
       "      <th>...</th>\n",
       "      <th>quote.USD.percent_change_90d</th>\n",
       "      <th>quote.USD.market_cap</th>\n",
       "      <th>quote.USD.market_cap_dominance</th>\n",
       "      <th>quote.USD.fully_diluted_market_cap</th>\n",
       "      <th>quote.USD.last_updated</th>\n",
       "      <th>platform.id</th>\n",
       "      <th>platform.name</th>\n",
       "      <th>platform.symbol</th>\n",
       "      <th>platform.slug</th>\n",
       "      <th>platform.token_address</th>\n",
       "    </tr>\n",
       "  </thead>\n",
       "  <tbody>\n",
       "    <tr>\n",
       "      <th>0</th>\n",
       "      <td>1</td>\n",
       "      <td>Bitcoin</td>\n",
       "      <td>BTC</td>\n",
       "      <td>bitcoin</td>\n",
       "      <td>8901</td>\n",
       "      <td>2013-04-28T00:00:00.000Z</td>\n",
       "      <td>[mineable, pow, sha-256, store-of-value, state...</td>\n",
       "      <td>21000000.0</td>\n",
       "      <td>18799137.0</td>\n",
       "      <td>18799137.0</td>\n",
       "      <td>...</td>\n",
       "      <td>41.622037</td>\n",
       "      <td>9.096263e+11</td>\n",
       "      <td>53.5677</td>\n",
       "      <td>1.016119e+12</td>\n",
       "      <td>2021-08-27T20:10:14.000Z</td>\n",
       "      <td>NaN</td>\n",
       "      <td>NaN</td>\n",
       "      <td>NaN</td>\n",
       "      <td>NaN</td>\n",
       "      <td>NaN</td>\n",
       "    </tr>\n",
       "  </tbody>\n",
       "</table>\n",
       "<p>1 rows × 30 columns</p>\n",
       "</div>"
      ],
      "text/plain": [
       "   id     name symbol     slug  num_market_pairs                date_added  \\\n",
       "0   1  Bitcoin    BTC  bitcoin              8901  2013-04-28T00:00:00.000Z   \n",
       "\n",
       "                                                tags  max_supply  \\\n",
       "0  [mineable, pow, sha-256, store-of-value, state...  21000000.0   \n",
       "\n",
       "   circulating_supply  total_supply  ...  quote.USD.percent_change_90d  \\\n",
       "0          18799137.0    18799137.0  ...                     41.622037   \n",
       "\n",
       "   quote.USD.market_cap quote.USD.market_cap_dominance  \\\n",
       "0          9.096263e+11                        53.5677   \n",
       "\n",
       "   quote.USD.fully_diluted_market_cap    quote.USD.last_updated  platform.id  \\\n",
       "0                        1.016119e+12  2021-08-27T20:10:14.000Z          NaN   \n",
       "\n",
       "   platform.name  platform.symbol  platform.slug  platform.token_address  \n",
       "0            NaN              NaN            NaN                     NaN  \n",
       "\n",
       "[1 rows x 30 columns]"
      ]
     },
     "execution_count": 62,
     "metadata": {},
     "output_type": "execute_result"
    }
   ],
   "source": [
    "CoinDF.sample()"
   ]
  },
  {
   "cell_type": "code",
   "execution_count": null,
   "id": "ac930252-3cdd-491f-9c55-6086add20955",
   "metadata": {},
   "outputs": [],
   "source": []
  },
  {
   "cell_type": "code",
   "execution_count": null,
   "id": "36e427aa-670b-4eb1-92d2-8337fc50fcb8",
   "metadata": {},
   "outputs": [],
   "source": []
  },
  {
   "cell_type": "code",
   "execution_count": null,
   "id": "f32f307f-6b9d-470d-b4d7-fc32273467ed",
   "metadata": {},
   "outputs": [],
   "source": []
  },
  {
   "cell_type": "code",
   "execution_count": null,
   "id": "5e2e531a-5bc3-4f1f-86a0-484d12dfbbfa",
   "metadata": {},
   "outputs": [],
   "source": []
  },
  {
   "cell_type": "code",
   "execution_count": null,
   "id": "609727a9-76c8-4c1f-a24f-3dae255985f6",
   "metadata": {},
   "outputs": [],
   "source": []
  },
  {
   "cell_type": "code",
   "execution_count": null,
   "id": "cc019987-8e3c-4669-9c2b-95cf0efb340e",
   "metadata": {},
   "outputs": [],
   "source": []
  },
  {
   "cell_type": "code",
   "execution_count": 2,
   "id": "ba7c051b-3313-4137-bb69-d17695198397",
   "metadata": {},
   "outputs": [],
   "source": [
    "import pandas as pd\n",
    "import numpy as np\n",
    "import pandas_datareader as pdr\n",
    "\n",
    "pd.set_option(\"display.max_rows\", None)\n",
    "pd.set_option(\"display.max_columns\", None)\n",
    "\n",
    "from datetime import date, timedelta\n",
    "\n",
    "from binance.client import Client"
   ]
  },
  {
   "cell_type": "code",
   "execution_count": 3,
   "id": "383e003f-27ad-40d1-b5e1-9c581ef57429",
   "metadata": {},
   "outputs": [],
   "source": [
    "api_key = \"bKln6gBUJO0cJRwnZakqNpHfmcKR5TmiqMmrkvVWgM1k0H0ZEli0mmNARIYb2b9C\"\n",
    "api_secret = \"4dbva7d575El2ehXaqI95tZtrFvBVoG0NFPXVXlY1xikec5VgLzYWFeHNZvnEL4Y\"\n",
    "\n"
   ]
  },
  {
   "cell_type": "code",
   "execution_count": 4,
   "id": "9357a841-be57-491b-be16-c11f95489fd8",
   "metadata": {},
   "outputs": [],
   "source": [
    "client = Client(api_key, api_secret)"
   ]
  },
  {
   "cell_type": "code",
   "execution_count": 5,
   "id": "dadc511a-23f3-439b-b524-97f1e46d47c6",
   "metadata": {},
   "outputs": [
    {
     "name": "stdout",
     "output_type": "stream",
     "text": [
      "Cota Inferior de fecha: 2019-12-19\n"
     ]
    }
   ],
   "source": [
    "cota_inferior = str(date.today() - timedelta(500))\n",
    "print(\"Cota Inferior de fecha: \" + cota_inferior)"
   ]
  },
  {
   "cell_type": "code",
   "execution_count": 6,
   "id": "3b482b6c-fb9c-474e-9437-1f2b90579b4b",
   "metadata": {},
   "outputs": [],
   "source": [
    "index = 'BTCUSDT'"
   ]
  },
  {
   "cell_type": "code",
   "execution_count": 7,
   "id": "5e32a9e0-d979-402e-85e3-f8ee40cc0fba",
   "metadata": {},
   "outputs": [],
   "source": [
    "# valid intervals - 1m, 3m, 5m, 15m, 30m, 1h, 2h, 4h, 6h, 8h, 12h, 1d, 3d, 1w, 1M\n",
    "\n",
    "bars = client.get_historical_klines(index, '1d', cota_inferior)\n",
    "\n",
    "columnas = ['open_time', 'open', 'high', 'low', 'close', 'volume', 'close_time',\n",
    "           'quote_asset_volume','number_of_trades','taker_buy_base_asset_volume',\n",
    "           'taker_buy_quote_asset_volume','ignore']"
   ]
  },
  {
   "cell_type": "code",
   "execution_count": 8,
   "id": "027b6c1f-f4b5-437b-9e9e-ecd3f438ddc7",
   "metadata": {},
   "outputs": [
    {
     "name": "stdout",
     "output_type": "stream",
     "text": [
      "Shape: (500, 9)\n"
     ]
    },
    {
     "data": {
      "text/html": [
       "<div>\n",
       "<style scoped>\n",
       "    .dataframe tbody tr th:only-of-type {\n",
       "        vertical-align: middle;\n",
       "    }\n",
       "\n",
       "    .dataframe tbody tr th {\n",
       "        vertical-align: top;\n",
       "    }\n",
       "\n",
       "    .dataframe thead th {\n",
       "        text-align: right;\n",
       "    }\n",
       "</style>\n",
       "<table border=\"1\" class=\"dataframe\">\n",
       "  <thead>\n",
       "    <tr style=\"text-align: right;\">\n",
       "      <th></th>\n",
       "      <th>open</th>\n",
       "      <th>high</th>\n",
       "      <th>low</th>\n",
       "      <th>close</th>\n",
       "      <th>volume</th>\n",
       "      <th>quote_asset_volume</th>\n",
       "      <th>number_of_trades</th>\n",
       "      <th>taker_buy_base_asset_volume</th>\n",
       "      <th>taker_buy_quote_asset_volume</th>\n",
       "    </tr>\n",
       "    <tr>\n",
       "      <th>open_time</th>\n",
       "      <th></th>\n",
       "      <th></th>\n",
       "      <th></th>\n",
       "      <th></th>\n",
       "      <th></th>\n",
       "      <th></th>\n",
       "      <th></th>\n",
       "      <th></th>\n",
       "      <th></th>\n",
       "    </tr>\n",
       "  </thead>\n",
       "  <tbody>\n",
       "    <tr>\n",
       "      <th>2019-12-19</th>\n",
       "      <td>7277.83</td>\n",
       "      <td>7380.00</td>\n",
       "      <td>7038.31</td>\n",
       "      <td>7150.30</td>\n",
       "      <td>55509.049075</td>\n",
       "      <td>3.974077e+08</td>\n",
       "      <td>439761.0</td>\n",
       "      <td>27456.528272</td>\n",
       "      <td>1.965580e+08</td>\n",
       "    </tr>\n",
       "    <tr>\n",
       "      <th>2019-12-20</th>\n",
       "      <td>7151.31</td>\n",
       "      <td>7220.00</td>\n",
       "      <td>7079.50</td>\n",
       "      <td>7187.83</td>\n",
       "      <td>32132.069205</td>\n",
       "      <td>2.298427e+08</td>\n",
       "      <td>312766.0</td>\n",
       "      <td>16641.052689</td>\n",
       "      <td>1.190447e+08</td>\n",
       "    </tr>\n",
       "    <tr>\n",
       "      <th>2019-12-21</th>\n",
       "      <td>7188.01</td>\n",
       "      <td>7190.58</td>\n",
       "      <td>7105.00</td>\n",
       "      <td>7132.75</td>\n",
       "      <td>19467.174028</td>\n",
       "      <td>1.390692e+08</td>\n",
       "      <td>212162.0</td>\n",
       "      <td>10119.761012</td>\n",
       "      <td>7.229706e+07</td>\n",
       "    </tr>\n",
       "    <tr>\n",
       "      <th>2021-04-29</th>\n",
       "      <td>54846.23</td>\n",
       "      <td>55195.84</td>\n",
       "      <td>52330.94</td>\n",
       "      <td>53555.00</td>\n",
       "      <td>52486.019455</td>\n",
       "      <td>2.823220e+09</td>\n",
       "      <td>1763676.0</td>\n",
       "      <td>25339.743902</td>\n",
       "      <td>1.362821e+09</td>\n",
       "    </tr>\n",
       "    <tr>\n",
       "      <th>2021-04-30</th>\n",
       "      <td>53555.00</td>\n",
       "      <td>57963.00</td>\n",
       "      <td>53013.01</td>\n",
       "      <td>57694.27</td>\n",
       "      <td>68578.910045</td>\n",
       "      <td>3.808187e+09</td>\n",
       "      <td>2267648.0</td>\n",
       "      <td>35634.129087</td>\n",
       "      <td>1.978867e+09</td>\n",
       "    </tr>\n",
       "    <tr>\n",
       "      <th>2021-05-01</th>\n",
       "      <td>57697.25</td>\n",
       "      <td>58458.07</td>\n",
       "      <td>56956.14</td>\n",
       "      <td>57800.37</td>\n",
       "      <td>42600.351836</td>\n",
       "      <td>2.460343e+09</td>\n",
       "      <td>1743013.0</td>\n",
       "      <td>20574.810226</td>\n",
       "      <td>1.188355e+09</td>\n",
       "    </tr>\n",
       "  </tbody>\n",
       "</table>\n",
       "</div>"
      ],
      "text/plain": [
       "                open      high       low     close        volume  \\\n",
       "open_time                                                          \n",
       "2019-12-19   7277.83   7380.00   7038.31   7150.30  55509.049075   \n",
       "2019-12-20   7151.31   7220.00   7079.50   7187.83  32132.069205   \n",
       "2019-12-21   7188.01   7190.58   7105.00   7132.75  19467.174028   \n",
       "2021-04-29  54846.23  55195.84  52330.94  53555.00  52486.019455   \n",
       "2021-04-30  53555.00  57963.00  53013.01  57694.27  68578.910045   \n",
       "2021-05-01  57697.25  58458.07  56956.14  57800.37  42600.351836   \n",
       "\n",
       "            quote_asset_volume  number_of_trades  taker_buy_base_asset_volume  \\\n",
       "open_time                                                                       \n",
       "2019-12-19        3.974077e+08          439761.0                 27456.528272   \n",
       "2019-12-20        2.298427e+08          312766.0                 16641.052689   \n",
       "2019-12-21        1.390692e+08          212162.0                 10119.761012   \n",
       "2021-04-29        2.823220e+09         1763676.0                 25339.743902   \n",
       "2021-04-30        3.808187e+09         2267648.0                 35634.129087   \n",
       "2021-05-01        2.460343e+09         1743013.0                 20574.810226   \n",
       "\n",
       "            taker_buy_quote_asset_volume  \n",
       "open_time                                 \n",
       "2019-12-19                  1.965580e+08  \n",
       "2019-12-20                  1.190447e+08  \n",
       "2019-12-21                  7.229706e+07  \n",
       "2021-04-29                  1.362821e+09  \n",
       "2021-04-30                  1.978867e+09  \n",
       "2021-05-01                  1.188355e+09  "
      ]
     },
     "execution_count": 8,
     "metadata": {},
     "output_type": "execute_result"
    }
   ],
   "source": [
    "df = pd.DataFrame(bars, columns = columnas, dtype='float')\n",
    "\n",
    "df[\"open_time\"] = pd.to_datetime(df[\"open_time\"], unit='ms')\n",
    "\n",
    "df.index = df[\"open_time\"]\n",
    "\n",
    "df.drop(columns=[\"close_time\",\"ignore\",\"open_time\",\n",
    "                 #\"quote_asset_volume\",\"taker_buy_base_asset_volume\",\"taker_buy_quote_asset_volume\"\n",
    "                ], inplace = True)\n",
    "\n",
    "df.drop(df.tail(1).index,inplace=True) # drop last n rows quitamos el día actual\n",
    "\n",
    "print(\"Shape: \" + str(df.shape))\n",
    "\n",
    "pd.concat([df.head(3), df.tail(3)])"
   ]
  },
  {
   "cell_type": "code",
   "execution_count": 9,
   "id": "590a93e6-be4a-4ebb-a19b-016dfc7d895d",
   "metadata": {},
   "outputs": [
    {
     "data": {
      "text/html": [
       "<div>\n",
       "<style scoped>\n",
       "    .dataframe tbody tr th:only-of-type {\n",
       "        vertical-align: middle;\n",
       "    }\n",
       "\n",
       "    .dataframe tbody tr th {\n",
       "        vertical-align: top;\n",
       "    }\n",
       "\n",
       "    .dataframe thead th {\n",
       "        text-align: right;\n",
       "    }\n",
       "</style>\n",
       "<table border=\"1\" class=\"dataframe\">\n",
       "  <thead>\n",
       "    <tr style=\"text-align: right;\">\n",
       "      <th></th>\n",
       "      <th>open</th>\n",
       "      <th>high</th>\n",
       "      <th>low</th>\n",
       "      <th>close</th>\n",
       "      <th>volume</th>\n",
       "      <th>quote_asset_volume</th>\n",
       "      <th>number_of_trades</th>\n",
       "      <th>taker_buy_base_asset_volume</th>\n",
       "      <th>taker_buy_quote_asset_volume</th>\n",
       "      <th>y_temp</th>\n",
       "    </tr>\n",
       "    <tr>\n",
       "      <th>open_time</th>\n",
       "      <th></th>\n",
       "      <th></th>\n",
       "      <th></th>\n",
       "      <th></th>\n",
       "      <th></th>\n",
       "      <th></th>\n",
       "      <th></th>\n",
       "      <th></th>\n",
       "      <th></th>\n",
       "      <th></th>\n",
       "    </tr>\n",
       "  </thead>\n",
       "  <tbody>\n",
       "    <tr>\n",
       "      <th>2019-12-19</th>\n",
       "      <td>7277.83</td>\n",
       "      <td>7380.00</td>\n",
       "      <td>7038.31</td>\n",
       "      <td>7150.30</td>\n",
       "      <td>55509.049075</td>\n",
       "      <td>3.974077e+08</td>\n",
       "      <td>439761.0</td>\n",
       "      <td>27456.528272</td>\n",
       "      <td>1.965580e+08</td>\n",
       "      <td>NaN</td>\n",
       "    </tr>\n",
       "    <tr>\n",
       "      <th>2019-12-20</th>\n",
       "      <td>7151.31</td>\n",
       "      <td>7220.00</td>\n",
       "      <td>7079.50</td>\n",
       "      <td>7187.83</td>\n",
       "      <td>32132.069205</td>\n",
       "      <td>2.298427e+08</td>\n",
       "      <td>312766.0</td>\n",
       "      <td>16641.052689</td>\n",
       "      <td>1.190447e+08</td>\n",
       "      <td>37.53</td>\n",
       "    </tr>\n",
       "    <tr>\n",
       "      <th>2019-12-21</th>\n",
       "      <td>7188.01</td>\n",
       "      <td>7190.58</td>\n",
       "      <td>7105.00</td>\n",
       "      <td>7132.75</td>\n",
       "      <td>19467.174028</td>\n",
       "      <td>1.390692e+08</td>\n",
       "      <td>212162.0</td>\n",
       "      <td>10119.761012</td>\n",
       "      <td>7.229706e+07</td>\n",
       "      <td>-55.08</td>\n",
       "    </tr>\n",
       "    <tr>\n",
       "      <th>2019-12-22</th>\n",
       "      <td>7131.59</td>\n",
       "      <td>7518.54</td>\n",
       "      <td>7122.47</td>\n",
       "      <td>7501.44</td>\n",
       "      <td>39137.455150</td>\n",
       "      <td>2.855772e+08</td>\n",
       "      <td>356612.0</td>\n",
       "      <td>20625.436732</td>\n",
       "      <td>1.505541e+08</td>\n",
       "      <td>368.69</td>\n",
       "    </tr>\n",
       "    <tr>\n",
       "      <th>2019-12-23</th>\n",
       "      <td>7500.71</td>\n",
       "      <td>7695.38</td>\n",
       "      <td>7265.84</td>\n",
       "      <td>7317.09</td>\n",
       "      <td>68051.997203</td>\n",
       "      <td>5.107104e+08</td>\n",
       "      <td>530669.0</td>\n",
       "      <td>33444.243772</td>\n",
       "      <td>2.511168e+08</td>\n",
       "      <td>-184.35</td>\n",
       "    </tr>\n",
       "  </tbody>\n",
       "</table>\n",
       "</div>"
      ],
      "text/plain": [
       "               open     high      low    close        volume  \\\n",
       "open_time                                                      \n",
       "2019-12-19  7277.83  7380.00  7038.31  7150.30  55509.049075   \n",
       "2019-12-20  7151.31  7220.00  7079.50  7187.83  32132.069205   \n",
       "2019-12-21  7188.01  7190.58  7105.00  7132.75  19467.174028   \n",
       "2019-12-22  7131.59  7518.54  7122.47  7501.44  39137.455150   \n",
       "2019-12-23  7500.71  7695.38  7265.84  7317.09  68051.997203   \n",
       "\n",
       "            quote_asset_volume  number_of_trades  taker_buy_base_asset_volume  \\\n",
       "open_time                                                                       \n",
       "2019-12-19        3.974077e+08          439761.0                 27456.528272   \n",
       "2019-12-20        2.298427e+08          312766.0                 16641.052689   \n",
       "2019-12-21        1.390692e+08          212162.0                 10119.761012   \n",
       "2019-12-22        2.855772e+08          356612.0                 20625.436732   \n",
       "2019-12-23        5.107104e+08          530669.0                 33444.243772   \n",
       "\n",
       "            taker_buy_quote_asset_volume  y_temp  \n",
       "open_time                                         \n",
       "2019-12-19                  1.965580e+08     NaN  \n",
       "2019-12-20                  1.190447e+08   37.53  \n",
       "2019-12-21                  7.229706e+07  -55.08  \n",
       "2019-12-22                  1.505541e+08  368.69  \n",
       "2019-12-23                  2.511168e+08 -184.35  "
      ]
     },
     "execution_count": 9,
     "metadata": {},
     "output_type": "execute_result"
    }
   ],
   "source": [
    "# Enfoque Clasificación\n",
    "df[\"y_temp\"] = df[\"close\"].diff() #> 0 # Para saber si el real baja o sube\n",
    "df.head()"
   ]
  },
  {
   "cell_type": "code",
   "execution_count": 11,
   "id": "9feab1bc-add3-4131-b45b-f237301e1355",
   "metadata": {},
   "outputs": [
    {
     "data": {
      "text/html": [
       "<div>\n",
       "<style scoped>\n",
       "    .dataframe tbody tr th:only-of-type {\n",
       "        vertical-align: middle;\n",
       "    }\n",
       "\n",
       "    .dataframe tbody tr th {\n",
       "        vertical-align: top;\n",
       "    }\n",
       "\n",
       "    .dataframe thead th {\n",
       "        text-align: right;\n",
       "    }\n",
       "</style>\n",
       "<table border=\"1\" class=\"dataframe\">\n",
       "  <thead>\n",
       "    <tr style=\"text-align: right;\">\n",
       "      <th></th>\n",
       "      <th>open</th>\n",
       "      <th>high</th>\n",
       "      <th>low</th>\n",
       "      <th>close</th>\n",
       "      <th>volume</th>\n",
       "      <th>quote_asset_volume</th>\n",
       "      <th>number_of_trades</th>\n",
       "      <th>taker_buy_base_asset_volume</th>\n",
       "      <th>taker_buy_quote_asset_volume</th>\n",
       "      <th>y_temp</th>\n",
       "    </tr>\n",
       "    <tr>\n",
       "      <th>open_time</th>\n",
       "      <th></th>\n",
       "      <th></th>\n",
       "      <th></th>\n",
       "      <th></th>\n",
       "      <th></th>\n",
       "      <th></th>\n",
       "      <th></th>\n",
       "      <th></th>\n",
       "      <th></th>\n",
       "      <th></th>\n",
       "    </tr>\n",
       "  </thead>\n",
       "  <tbody>\n",
       "    <tr>\n",
       "      <th>2019-12-20</th>\n",
       "      <td>7151.31</td>\n",
       "      <td>7220.00</td>\n",
       "      <td>7079.50</td>\n",
       "      <td>7187.83</td>\n",
       "      <td>32132.069205</td>\n",
       "      <td>2.298427e+08</td>\n",
       "      <td>312766.0</td>\n",
       "      <td>16641.052689</td>\n",
       "      <td>1.190447e+08</td>\n",
       "      <td>1</td>\n",
       "    </tr>\n",
       "    <tr>\n",
       "      <th>2019-12-21</th>\n",
       "      <td>7188.01</td>\n",
       "      <td>7190.58</td>\n",
       "      <td>7105.00</td>\n",
       "      <td>7132.75</td>\n",
       "      <td>19467.174028</td>\n",
       "      <td>1.390692e+08</td>\n",
       "      <td>212162.0</td>\n",
       "      <td>10119.761012</td>\n",
       "      <td>7.229706e+07</td>\n",
       "      <td>0</td>\n",
       "    </tr>\n",
       "    <tr>\n",
       "      <th>2019-12-22</th>\n",
       "      <td>7131.59</td>\n",
       "      <td>7518.54</td>\n",
       "      <td>7122.47</td>\n",
       "      <td>7501.44</td>\n",
       "      <td>39137.455150</td>\n",
       "      <td>2.855772e+08</td>\n",
       "      <td>356612.0</td>\n",
       "      <td>20625.436732</td>\n",
       "      <td>1.505541e+08</td>\n",
       "      <td>1</td>\n",
       "    </tr>\n",
       "    <tr>\n",
       "      <th>2019-12-23</th>\n",
       "      <td>7500.71</td>\n",
       "      <td>7695.38</td>\n",
       "      <td>7265.84</td>\n",
       "      <td>7317.09</td>\n",
       "      <td>68051.997203</td>\n",
       "      <td>5.107104e+08</td>\n",
       "      <td>530669.0</td>\n",
       "      <td>33444.243772</td>\n",
       "      <td>2.511168e+08</td>\n",
       "      <td>0</td>\n",
       "    </tr>\n",
       "  </tbody>\n",
       "</table>\n",
       "</div>"
      ],
      "text/plain": [
       "               open     high      low    close        volume  \\\n",
       "open_time                                                      \n",
       "2019-12-20  7151.31  7220.00  7079.50  7187.83  32132.069205   \n",
       "2019-12-21  7188.01  7190.58  7105.00  7132.75  19467.174028   \n",
       "2019-12-22  7131.59  7518.54  7122.47  7501.44  39137.455150   \n",
       "2019-12-23  7500.71  7695.38  7265.84  7317.09  68051.997203   \n",
       "\n",
       "            quote_asset_volume  number_of_trades  taker_buy_base_asset_volume  \\\n",
       "open_time                                                                       \n",
       "2019-12-20        2.298427e+08          312766.0                 16641.052689   \n",
       "2019-12-21        1.390692e+08          212162.0                 10119.761012   \n",
       "2019-12-22        2.855772e+08          356612.0                 20625.436732   \n",
       "2019-12-23        5.107104e+08          530669.0                 33444.243772   \n",
       "\n",
       "            taker_buy_quote_asset_volume  y_temp  \n",
       "open_time                                         \n",
       "2019-12-20                  1.190447e+08       1  \n",
       "2019-12-21                  7.229706e+07       0  \n",
       "2019-12-22                  1.505541e+08       1  \n",
       "2019-12-23                  2.511168e+08       0  "
      ]
     },
     "execution_count": 11,
     "metadata": {},
     "output_type": "execute_result"
    }
   ],
   "source": [
    "df[\"y_temp\"] = df[\"close\"].diff() > 0\n",
    "df[\"y_temp\"] = df[\"y_temp\"].astype(int)\n",
    "df.drop(df.head(1).index, inplace=True) # drop last n rows quitamos el día actual\n",
    "df.head(4)"
   ]
  },
  {
   "cell_type": "code",
   "execution_count": 12,
   "id": "ea135b1b-1792-445b-864a-60d4002ab895",
   "metadata": {},
   "outputs": [
    {
     "data": {
      "text/plain": [
       "y_temp\n",
       "0    220\n",
       "1    279\n",
       "dtype: int64"
      ]
     },
     "execution_count": 12,
     "metadata": {},
     "output_type": "execute_result"
    }
   ],
   "source": [
    "df.groupby([\"y_temp\"]).size()"
   ]
  },
  {
   "cell_type": "code",
   "execution_count": 13,
   "id": "bd7207fc-f9cd-43f6-81a7-d0b3378101bd",
   "metadata": {},
   "outputs": [
    {
     "name": "stdout",
     "output_type": "stream",
     "text": [
      "Dataset Shape: (499, 10)\n"
     ]
    },
    {
     "data": {
      "text/html": [
       "<div>\n",
       "<style scoped>\n",
       "    .dataframe tbody tr th:only-of-type {\n",
       "        vertical-align: middle;\n",
       "    }\n",
       "\n",
       "    .dataframe tbody tr th {\n",
       "        vertical-align: top;\n",
       "    }\n",
       "\n",
       "    .dataframe thead th {\n",
       "        text-align: right;\n",
       "    }\n",
       "</style>\n",
       "<table border=\"1\" class=\"dataframe\">\n",
       "  <thead>\n",
       "    <tr style=\"text-align: right;\">\n",
       "      <th></th>\n",
       "      <th>index</th>\n",
       "      <th>dtypes</th>\n",
       "      <th>Missing</th>\n",
       "      <th>PercMissing</th>\n",
       "      <th>Uniques</th>\n",
       "    </tr>\n",
       "  </thead>\n",
       "  <tbody>\n",
       "    <tr>\n",
       "      <th>0</th>\n",
       "      <td>open</td>\n",
       "      <td>float64</td>\n",
       "      <td>0</td>\n",
       "      <td>0.0</td>\n",
       "      <td>499</td>\n",
       "    </tr>\n",
       "    <tr>\n",
       "      <th>1</th>\n",
       "      <td>high</td>\n",
       "      <td>float64</td>\n",
       "      <td>0</td>\n",
       "      <td>0.0</td>\n",
       "      <td>492</td>\n",
       "    </tr>\n",
       "    <tr>\n",
       "      <th>2</th>\n",
       "      <td>low</td>\n",
       "      <td>float64</td>\n",
       "      <td>0</td>\n",
       "      <td>0.0</td>\n",
       "      <td>493</td>\n",
       "    </tr>\n",
       "    <tr>\n",
       "      <th>3</th>\n",
       "      <td>close</td>\n",
       "      <td>float64</td>\n",
       "      <td>0</td>\n",
       "      <td>0.0</td>\n",
       "      <td>499</td>\n",
       "    </tr>\n",
       "    <tr>\n",
       "      <th>4</th>\n",
       "      <td>volume</td>\n",
       "      <td>float64</td>\n",
       "      <td>0</td>\n",
       "      <td>0.0</td>\n",
       "      <td>499</td>\n",
       "    </tr>\n",
       "    <tr>\n",
       "      <th>5</th>\n",
       "      <td>quote_asset_volume</td>\n",
       "      <td>float64</td>\n",
       "      <td>0</td>\n",
       "      <td>0.0</td>\n",
       "      <td>499</td>\n",
       "    </tr>\n",
       "    <tr>\n",
       "      <th>6</th>\n",
       "      <td>number_of_trades</td>\n",
       "      <td>float64</td>\n",
       "      <td>0</td>\n",
       "      <td>0.0</td>\n",
       "      <td>499</td>\n",
       "    </tr>\n",
       "    <tr>\n",
       "      <th>7</th>\n",
       "      <td>taker_buy_base_asset_volume</td>\n",
       "      <td>float64</td>\n",
       "      <td>0</td>\n",
       "      <td>0.0</td>\n",
       "      <td>499</td>\n",
       "    </tr>\n",
       "    <tr>\n",
       "      <th>8</th>\n",
       "      <td>taker_buy_quote_asset_volume</td>\n",
       "      <td>float64</td>\n",
       "      <td>0</td>\n",
       "      <td>0.0</td>\n",
       "      <td>499</td>\n",
       "    </tr>\n",
       "    <tr>\n",
       "      <th>9</th>\n",
       "      <td>y_temp</td>\n",
       "      <td>int32</td>\n",
       "      <td>0</td>\n",
       "      <td>0.0</td>\n",
       "      <td>2</td>\n",
       "    </tr>\n",
       "  </tbody>\n",
       "</table>\n",
       "</div>"
      ],
      "text/plain": [
       "                          index   dtypes  Missing  PercMissing  Uniques\n",
       "0                          open  float64        0          0.0      499\n",
       "1                          high  float64        0          0.0      492\n",
       "2                           low  float64        0          0.0      493\n",
       "3                         close  float64        0          0.0      499\n",
       "4                        volume  float64        0          0.0      499\n",
       "5            quote_asset_volume  float64        0          0.0      499\n",
       "6              number_of_trades  float64        0          0.0      499\n",
       "7   taker_buy_base_asset_volume  float64        0          0.0      499\n",
       "8  taker_buy_quote_asset_volume  float64        0          0.0      499\n",
       "9                        y_temp    int32        0          0.0        2"
      ]
     },
     "execution_count": 13,
     "metadata": {},
     "output_type": "execute_result"
    }
   ],
   "source": [
    "def description(df):\n",
    "    print(f\"Dataset Shape: {df.shape}\")\n",
    "    summary = pd.DataFrame(df.dtypes,columns=['dtypes'])\n",
    "    summary = summary.reset_index()\n",
    "    summary['Missing'] = df.isnull().sum().values\n",
    "    summary['PercMissing'] = df.isnull().sum().values / df.isnull().count().values\n",
    "    summary['Uniques'] = df.nunique().values\n",
    "    return summary\n",
    "\n",
    "description(df)"
   ]
  },
  {
   "cell_type": "code",
   "execution_count": 14,
   "id": "19138679-5426-4827-bb3d-4d2db887589e",
   "metadata": {},
   "outputs": [],
   "source": [
    "# Get feature from dates\n",
    "df['day'] = df.index.day\n",
    "df['weekday'] = df.index.dayofweek\n",
    "df['dayofyear'] = df.index.dayofyear"
   ]
  },
  {
   "cell_type": "code",
   "execution_count": 15,
   "id": "ea7d0f05-bf02-4b19-aa5b-9b4916f27c30",
   "metadata": {},
   "outputs": [
    {
     "data": {
      "text/html": [
       "<div>\n",
       "<style scoped>\n",
       "    .dataframe tbody tr th:only-of-type {\n",
       "        vertical-align: middle;\n",
       "    }\n",
       "\n",
       "    .dataframe tbody tr th {\n",
       "        vertical-align: top;\n",
       "    }\n",
       "\n",
       "    .dataframe thead th {\n",
       "        text-align: right;\n",
       "    }\n",
       "</style>\n",
       "<table border=\"1\" class=\"dataframe\">\n",
       "  <thead>\n",
       "    <tr style=\"text-align: right;\">\n",
       "      <th></th>\n",
       "      <th>open</th>\n",
       "      <th>high</th>\n",
       "      <th>low</th>\n",
       "      <th>close</th>\n",
       "      <th>volume</th>\n",
       "      <th>quote_asset_volume</th>\n",
       "      <th>number_of_trades</th>\n",
       "      <th>taker_buy_base_asset_volume</th>\n",
       "      <th>taker_buy_quote_asset_volume</th>\n",
       "      <th>y_temp</th>\n",
       "      <th>day</th>\n",
       "      <th>weekday</th>\n",
       "      <th>dayofyear</th>\n",
       "    </tr>\n",
       "    <tr>\n",
       "      <th>open_time</th>\n",
       "      <th></th>\n",
       "      <th></th>\n",
       "      <th></th>\n",
       "      <th></th>\n",
       "      <th></th>\n",
       "      <th></th>\n",
       "      <th></th>\n",
       "      <th></th>\n",
       "      <th></th>\n",
       "      <th></th>\n",
       "      <th></th>\n",
       "      <th></th>\n",
       "      <th></th>\n",
       "    </tr>\n",
       "  </thead>\n",
       "  <tbody>\n",
       "    <tr>\n",
       "      <th>2021-04-27</th>\n",
       "      <td>54001.38</td>\n",
       "      <td>55460.00</td>\n",
       "      <td>53222.00</td>\n",
       "      <td>55011.97</td>\n",
       "      <td>54064.034675</td>\n",
       "      <td>2.949719e+09</td>\n",
       "      <td>1568666.0</td>\n",
       "      <td>25631.074629</td>\n",
       "      <td>1.398732e+09</td>\n",
       "      <td>1</td>\n",
       "      <td>27</td>\n",
       "      <td>1</td>\n",
       "      <td>117</td>\n",
       "    </tr>\n",
       "    <tr>\n",
       "      <th>2021-04-28</th>\n",
       "      <td>55011.97</td>\n",
       "      <td>56428.00</td>\n",
       "      <td>53813.16</td>\n",
       "      <td>54846.22</td>\n",
       "      <td>55130.459015</td>\n",
       "      <td>3.020243e+09</td>\n",
       "      <td>1830042.0</td>\n",
       "      <td>26762.033422</td>\n",
       "      <td>1.466279e+09</td>\n",
       "      <td>0</td>\n",
       "      <td>28</td>\n",
       "      <td>2</td>\n",
       "      <td>118</td>\n",
       "    </tr>\n",
       "    <tr>\n",
       "      <th>2021-04-29</th>\n",
       "      <td>54846.23</td>\n",
       "      <td>55195.84</td>\n",
       "      <td>52330.94</td>\n",
       "      <td>53555.00</td>\n",
       "      <td>52486.019455</td>\n",
       "      <td>2.823220e+09</td>\n",
       "      <td>1763676.0</td>\n",
       "      <td>25339.743902</td>\n",
       "      <td>1.362821e+09</td>\n",
       "      <td>0</td>\n",
       "      <td>29</td>\n",
       "      <td>3</td>\n",
       "      <td>119</td>\n",
       "    </tr>\n",
       "    <tr>\n",
       "      <th>2021-04-30</th>\n",
       "      <td>53555.00</td>\n",
       "      <td>57963.00</td>\n",
       "      <td>53013.01</td>\n",
       "      <td>57694.27</td>\n",
       "      <td>68578.910045</td>\n",
       "      <td>3.808187e+09</td>\n",
       "      <td>2267648.0</td>\n",
       "      <td>35634.129087</td>\n",
       "      <td>1.978867e+09</td>\n",
       "      <td>1</td>\n",
       "      <td>30</td>\n",
       "      <td>4</td>\n",
       "      <td>120</td>\n",
       "    </tr>\n",
       "    <tr>\n",
       "      <th>2021-05-01</th>\n",
       "      <td>57697.25</td>\n",
       "      <td>58458.07</td>\n",
       "      <td>56956.14</td>\n",
       "      <td>57800.37</td>\n",
       "      <td>42600.351836</td>\n",
       "      <td>2.460343e+09</td>\n",
       "      <td>1743013.0</td>\n",
       "      <td>20574.810226</td>\n",
       "      <td>1.188355e+09</td>\n",
       "      <td>1</td>\n",
       "      <td>1</td>\n",
       "      <td>5</td>\n",
       "      <td>121</td>\n",
       "    </tr>\n",
       "  </tbody>\n",
       "</table>\n",
       "</div>"
      ],
      "text/plain": [
       "                open      high       low     close        volume  \\\n",
       "open_time                                                          \n",
       "2021-04-27  54001.38  55460.00  53222.00  55011.97  54064.034675   \n",
       "2021-04-28  55011.97  56428.00  53813.16  54846.22  55130.459015   \n",
       "2021-04-29  54846.23  55195.84  52330.94  53555.00  52486.019455   \n",
       "2021-04-30  53555.00  57963.00  53013.01  57694.27  68578.910045   \n",
       "2021-05-01  57697.25  58458.07  56956.14  57800.37  42600.351836   \n",
       "\n",
       "            quote_asset_volume  number_of_trades  taker_buy_base_asset_volume  \\\n",
       "open_time                                                                       \n",
       "2021-04-27        2.949719e+09         1568666.0                 25631.074629   \n",
       "2021-04-28        3.020243e+09         1830042.0                 26762.033422   \n",
       "2021-04-29        2.823220e+09         1763676.0                 25339.743902   \n",
       "2021-04-30        3.808187e+09         2267648.0                 35634.129087   \n",
       "2021-05-01        2.460343e+09         1743013.0                 20574.810226   \n",
       "\n",
       "            taker_buy_quote_asset_volume  y_temp  day  weekday  dayofyear  \n",
       "open_time                                                                  \n",
       "2021-04-27                  1.398732e+09       1   27        1        117  \n",
       "2021-04-28                  1.466279e+09       0   28        2        118  \n",
       "2021-04-29                  1.362821e+09       0   29        3        119  \n",
       "2021-04-30                  1.978867e+09       1   30        4        120  \n",
       "2021-05-01                  1.188355e+09       1    1        5        121  "
      ]
     },
     "execution_count": 15,
     "metadata": {},
     "output_type": "execute_result"
    }
   ],
   "source": [
    "df.tail()"
   ]
  },
  {
   "cell_type": "code",
   "execution_count": 16,
   "id": "96b07a50-9c42-442a-b281-5a519787afbe",
   "metadata": {},
   "outputs": [],
   "source": [
    "#https://towardsdatascience.com/building-a-comprehensive-set-of-technical-indicators-in-python-for-quantitative-trading-8d98751b5fb\n",
    "# MovingAverage\n",
    "values_ma = [5,15,30]\n",
    "\n",
    "for i in values_ma:\n",
    "    df[\"ma_close_\" + str(i)] = df[\"close\"].rolling(window=i).mean()\n",
    "    df[\"ma_volume_\" + str(i)] = df[\"volume\"].rolling(window=i).mean()\n",
    "\n",
    "# ExponentialMovingWindow\n",
    "values_ema = [5,15,30]\n",
    "\n",
    "for i in values_ema:\n",
    "    df[\"ema_\" + str(i)] = df[\"close\"].ewm(span = i, adjust = False).mean()\n",
    "    \n",
    "# RSI https://stackoverflow.com/questions/20526414/relative-strength-index-in-python-pandas\n",
    "values_rsi = [7,14,21]\n",
    "close = df['close']\n",
    "\n",
    "# Get the difference in price from previous step\n",
    "delta = close.diff()\n",
    "\n",
    "# Make the positive gains (up) and negative gains (down) Series\n",
    "up, down = delta.copy(), delta.copy()\n",
    "up[up < 0] = 0\n",
    "down[down > 0] = 0\n",
    "\n",
    "for i in values_rsi:\n",
    "    # Calculate the EWMA\n",
    "    roll_up1 = up.ewm(span=i).mean()\n",
    "    roll_down1 = down.abs().ewm(span=i).mean()\n",
    "\n",
    "    # Calculate the RSI based on EWMA\n",
    "    RS1 = roll_up1 / roll_down1\n",
    "    RSI1 = 100.0 - (100.0 / (1.0 + RS1))\n",
    "\n",
    "    # Calculate the SMA\n",
    "    roll_up2 = up.rolling(i).mean()\n",
    "    roll_down2 = down.abs().rolling(i).mean()\n",
    "\n",
    "    # Calculate the RSI based on SMA\n",
    "    RS2 = roll_up2 / roll_down2\n",
    "    RSI2 = 100.0 - (100.0 / (1.0 + RS2))\n",
    "    \n",
    "    df[\"rsi_ewma_\" + str(i)] = RSI1.values\n",
    "    df[\"rsi_sma_\" + str(i)]  = RSI2.values\n",
    "    \n",
    "# BollingerBand\n",
    "values_bollinger = [5,10,20]\n",
    "for i in values_bollinger:\n",
    "    df['bollinger_upper_' + str(i)] = df['close'].rolling(window=i).mean() + (df['close'].rolling(window=i).std()  * 2)\n",
    "    df['bollinger_lower_' + str(i)] = df['close'].rolling(window=i).mean() - (df['close'].rolling(window=i).std()  * 2)\n",
    "\n",
    "# Rate of change\n",
    "values_rc = [5,15,30]\n",
    "for i in values_rc:\n",
    "    df[\"rc_\" + str(i)] = df[\"close\"].pct_change(periods = i)\n",
    "    \n",
    "# Stochastic Oscillators\n",
    "values_so = [5,15,30]\n",
    "for i in values_so:\n",
    "    lowest = df[\"low\"].rolling(window = i).min()\n",
    "    high = df[\"high\"].rolling(window = i).max()\n",
    "    df[\"so_\" + str(i)] = ((df['close'] -lowest)/(high - lowest))*100\n",
    "    df[\"so_%D\" + str(i)] = df[\"so_\" + str(i)].rolling(window = i).mean()"
   ]
  },
  {
   "cell_type": "code",
   "execution_count": 17,
   "id": "27239b6f-33b2-4da3-8662-646cc775ad06",
   "metadata": {},
   "outputs": [
    {
     "data": {
      "text/html": [
       "<div>\n",
       "<style scoped>\n",
       "    .dataframe tbody tr th:only-of-type {\n",
       "        vertical-align: middle;\n",
       "    }\n",
       "\n",
       "    .dataframe tbody tr th {\n",
       "        vertical-align: top;\n",
       "    }\n",
       "\n",
       "    .dataframe thead th {\n",
       "        text-align: right;\n",
       "    }\n",
       "</style>\n",
       "<table border=\"1\" class=\"dataframe\">\n",
       "  <thead>\n",
       "    <tr style=\"text-align: right;\">\n",
       "      <th></th>\n",
       "      <th>y</th>\n",
       "      <th>y_temp</th>\n",
       "    </tr>\n",
       "    <tr>\n",
       "      <th>open_time</th>\n",
       "      <th></th>\n",
       "      <th></th>\n",
       "    </tr>\n",
       "  </thead>\n",
       "  <tbody>\n",
       "    <tr>\n",
       "      <th>2021-04-27</th>\n",
       "      <td>0.0</td>\n",
       "      <td>1</td>\n",
       "    </tr>\n",
       "    <tr>\n",
       "      <th>2021-04-28</th>\n",
       "      <td>0.0</td>\n",
       "      <td>0</td>\n",
       "    </tr>\n",
       "    <tr>\n",
       "      <th>2021-04-29</th>\n",
       "      <td>1.0</td>\n",
       "      <td>0</td>\n",
       "    </tr>\n",
       "    <tr>\n",
       "      <th>2021-04-30</th>\n",
       "      <td>1.0</td>\n",
       "      <td>1</td>\n",
       "    </tr>\n",
       "    <tr>\n",
       "      <th>2021-05-01</th>\n",
       "      <td>NaN</td>\n",
       "      <td>1</td>\n",
       "    </tr>\n",
       "  </tbody>\n",
       "</table>\n",
       "</div>"
      ],
      "text/plain": [
       "              y  y_temp\n",
       "open_time              \n",
       "2021-04-27  0.0       1\n",
       "2021-04-28  0.0       0\n",
       "2021-04-29  1.0       0\n",
       "2021-04-30  1.0       1\n",
       "2021-05-01  NaN       1"
      ]
     },
     "execution_count": 17,
     "metadata": {},
     "output_type": "execute_result"
    }
   ],
   "source": [
    "df[\"y\"] = df[\"y_temp\"].shift(-1)\n",
    "df[[\"y\",\"y_temp\"]].tail()"
   ]
  },
  {
   "cell_type": "code",
   "execution_count": 18,
   "id": "06134a2d-b037-4787-b211-b8e9061c95b4",
   "metadata": {},
   "outputs": [],
   "source": [
    "past_t = 30 # Es hiperparametro del modelo\n",
    "minus = 3"
   ]
  },
  {
   "cell_type": "code",
   "execution_count": 19,
   "id": "ef20d262-1589-44c8-ba2e-796f7d1d6850",
   "metadata": {},
   "outputs": [],
   "source": [
    "list_shift = list(range(1, minus))\n",
    "\n",
    "for i in list_shift: \n",
    "    #df[\"close_minus\" + str(i)] = df[\"close\"].shift(i)\n",
    "    df[\"high_minus\" + str(i)] = df[\"high\"].shift(i)\n",
    "    df[\"low_minus\" + str(i)] = df[\"low\"].shift(i)\n",
    "    #df[\"open_minus\" + str(i)] = df[\"open\"].shift(i)\n",
    "    df[\"volume_minus\" + str(i)] = df[\"volume\"].shift(i)\n",
    "    df[\"number_of_trades\" + str(i)] = df[\"number_of_trades\"].shift(i)"
   ]
  },
  {
   "cell_type": "code",
   "execution_count": 20,
   "id": "0b844a29-9135-4184-894f-22fe5df1da6b",
   "metadata": {},
   "outputs": [],
   "source": [
    "X = df.drop(columns=[\"y\"]).copy()\n",
    "y = df[\"y\"].copy()"
   ]
  },
  {
   "cell_type": "code",
   "execution_count": 22,
   "id": "8959164a-9516-457d-a8e8-d0b0aae3911d",
   "metadata": {},
   "outputs": [],
   "source": [
    "X_train = X.iloc[(len(X) - 1 - past_t):(len(X) - 1)]\n",
    "y_train = y.iloc[(len(X) - 1 - past_t):(len(X) - 1)]\n",
    "X_test = X.iloc[len(X) - 1]"
   ]
  },
  {
   "cell_type": "code",
   "execution_count": 23,
   "id": "32555422-0725-47ef-939f-a7205df77711",
   "metadata": {},
   "outputs": [
    {
     "name": "stdout",
     "output_type": "stream",
     "text": [
      "Shape X_train (30, 51)\n",
      "Shape y_train (30,)\n",
      "Shape X_test (51,)\n"
     ]
    }
   ],
   "source": [
    "print(\"Shape X_train \" + str(X_train.shape))\n",
    "print(\"Shape y_train \" + str(y_train.shape))\n",
    "print(\"Shape X_test \" + str(X_test.shape))"
   ]
  },
  {
   "cell_type": "code",
   "execution_count": 24,
   "id": "e222a03e-7324-417d-964e-e27426bed638",
   "metadata": {},
   "outputs": [
    {
     "data": {
      "text/plain": [
       "DatetimeIndex(['2021-04-01', '2021-04-02', '2021-04-03', '2021-04-04',\n",
       "               '2021-04-05', '2021-04-06', '2021-04-07', '2021-04-08',\n",
       "               '2021-04-09', '2021-04-10', '2021-04-11', '2021-04-12',\n",
       "               '2021-04-13', '2021-04-14', '2021-04-15', '2021-04-16',\n",
       "               '2021-04-17', '2021-04-18', '2021-04-19', '2021-04-20',\n",
       "               '2021-04-21', '2021-04-22', '2021-04-23', '2021-04-24',\n",
       "               '2021-04-25', '2021-04-26', '2021-04-27', '2021-04-28',\n",
       "               '2021-04-29', '2021-04-30'],\n",
       "              dtype='datetime64[ns]', name='open_time', freq=None)"
      ]
     },
     "execution_count": 24,
     "metadata": {},
     "output_type": "execute_result"
    }
   ],
   "source": [
    "X_train.index"
   ]
  },
  {
   "cell_type": "code",
   "execution_count": 25,
   "id": "432a58d9-df82-46fc-89f0-b32f5672e733",
   "metadata": {},
   "outputs": [
    {
     "data": {
      "text/plain": [
       "Timestamp('2021-05-01 00:00:00')"
      ]
     },
     "execution_count": 25,
     "metadata": {},
     "output_type": "execute_result"
    }
   ],
   "source": [
    "X.index[-1]"
   ]
  },
  {
   "cell_type": "code",
   "execution_count": 26,
   "id": "83d3e995-c5ed-488d-9a17-bb75a4bc9211",
   "metadata": {},
   "outputs": [
    {
     "data": {
      "text/plain": [
       "Timestamp('2021-05-01 00:00:00')"
      ]
     },
     "execution_count": 26,
     "metadata": {},
     "output_type": "execute_result"
    }
   ],
   "source": [
    "X_test.name"
   ]
  },
  {
   "cell_type": "code",
   "execution_count": 28,
   "id": "8d7242b3-5826-442f-b82e-d9356b2b8dd3",
   "metadata": {},
   "outputs": [],
   "source": [
    "from catboost import CatBoostClassifier\n",
    "\n",
    "parameters_catboost = {'depth' : [2,4,6],\n",
    "                       'learning_rate' : [0.01, 0.1],\n",
    "                       'iterations' : [1000] }\n",
    "\n",
    "modelo_catboost = CatBoostClassifier(loss_function='Logloss', # Funcion minimizadora del modelo https://catboost.ai/docs/concepts/loss-functions-regression.html\n",
    "                                     verbose = 0,\n",
    "                                     task_type = \"CPU\" #GPU\n",
    "                                    )\n",
    "\n",
    "from sklearn.model_selection import GridSearchCV\n",
    "\n",
    "grid_catboost = GridSearchCV(estimator = modelo_catboost,\n",
    "                             param_grid = parameters_catboost,\n",
    "                             scoring = \"roc_auc\", # https://scikit-learn.org/stable/modules/model_evaluation.html#scoring-parameter\n",
    "                             return_train_score = True,\n",
    "                             cv = 10,\n",
    "                             n_jobs = -1,\n",
    "                             verbose = 3              \n",
    "                            )"
   ]
  },
  {
   "cell_type": "code",
   "execution_count": 29,
   "id": "98ca2021-241c-4bda-b6fc-cb27581f7af8",
   "metadata": {},
   "outputs": [
    {
     "name": "stdout",
     "output_type": "stream",
     "text": [
      "Fitting 10 folds for each of 12 candidates, totalling 120 fits\n"
     ]
    },
    {
     "data": {
      "text/plain": [
       "GridSearchCV(cv=10,\n",
       "             estimator=<catboost.core.CatBoostClassifier object at 0x0000012CF5FBE430>,\n",
       "             n_jobs=-1,\n",
       "             param_grid={'depth': [2, 4, 6], 'iterations': [1000, 2000],\n",
       "                         'learning_rate': [0.01, 0.1]},\n",
       "             return_train_score=True, scoring='roc_auc', verbose=3)"
      ]
     },
     "execution_count": 29,
     "metadata": {},
     "output_type": "execute_result"
    }
   ],
   "source": [
    "grid_catboost.fit(X_train, y_train)"
   ]
  },
  {
   "cell_type": "code",
   "execution_count": 35,
   "id": "a4e40a79-5168-46af-8456-1b48567953e9",
   "metadata": {},
   "outputs": [
    {
     "name": "stdout",
     "output_type": "stream",
     "text": [
      "{'depth': 4, 'iterations': 1000, 'learning_rate': 0.1}\n"
     ]
    }
   ],
   "source": [
    "print(grid_catboost.best_params_)"
   ]
  },
  {
   "cell_type": "code",
   "execution_count": 36,
   "id": "7b6f3b16-9235-42b1-876d-a22a9533601a",
   "metadata": {},
   "outputs": [
    {
     "data": {
      "image/png": "[encoded data removed]",
      "text/plain": [
       "<Figure size 1440x1440 with 1 Axes>"
      ]
     },
     "metadata": {
      "needs_background": "light"
     },
     "output_type": "display_data"
    }
   ],
   "source": [
    "# Feature Importance\n",
    "fea_imp = pd.DataFrame({'imp': grid_catboost.best_estimator_.feature_importances_, 'col': X_train.columns})\n",
    "fea_imp = fea_imp.sort_values(['imp', 'col'], ascending=[True, False])#.iloc[-20:]\n",
    "_ = fea_imp.plot(kind='barh', x='col', y='imp', figsize=(20, 20))"
   ]
  },
  {
   "cell_type": "code",
   "execution_count": 37,
   "id": "1bcb92f4-2a2b-40e7-bc58-f3d483a3be0a",
   "metadata": {},
   "outputs": [
    {
     "data": {
      "text/plain": [
       "1.0"
      ]
     },
     "execution_count": 37,
     "metadata": {},
     "output_type": "execute_result"
    }
   ],
   "source": [
    "pred = grid_catboost.best_estimator_.predict(X_test)\n",
    "pred"
   ]
  },
  {
   "cell_type": "code",
   "execution_count": 39,
   "id": "87e59eb3-9562-472d-b73a-eee30717fe36",
   "metadata": {},
   "outputs": [
    {
     "data": {
      "text/plain": [
       "array([0.01706341, 0.98293659])"
      ]
     },
     "execution_count": 39,
     "metadata": {},
     "output_type": "execute_result"
    }
   ],
   "source": [
    "prob = grid_catboost.best_estimator_.predict_proba(X_test)  # El cero es que baja el close con respecto al dia anterior el 1 lo contrario\n",
    "prob"
   ]
  },
  {
   "cell_type": "code",
   "execution_count": 41,
   "id": "d906fd6e-78fb-436a-8785-974223b11faa",
   "metadata": {},
   "outputs": [
    {
     "name": "stdout",
     "output_type": "stream",
     "text": [
      "Probabilidades CLOSE [BTCUSDT] --> 2021-05-02 00:00:00 --> [0.01706341 0.98293659]\n"
     ]
    }
   ],
   "source": [
    "print(\"Probabilidades CLOSE [\" + str(index) + \"] --> \" + str(X_test.name + timedelta(1)) + \" --> \" + str(prob))"
   ]
  },
  {
   "cell_type": "code",
   "execution_count": 48,
   "id": "c06b71a0-0a9d-4bb7-bd77-52588e2aae4b",
   "metadata": {},
   "outputs": [
    {
     "data": {
      "text/plain": [
       "{'ok': True,\n",
       " 'result': {'message_id': 6,\n",
       "  'from': {'id': 1653124784,\n",
       "   'is_bot': True,\n",
       "   'first_name': 'JARVIS',\n",
       "   'username': 'JARVIS_Walkn_bot'},\n",
       "  'chat': {'id': -1001484622825,\n",
       "   'title': 'Bot Trading Forecast',\n",
       "   'type': 'supergroup'},\n",
       "  'date': 1619946171,\n",
       "  'text': '2021-05-02\\nBTCUSDT/CLOSE \\nProbabilidad de bajada --> 0.02\\nProbabilidad de subida --> 0.98'}}"
      ]
     },
     "execution_count": 48,
     "metadata": {},
     "output_type": "execute_result"
    }
   ],
   "source": [
    "import requests\n",
    "\n",
    "def telegram_sendtext(bot_message):\n",
    "    bot_token = '1653124784:AAFpL0qlC_ybadcbFX6jKagauRFpiFpSf1E'\n",
    "    #chatID = '469455650' # CHAT ID de tu BOT\n",
    "    chatID = '-1001484622825' # Chat ID del grupo Trading\n",
    "    send_text = 'https://api.telegram.org/bot' + bot_token + '/sendMessage?chat_id=' + chatID + '&parse_mode=Markdown&text=' + bot_message\n",
    "    response = requests.get(send_text)\n",
    "    return response.json()\n",
    "\n",
    "telegram_sendtext(str(date.today()) + \"\\n\" + str(index) + \"/\" + \"CLOSE \\nProbabilidad de bajada \" + \"--> \" + str(prob[0].round(2)) +\"\\nProbabilidad de subida \" + \"--> \" + str(prob[1].round(2)) )"
   ]
  },
  {
   "cell_type": "code",
   "execution_count": null,
   "id": "b7604e5f-9992-4b6f-ae7e-fb37d47f49bf",
   "metadata": {},
   "outputs": [],
   "source": []
  },
  {
   "cell_type": "code",
   "execution_count": null,
   "id": "d5927eba-6996-4fb8-ab73-f4395e1a49ea",
   "metadata": {},
   "outputs": [],
   "source": []
  }
 ],
 "metadata": {
  "kernelspec": {
   "display_name": "Python 3 (ipykernel)",
   "language": "python",
   "name": "python3"
  },
  "language_info": {
   "codemirror_mode": {
    "name": "ipython",
    "version": 3
   },
   "file_extension": ".py",
   "mimetype": "text/x-python",
   "name": "python",
   "nbconvert_exporter": "python",
   "pygments_lexer": "ipython3",
   "version": "3.7.9"
  }
 },
 "nbformat": 4,
 "nbformat_minor": 5
}
