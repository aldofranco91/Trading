{
 "cells": [
  {
   "cell_type": "code",
   "execution_count": 259,
   "id": "684d0d24-cdd0-44d6-adb7-3b744dd92370",
   "metadata": {},
   "outputs": [],
   "source": [
    "%reset -f"
   ]
  },
  {
   "cell_type": "code",
   "execution_count": 260,
   "id": "ba7c051b-3313-4137-bb69-d17695198397",
   "metadata": {},
   "outputs": [],
   "source": [
    "import pandas as pd\n",
    "import numpy as np\n",
    "import pandas_datareader as pdr\n",
    "\n",
    "pd.set_option(\"display.max_rows\", None)\n",
    "pd.set_option(\"display.max_columns\", None)\n",
    "\n",
    "from datetime import date, timedelta\n",
    "\n",
    "from binance.client import Client"
   ]
  },
  {
   "cell_type": "code",
   "execution_count": 261,
   "id": "383e003f-27ad-40d1-b5e1-9c581ef57429",
   "metadata": {},
   "outputs": [],
   "source": [
    "api_key = \"bKln6gBUJO0cJRwnZakqNpHfmcKR5TmiqMmrkvVWgM1k0H0ZEli0mmNARIYb2b9C\"\n",
    "api_secret = \"4dbva7d575El2ehXaqI95tZtrFvBVoG0NFPXVXlY1xikec5VgLzYWFeHNZvnEL4Y\""
   ]
  },
  {
   "cell_type": "code",
   "execution_count": 262,
   "id": "9357a841-be57-491b-be16-c11f95489fd8",
   "metadata": {},
   "outputs": [],
   "source": [
    "client = Client(api_key, api_secret)"
   ]
  },
  {
   "cell_type": "code",
   "execution_count": 263,
   "id": "dadc511a-23f3-439b-b524-97f1e46d47c6",
   "metadata": {},
   "outputs": [
    {
     "name": "stdout",
     "output_type": "stream",
     "text": [
      "Cota Inferior de fecha: 2019-12-17\n"
     ]
    }
   ],
   "source": [
    "cota_inferior = str(date.today() - timedelta(500))\n",
    "print(\"Cota Inferior de fecha: \" + cota_inferior)"
   ]
  },
  {
   "cell_type": "code",
   "execution_count": 264,
   "id": "3b482b6c-fb9c-474e-9437-1f2b90579b4b",
   "metadata": {},
   "outputs": [],
   "source": [
    "index = 'BTCUSDT'"
   ]
  },
  {
   "cell_type": "code",
   "execution_count": 265,
   "id": "5e32a9e0-d979-402e-85e3-f8ee40cc0fba",
   "metadata": {},
   "outputs": [],
   "source": [
    "# valid intervals - 1m, 3m, 5m, 15m, 30m, 1h, 2h, 4h, 6h, 8h, 12h, 1d, 3d, 1w, 1M\n",
    "\n",
    "bars = client.get_historical_klines(index, '1d', cota_inferior)\n",
    "\n",
    "columnas = ['open_time', 'open', 'high', 'low', 'close', 'volume', 'close_time',\n",
    "           'quote_asset_volume','number_of_trades','taker_buy_base_asset_volume',\n",
    "           'taker_buy_quote_asset_volume','ignore']"
   ]
  },
  {
   "cell_type": "code",
   "execution_count": 266,
   "id": "027b6c1f-f4b5-437b-9e9e-ecd3f438ddc7",
   "metadata": {},
   "outputs": [
    {
     "name": "stdout",
     "output_type": "stream",
     "text": [
      "Shape: (500, 9)\n"
     ]
    },
    {
     "data": {
      "text/html": [
       "<div>\n",
       "<style scoped>\n",
       "    .dataframe tbody tr th:only-of-type {\n",
       "        vertical-align: middle;\n",
       "    }\n",
       "\n",
       "    .dataframe tbody tr th {\n",
       "        vertical-align: top;\n",
       "    }\n",
       "\n",
       "    .dataframe thead th {\n",
       "        text-align: right;\n",
       "    }\n",
       "</style>\n",
       "<table border=\"1\" class=\"dataframe\">\n",
       "  <thead>\n",
       "    <tr style=\"text-align: right;\">\n",
       "      <th></th>\n",
       "      <th>open</th>\n",
       "      <th>high</th>\n",
       "      <th>low</th>\n",
       "      <th>close</th>\n",
       "      <th>volume</th>\n",
       "      <th>quote_asset_volume</th>\n",
       "      <th>number_of_trades</th>\n",
       "      <th>taker_buy_base_asset_volume</th>\n",
       "      <th>taker_buy_quote_asset_volume</th>\n",
       "    </tr>\n",
       "    <tr>\n",
       "      <th>open_time</th>\n",
       "      <th></th>\n",
       "      <th></th>\n",
       "      <th></th>\n",
       "      <th></th>\n",
       "      <th></th>\n",
       "      <th></th>\n",
       "      <th></th>\n",
       "      <th></th>\n",
       "      <th></th>\n",
       "    </tr>\n",
       "  </thead>\n",
       "  <tbody>\n",
       "    <tr>\n",
       "      <th>2019-12-17</th>\n",
       "      <td>6891.44</td>\n",
       "      <td>6942.21</td>\n",
       "      <td>6560.00</td>\n",
       "      <td>6623.82</td>\n",
       "      <td>53865.069929</td>\n",
       "      <td>3.640875e+08</td>\n",
       "      <td>454097.0</td>\n",
       "      <td>26510.453951</td>\n",
       "      <td>1.792685e+08</td>\n",
       "    </tr>\n",
       "    <tr>\n",
       "      <th>2019-12-18</th>\n",
       "      <td>6623.84</td>\n",
       "      <td>7440.00</td>\n",
       "      <td>6435.00</td>\n",
       "      <td>7277.83</td>\n",
       "      <td>95636.651251</td>\n",
       "      <td>6.540572e+08</td>\n",
       "      <td>714073.0</td>\n",
       "      <td>49843.650817</td>\n",
       "      <td>3.417073e+08</td>\n",
       "    </tr>\n",
       "    <tr>\n",
       "      <th>2019-12-19</th>\n",
       "      <td>7277.83</td>\n",
       "      <td>7380.00</td>\n",
       "      <td>7038.31</td>\n",
       "      <td>7150.30</td>\n",
       "      <td>55509.049075</td>\n",
       "      <td>3.974077e+08</td>\n",
       "      <td>439761.0</td>\n",
       "      <td>27456.528272</td>\n",
       "      <td>1.965580e+08</td>\n",
       "    </tr>\n",
       "    <tr>\n",
       "      <th>2021-04-27</th>\n",
       "      <td>54001.38</td>\n",
       "      <td>55460.00</td>\n",
       "      <td>53222.00</td>\n",
       "      <td>55011.97</td>\n",
       "      <td>54064.034675</td>\n",
       "      <td>2.949719e+09</td>\n",
       "      <td>1568666.0</td>\n",
       "      <td>25631.074629</td>\n",
       "      <td>1.398732e+09</td>\n",
       "    </tr>\n",
       "    <tr>\n",
       "      <th>2021-04-28</th>\n",
       "      <td>55011.97</td>\n",
       "      <td>56428.00</td>\n",
       "      <td>53813.16</td>\n",
       "      <td>54846.22</td>\n",
       "      <td>55130.459015</td>\n",
       "      <td>3.020243e+09</td>\n",
       "      <td>1830042.0</td>\n",
       "      <td>26762.033422</td>\n",
       "      <td>1.466279e+09</td>\n",
       "    </tr>\n",
       "    <tr>\n",
       "      <th>2021-04-29</th>\n",
       "      <td>54846.23</td>\n",
       "      <td>55195.84</td>\n",
       "      <td>52330.94</td>\n",
       "      <td>53555.00</td>\n",
       "      <td>52486.019455</td>\n",
       "      <td>2.823220e+09</td>\n",
       "      <td>1763676.0</td>\n",
       "      <td>25339.743902</td>\n",
       "      <td>1.362821e+09</td>\n",
       "    </tr>\n",
       "  </tbody>\n",
       "</table>\n",
       "</div>"
      ],
      "text/plain": [
       "                open      high       low     close        volume  \\\n",
       "open_time                                                          \n",
       "2019-12-17   6891.44   6942.21   6560.00   6623.82  53865.069929   \n",
       "2019-12-18   6623.84   7440.00   6435.00   7277.83  95636.651251   \n",
       "2019-12-19   7277.83   7380.00   7038.31   7150.30  55509.049075   \n",
       "2021-04-27  54001.38  55460.00  53222.00  55011.97  54064.034675   \n",
       "2021-04-28  55011.97  56428.00  53813.16  54846.22  55130.459015   \n",
       "2021-04-29  54846.23  55195.84  52330.94  53555.00  52486.019455   \n",
       "\n",
       "            quote_asset_volume  number_of_trades  taker_buy_base_asset_volume  \\\n",
       "open_time                                                                       \n",
       "2019-12-17        3.640875e+08          454097.0                 26510.453951   \n",
       "2019-12-18        6.540572e+08          714073.0                 49843.650817   \n",
       "2019-12-19        3.974077e+08          439761.0                 27456.528272   \n",
       "2021-04-27        2.949719e+09         1568666.0                 25631.074629   \n",
       "2021-04-28        3.020243e+09         1830042.0                 26762.033422   \n",
       "2021-04-29        2.823220e+09         1763676.0                 25339.743902   \n",
       "\n",
       "            taker_buy_quote_asset_volume  \n",
       "open_time                                 \n",
       "2019-12-17                  1.792685e+08  \n",
       "2019-12-18                  3.417073e+08  \n",
       "2019-12-19                  1.965580e+08  \n",
       "2021-04-27                  1.398732e+09  \n",
       "2021-04-28                  1.466279e+09  \n",
       "2021-04-29                  1.362821e+09  "
      ]
     },
     "execution_count": 266,
     "metadata": {},
     "output_type": "execute_result"
    }
   ],
   "source": [
    "df = pd.DataFrame(bars, columns = columnas, dtype='float')\n",
    "\n",
    "df[\"open_time\"] = pd.to_datetime(df[\"open_time\"], unit='ms')\n",
    "\n",
    "df.index = df[\"open_time\"]\n",
    "\n",
    "df.drop(columns=[\"close_time\",\"ignore\",\"open_time\",\n",
    "                 #\"quote_asset_volume\",\"taker_buy_base_asset_volume\",\"taker_buy_quote_asset_volume\"\n",
    "                ], inplace = True)\n",
    "\n",
    "df.drop(df.tail(1).index,inplace=True) # drop last n rows quitamos el día actual\n",
    "\n",
    "print(\"Shape: \" + str(df.shape))\n",
    "\n",
    "pd.concat([df.head(3), df.tail(3)])"
   ]
  },
  {
   "cell_type": "code",
   "execution_count": 267,
   "id": "bd7207fc-f9cd-43f6-81a7-d0b3378101bd",
   "metadata": {},
   "outputs": [
    {
     "name": "stdout",
     "output_type": "stream",
     "text": [
      "Dataset Shape: (500, 9)\n"
     ]
    },
    {
     "data": {
      "text/html": [
       "<div>\n",
       "<style scoped>\n",
       "    .dataframe tbody tr th:only-of-type {\n",
       "        vertical-align: middle;\n",
       "    }\n",
       "\n",
       "    .dataframe tbody tr th {\n",
       "        vertical-align: top;\n",
       "    }\n",
       "\n",
       "    .dataframe thead th {\n",
       "        text-align: right;\n",
       "    }\n",
       "</style>\n",
       "<table border=\"1\" class=\"dataframe\">\n",
       "  <thead>\n",
       "    <tr style=\"text-align: right;\">\n",
       "      <th></th>\n",
       "      <th>index</th>\n",
       "      <th>dtypes</th>\n",
       "      <th>Missing</th>\n",
       "      <th>PercMissing</th>\n",
       "      <th>Uniques</th>\n",
       "    </tr>\n",
       "  </thead>\n",
       "  <tbody>\n",
       "    <tr>\n",
       "      <th>0</th>\n",
       "      <td>open</td>\n",
       "      <td>float64</td>\n",
       "      <td>0</td>\n",
       "      <td>0.0</td>\n",
       "      <td>500</td>\n",
       "    </tr>\n",
       "    <tr>\n",
       "      <th>1</th>\n",
       "      <td>high</td>\n",
       "      <td>float64</td>\n",
       "      <td>0</td>\n",
       "      <td>0.0</td>\n",
       "      <td>493</td>\n",
       "    </tr>\n",
       "    <tr>\n",
       "      <th>2</th>\n",
       "      <td>low</td>\n",
       "      <td>float64</td>\n",
       "      <td>0</td>\n",
       "      <td>0.0</td>\n",
       "      <td>494</td>\n",
       "    </tr>\n",
       "    <tr>\n",
       "      <th>3</th>\n",
       "      <td>close</td>\n",
       "      <td>float64</td>\n",
       "      <td>0</td>\n",
       "      <td>0.0</td>\n",
       "      <td>500</td>\n",
       "    </tr>\n",
       "    <tr>\n",
       "      <th>4</th>\n",
       "      <td>volume</td>\n",
       "      <td>float64</td>\n",
       "      <td>0</td>\n",
       "      <td>0.0</td>\n",
       "      <td>500</td>\n",
       "    </tr>\n",
       "    <tr>\n",
       "      <th>5</th>\n",
       "      <td>quote_asset_volume</td>\n",
       "      <td>float64</td>\n",
       "      <td>0</td>\n",
       "      <td>0.0</td>\n",
       "      <td>500</td>\n",
       "    </tr>\n",
       "    <tr>\n",
       "      <th>6</th>\n",
       "      <td>number_of_trades</td>\n",
       "      <td>float64</td>\n",
       "      <td>0</td>\n",
       "      <td>0.0</td>\n",
       "      <td>500</td>\n",
       "    </tr>\n",
       "    <tr>\n",
       "      <th>7</th>\n",
       "      <td>taker_buy_base_asset_volume</td>\n",
       "      <td>float64</td>\n",
       "      <td>0</td>\n",
       "      <td>0.0</td>\n",
       "      <td>500</td>\n",
       "    </tr>\n",
       "    <tr>\n",
       "      <th>8</th>\n",
       "      <td>taker_buy_quote_asset_volume</td>\n",
       "      <td>float64</td>\n",
       "      <td>0</td>\n",
       "      <td>0.0</td>\n",
       "      <td>500</td>\n",
       "    </tr>\n",
       "  </tbody>\n",
       "</table>\n",
       "</div>"
      ],
      "text/plain": [
       "                          index   dtypes  Missing  PercMissing  Uniques\n",
       "0                          open  float64        0          0.0      500\n",
       "1                          high  float64        0          0.0      493\n",
       "2                           low  float64        0          0.0      494\n",
       "3                         close  float64        0          0.0      500\n",
       "4                        volume  float64        0          0.0      500\n",
       "5            quote_asset_volume  float64        0          0.0      500\n",
       "6              number_of_trades  float64        0          0.0      500\n",
       "7   taker_buy_base_asset_volume  float64        0          0.0      500\n",
       "8  taker_buy_quote_asset_volume  float64        0          0.0      500"
      ]
     },
     "execution_count": 267,
     "metadata": {},
     "output_type": "execute_result"
    }
   ],
   "source": [
    "def description(df):\n",
    "    print(f\"Dataset Shape: {df.shape}\")\n",
    "    summary = pd.DataFrame(df.dtypes,columns=['dtypes'])\n",
    "    summary = summary.reset_index()\n",
    "    summary['Missing'] = df.isnull().sum().values\n",
    "    summary['PercMissing'] = df.isnull().sum().values / df.isnull().count().values\n",
    "    summary['Uniques'] = df.nunique().values\n",
    "    return summary\n",
    "\n",
    "description(df)"
   ]
  },
  {
   "cell_type": "code",
   "execution_count": 268,
   "id": "19138679-5426-4827-bb3d-4d2db887589e",
   "metadata": {},
   "outputs": [],
   "source": [
    "# Get feature from dates\n",
    "df['day'] = df.index.day\n",
    "df['weekday'] = df.index.dayofweek\n",
    "df['dayofyear'] = df.index.dayofyear"
   ]
  },
  {
   "cell_type": "code",
   "execution_count": 269,
   "id": "ea7d0f05-bf02-4b19-aa5b-9b4916f27c30",
   "metadata": {},
   "outputs": [
    {
     "data": {
      "text/html": [
       "<div>\n",
       "<style scoped>\n",
       "    .dataframe tbody tr th:only-of-type {\n",
       "        vertical-align: middle;\n",
       "    }\n",
       "\n",
       "    .dataframe tbody tr th {\n",
       "        vertical-align: top;\n",
       "    }\n",
       "\n",
       "    .dataframe thead th {\n",
       "        text-align: right;\n",
       "    }\n",
       "</style>\n",
       "<table border=\"1\" class=\"dataframe\">\n",
       "  <thead>\n",
       "    <tr style=\"text-align: right;\">\n",
       "      <th></th>\n",
       "      <th>open</th>\n",
       "      <th>high</th>\n",
       "      <th>low</th>\n",
       "      <th>close</th>\n",
       "      <th>volume</th>\n",
       "      <th>quote_asset_volume</th>\n",
       "      <th>number_of_trades</th>\n",
       "      <th>taker_buy_base_asset_volume</th>\n",
       "      <th>taker_buy_quote_asset_volume</th>\n",
       "      <th>day</th>\n",
       "      <th>weekday</th>\n",
       "      <th>dayofyear</th>\n",
       "    </tr>\n",
       "    <tr>\n",
       "      <th>open_time</th>\n",
       "      <th></th>\n",
       "      <th></th>\n",
       "      <th></th>\n",
       "      <th></th>\n",
       "      <th></th>\n",
       "      <th></th>\n",
       "      <th></th>\n",
       "      <th></th>\n",
       "      <th></th>\n",
       "      <th></th>\n",
       "      <th></th>\n",
       "      <th></th>\n",
       "    </tr>\n",
       "  </thead>\n",
       "  <tbody>\n",
       "    <tr>\n",
       "      <th>2021-04-25</th>\n",
       "      <td>50047.84</td>\n",
       "      <td>50567.91</td>\n",
       "      <td>46930.00</td>\n",
       "      <td>49066.77</td>\n",
       "      <td>58255.645004</td>\n",
       "      <td>2.867858e+09</td>\n",
       "      <td>1475479.0</td>\n",
       "      <td>27767.331394</td>\n",
       "      <td>1.367921e+09</td>\n",
       "      <td>25</td>\n",
       "      <td>6</td>\n",
       "      <td>115</td>\n",
       "    </tr>\n",
       "    <tr>\n",
       "      <th>2021-04-26</th>\n",
       "      <td>49066.76</td>\n",
       "      <td>54356.62</td>\n",
       "      <td>48753.44</td>\n",
       "      <td>54001.39</td>\n",
       "      <td>86310.802124</td>\n",
       "      <td>4.555689e+09</td>\n",
       "      <td>2174544.0</td>\n",
       "      <td>43183.936749</td>\n",
       "      <td>2.277376e+09</td>\n",
       "      <td>26</td>\n",
       "      <td>0</td>\n",
       "      <td>116</td>\n",
       "    </tr>\n",
       "    <tr>\n",
       "      <th>2021-04-27</th>\n",
       "      <td>54001.38</td>\n",
       "      <td>55460.00</td>\n",
       "      <td>53222.00</td>\n",
       "      <td>55011.97</td>\n",
       "      <td>54064.034675</td>\n",
       "      <td>2.949719e+09</td>\n",
       "      <td>1568666.0</td>\n",
       "      <td>25631.074629</td>\n",
       "      <td>1.398732e+09</td>\n",
       "      <td>27</td>\n",
       "      <td>1</td>\n",
       "      <td>117</td>\n",
       "    </tr>\n",
       "    <tr>\n",
       "      <th>2021-04-28</th>\n",
       "      <td>55011.97</td>\n",
       "      <td>56428.00</td>\n",
       "      <td>53813.16</td>\n",
       "      <td>54846.22</td>\n",
       "      <td>55130.459015</td>\n",
       "      <td>3.020243e+09</td>\n",
       "      <td>1830042.0</td>\n",
       "      <td>26762.033422</td>\n",
       "      <td>1.466279e+09</td>\n",
       "      <td>28</td>\n",
       "      <td>2</td>\n",
       "      <td>118</td>\n",
       "    </tr>\n",
       "    <tr>\n",
       "      <th>2021-04-29</th>\n",
       "      <td>54846.23</td>\n",
       "      <td>55195.84</td>\n",
       "      <td>52330.94</td>\n",
       "      <td>53555.00</td>\n",
       "      <td>52486.019455</td>\n",
       "      <td>2.823220e+09</td>\n",
       "      <td>1763676.0</td>\n",
       "      <td>25339.743902</td>\n",
       "      <td>1.362821e+09</td>\n",
       "      <td>29</td>\n",
       "      <td>3</td>\n",
       "      <td>119</td>\n",
       "    </tr>\n",
       "  </tbody>\n",
       "</table>\n",
       "</div>"
      ],
      "text/plain": [
       "                open      high       low     close        volume  \\\n",
       "open_time                                                          \n",
       "2021-04-25  50047.84  50567.91  46930.00  49066.77  58255.645004   \n",
       "2021-04-26  49066.76  54356.62  48753.44  54001.39  86310.802124   \n",
       "2021-04-27  54001.38  55460.00  53222.00  55011.97  54064.034675   \n",
       "2021-04-28  55011.97  56428.00  53813.16  54846.22  55130.459015   \n",
       "2021-04-29  54846.23  55195.84  52330.94  53555.00  52486.019455   \n",
       "\n",
       "            quote_asset_volume  number_of_trades  taker_buy_base_asset_volume  \\\n",
       "open_time                                                                       \n",
       "2021-04-25        2.867858e+09         1475479.0                 27767.331394   \n",
       "2021-04-26        4.555689e+09         2174544.0                 43183.936749   \n",
       "2021-04-27        2.949719e+09         1568666.0                 25631.074629   \n",
       "2021-04-28        3.020243e+09         1830042.0                 26762.033422   \n",
       "2021-04-29        2.823220e+09         1763676.0                 25339.743902   \n",
       "\n",
       "            taker_buy_quote_asset_volume  day  weekday  dayofyear  \n",
       "open_time                                                          \n",
       "2021-04-25                  1.367921e+09   25        6        115  \n",
       "2021-04-26                  2.277376e+09   26        0        116  \n",
       "2021-04-27                  1.398732e+09   27        1        117  \n",
       "2021-04-28                  1.466279e+09   28        2        118  \n",
       "2021-04-29                  1.362821e+09   29        3        119  "
      ]
     },
     "execution_count": 269,
     "metadata": {},
     "output_type": "execute_result"
    }
   ],
   "source": [
    "df.tail()"
   ]
  },
  {
   "cell_type": "code",
   "execution_count": 270,
   "id": "96b07a50-9c42-442a-b281-5a519787afbe",
   "metadata": {},
   "outputs": [],
   "source": [
    "#https://towardsdatascience.com/building-a-comprehensive-set-of-technical-indicators-in-python-for-quantitative-trading-8d98751b5fb\n",
    "# MovingAverage\n",
    "values_ma = [5,15,30]\n",
    "\n",
    "for i in values_ma:\n",
    "    df[\"ma_close_\" + str(i)] = df[\"close\"].rolling(window=i).mean()\n",
    "    df[\"ma_volume_\" + str(i)] = df[\"volume\"].rolling(window=i).mean()\n",
    "\n",
    "# ExponentialMovingWindow\n",
    "values_ema = [5,15,30]\n",
    "\n",
    "for i in values_ema:\n",
    "    df[\"ema_\" + str(i)] = df[\"close\"].ewm(span = i, adjust = False).mean()\n",
    "    \n",
    "# RSI https://stackoverflow.com/questions/20526414/relative-strength-index-in-python-pandas\n",
    "values_rsi = [7,14,21]\n",
    "close = df['close']\n",
    "\n",
    "# Get the difference in price from previous step\n",
    "delta = close.diff()\n",
    "\n",
    "# Make the positive gains (up) and negative gains (down) Series\n",
    "up, down = delta.copy(), delta.copy()\n",
    "up[up < 0] = 0\n",
    "down[down > 0] = 0\n",
    "\n",
    "for i in values_rsi:\n",
    "    # Calculate the EWMA\n",
    "    roll_up1 = up.ewm(span=i).mean()\n",
    "    roll_down1 = down.abs().ewm(span=i).mean()\n",
    "\n",
    "    # Calculate the RSI based on EWMA\n",
    "    RS1 = roll_up1 / roll_down1\n",
    "    RSI1 = 100.0 - (100.0 / (1.0 + RS1))\n",
    "\n",
    "    # Calculate the SMA\n",
    "    roll_up2 = up.rolling(i).mean()\n",
    "    roll_down2 = down.abs().rolling(i).mean()\n",
    "\n",
    "    # Calculate the RSI based on SMA\n",
    "    RS2 = roll_up2 / roll_down2\n",
    "    RSI2 = 100.0 - (100.0 / (1.0 + RS2))\n",
    "    \n",
    "    df[\"rsi_ewma_\" + str(i)] = RSI1.values\n",
    "    df[\"rsi_sma_\" + str(i)]  = RSI2.values\n",
    "    \n",
    "# BollingerBand\n",
    "values_bollinger = [5,10,20]\n",
    "for i in values_bollinger:\n",
    "    df['bollinger_upper_' + str(i)] = df['close'].rolling(window=i).mean() + (df['close'].rolling(window=i).std()  * 2)\n",
    "    df['bollinger_lower_' + str(i)] = df['close'].rolling(window=i).mean() - (df['close'].rolling(window=i).std()  * 2)\n",
    "\n",
    "# Rate of change\n",
    "values_rc = [5,15,30]\n",
    "for i in values_rc:\n",
    "    df[\"rc_\" + str(i)] = df[\"close\"].pct_change(periods = i)\n",
    "    \n",
    "# Stochastic Oscillators\n",
    "values_so = [5,15,30]\n",
    "for i in values_so:\n",
    "    lowest = df[\"low\"].rolling(window = i).min()\n",
    "    high = df[\"high\"].rolling(window = i).max()\n",
    "    df[\"so_\" + str(i)] = ((df['close'] -lowest)/(high - lowest))*100\n",
    "    df[\"so_%D\" + str(i)] = df[\"so_\" + str(i)].rolling(window = i).mean()"
   ]
  },
  {
   "cell_type": "code",
   "execution_count": 271,
   "id": "27239b6f-33b2-4da3-8662-646cc775ad06",
   "metadata": {},
   "outputs": [
    {
     "data": {
      "text/html": [
       "<div>\n",
       "<style scoped>\n",
       "    .dataframe tbody tr th:only-of-type {\n",
       "        vertical-align: middle;\n",
       "    }\n",
       "\n",
       "    .dataframe tbody tr th {\n",
       "        vertical-align: top;\n",
       "    }\n",
       "\n",
       "    .dataframe thead th {\n",
       "        text-align: right;\n",
       "    }\n",
       "</style>\n",
       "<table border=\"1\" class=\"dataframe\">\n",
       "  <thead>\n",
       "    <tr style=\"text-align: right;\">\n",
       "      <th></th>\n",
       "      <th>y_high</th>\n",
       "      <th>high</th>\n",
       "      <th>y_low</th>\n",
       "      <th>low</th>\n",
       "    </tr>\n",
       "    <tr>\n",
       "      <th>open_time</th>\n",
       "      <th></th>\n",
       "      <th></th>\n",
       "      <th></th>\n",
       "      <th></th>\n",
       "    </tr>\n",
       "  </thead>\n",
       "  <tbody>\n",
       "    <tr>\n",
       "      <th>2021-04-25</th>\n",
       "      <td>54356.62</td>\n",
       "      <td>50567.91</td>\n",
       "      <td>48753.44</td>\n",
       "      <td>46930.00</td>\n",
       "    </tr>\n",
       "    <tr>\n",
       "      <th>2021-04-26</th>\n",
       "      <td>55460.00</td>\n",
       "      <td>54356.62</td>\n",
       "      <td>53222.00</td>\n",
       "      <td>48753.44</td>\n",
       "    </tr>\n",
       "    <tr>\n",
       "      <th>2021-04-27</th>\n",
       "      <td>56428.00</td>\n",
       "      <td>55460.00</td>\n",
       "      <td>53813.16</td>\n",
       "      <td>53222.00</td>\n",
       "    </tr>\n",
       "    <tr>\n",
       "      <th>2021-04-28</th>\n",
       "      <td>55195.84</td>\n",
       "      <td>56428.00</td>\n",
       "      <td>52330.94</td>\n",
       "      <td>53813.16</td>\n",
       "    </tr>\n",
       "    <tr>\n",
       "      <th>2021-04-29</th>\n",
       "      <td>NaN</td>\n",
       "      <td>55195.84</td>\n",
       "      <td>NaN</td>\n",
       "      <td>52330.94</td>\n",
       "    </tr>\n",
       "  </tbody>\n",
       "</table>\n",
       "</div>"
      ],
      "text/plain": [
       "              y_high      high     y_low       low\n",
       "open_time                                         \n",
       "2021-04-25  54356.62  50567.91  48753.44  46930.00\n",
       "2021-04-26  55460.00  54356.62  53222.00  48753.44\n",
       "2021-04-27  56428.00  55460.00  53813.16  53222.00\n",
       "2021-04-28  55195.84  56428.00  52330.94  53813.16\n",
       "2021-04-29       NaN  55195.84       NaN  52330.94"
      ]
     },
     "execution_count": 271,
     "metadata": {},
     "output_type": "execute_result"
    }
   ],
   "source": [
    "df[\"y_high\"] = df[\"high\"].shift(-1)\n",
    "df[\"y_low\"] = df[\"low\"].shift(-1)\n",
    "df[[\"y_high\",\"high\",\"y_low\",\"low\"]].tail()"
   ]
  },
  {
   "cell_type": "code",
   "execution_count": 273,
   "id": "06134a2d-b037-4787-b211-b8e9061c95b4",
   "metadata": {},
   "outputs": [],
   "source": [
    "past_t = 30 # Es hiperparametro del modelo\n",
    "minus = 3"
   ]
  },
  {
   "cell_type": "code",
   "execution_count": 274,
   "id": "ef20d262-1589-44c8-ba2e-796f7d1d6850",
   "metadata": {},
   "outputs": [],
   "source": [
    "list_shift = list(range(1, minus))\n",
    "\n",
    "for i in list_shift: \n",
    "    #df[\"close_minus\" + str(i)] = df[\"close\"].shift(i)\n",
    "    df[\"high_minus\" + str(i)] = df[\"high\"].shift(i)\n",
    "    df[\"low_minus\" + str(i)] = df[\"low\"].shift(i)\n",
    "    #df[\"open_minus\" + str(i)] = df[\"open\"].shift(i)\n",
    "    df[\"volume_minus\" + str(i)] = df[\"volume\"].shift(i)\n",
    "    df[\"number_of_trades\" + str(i)] = df[\"number_of_trades\"].shift(i)"
   ]
  },
  {
   "cell_type": "code",
   "execution_count": 275,
   "id": "0b844a29-9135-4184-894f-22fe5df1da6b",
   "metadata": {},
   "outputs": [],
   "source": [
    "X = df.drop(columns=[\"y_low\",\"y_high\"]).copy()\n",
    "y_low = df[\"y_low\"].copy()\n",
    "y_high = df[\"y_high\"].copy()"
   ]
  },
  {
   "cell_type": "code",
   "execution_count": 276,
   "id": "8959164a-9516-457d-a8e8-d0b0aae3911d",
   "metadata": {},
   "outputs": [],
   "source": [
    "X_train = X.iloc[(len(X) - 1 - past_t):(len(X) - 1)]\n",
    "y_train_low = y_low.iloc[(len(X) - 1 - past_t):(len(X) - 1)]\n",
    "y_train_high = y_high.iloc[(len(X) - 1 - past_t):(len(X) - 1)]\n",
    "X_test = X.iloc[len(X) - 1]"
   ]
  },
  {
   "cell_type": "code",
   "execution_count": 277,
   "id": "32555422-0725-47ef-939f-a7205df77711",
   "metadata": {},
   "outputs": [
    {
     "name": "stdout",
     "output_type": "stream",
     "text": [
      "Shape X_train (30, 50)\n",
      "Shape y_train_low (30,)\n",
      "Shape y_train_high (30,)\n",
      "Shape X_test (50,)\n"
     ]
    }
   ],
   "source": [
    "print(\"Shape X_train \" + str(X_train.shape))\n",
    "print(\"Shape y_train_low \" + str(y_train_low.shape))\n",
    "print(\"Shape y_train_high \" + str(y_train_high.shape))\n",
    "print(\"Shape X_test \" + str(X_test.shape))"
   ]
  },
  {
   "cell_type": "code",
   "execution_count": 278,
   "id": "e222a03e-7324-417d-964e-e27426bed638",
   "metadata": {},
   "outputs": [
    {
     "data": {
      "text/plain": [
       "DatetimeIndex(['2021-03-30', '2021-03-31', '2021-04-01', '2021-04-02',\n",
       "               '2021-04-03', '2021-04-04', '2021-04-05', '2021-04-06',\n",
       "               '2021-04-07', '2021-04-08', '2021-04-09', '2021-04-10',\n",
       "               '2021-04-11', '2021-04-12', '2021-04-13', '2021-04-14',\n",
       "               '2021-04-15', '2021-04-16', '2021-04-17', '2021-04-18',\n",
       "               '2021-04-19', '2021-04-20', '2021-04-21', '2021-04-22',\n",
       "               '2021-04-23', '2021-04-24', '2021-04-25', '2021-04-26',\n",
       "               '2021-04-27', '2021-04-28'],\n",
       "              dtype='datetime64[ns]', name='open_time', freq=None)"
      ]
     },
     "execution_count": 278,
     "metadata": {},
     "output_type": "execute_result"
    }
   ],
   "source": [
    "X_train.index"
   ]
  },
  {
   "cell_type": "code",
   "execution_count": 279,
   "id": "432a58d9-df82-46fc-89f0-b32f5672e733",
   "metadata": {},
   "outputs": [
    {
     "data": {
      "text/plain": [
       "Timestamp('2021-04-29 00:00:00')"
      ]
     },
     "execution_count": 279,
     "metadata": {},
     "output_type": "execute_result"
    }
   ],
   "source": [
    "X.index[-1]"
   ]
  },
  {
   "cell_type": "code",
   "execution_count": 280,
   "id": "83d3e995-c5ed-488d-9a17-bb75a4bc9211",
   "metadata": {},
   "outputs": [
    {
     "data": {
      "text/plain": [
       "Timestamp('2021-04-29 00:00:00')"
      ]
     },
     "execution_count": 280,
     "metadata": {},
     "output_type": "execute_result"
    }
   ],
   "source": [
    "X_test.name"
   ]
  },
  {
   "cell_type": "code",
   "execution_count": 281,
   "id": "8d7242b3-5826-442f-b82e-d9356b2b8dd3",
   "metadata": {},
   "outputs": [],
   "source": [
    "from catboost import CatBoostRegressor\n",
    "\n",
    "modelo = CatBoostRegressor(loss_function = 'MAE', # Funcion minimizadora del modelo https://catboost.ai/docs/concepts/loss-functions-regression.html\n",
    "                           verbose = 0,\n",
    "                           task_type = \"CPU\" #GPU\n",
    "                          )\n",
    "\n",
    "parameters = {'depth' : [2,4,6],\n",
    "              'learning_rate' : [0.01,0.1],\n",
    "              'iterations' : [1000, 2000] }\n",
    "\n",
    "from sklearn.model_selection import GridSearchCV\n",
    "\n",
    "grid_catboost = GridSearchCV(estimator = modelo,\n",
    "                             param_grid = parameters,\n",
    "                             scoring = \"max_error\", # https://scikit-learn.org/stable/modules/model_evaluation.html#scoring-parameter\n",
    "                             return_train_score = True,\n",
    "                             cv = past_t,\n",
    "                             n_jobs = -1,\n",
    "                             verbose = 3              \n",
    "                            )"
   ]
  },
  {
   "cell_type": "code",
   "execution_count": 282,
   "id": "98ca2021-241c-4bda-b6fc-cb27581f7af8",
   "metadata": {},
   "outputs": [
    {
     "name": "stdout",
     "output_type": "stream",
     "text": [
      "Fitting 30 folds for each of 12 candidates, totalling 360 fits\n"
     ]
    }
   ],
   "source": [
    "# LOW\n",
    "grid_catboost.fit(X_train, y_train_low)\n",
    "pred_low = grid_catboost.best_estimator_.predict(X_test)"
   ]
  },
  {
   "cell_type": "code",
   "execution_count": 283,
   "id": "22b82eb1-9776-4454-afc2-c2d2719821dd",
   "metadata": {},
   "outputs": [
    {
     "name": "stdout",
     "output_type": "stream",
     "text": [
      "{'depth': 4, 'iterations': 2000, 'learning_rate': 0.01}\n"
     ]
    }
   ],
   "source": [
    "print(grid_catboost.best_params_)"
   ]
  },
  {
   "cell_type": "code",
   "execution_count": 284,
   "id": "cb6084e0-9b23-412b-ab17-927b55fc6404",
   "metadata": {},
   "outputs": [
    {
     "data": {
      "image/png": "[encoded data removed]",
      "text/plain": [
       "<Figure size 1440x1440 with 1 Axes>"
      ]
     },
     "metadata": {
      "needs_background": "light"
     },
     "output_type": "display_data"
    }
   ],
   "source": [
    "# Feature Importance\n",
    "fea_imp = pd.DataFrame({'imp': grid_catboost.best_estimator_.feature_importances_, 'col': X_train.columns})\n",
    "fea_imp = fea_imp.sort_values(['imp', 'col'], ascending=[True, False])#.iloc[-20:]\n",
    "_ = fea_imp.plot(kind='barh', x='col', y='imp', figsize=(20, 20))"
   ]
  },
  {
   "cell_type": "code",
   "execution_count": 285,
   "id": "47e726b7-f726-4a10-b5ac-340b231cebed",
   "metadata": {},
   "outputs": [
    {
     "name": "stdout",
     "output_type": "stream",
     "text": [
      "Fitting 30 folds for each of 12 candidates, totalling 360 fits\n"
     ]
    }
   ],
   "source": [
    "# HIGH\n",
    "grid_catboost.fit(X_train, y_train_high)\n",
    "pred_high = grid_catboost.best_estimator_.predict(X_test)"
   ]
  },
  {
   "cell_type": "code",
   "execution_count": 286,
   "id": "0678c8bf-7168-4bc8-81b2-4d3ed9973286",
   "metadata": {},
   "outputs": [
    {
     "name": "stdout",
     "output_type": "stream",
     "text": [
      "{'depth': 2, 'iterations': 2000, 'learning_rate': 0.01}\n"
     ]
    }
   ],
   "source": [
    "print(grid_catboost.best_params_)"
   ]
  },
  {
   "cell_type": "code",
   "execution_count": 287,
   "id": "14c97a62-163f-4a91-97ed-964f83e876bc",
   "metadata": {},
   "outputs": [
    {
     "data": {
      "image/png": "[encoded data removed]",
      "text/plain": [
       "<Figure size 1440x1440 with 1 Axes>"
      ]
     },
     "metadata": {
      "needs_background": "light"
     },
     "output_type": "display_data"
    }
   ],
   "source": [
    "# Feature Importance\n",
    "fea_imp = pd.DataFrame({'imp': grid_catboost.best_estimator_.feature_importances_, 'col': X_train.columns})\n",
    "fea_imp = fea_imp.sort_values(['imp', 'col'], ascending=[True, False])#.iloc[-20:]\n",
    "_ = fea_imp.plot(kind='barh', x='col', y='imp', figsize=(20, 20))"
   ]
  },
  {
   "cell_type": "code",
   "execution_count": 288,
   "id": "d906fd6e-78fb-436a-8785-974223b11faa",
   "metadata": {},
   "outputs": [
    {
     "name": "stdout",
     "output_type": "stream",
     "text": [
      "Prediccion LOW  --> 2021-04-30 00:00:00 --> 52825.83\n",
      "Prediccion HIGH --> 2021-04-30 00:00:00 --> 55287.66\r"
     ]
    }
   ],
   "source": [
    "print(\"Prediccion LOW  --> \" + str(X_test.name + timedelta(1)) + \" --> \" + str(pred_low.round(2)))\n",
    "print(\"Prediccion HIGH --> \" + str(X_test.name + timedelta(1)) + \" --> \" + str(pred_high.round(2)), end='\\r')"
   ]
  },
  {
   "cell_type": "code",
   "execution_count": 289,
   "id": "c06b71a0-0a9d-4bb7-bd77-52588e2aae4b",
   "metadata": {},
   "outputs": [
    {
     "data": {
      "text/plain": [
       "{'ok': True,\n",
       " 'result': {'message_id': 4,\n",
       "  'from': {'id': 1653124784,\n",
       "   'is_bot': True,\n",
       "   'first_name': 'JARVIS',\n",
       "   'username': 'JARVIS_Walkn_bot'},\n",
       "  'chat': {'id': -1001484622825,\n",
       "   'title': 'Bot Trading Forecast',\n",
       "   'type': 'supergroup'},\n",
       "  'date': 1619762635,\n",
       "  'text': '2021-04-30\\nBTCUSDT\\nLOW   --> 52825.83\\nHIGH  --> 55287.66'}}"
      ]
     },
     "execution_count": 289,
     "metadata": {},
     "output_type": "execute_result"
    }
   ],
   "source": [
    "import requests\n",
    "\n",
    "def telegram_sendtext(bot_message):\n",
    "    bot_token = '1653124784:AAFpL0qlC_ybadcbFX6jKagauRFpiFpSf1E'\n",
    "    #chatID = '469455650' # CHAT ID de tu BOT\n",
    "    chatID = '-1001484622825' # Chat ID del grupo Trading\n",
    "    send_text = 'https://api.telegram.org/bot' + bot_token + '/sendMessage?chat_id=' + chatID + '&parse_mode=Markdown&text=' + bot_message\n",
    "    response = requests.get(send_text)\n",
    "    return response.json()\n",
    "\n",
    "telegram_sendtext(str(date.today()) + \"\\n\" + str(index) + \"\\n\" + \"LOW  \" + \" --> \" + str(pred_low.round(2)) + \"\\n\" + \"HIGH \" + \" --> \" + str(pred_high.round(2)) )"
   ]
  },
  {
   "cell_type": "code",
   "execution_count": null,
   "id": "b7604e5f-9992-4b6f-ae7e-fb37d47f49bf",
   "metadata": {},
   "outputs": [],
   "source": []
  },
  {
   "cell_type": "code",
   "execution_count": null,
   "id": "d5927eba-6996-4fb8-ab73-f4395e1a49ea",
   "metadata": {},
   "outputs": [],
   "source": []
  }
 ],
 "metadata": {
  "kernelspec": {
   "display_name": "Python 3",
   "language": "python",
   "name": "python3"
  },
  "language_info": {
   "codemirror_mode": {
    "name": "ipython",
    "version": 3
   },
   "file_extension": ".py",
   "mimetype": "text/x-python",
   "name": "python",
   "nbconvert_exporter": "python",
   "pygments_lexer": "ipython3",
   "version": "3.9.4"
  }
 },
 "nbformat": 4,
 "nbformat_minor": 5
}
